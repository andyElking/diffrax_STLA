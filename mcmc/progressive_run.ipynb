{
 "cells": [
  {
   "cell_type": "code",
   "execution_count": 1,
   "id": "initial_id",
   "metadata": {
    "ExecuteTime": {
     "end_time": "2024-10-02T12:37:36.051137Z",
     "start_time": "2024-10-02T12:37:35.239794Z"
    },
    "collapsed": true
   },
   "outputs": [
    {
     "name": "stdout",
     "output_type": "stream",
     "text": [
      "env: JAX_PLATFORM_NAME=cuda\n",
      "[CudaDevice(id=0)]\n"
     ]
    }
   ],
   "source": [
    "import datetime\n",
    "import sys\n",
    "import warnings\n",
    "\n",
    "import diffrax\n",
    "import jax\n",
    "import jax.numpy as jnp\n",
    "import jax.random as jr\n",
    "import scipy\n",
    "from get_model import get_model_and_data  # noqa: F401\n",
    "from lmc import run_simple_lmc_numpyro  # noqa: F401\n",
    "from numpyro.infer import MCMC, NUTS, Predictive  # noqa: F401\n",
    "\n",
    "from mcmc.evaluation.eval_gt_logreg import eval_gt_logreg\n",
    "from mcmc.evaluation.metrics import adjust_max_len\n",
    "from mcmc.experiment_main import run_experiment\n",
    "from mcmc.progressive import (\n",
    "    ProgressiveEvaluator,\n",
    "    ProgressiveLMC,\n",
    "    ProgressiveLogger,\n",
    "    ProgressiveNUTS,\n",
    ")\n",
    "\n",
    "\n",
    "%env JAX_PLATFORM_NAME=cuda\n",
    "warnings.simplefilter(\"ignore\", FutureWarning)\n",
    "\n",
    "jnp.set_printoptions(precision=3, suppress=True, threshold=sys.maxsize)\n",
    "jax.config.update(\"jax_enable_x64\", True)\n",
    "print(jax.devices(\"cuda\"))\n",
    "\n",
    "dataset = scipy.io.loadmat(\"mcmc_data/benchmarks.mat\")\n",
    "names = [\n",
    "    \"banana\",\n",
    "    \"breast_cancer\",\n",
    "    \"diabetis\",\n",
    "    \"flare_solar\",\n",
    "    \"german\",\n",
    "    \"heart\",\n",
    "    \"image\",\n",
    "    \"ringnorm\",\n",
    "    \"splice\",\n",
    "    \"thyroid\",\n",
    "    \"titanic\",\n",
    "    \"twonorm\",\n",
    "    \"waveform\",\n",
    "]"
   ]
  },
  {
   "cell_type": "code",
   "execution_count": 2,
   "id": "b27f9bab92d9a3f8",
   "metadata": {
    "ExecuteTime": {
     "end_time": "2024-10-02T12:37:18.355311Z",
     "start_time": "2024-10-02T12:37:16.343953Z"
    }
   },
   "outputs": [
    {
     "name": "stdout",
     "output_type": "stream",
     "text": [
      "Data shape: (5300, 2)\n",
      "\n",
      "======= banana =======\n",
      "GT energy bias: 2.455e-05, test acc: 0.5498, test acc top 90%: 0.556\n",
      "\n",
      "Loading progressive_results/banana_2024-10-02_12-56-44.pkl\n",
      "NUTS: acc: 0.5506, acc top 90%: 0.557, energy: 1.658e-05, w2: 3.582e-04\n",
      "Loading progressive_results/banana_2024-10-02_12-56-44.pkl\n",
      "QUICSORT: acc: 0.5509, acc top 90%: 0.5575, energy: 2.590e-05, w2: 3.747e-04\n",
      "Loading progressive_results/banana_2024-10-02_12-56-44.pkl\n",
      "Euler: acc: 0.5444, acc top 90%: 0.5541, energy: 7.631e-03, w2: 1.584e-02\n"
     ]
    }
   ],
   "source": [
    "timestamp = datetime.datetime.now().strftime(\"%Y-%m-%d_%H-%M-%S\")\n",
    "get_result_filename = lambda name: f\"progressive_results/{name}_{timestamp}.pkl\"\n",
    "get_prev_result_filename = lambda name: f\"progressive_results/{name}_*.pkl\"\n",
    "ground_truth_dirname = \"ground_truth\"\n",
    "\n",
    "evaluator = ProgressiveEvaluator()\n",
    "logger = ProgressiveLogger(log_filename=f\"progressive_results/log_pid_{timestamp}.txt\")\n",
    "logger.start_log(timestamp)\n",
    "\n",
    "nust = ProgressiveNUTS(20, 2**6, get_prev_result_filename)\n",
    "\n",
    "\n",
    "def make_pid(atol, dt0):\n",
    "    return diffrax.PIDController(\n",
    "        atol=atol,\n",
    "        rtol=0.0,\n",
    "        dtmax=0.5,\n",
    "        dtmin=dt0 / 5,\n",
    "        pcoeff=0.2,\n",
    "        icoeff=0.6,\n",
    "    )\n",
    "\n",
    "\n",
    "quic_kwargs = {\n",
    "    \"chain_len\": 2**5,\n",
    "    \"chain_sep\": 1.0,\n",
    "    \"dt0\": 0.07,\n",
    "    \"solver\": diffrax.QUICSORT(0.1),\n",
    "    \"pid\": make_pid(0.1, 0.07),\n",
    "}\n",
    "quic = ProgressiveLMC(quic_kwargs)\n",
    "euler_kwargs = {\n",
    "    \"chain_len\": 2**5,\n",
    "    \"chain_sep\": 0.5,\n",
    "    \"dt0\": 0.03,\n",
    "    \"solver\": diffrax.Euler(),\n",
    "    \"pid\": make_pid(0.1, 0.03),\n",
    "}\n",
    "euler = ProgressiveLMC(euler_kwargs)\n",
    "methods = [nust, quic, euler]\n",
    "\n",
    "dt0s_seps_atols = {\n",
    "    \"banana\": (0.04, 0.5, 0.1),\n",
    "    \"splice\": (0.01, 1.0, 0.1),\n",
    "    \"flare_solar\": (0.06, 2.0, 0.1),\n",
    "    \"image\": (0.07, 1.0, 0.1),\n",
    "    \"waveform\": (0.07, 1.0, 0.1),\n",
    "}\n",
    "\n",
    "for name in names:\n",
    "    model, model_args, test_args = get_model_and_data(dataset, name)\n",
    "    data_dim = model_args[0].shape[1] + 1\n",
    "    num_particles = adjust_max_len(2**14, data_dim)\n",
    "    config = {\n",
    "        \"num_particles\": num_particles,\n",
    "        \"test_args\": test_args,\n",
    "    }\n",
    "    if name in dt0s_seps_atols:\n",
    "        quic_dt0, chain_sep, atol = dt0s_seps_atols[name]\n",
    "    else:\n",
    "        quic_dt0, chain_sep, atol = 0.08, 1.0, 0.1\n",
    "    quic.lmc_kwargs[\"dt0\"], quic.lmc_kwargs[\"chain_sep\"] = quic_dt0, chain_sep\n",
    "    quic.lmc_kwargs[\"pid\"] = make_pid(atol, quic_dt0)\n",
    "    euler.lmc_kwargs[\"dt0\"], euler.lmc_kwargs[\"chain_sep\"] = (\n",
    "        quic_dt0 / 20,\n",
    "        chain_sep / 10,\n",
    "    )\n",
    "    euler.lmc_kwargs[\"pid\"] = make_pid(atol, quic_dt0 / 20)\n",
    "\n",
    "    run_experiment(\n",
    "        jr.key(0),\n",
    "        model,\n",
    "        model_args,\n",
    "        name,\n",
    "        methods,\n",
    "        config,\n",
    "        evaluator,\n",
    "        logger,\n",
    "        ground_truth_dirname,\n",
    "        eval_gt_logreg,\n",
    "        get_result_filename,\n",
    "    )"
   ]
  },
  {
   "cell_type": "code",
   "execution_count": null,
   "id": "38a5681d33acc4b5",
   "metadata": {},
   "outputs": [],
   "source": []
  }
 ],
 "metadata": {
  "kernelspec": {
   "display_name": "Python 3",
   "language": "python",
   "name": "python3"
  },
  "language_info": {
   "codemirror_mode": {
    "name": "ipython",
    "version": 2
   },
   "file_extension": ".py",
   "mimetype": "text/x-python",
   "name": "python",
   "nbconvert_exporter": "python",
   "pygments_lexer": "ipython2",
   "version": "2.7.6"
  }
 },
 "nbformat": 4,
 "nbformat_minor": 5
}
