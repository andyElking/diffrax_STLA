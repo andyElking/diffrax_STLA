{
 "cells": [
  {
   "cell_type": "code",
   "execution_count": 1,
   "id": "initial_id",
   "metadata": {
    "ExecuteTime": {
     "end_time": "2024-10-01T19:41:33.590055Z",
     "start_time": "2024-10-01T19:41:32.750065Z"
    },
    "collapsed": true
   },
   "outputs": [
    {
     "name": "stdout",
     "output_type": "stream",
     "text": [
      "env: JAX_PLATFORM_NAME=cuda\n",
      "[CudaDevice(id=0)]\n"
     ]
    }
   ],
   "source": [
    "import datetime\n",
    "import sys\n",
    "import warnings\n",
    "\n",
    "import diffrax\n",
    "import jax\n",
    "import jax.numpy as jnp\n",
    "import jax.random as jr\n",
    "import scipy\n",
    "from get_model import get_model_and_data  # noqa: F401\n",
    "from lmc import run_simple_lmc_numpyro  # noqa: F401\n",
    "from numpyro.infer import MCMC, NUTS, Predictive  # noqa: F401\n",
    "\n",
    "from mcmc.evaluation.eval_gt_logreg import eval_gt_logreg\n",
    "from mcmc.evaluation.metrics import adjust_max_len\n",
    "from mcmc.experiment_main import run_experiment\n",
    "from mcmc.progressive import (\n",
    "    ProgressiveEvaluator,\n",
    "    ProgressiveLMC,\n",
    "    ProgressiveLogger,\n",
    "    ProgressiveNUTS,\n",
    ")\n",
    "\n",
    "\n",
    "%env JAX_PLATFORM_NAME=cuda\n",
    "warnings.simplefilter(\"ignore\", FutureWarning)\n",
    "\n",
    "jnp.set_printoptions(precision=3, suppress=True, threshold=sys.maxsize)\n",
    "jax.config.update(\"jax_enable_x64\", True)\n",
    "print(jax.devices(\"cuda\"))\n",
    "\n",
    "dataset = scipy.io.loadmat(\"mcmc_data/benchmarks.mat\")\n",
    "names = [\n",
    "    \"banana\",\n",
    "    # \"breast_cancer\",\n",
    "    # \"diabetis\",\n",
    "    # \"flare_solar\",\n",
    "    # \"german\",\n",
    "    # \"heart\",\n",
    "    # \"image\",\n",
    "    # \"ringnorm\",\n",
    "    # \"splice\",\n",
    "    # \"thyroid\",\n",
    "    # \"titanic\",\n",
    "    # \"twonorm\",\n",
    "    # \"waveform\",\n",
    "]"
   ]
  },
  {
   "cell_type": "code",
   "execution_count": 2,
   "id": "b27f9bab92d9a3f8",
   "metadata": {
    "ExecuteTime": {
     "end_time": "2024-10-01T19:43:43.139164Z",
     "start_time": "2024-10-01T19:41:34.223536Z"
    }
   },
   "outputs": [
    {
     "name": "stdout",
     "output_type": "stream",
     "text": [
      "Data shape: (5300, 2)\n",
      "\n",
      "======= banana =======\n",
      "GT energy bias: 2.455e-05, test acc: 0.5498, test acc top 90%: 0.556\n",
      "\n"
     ]
    },
    {
     "name": "stderr",
     "output_type": "stream",
     "text": [
      "warmup: 100%|██████████| 20/20 [00:21<00:00,  1.07s/it]\n",
      "sample: 100%|██████████| 44/44 [00:28<00:00,  1.56it/s]\n"
     ]
    },
    {
     "name": "stdout",
     "output_type": "stream",
     "text": [
      "NUTS: acc: 0.5506, acc top 90%: 0.557, energy: 1.658e-05, w2: 3.582e-04\n"
     ]
    },
    {
     "name": "stderr",
     "output_type": "stream",
     "text": [
      "100.00%|██████████| [00:04<00:00, 24.05%/s]\n"
     ]
    },
    {
     "name": "stdout",
     "output_type": "stream",
     "text": [
      "QUICSORT: acc: 0.5509, acc top 90%: 0.5575, energy: 2.590e-05, w2: 3.747e-04\n"
     ]
    },
    {
     "name": "stderr",
     "output_type": "stream",
     "text": [
      "100.00%|██████████| [00:05<00:00, 18.98%/s]\n"
     ]
    },
    {
     "name": "stdout",
     "output_type": "stream",
     "text": [
      "Euler: acc: 0.5444, acc top 90%: 0.5541, energy: 7.631e-03, w2: 1.584e-02\n"
     ]
    }
   ],
   "source": [
    "timestamp = datetime.datetime.now().strftime(\"%Y-%m-%d_%H-%M-%S\")\n",
    "get_result_filename = (\n",
    "    lambda model_name: f\"progressive_results/{model_name}_{timestamp}.pkl\"\n",
    ")\n",
    "ground_truth_dirname = \"ground_truth\"\n",
    "\n",
    "evaluator = ProgressiveEvaluator()\n",
    "logger = ProgressiveLogger(log_filename=f\"progressive_results/log_{timestamp}.txt\")\n",
    "logger.start_log(timestamp)\n",
    "nust_method = ProgressiveNUTS(num_warmup=20, chain_len=2**6)\n",
    "quic_method = ProgressiveLMC(2**5, 0.5, 0.07, diffrax.QUICSORT(0.1))\n",
    "euler_method = ProgressiveLMC(2**5, 0.5, 0.03, diffrax.Euler())\n",
    "methods = [nust_method, quic_method, euler_method]\n",
    "\n",
    "tols_and_seps = {\n",
    "    \"banana\": (0.04, 0.3),\n",
    "    \"splice\": (0.01, 1.0),\n",
    "    \"flare_solar\": (0.06, 2.0),\n",
    "    \"image\": (0.07, 1.0),\n",
    "    \"waveform\": (0.07, 1.0),\n",
    "}\n",
    "\n",
    "for name in names:\n",
    "    model, model_args, test_args = get_model_and_data(dataset, name)\n",
    "    data_dim = model_args[0].shape[1] + 1\n",
    "    num_particles = adjust_max_len(2**14, data_dim)\n",
    "    config = {\n",
    "        \"num_particles\": num_particles,\n",
    "        \"test_args\": test_args,\n",
    "    }\n",
    "    if name in tols_and_seps:\n",
    "        quic_tol, chain_sep = tols_and_seps[name]\n",
    "    else:\n",
    "        quic_tol, chain_sep = 0.08, 0.5\n",
    "    quic_method.tol, quic_method.chain_sep = quic_tol, chain_sep\n",
    "    euler_method.tol, euler_method.chain_sep = quic_tol / 40, chain_sep / 20\n",
    "\n",
    "    run_experiment(\n",
    "        jr.key(0),\n",
    "        model,\n",
    "        model_args,\n",
    "        name,\n",
    "        methods,\n",
    "        config,\n",
    "        evaluator,\n",
    "        logger,\n",
    "        ground_truth_dirname,\n",
    "        eval_gt_logreg,\n",
    "        get_result_filename,\n",
    "    )"
   ]
  },
  {
   "cell_type": "code",
   "execution_count": null,
   "id": "38a5681d33acc4b5",
   "metadata": {},
   "outputs": [],
   "source": []
  }
 ],
 "metadata": {
  "kernelspec": {
   "display_name": "Python 3",
   "language": "python",
   "name": "python3"
  },
  "language_info": {
   "codemirror_mode": {
    "name": "ipython",
    "version": 2
   },
   "file_extension": ".py",
   "mimetype": "text/x-python",
   "name": "python",
   "nbconvert_exporter": "python",
   "pygments_lexer": "ipython2",
   "version": "2.7.6"
  }
 },
 "nbformat": 4,
 "nbformat_minor": 5
}
