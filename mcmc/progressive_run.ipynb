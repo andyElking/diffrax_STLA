{
 "cells": [
  {
   "cell_type": "code",
   "execution_count": 1,
   "id": "initial_id",
   "metadata": {
    "ExecuteTime": {
     "end_time": "2024-10-04T13:51:47.425900Z",
     "start_time": "2024-10-04T13:51:46.606129Z"
    },
    "collapsed": true
   },
   "outputs": [
    {
     "name": "stdout",
     "output_type": "stream",
     "text": [
      "env: JAX_PLATFORM_NAME=cuda\n",
      "[CudaDevice(id=0)]\n"
     ]
    }
   ],
   "source": [
    "import datetime\n",
    "import sys\n",
    "import warnings\n",
    "\n",
    "import diffrax\n",
    "import jax\n",
    "import jax.numpy as jnp\n",
    "import jax.random as jr\n",
    "import scipy\n",
    "from numpyro.infer import MCMC, NUTS, Predictive  # noqa: F401\n",
    "\n",
    "from mcmc.experiment_main import run_experiment\n",
    "from mcmc.lmc import run_simple_lmc_numpyro  # noqa: F401\n",
    "from mcmc.logreg_utils import eval_gt_logreg, get_gt_logreg, get_model_and_data\n",
    "from mcmc.metrics import adjust_max_len\n",
    "from mcmc.progressive import (\n",
    "    ProgressiveEvaluator,\n",
    "    ProgressiveLMC,\n",
    "    ProgressiveLogger,\n",
    "    ProgressiveNUTS,\n",
    ")\n",
    "\n",
    "\n",
    "%env JAX_PLATFORM_NAME=cuda\n",
    "warnings.simplefilter(\"ignore\", FutureWarning)\n",
    "\n",
    "jnp.set_printoptions(precision=3, suppress=True, threshold=sys.maxsize)\n",
    "jax.config.update(\"jax_enable_x64\", True)\n",
    "print(jax.devices(\"cuda\"))\n",
    "\n",
    "dataset = scipy.io.loadmat(\"mcmc_data/benchmarks.mat\")\n",
    "names = [\n",
    "    \"tbp\",\n",
    "    # \"banana\",\n",
    "    # \"breast_cancer\",\n",
    "    # \"diabetis\",\n",
    "    # \"flare_solar\",\n",
    "    # \"german\",\n",
    "    # \"heart\",\n",
    "    # \"image\",\n",
    "    # \"ringnorm\",\n",
    "    # \"splice\",\n",
    "    # \"thyroid\",\n",
    "    # \"titanic\",\n",
    "    # \"twonorm\",\n",
    "    # \"waveform\",\n",
    "]"
   ]
  },
  {
   "cell_type": "code",
   "execution_count": 2,
   "id": "b27f9bab92d9a3f8",
   "metadata": {
    "ExecuteTime": {
     "end_time": "2024-10-04T14:15:59.690971Z",
     "start_time": "2024-10-04T13:51:48.391835Z"
    }
   },
   "outputs": [
    {
     "name": "stdout",
     "output_type": "stream",
     "text": [
      "x_train shape: (1000, 92), labels_train shape: (1000,), x_test shape: (1000, 92), labels_test shape: (1000,)\n",
      "\n",
      "======= tbp =======\n",
      "GT energy bias: 5.412e+01, test acc: 0.9527, test acc top 90%: 0.9537\n",
      "\n"
     ]
    },
    {
     "name": "stderr",
     "output_type": "stream",
     "text": [
      "warmup: 100%|██████████| 60/60 [07:31<00:00,  7.53s/it]\n",
      "sample: 100%|██████████| 68/68 [09:31<00:00,  8.40s/it]\n"
     ]
    },
    {
     "name": "stdout",
     "output_type": "stream",
     "text": [
      "NUTS: acc: 0.9521, acc top 90%: 0.9532, energy: 1.742e+05, w2: 1.293e+11\n"
     ]
    },
    {
     "name": "stderr",
     "output_type": "stream",
     "text": [
      "100.00%|██████████| [06:37<00:00,  3.97s/%]\n"
     ]
    },
    {
     "name": "stdout",
     "output_type": "stream",
     "text": [
      "avg accepted: 2223.94, avg rejected: 387.15\n",
      "QUICSORT: acc: 0.9522, acc top 90%: 0.9532, energy: 1.750e+05, w2: 1.298e+11\n"
     ]
    }
   ],
   "source": [
    "timestamp = datetime.datetime.now().strftime(\"%Y-%m-%d_%H-%M-%S\")\n",
    "get_result_filename = lambda name: f\"progressive_results/{name}_pid_{timestamp}.pkl\"\n",
    "get_prev_result_filename = lambda name: f\"progressive_results/{name}_*.pkl\"\n",
    "\n",
    "evaluator = ProgressiveEvaluator()\n",
    "logger = ProgressiveLogger(log_filename=f\"progressive_results/log_{timestamp}.txt\")\n",
    "logger.start_log(timestamp)\n",
    "\n",
    "nust = ProgressiveNUTS(60, 2**7)\n",
    "\n",
    "USE_PID = True\n",
    "\n",
    "\n",
    "def make_pid(atol, dt0):\n",
    "    if not USE_PID:\n",
    "        return None\n",
    "    return diffrax.PIDController(\n",
    "        atol=atol,\n",
    "        rtol=0.0,\n",
    "        dtmax=0.5,\n",
    "        dtmin=dt0 / 10,\n",
    "        pcoeff=0.1,\n",
    "        icoeff=0.4,\n",
    "    )\n",
    "\n",
    "\n",
    "quic_kwargs = {\n",
    "    \"chain_len\": 2**5,\n",
    "    \"chain_sep\": 1.0,\n",
    "    \"dt0\": 0.07,\n",
    "    \"solver\": diffrax.QUICSORT(0.1),\n",
    "    \"pid\": make_pid(0.1, 0.07),\n",
    "}\n",
    "quic = ProgressiveLMC(quic_kwargs)\n",
    "euler_kwargs = {\n",
    "    \"chain_len\": 2**5,\n",
    "    \"chain_sep\": 0.5,\n",
    "    \"dt0\": 0.03,\n",
    "    \"solver\": diffrax.Euler(),\n",
    "    \"pid\": make_pid(0.1, 0.03),\n",
    "}\n",
    "euler = ProgressiveLMC(euler_kwargs)\n",
    "methods = [nust, quic]\n",
    "\n",
    "dt0s = {\n",
    "    \"banana\": 0.04,\n",
    "    \"splice\": 0.01,\n",
    "    \"flare_solar\": 0.08,\n",
    "}\n",
    "seps = {\n",
    "    \"banana\": 0.3,\n",
    "    \"splice\": 1.0,\n",
    "    \"flare_solar\": 2.0,\n",
    "    \"image\": 1.0,\n",
    "    \"waveform\": 1.0,\n",
    "}\n",
    "atols = {}\n",
    "\n",
    "\n",
    "for name in names:\n",
    "    model, model_args, test_args = get_model_and_data(dataset, name)\n",
    "    data_dim = model_args[0].shape[1] + 1\n",
    "    num_particles = adjust_max_len(2**14, data_dim)\n",
    "    config = {\n",
    "        \"num_particles\": num_particles,\n",
    "        \"test_args\": test_args,\n",
    "    }\n",
    "    quic_dt0 = dt0s.get(name, 0.05)\n",
    "    chain_sep = seps.get(name, 8.0)\n",
    "    atol = atols.get(name, 0.1)\n",
    "    quic.lmc_kwargs[\"dt0\"], quic.lmc_kwargs[\"chain_sep\"] = quic_dt0, chain_sep\n",
    "    quic.lmc_kwargs[\"pid\"] = make_pid(atol, quic_dt0)\n",
    "    euler.lmc_kwargs[\"dt0\"], euler.lmc_kwargs[\"chain_sep\"] = (\n",
    "        quic_dt0 / 40,\n",
    "        chain_sep / 20,\n",
    "    )\n",
    "    euler.lmc_kwargs[\"pid\"] = make_pid(atol, quic_dt0 / 20)\n",
    "\n",
    "    run_experiment(\n",
    "        jr.key(0),\n",
    "        model,\n",
    "        model_args,\n",
    "        name,\n",
    "        methods,\n",
    "        config,\n",
    "        evaluator,\n",
    "        logger,\n",
    "        get_gt_logreg,\n",
    "        eval_gt_logreg,\n",
    "        get_result_filename,\n",
    "    )"
   ]
  },
  {
   "cell_type": "code",
   "execution_count": null,
   "id": "38a5681d33acc4b5",
   "metadata": {},
   "outputs": [],
   "source": []
  }
 ],
 "metadata": {
  "kernelspec": {
   "display_name": "Python 3",
   "language": "python",
   "name": "python3"
  },
  "language_info": {
   "codemirror_mode": {
    "name": "ipython",
    "version": 2
   },
   "file_extension": ".py",
   "mimetype": "text/x-python",
   "name": "python",
   "nbconvert_exporter": "python",
   "pygments_lexer": "ipython2",
   "version": "2.7.6"
  }
 },
 "nbformat": 4,
 "nbformat_minor": 5
}
