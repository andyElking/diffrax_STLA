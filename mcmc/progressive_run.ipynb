{
 "cells": [
  {
   "cell_type": "code",
   "id": "initial_id",
   "metadata": {
    "collapsed": true,
    "ExecuteTime": {
     "end_time": "2024-10-03T19:03:06.439463Z",
     "start_time": "2024-10-03T19:03:05.678965Z"
    }
   },
   "source": [
    "import datetime\n",
    "import sys\n",
    "import warnings\n",
    "\n",
    "import diffrax\n",
    "import jax\n",
    "import jax.numpy as jnp\n",
    "import jax.random as jr\n",
    "import scipy\n",
    "from mcmc.lmc import run_simple_lmc_numpyro  # noqa: F401\n",
    "from numpyro.infer import MCMC, NUTS, Predictive  # noqa: F401\n",
    "\n",
    "from mcmc.metrics import adjust_max_len\n",
    "from mcmc.experiment_main import run_experiment\n",
    "from mcmc.progressive import (\n",
    "    ProgressiveEvaluator,\n",
    "    ProgressiveLMC,\n",
    "    ProgressiveLogger,\n",
    "    ProgressiveNUTS,\n",
    ")\n",
    "from mcmc.logreg_utils import get_gt_logreg, eval_gt_logreg, get_model_and_data\n",
    "\n",
    "\n",
    "%env JAX_PLATFORM_NAME=cuda\n",
    "warnings.simplefilter(\"ignore\", FutureWarning)\n",
    "\n",
    "jnp.set_printoptions(precision=3, suppress=True, threshold=sys.maxsize)\n",
    "jax.config.update(\"jax_enable_x64\", True)\n",
    "print(jax.devices(\"cuda\"))\n",
    "\n",
    "dataset = scipy.io.loadmat(\"mcmc_data/benchmarks.mat\")\n",
    "names = [\n",
    "    # \"tbp\",\n",
    "    \"banana\",\n",
    "    # \"breast_cancer\",\n",
    "    # \"diabetis\",\n",
    "    # \"flare_solar\",\n",
    "    # \"german\",\n",
    "    # \"heart\",\n",
    "    # \"image\",\n",
    "    # \"ringnorm\",\n",
    "    # \"splice\",\n",
    "    # \"thyroid\",\n",
    "    # \"titanic\",\n",
    "    # \"twonorm\",\n",
    "    # \"waveform\",\n",
    "]"
   ],
   "outputs": [
    {
     "name": "stdout",
     "output_type": "stream",
     "text": [
      "env: JAX_PLATFORM_NAME=cuda\n",
      "[CudaDevice(id=0)]\n"
     ]
    }
   ],
   "execution_count": 1
  },
  {
   "cell_type": "code",
   "id": "b27f9bab92d9a3f8",
   "metadata": {
    "ExecuteTime": {
     "end_time": "2024-10-03T18:56:28.244148Z",
     "start_time": "2024-10-03T18:56:27.864072Z"
    }
   },
   "source": [
    "timestamp = datetime.datetime.now().strftime(\"%Y-%m-%d_%H-%M-%S\")\n",
    "get_result_filename = lambda name: f\"progressive_results/{name}_pid_{timestamp}.pkl\"\n",
    "get_prev_result_filename = lambda name: f\"progressive_results/{name}_*.pkl\"\n",
    "\n",
    "evaluator = ProgressiveEvaluator()\n",
    "logger = ProgressiveLogger(log_filename=f\"progressive_results/log_{timestamp}.txt\")\n",
    "logger.start_log(timestamp)\n",
    "\n",
    "nust = ProgressiveNUTS(20, 2**6, get_prev_result_filename)\n",
    "\n",
    "USE_PID = False\n",
    "\n",
    "\n",
    "def make_pid(atol, dt0):\n",
    "    if not USE_PID:\n",
    "        return None\n",
    "    return diffrax.PIDController(\n",
    "        atol=atol,\n",
    "        rtol=0.0,\n",
    "        dtmax=0.5,\n",
    "        dtmin=dt0 / 10,\n",
    "        pcoeff=0.1,\n",
    "        icoeff=0.4,\n",
    "    )\n",
    "\n",
    "\n",
    "quic_kwargs = {\n",
    "    \"chain_len\": 2**5,\n",
    "    \"chain_sep\": 1.0,\n",
    "    \"dt0\": 0.07,\n",
    "    \"solver\": diffrax.QUICSORT(0.1),\n",
    "    \"pid\": make_pid(0.1, 0.07),\n",
    "}\n",
    "quic = ProgressiveLMC(quic_kwargs)\n",
    "euler_kwargs = {\n",
    "    \"chain_len\": 2**5,\n",
    "    \"chain_sep\": 0.5,\n",
    "    \"dt0\": 0.03,\n",
    "    \"solver\": diffrax.Euler(),\n",
    "    \"pid\": make_pid(0.1, 0.03),\n",
    "}\n",
    "euler = ProgressiveLMC(euler_kwargs)\n",
    "methods = [nust, quic]\n",
    "\n",
    "dt0s = {\n",
    "    \"banana\": 0.04,\n",
    "    \"splice\": 0.01,\n",
    "    \"flare_solar\": 0.08,\n",
    "}\n",
    "seps = {\n",
    "    \"banana\": 0.3,\n",
    "    \"splice\": 1.0,\n",
    "    \"flare_solar\": 2.0,\n",
    "    \"image\": 1.0,\n",
    "    \"waveform\": 1.0,\n",
    "}\n",
    "atols = {}\n",
    "\n",
    "\n",
    "for name in names:\n",
    "    model, model_args, test_args = get_model_and_data(dataset, name)\n",
    "    data_dim = model_args[0].shape[1] + 1\n",
    "    num_particles = adjust_max_len(2**14, data_dim)\n",
    "    config = {\n",
    "        \"num_particles\": num_particles,\n",
    "        \"test_args\": test_args,\n",
    "    }\n",
    "    quic_dt0 = dt0s.get(name, 0.07)\n",
    "    chain_sep = seps.get(name, 0.5)\n",
    "    atol = atols.get(name, 0.8)\n",
    "    quic.lmc_kwargs[\"dt0\"], quic.lmc_kwargs[\"chain_sep\"] = quic_dt0, chain_sep\n",
    "    quic.lmc_kwargs[\"pid\"] = make_pid(atol, quic_dt0)\n",
    "    euler.lmc_kwargs[\"dt0\"], euler.lmc_kwargs[\"chain_sep\"] = (\n",
    "        quic_dt0 / 40,\n",
    "        chain_sep / 20,\n",
    "    )\n",
    "    euler.lmc_kwargs[\"pid\"] = make_pid(atol, quic_dt0 / 20)\n",
    "\n",
    "    run_experiment(\n",
    "        jr.key(0),\n",
    "        model,\n",
    "        model_args,\n",
    "        name,\n",
    "        methods,\n",
    "        config,\n",
    "        evaluator,\n",
    "        logger,\n",
    "        get_gt_logreg,\n",
    "        eval_gt_logreg,\n",
    "        get_result_filename,\n",
    "    )"
   ],
   "outputs": [
    {
     "name": "stdout",
     "output_type": "stream",
     "text": [
      "Data shape: (2000, 95)\n"
     ]
    },
    {
     "ename": "TypeError",
     "evalue": "get_gt_logreg() takes 4 positional arguments but 5 were given",
     "output_type": "error",
     "traceback": [
      "\u001B[0;31m---------------------------------------------------------------------------\u001B[0m",
      "\u001B[0;31mTypeError\u001B[0m                                 Traceback (most recent call last)",
      "Cell \u001B[0;32mIn[2], line 79\u001B[0m\n\u001B[1;32m     73\u001B[0m euler\u001B[38;5;241m.\u001B[39mlmc_kwargs[\u001B[38;5;124m\"\u001B[39m\u001B[38;5;124mdt0\u001B[39m\u001B[38;5;124m\"\u001B[39m], euler\u001B[38;5;241m.\u001B[39mlmc_kwargs[\u001B[38;5;124m\"\u001B[39m\u001B[38;5;124mchain_sep\u001B[39m\u001B[38;5;124m\"\u001B[39m] \u001B[38;5;241m=\u001B[39m (\n\u001B[1;32m     74\u001B[0m     quic_dt0 \u001B[38;5;241m/\u001B[39m \u001B[38;5;241m40\u001B[39m,\n\u001B[1;32m     75\u001B[0m     chain_sep \u001B[38;5;241m/\u001B[39m \u001B[38;5;241m20\u001B[39m,\n\u001B[1;32m     76\u001B[0m )\n\u001B[1;32m     77\u001B[0m euler\u001B[38;5;241m.\u001B[39mlmc_kwargs[\u001B[38;5;124m\"\u001B[39m\u001B[38;5;124mpid\u001B[39m\u001B[38;5;124m\"\u001B[39m] \u001B[38;5;241m=\u001B[39m make_pid(atol, quic_dt0 \u001B[38;5;241m/\u001B[39m \u001B[38;5;241m20\u001B[39m)\n\u001B[0;32m---> 79\u001B[0m \u001B[43mrun_experiment\u001B[49m\u001B[43m(\u001B[49m\n\u001B[1;32m     80\u001B[0m \u001B[43m    \u001B[49m\u001B[43mjr\u001B[49m\u001B[38;5;241;43m.\u001B[39;49m\u001B[43mkey\u001B[49m\u001B[43m(\u001B[49m\u001B[38;5;241;43m0\u001B[39;49m\u001B[43m)\u001B[49m\u001B[43m,\u001B[49m\n\u001B[1;32m     81\u001B[0m \u001B[43m    \u001B[49m\u001B[43mmodel\u001B[49m\u001B[43m,\u001B[49m\n\u001B[1;32m     82\u001B[0m \u001B[43m    \u001B[49m\u001B[43mmodel_args\u001B[49m\u001B[43m,\u001B[49m\n\u001B[1;32m     83\u001B[0m \u001B[43m    \u001B[49m\u001B[43mname\u001B[49m\u001B[43m,\u001B[49m\n\u001B[1;32m     84\u001B[0m \u001B[43m    \u001B[49m\u001B[43mmethods\u001B[49m\u001B[43m,\u001B[49m\n\u001B[1;32m     85\u001B[0m \u001B[43m    \u001B[49m\u001B[43mconfig\u001B[49m\u001B[43m,\u001B[49m\n\u001B[1;32m     86\u001B[0m \u001B[43m    \u001B[49m\u001B[43mevaluator\u001B[49m\u001B[43m,\u001B[49m\n\u001B[1;32m     87\u001B[0m \u001B[43m    \u001B[49m\u001B[43mlogger\u001B[49m\u001B[43m,\u001B[49m\n\u001B[1;32m     88\u001B[0m \u001B[43m    \u001B[49m\u001B[43mget_gt_logreg\u001B[49m\u001B[43m,\u001B[49m\n\u001B[1;32m     89\u001B[0m \u001B[43m    \u001B[49m\u001B[43meval_gt_logreg\u001B[49m\u001B[43m,\u001B[49m\n\u001B[1;32m     90\u001B[0m \u001B[43m    \u001B[49m\u001B[43mget_result_filename\u001B[49m\u001B[43m,\u001B[49m\n\u001B[1;32m     91\u001B[0m \u001B[43m\u001B[49m\u001B[43m)\u001B[49m\n",
      "File \u001B[0;32m~/PycharmProjects/diffrax_STLA/mcmc/experiment_main.py:25\u001B[0m, in \u001B[0;36mrun_experiment\u001B[0;34m(key, model, model_args, model_name, methods, config, evaluator, logger, get_gt_fun, gt_eval_fun, get_result_filename)\u001B[0m\n\u001B[1;32m     11\u001B[0m \u001B[38;5;28;01mdef\u001B[39;00m \u001B[38;5;21mrun_experiment\u001B[39m(\n\u001B[1;32m     12\u001B[0m     key,\n\u001B[1;32m     13\u001B[0m     model,\n\u001B[0;32m   (...)\u001B[0m\n\u001B[1;32m     22\u001B[0m     get_result_filename: Optional[Callable[[\u001B[38;5;28mstr\u001B[39m], \u001B[38;5;28mstr\u001B[39m]],\n\u001B[1;32m     23\u001B[0m ):\n\u001B[1;32m     24\u001B[0m     key_gt, key \u001B[38;5;241m=\u001B[39m jr\u001B[38;5;241m.\u001B[39msplit(key, \u001B[38;5;241m2\u001B[39m)\n\u001B[0;32m---> 25\u001B[0m     gt \u001B[38;5;241m=\u001B[39m \u001B[43mget_gt_fun\u001B[49m\u001B[43m(\u001B[49m\u001B[43mmodel\u001B[49m\u001B[43m,\u001B[49m\u001B[43m \u001B[49m\u001B[43mmodel_name\u001B[49m\u001B[43m,\u001B[49m\u001B[43m \u001B[49m\u001B[43mmodel_args\u001B[49m\u001B[43m,\u001B[49m\u001B[43m \u001B[49m\u001B[43mconfig\u001B[49m\u001B[43m,\u001B[49m\u001B[43m \u001B[49m\u001B[43mkey_gt\u001B[49m\u001B[43m)\u001B[49m\n\u001B[1;32m     26\u001B[0m     \u001B[38;5;28;01mif\u001B[39;00m gt_eval_fun \u001B[38;5;129;01mis\u001B[39;00m \u001B[38;5;129;01mnot\u001B[39;00m \u001B[38;5;28;01mNone\u001B[39;00m:\n\u001B[1;32m     27\u001B[0m         gt_str \u001B[38;5;241m=\u001B[39m gt_eval_fun(gt, config)\n",
      "\u001B[0;31mTypeError\u001B[0m: get_gt_logreg() takes 4 positional arguments but 5 were given"
     ]
    }
   ],
   "execution_count": 2
  },
  {
   "cell_type": "code",
   "execution_count": null,
   "id": "38a5681d33acc4b5",
   "metadata": {},
   "outputs": [],
   "source": []
  }
 ],
 "metadata": {
  "kernelspec": {
   "display_name": "Python 3",
   "language": "python",
   "name": "python3"
  },
  "language_info": {
   "codemirror_mode": {
    "name": "ipython",
    "version": 2
   },
   "file_extension": ".py",
   "mimetype": "text/x-python",
   "name": "python",
   "nbconvert_exporter": "python",
   "pygments_lexer": "ipython2",
   "version": "2.7.6"
  }
 },
 "nbformat": 4,
 "nbformat_minor": 5
}
