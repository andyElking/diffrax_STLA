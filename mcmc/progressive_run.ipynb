{
 "cells": [
  {
   "cell_type": "code",
   "execution_count": 2,
   "id": "initial_id",
   "metadata": {
    "ExecuteTime": {
     "end_time": "2024-10-02T16:52:00.698643Z",
     "start_time": "2024-10-02T16:51:59.799057Z"
    },
    "collapsed": true
   },
   "outputs": [
    {
     "name": "stdout",
     "output_type": "stream",
     "text": [
      "env: JAX_PLATFORM_NAME=cuda\n",
      "[CudaDevice(id=0)]\n"
     ]
    }
   ],
   "source": [
    "import datetime\n",
    "import sys\n",
    "import warnings\n",
    "\n",
    "import diffrax\n",
    "import jax\n",
    "import jax.numpy as jnp\n",
    "import jax.random as jr\n",
    "import scipy\n",
    "from get_model import get_model_and_data  # noqa: F401\n",
    "from lmc import run_simple_lmc_numpyro  # noqa: F401\n",
    "from numpyro.infer import MCMC, NUTS, Predictive  # noqa: F401\n",
    "\n",
    "from mcmc.evaluation.eval_gt_logreg import eval_gt_logreg\n",
    "from mcmc.evaluation.metrics import adjust_max_len\n",
    "from mcmc.experiment_main import run_experiment\n",
    "from mcmc.progressive import (\n",
    "    ProgressiveEvaluator,\n",
    "    ProgressiveLMC,\n",
    "    ProgressiveLogger,\n",
    "    ProgressiveNUTS,\n",
    ")\n",
    "from mcmc.utils import compute_gt_logreg\n",
    "\n",
    "\n",
    "%env JAX_PLATFORM_NAME=cuda\n",
    "warnings.simplefilter(\"ignore\", FutureWarning)\n",
    "\n",
    "jnp.set_printoptions(precision=3, suppress=True, threshold=sys.maxsize)\n",
    "jax.config.update(\"jax_enable_x64\", True)\n",
    "print(jax.devices(\"cuda\"))\n",
    "\n",
    "dataset = scipy.io.loadmat(\"mcmc_data/benchmarks.mat\")\n",
    "names = [\n",
    "    \"banana\",\n",
    "    \"breast_cancer\",\n",
    "    \"diabetis\",\n",
    "    \"flare_solar\",\n",
    "    \"german\",\n",
    "    \"heart\",\n",
    "    \"image\",\n",
    "    \"ringnorm\",\n",
    "    \"splice\",\n",
    "    \"thyroid\",\n",
    "    \"titanic\",\n",
    "    \"twonorm\",\n",
    "    \"waveform\",\n",
    "]"
   ]
  },
  {
   "cell_type": "code",
   "execution_count": 3,
   "id": "b27f9bab92d9a3f8",
   "metadata": {
    "ExecuteTime": {
     "end_time": "2024-10-02T16:58:03.770178Z",
     "start_time": "2024-10-02T16:52:01.623158Z"
    }
   },
   "outputs": [
    {
     "name": "stdout",
     "output_type": "stream",
     "text": [
      "Data shape: (5300, 2)\n",
      "\n",
      "======= banana =======\n",
      "GT energy bias: 2.455e-05, test acc: 0.5498, test acc top 90%: 0.556\n",
      "\n",
      "NUTS: acc: 0.5506, acc top 90%: 0.557, energy: 1.658e-05, w2: 3.582e-04\n"
     ]
    },
    {
     "name": "stderr",
     "output_type": "stream",
     "text": [
      "100.00%|██████████| [00:04<00:00, 24.13%/s]\n"
     ]
    },
    {
     "name": "stdout",
     "output_type": "stream",
     "text": [
      "avg accepted: 248.00, avg rejected: 0.00\n",
      "QUICSORT: acc: 0.5509, acc top 90%: 0.5575, energy: 2.590e-05, w2: 3.747e-04\n",
      "Data shape: (263, 9)\n",
      "\n",
      "======= breast_cancer =======\n",
      "GT energy bias: 9.460e-05, test acc: 0.6627, test acc top 90%: 0.6677\n",
      "\n",
      "NUTS: acc: 0.6635, acc top 90%: 0.6696, energy: 9.450e-05, w2: 1.353e-01\n"
     ]
    },
    {
     "name": "stderr",
     "output_type": "stream",
     "text": [
      "100.00%|██████████| [00:02<00:00, 45.24%/s]\n"
     ]
    },
    {
     "name": "stdout",
     "output_type": "stream",
     "text": [
      "avg accepted: 248.00, avg rejected: 0.00\n",
      "QUICSORT: acc: 0.6659, acc top 90%: 0.6717, energy: 1.175e-04, w2: 1.356e-01\n",
      "Data shape: (768, 8)\n",
      "\n",
      "======= diabetis =======\n",
      "GT energy bias: 4.407e-05, test acc: 0.7772, test acc top 90%: 0.7798\n",
      "\n",
      "NUTS: acc: 0.7785, acc top 90%: 0.7811, energy: 5.960e-05, w2: 4.012e-02\n"
     ]
    },
    {
     "name": "stderr",
     "output_type": "stream",
     "text": [
      "100.00%|██████████| [00:02<00:00, 37.01%/s]\n"
     ]
    },
    {
     "name": "stdout",
     "output_type": "stream",
     "text": [
      "avg accepted: 248.00, avg rejected: 0.00\n",
      "QUICSORT: acc: 0.7809, acc top 90%: 0.7836, energy: 8.609e-05, w2: 3.985e-02\n",
      "Data shape: (144, 9)\n",
      "\n",
      "======= flare_solar =======\n",
      "GT energy bias: 8.068e-04, test acc: 0.6169, test acc top 90%: 0.6247\n",
      "\n",
      "NUTS: acc: 0.6176, acc top 90%: 0.6254, energy: 1.782e-02, w2: 1.985e+00\n"
     ]
    },
    {
     "name": "stderr",
     "output_type": "stream",
     "text": [
      "100.00%|██████████| [00:06<00:00, 14.46%/s]\n"
     ]
    },
    {
     "name": "stdout",
     "output_type": "stream",
     "text": [
      "avg accepted: 775.00, avg rejected: 0.00\n",
      "QUICSORT: acc: 0.6269, acc top 90%: 0.6357, energy: 6.101e-03, w2: 1.788e+00\n",
      "Data shape: (1000, 20)\n",
      "\n",
      "======= german =======\n",
      "GT energy bias: 1.110e-04, test acc: 0.7837, test acc top 90%: 0.7872\n",
      "\n",
      "NUTS: acc: 0.7844, acc top 90%: 0.7879, energy: 1.479e-04, w2: 1.621e-01\n"
     ]
    },
    {
     "name": "stderr",
     "output_type": "stream",
     "text": [
      "100.00%|██████████| [00:02<00:00, 33.64%/s]\n"
     ]
    },
    {
     "name": "stdout",
     "output_type": "stream",
     "text": [
      "avg accepted: 248.00, avg rejected: 0.00\n",
      "QUICSORT: acc: 0.7852, acc top 90%: 0.7888, energy: 2.317e-04, w2: 1.584e-01\n",
      "Data shape: (270, 13)\n",
      "\n",
      "======= heart =======\n",
      "GT energy bias: 1.212e-04, test acc: 0.8014, test acc top 90%: 0.8094\n",
      "\n",
      "NUTS: acc: 0.8034, acc top 90%: 0.8114, energy: 1.403e-04, w2: 3.397e-01\n"
     ]
    },
    {
     "name": "stderr",
     "output_type": "stream",
     "text": [
      "100.00%|██████████| [00:02<00:00, 36.36%/s]\n"
     ]
    },
    {
     "name": "stdout",
     "output_type": "stream",
     "text": [
      "avg accepted: 248.00, avg rejected: 0.00\n",
      "QUICSORT: acc: 0.806, acc top 90%: 0.8141, energy: 1.557e-04, w2: 3.383e-01\n",
      "Data shape: (2086, 18)\n",
      "\n",
      "======= image =======\n",
      "GT energy bias: 3.996e-04, test acc: 0.821, test acc top 90%: 0.8223\n",
      "\n",
      "NUTS: acc: 0.8214, acc top 90%: 0.8227, energy: 5.527e-04, w2: 7.458e-01\n"
     ]
    },
    {
     "name": "stderr",
     "output_type": "stream",
     "text": [
      "100.00%|██████████| [00:05<00:00, 17.89%/s]\n"
     ]
    },
    {
     "name": "stdout",
     "output_type": "stream",
     "text": [
      "avg accepted: 465.00, avg rejected: 0.00\n",
      "QUICSORT: acc: 0.8237, acc top 90%: 0.8252, energy: 4.670e-04, w2: 7.302e-01\n",
      "Data shape: (7400, 20)\n",
      "\n",
      "======= ringnorm =======\n",
      "GT energy bias: 1.145e-04, test acc: 0.7575, test acc top 90%: 0.7586\n",
      "\n",
      "NUTS: acc: 0.7577, acc top 90%: 0.7588, energy: 1.401e-04, w2: 1.171e-01\n"
     ]
    },
    {
     "name": "stderr",
     "output_type": "stream",
     "text": [
      "100.00%|██████████| [00:03<00:00, 31.82%/s]\n"
     ]
    },
    {
     "name": "stdout",
     "output_type": "stream",
     "text": [
      "avg accepted: 248.00, avg rejected: 0.00\n",
      "QUICSORT: acc: 0.7584, acc top 90%: 0.7596, energy: 3.407e-04, w2: 1.139e-01\n",
      "Data shape: (2991, 60)\n",
      "\n",
      "======= splice =======\n",
      "GT energy bias: 3.211e-04, test acc: 0.8264, test acc top 90%: 0.8275\n",
      "\n",
      "NUTS: acc: 0.8262, acc top 90%: 0.8274, energy: 2.715e-02, w2: 9.307e-01\n"
     ]
    },
    {
     "name": "stderr",
     "output_type": "stream",
     "text": [
      "100.00%|██████████| [02:02<00:00,  1.22s/%]\n"
     ]
    },
    {
     "name": "stdout",
     "output_type": "stream",
     "text": [
      "avg accepted: 3100.00, avg rejected: 0.00\n",
      "QUICSORT: acc: 0.8269, acc top 90%: 0.8281, energy: 3.790e-04, w2: 8.340e-01\n",
      "Data shape: (215, 5)\n",
      "\n",
      "======= thyroid =======\n",
      "GT energy bias: 6.158e-05, test acc: 0.7996, test acc top 90%: 0.8062\n",
      "\n",
      "NUTS: acc: 0.801, acc top 90%: 0.8077, energy: 1.071e-04, w2: 8.024e-02\n"
     ]
    },
    {
     "name": "stderr",
     "output_type": "stream",
     "text": [
      "100.00%|██████████| [00:01<00:00, 56.72%/s]\n"
     ]
    },
    {
     "name": "stdout",
     "output_type": "stream",
     "text": [
      "avg accepted: 248.00, avg rejected: 0.00\n",
      "QUICSORT: acc: 0.8256, acc top 90%: 0.8315, energy: 1.124e-04, w2: 8.255e-02\n",
      "Data shape: (24, 3)\n",
      "\n",
      "======= titanic =======\n",
      "GT energy bias: 8.428e-05, test acc: 0.5117, test acc top 90%: 0.5328\n",
      "\n",
      "NUTS: acc: 0.5205, acc top 90%: 0.5419, energy: 6.772e-05, w2: 2.508e-02\n"
     ]
    },
    {
     "name": "stderr",
     "output_type": "stream",
     "text": [
      "100.00%|██████████| [00:01<00:00, 72.63%/s]\n"
     ]
    },
    {
     "name": "stdout",
     "output_type": "stream",
     "text": [
      "avg accepted: 248.00, avg rejected: 0.00\n",
      "QUICSORT: acc: 0.5266, acc top 90%: 0.5447, energy: 6.559e-05, w2: 2.529e-02\n",
      "Data shape: (7400, 20)\n",
      "\n",
      "======= twonorm =======\n",
      "GT energy bias: 2.240e-04, test acc: 0.9719, test acc top 90%: 0.9724\n",
      "\n",
      "NUTS: acc: 0.9722, acc top 90%: 0.9726, energy: 3.368e-04, w2: 6.814e-01\n"
     ]
    },
    {
     "name": "stderr",
     "output_type": "stream",
     "text": [
      "100.00%|██████████| [00:03<00:00, 31.84%/s]\n"
     ]
    },
    {
     "name": "stdout",
     "output_type": "stream",
     "text": [
      "avg accepted: 248.00, avg rejected: 0.00\n",
      "QUICSORT: acc: 0.9721, acc top 90%: 0.9726, energy: 3.493e-04, w2: 6.945e-01\n",
      "Data shape: (5000, 21)\n",
      "\n",
      "======= waveform =======\n",
      "GT energy bias: 2.431e-04, test acc: 0.8749, test acc top 90%: 0.8758\n",
      "\n",
      "NUTS: acc: 0.8753, acc top 90%: 0.8761, energy: 2.966e-04, w2: 4.117e-01\n"
     ]
    },
    {
     "name": "stderr",
     "output_type": "stream",
     "text": [
      "100.00%|██████████| [00:06<00:00, 16.22%/s]\n"
     ]
    },
    {
     "name": "stdout",
     "output_type": "stream",
     "text": [
      "avg accepted: 465.00, avg rejected: 0.00\n",
      "QUICSORT: acc: 0.8756, acc top 90%: 0.8765, energy: 3.020e-04, w2: 4.065e-01\n"
     ]
    }
   ],
   "source": [
    "timestamp = datetime.datetime.now().strftime(\"%Y-%m-%d_%H-%M-%S\")\n",
    "get_result_filename = lambda name: f\"progressive_results/{name}_pid_{timestamp}.pkl\"\n",
    "get_prev_result_filename = lambda name: f\"progressive_results/{name}_*.pkl\"\n",
    "ground_truth_dirname = \"ground_truth\"\n",
    "\n",
    "evaluator = ProgressiveEvaluator()\n",
    "logger = ProgressiveLogger(log_filename=f\"progressive_results/log_{timestamp}.txt\")\n",
    "logger.start_log(timestamp)\n",
    "\n",
    "nust = ProgressiveNUTS(20, 2**6, get_prev_result_filename)\n",
    "\n",
    "USE_PID = False\n",
    "\n",
    "\n",
    "def make_pid(atol, dt0):\n",
    "    if not USE_PID:\n",
    "        return None\n",
    "    return diffrax.PIDController(\n",
    "        atol=atol,\n",
    "        rtol=0.0,\n",
    "        dtmax=0.5,\n",
    "        dtmin=dt0 / 10,\n",
    "        pcoeff=0.1,\n",
    "        icoeff=0.4,\n",
    "    )\n",
    "\n",
    "\n",
    "quic_kwargs = {\n",
    "    \"chain_len\": 2**5,\n",
    "    \"chain_sep\": 1.0,\n",
    "    \"dt0\": 0.07,\n",
    "    \"solver\": diffrax.QUICSORT(0.1),\n",
    "    \"pid\": make_pid(0.1, 0.07),\n",
    "}\n",
    "quic = ProgressiveLMC(quic_kwargs)\n",
    "euler_kwargs = {\n",
    "    \"chain_len\": 2**5,\n",
    "    \"chain_sep\": 0.5,\n",
    "    \"dt0\": 0.03,\n",
    "    \"solver\": diffrax.Euler(),\n",
    "    \"pid\": make_pid(0.1, 0.03),\n",
    "}\n",
    "euler = ProgressiveLMC(euler_kwargs)\n",
    "methods = [nust, quic]\n",
    "\n",
    "dt0s = {\n",
    "    \"banana\": 0.04,\n",
    "    \"splice\": 0.01,\n",
    "    \"flare_solar\": 0.08,\n",
    "}\n",
    "seps = {\n",
    "    \"banana\": 0.3,\n",
    "    \"splice\": 1.0,\n",
    "    \"flare_solar\": 2.0,\n",
    "    \"image\": 1.0,\n",
    "    \"waveform\": 1.0,\n",
    "}\n",
    "atols = {}\n",
    "\n",
    "\n",
    "for name in names:\n",
    "    model, model_args, test_args = get_model_and_data(dataset, name)\n",
    "    data_dim = model_args[0].shape[1] + 1\n",
    "    num_particles = adjust_max_len(2**14, data_dim)\n",
    "    config = {\n",
    "        \"num_particles\": num_particles,\n",
    "        \"test_args\": test_args,\n",
    "    }\n",
    "    quic_dt0 = dt0s.get(name, 0.07)\n",
    "    chain_sep = seps.get(name, 0.5)\n",
    "    atol = atols.get(name, 0.8)\n",
    "    quic.lmc_kwargs[\"dt0\"], quic.lmc_kwargs[\"chain_sep\"] = quic_dt0, chain_sep\n",
    "    quic.lmc_kwargs[\"pid\"] = make_pid(atol, quic_dt0)\n",
    "    euler.lmc_kwargs[\"dt0\"], euler.lmc_kwargs[\"chain_sep\"] = (\n",
    "        quic_dt0 / 40,\n",
    "        chain_sep / 20,\n",
    "    )\n",
    "    euler.lmc_kwargs[\"pid\"] = make_pid(atol, quic_dt0 / 20)\n",
    "\n",
    "    run_experiment(\n",
    "        jr.key(0),\n",
    "        model,\n",
    "        model_args,\n",
    "        name,\n",
    "        methods,\n",
    "        config,\n",
    "        evaluator,\n",
    "        logger,\n",
    "        compute_gt_logreg,\n",
    "        ground_truth_dirname,\n",
    "        eval_gt_logreg,\n",
    "        get_result_filename,\n",
    "    )"
   ]
  },
  {
   "cell_type": "code",
   "execution_count": null,
   "id": "38a5681d33acc4b5",
   "metadata": {},
   "outputs": [],
   "source": []
  }
 ],
 "metadata": {
  "kernelspec": {
   "display_name": "Python 3",
   "language": "python",
   "name": "python3"
  },
  "language_info": {
   "codemirror_mode": {
    "name": "ipython",
    "version": 2
   },
   "file_extension": ".py",
   "mimetype": "text/x-python",
   "name": "python",
   "nbconvert_exporter": "python",
   "pygments_lexer": "ipython2",
   "version": "2.7.6"
  }
 },
 "nbformat": 4,
 "nbformat_minor": 5
}
