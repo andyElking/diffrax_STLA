{
 "cells": [
  {
   "cell_type": "code",
   "execution_count": 1,
   "id": "initial_id",
   "metadata": {
    "ExecuteTime": {
     "end_time": "2024-04-26T11:40:29.751736Z",
     "start_time": "2024-04-26T11:40:27.755079Z"
    },
    "collapsed": true
   },
   "outputs": [
    {
     "name": "stdout",
     "output_type": "stream",
     "text": [
      "[cuda(id=0)]\n"
     ]
    }
   ],
   "source": [
    "from functools import partial\n",
    "\n",
    "import jax\n",
    "import jax.numpy as jnp\n",
    "import jax.random as jr\n",
    "import numpy as np\n",
    "import numpyro\n",
    "import ot\n",
    "import scipy\n",
    "from jax import Array\n",
    "from numpyro import diagnostics, distributions as dist\n",
    "from numpyro.infer import MCMC, NUTS\n",
    "from numpyro.infer.util import initialize_model\n",
    "\n",
    "from mcmc import run_lmc\n",
    "\n",
    "\n",
    "jnp.set_printoptions(precision=3, suppress=True)\n",
    "jax.config.update(\"jax_enable_x64\", True)\n",
    "\n",
    "\n",
    "def get_model_and_data(data, name):\n",
    "    dset = data[name][0, 0]\n",
    "    x = dset[\"x\"]\n",
    "    labels = dset[\"t\"]\n",
    "    n, data_dim = x.shape\n",
    "    n_train = min(int(n / 2), 500)\n",
    "    x_train = x[:n_train]\n",
    "    labels_train = labels[:n_train]\n",
    "    x_test = x[n_train:]\n",
    "    labels_test = labels[n_train:]\n",
    "\n",
    "    def model():\n",
    "        alpha = numpyro.sample(\"alpha\", dist.Exponential(0.01))\n",
    "        W = numpyro.sample(\"W\", dist.Normal(jnp.zeros(data_dim), 1.0 / alpha))\n",
    "        logits = jnp.sum(W * x_train, axis=-1)\n",
    "        return numpyro.sample(\"obs\", dist.Bernoulli(logits=logits), obs=labels_train)\n",
    "\n",
    "    return model, (x_train, labels_train, x_test, labels_test)\n",
    "\n",
    "\n",
    "data = scipy.io.loadmat(\"mcmc_data/benchmarks.mat\")\n",
    "\n",
    "data_name = \"diabetis\"\n",
    "model_logreg, data_split = get_model_and_data(data, data_name)\n",
    "\n",
    "logreg_info = initialize_model(jr.PRNGKey(0), model_logreg)\n",
    "\n",
    "\n",
    "def dict_to_array(dct: dict):\n",
    "    alpha = dct[\"alpha\"]\n",
    "\n",
    "    return jnp.concatenate([jnp.expand_dims(alpha, alpha.ndim), dct[\"W\"]], axis=-1)\n",
    "\n",
    "\n",
    "vec_dict_to_array = jax.jit(jax.vmap(dict_to_array, in_axes=0, out_axes=0))\n",
    "\n",
    "\n",
    "@jax.jit\n",
    "def array_to_dict(arr: jnp.ndarray):\n",
    "    return {\"alpha\": arr[0], \"W\": arr[1:]}\n",
    "\n",
    "\n",
    "@jax.jit\n",
    "def potential_fn(arr: jnp.ndarray):\n",
    "    dct = array_to_dict(arr)\n",
    "    return logreg_info.potential_fn(dct)\n",
    "\n",
    "\n",
    "arr0 = dict_to_array(logreg_info.param_info.z)\n",
    "\n",
    "print(jax.devices(\"cuda\"))\n",
    "\n",
    "\n",
    "def compute_w2(x1, x2, num_iters):\n",
    "    source_samples = np.array(x1)\n",
    "    target_samples = np.array(x2)\n",
    "    source_weights = np.ones(source_samples.shape[0]) / source_samples.shape[0]\n",
    "    target_weights = np.ones(target_samples.shape[0]) / target_samples.shape[0]\n",
    "    mm = ot.dist(source_samples, target_samples)\n",
    "    return ot.emd2(source_weights, target_weights, mm, numItermax=num_iters)\n",
    "\n",
    "\n",
    "@partial(jax.jit, static_argnames=(\"max_len\",))\n",
    "def energy_distance(x: Array, y: Array, max_len: int = 2**15):\n",
    "    assert y.ndim == x.ndim\n",
    "    assert x.shape[1:] == y.shape[1:]\n",
    "    if x.shape[0] > max_len:\n",
    "        x = x[:max_len]\n",
    "    if y.shape[0] > max_len:\n",
    "        y = y[:max_len]\n",
    "\n",
    "    @partial(jax.vmap, in_axes=(None, 0))\n",
    "    def _dist_single(_x, _y_single):\n",
    "        assert _x.ndim == _y_single.ndim + 1, f\"{_x.ndim} != {_y_single.ndim + 1}\"\n",
    "        diff = _x - _y_single\n",
    "        if x.ndim > 1:\n",
    "            # take the norm over all axes except the first one\n",
    "            diff = jnp.sqrt(jnp.sum(diff**2, axis=tuple(range(1, diff.ndim))))\n",
    "        return jnp.mean(jnp.abs(diff))\n",
    "\n",
    "    def dist(_x, _y):\n",
    "        assert _x.ndim == _y.ndim\n",
    "        return jnp.mean(_dist_single(_x, _y))\n",
    "\n",
    "    return 2 * dist(x, y) - dist(x, x) - dist(y, y)\n",
    "\n",
    "\n",
    "def eval_logreg(samples, evals_per_sample, ground_truth=None, num_iters_w2=0):\n",
    "    if isinstance(samples, dict):\n",
    "        samples = vec_dict_to_array(samples)\n",
    "    ess = diagnostics.effective_sample_size(samples)\n",
    "    print(f\"Effective sample size: {ess}\")\n",
    "    # print(\n",
    "    #     f\"Gradient evals per effective sample:\"\n",
    "    #     f\" {evals_per_sample * samples.shape[0]/ess}\"\n",
    "    # )\n",
    "    if ground_truth is None:\n",
    "        return\n",
    "    sample_dim = samples.shape[-1]\n",
    "    reshaped = jnp.reshape(samples, (-1, sample_dim))\n",
    "    energy_gt = energy_distance(reshaped, ground_truth)\n",
    "    half_len = reshaped.shape[0] // 2\n",
    "    energy_self = energy_distance(reshaped[:half_len], reshaped[half_len:])\n",
    "    result_str = (\n",
    "        f\"Energy dist vs ground truth: {energy_gt:.4}, vs self: {energy_self:.4}\"\n",
    "    )\n",
    "    if num_iters_w2 > 0:\n",
    "        w2 = compute_w2(reshaped, ground_truth, num_iters_w2)\n",
    "        result_str += f\", Wasserstein-2: {w2:.4}\"\n",
    "    print(result_str)"
   ]
  },
  {
   "cell_type": "code",
   "execution_count": 2,
   "id": "cb6890aa66d4af19",
   "metadata": {
    "ExecuteTime": {
     "end_time": "2024-04-26T12:08:25.049148Z",
     "start_time": "2024-04-26T11:40:30.686874Z"
    },
    "collapsed": false
   },
   "outputs": [
    {
     "name": "stderr",
     "output_type": "stream",
     "text": [
      "sample:  17%|█▋        | 5783/33792 [27:53<2:15:07,  3.45it/s, 1023 steps of size 1.92e-15. acc. prob=0.92]\n"
     ]
    },
    {
     "ename": "KeyboardInterrupt",
     "evalue": "",
     "output_type": "error",
     "traceback": [
      "\u001b[0;31m---------------------------------------------------------------------------\u001b[0m",
      "\u001b[0;31mKeyboardInterrupt\u001b[0m                         Traceback (most recent call last)",
      "Cell \u001b[0;32mIn[2], line 3\u001b[0m\n\u001b[1;32m      1\u001b[0m gt_nuts \u001b[38;5;241m=\u001b[39m MCMC(NUTS(model_logreg, step_size\u001b[38;5;241m=\u001b[39m\u001b[38;5;241m2\u001b[39m\u001b[38;5;241m*\u001b[39m\u001b[38;5;241m*\u001b[39m\u001b[38;5;241m-\u001b[39m\u001b[38;5;241m5\u001b[39m),\n\u001b[1;32m      2\u001b[0m                num_warmup\u001b[38;5;241m=\u001b[39m\u001b[38;5;241m2\u001b[39m\u001b[38;5;241m*\u001b[39m\u001b[38;5;241m*\u001b[39m\u001b[38;5;241m10\u001b[39m, num_samples\u001b[38;5;241m=\u001b[39m\u001b[38;5;241m2\u001b[39m\u001b[38;5;241m*\u001b[39m\u001b[38;5;241m*\u001b[39m\u001b[38;5;241m15\u001b[39m)\n\u001b[0;32m----> 3\u001b[0m \u001b[43mgt_nuts\u001b[49m\u001b[38;5;241;43m.\u001b[39;49m\u001b[43mrun\u001b[49m\u001b[43m(\u001b[49m\u001b[43mjr\u001b[49m\u001b[38;5;241;43m.\u001b[39;49m\u001b[43mPRNGKey\u001b[49m\u001b[43m(\u001b[49m\u001b[38;5;241;43m0\u001b[39;49m\u001b[43m)\u001b[49m\u001b[43m)\u001b[49m\n\u001b[1;32m      4\u001b[0m gt_logreg \u001b[38;5;241m=\u001b[39m vec_dict_to_array(gt_nuts\u001b[38;5;241m.\u001b[39mget_samples())\n\u001b[1;32m      5\u001b[0m np\u001b[38;5;241m.\u001b[39msave(\u001b[38;5;124mf\u001b[39m\u001b[38;5;124m\"\u001b[39m\u001b[38;5;124mmcmc_data/\u001b[39m\u001b[38;5;132;01m{\u001b[39;00mdata_name\u001b[38;5;132;01m}\u001b[39;00m\u001b[38;5;124m_ground_truth.npy\u001b[39m\u001b[38;5;124m\"\u001b[39m, gt_logreg)\n",
      "File \u001b[0;32m~/PycharmProjects/diffrax_STLA/venv/lib/python3.11/site-packages/numpyro/infer/mcmc.py:644\u001b[0m, in \u001b[0;36mMCMC.run\u001b[0;34m(self, rng_key, extra_fields, init_params, *args, **kwargs)\u001b[0m\n\u001b[1;32m    642\u001b[0m map_args \u001b[38;5;241m=\u001b[39m (rng_key, init_state, init_params)\n\u001b[1;32m    643\u001b[0m \u001b[38;5;28;01mif\u001b[39;00m \u001b[38;5;28mself\u001b[39m\u001b[38;5;241m.\u001b[39mnum_chains \u001b[38;5;241m==\u001b[39m \u001b[38;5;241m1\u001b[39m:\n\u001b[0;32m--> 644\u001b[0m     states_flat, last_state \u001b[38;5;241m=\u001b[39m \u001b[43mpartial_map_fn\u001b[49m\u001b[43m(\u001b[49m\u001b[43mmap_args\u001b[49m\u001b[43m)\u001b[49m\n\u001b[1;32m    645\u001b[0m     states \u001b[38;5;241m=\u001b[39m tree_map(\u001b[38;5;28;01mlambda\u001b[39;00m x: x[jnp\u001b[38;5;241m.\u001b[39mnewaxis, \u001b[38;5;241m.\u001b[39m\u001b[38;5;241m.\u001b[39m\u001b[38;5;241m.\u001b[39m], states_flat)\n\u001b[1;32m    646\u001b[0m \u001b[38;5;28;01melse\u001b[39;00m:\n",
      "File \u001b[0;32m~/PycharmProjects/diffrax_STLA/venv/lib/python3.11/site-packages/numpyro/infer/mcmc.py:450\u001b[0m, in \u001b[0;36mMCMC._single_chain_mcmc\u001b[0;34m(self, init, args, kwargs, collect_fields)\u001b[0m\n\u001b[1;32m    444\u001b[0m collection_size \u001b[38;5;241m=\u001b[39m \u001b[38;5;28mself\u001b[39m\u001b[38;5;241m.\u001b[39m_collection_params[\u001b[38;5;124m\"\u001b[39m\u001b[38;5;124mcollection_size\u001b[39m\u001b[38;5;124m\"\u001b[39m]\n\u001b[1;32m    445\u001b[0m collection_size \u001b[38;5;241m=\u001b[39m (\n\u001b[1;32m    446\u001b[0m     collection_size\n\u001b[1;32m    447\u001b[0m     \u001b[38;5;28;01mif\u001b[39;00m collection_size \u001b[38;5;129;01mis\u001b[39;00m \u001b[38;5;28;01mNone\u001b[39;00m\n\u001b[1;32m    448\u001b[0m     \u001b[38;5;28;01melse\u001b[39;00m collection_size \u001b[38;5;241m/\u001b[39m\u001b[38;5;241m/\u001b[39m \u001b[38;5;28mself\u001b[39m\u001b[38;5;241m.\u001b[39mthinning\n\u001b[1;32m    449\u001b[0m )\n\u001b[0;32m--> 450\u001b[0m collect_vals \u001b[38;5;241m=\u001b[39m \u001b[43mfori_collect\u001b[49m\u001b[43m(\u001b[49m\n\u001b[1;32m    451\u001b[0m \u001b[43m    \u001b[49m\u001b[43mlower_idx\u001b[49m\u001b[43m,\u001b[49m\n\u001b[1;32m    452\u001b[0m \u001b[43m    \u001b[49m\u001b[43mupper_idx\u001b[49m\u001b[43m,\u001b[49m\n\u001b[1;32m    453\u001b[0m \u001b[43m    \u001b[49m\u001b[43msample_fn\u001b[49m\u001b[43m,\u001b[49m\n\u001b[1;32m    454\u001b[0m \u001b[43m    \u001b[49m\u001b[43minit_val\u001b[49m\u001b[43m,\u001b[49m\n\u001b[1;32m    455\u001b[0m \u001b[43m    \u001b[49m\u001b[43mtransform\u001b[49m\u001b[38;5;241;43m=\u001b[39;49m\u001b[43m_collect_fn\u001b[49m\u001b[43m(\u001b[49m\u001b[43mcollect_fields\u001b[49m\u001b[43m)\u001b[49m\u001b[43m,\u001b[49m\n\u001b[1;32m    456\u001b[0m \u001b[43m    \u001b[49m\u001b[43mprogbar\u001b[49m\u001b[38;5;241;43m=\u001b[39;49m\u001b[38;5;28;43mself\u001b[39;49m\u001b[38;5;241;43m.\u001b[39;49m\u001b[43mprogress_bar\u001b[49m\u001b[43m,\u001b[49m\n\u001b[1;32m    457\u001b[0m \u001b[43m    \u001b[49m\u001b[43mreturn_last_val\u001b[49m\u001b[38;5;241;43m=\u001b[39;49m\u001b[38;5;28;43;01mTrue\u001b[39;49;00m\u001b[43m,\u001b[49m\n\u001b[1;32m    458\u001b[0m \u001b[43m    \u001b[49m\u001b[43mthinning\u001b[49m\u001b[38;5;241;43m=\u001b[39;49m\u001b[38;5;28;43mself\u001b[39;49m\u001b[38;5;241;43m.\u001b[39;49m\u001b[43mthinning\u001b[49m\u001b[43m,\u001b[49m\n\u001b[1;32m    459\u001b[0m \u001b[43m    \u001b[49m\u001b[43mcollection_size\u001b[49m\u001b[38;5;241;43m=\u001b[39;49m\u001b[43mcollection_size\u001b[49m\u001b[43m,\u001b[49m\n\u001b[1;32m    460\u001b[0m \u001b[43m    \u001b[49m\u001b[43mprogbar_desc\u001b[49m\u001b[38;5;241;43m=\u001b[39;49m\u001b[43mpartial\u001b[49m\u001b[43m(\u001b[49m\u001b[43m_get_progbar_desc_str\u001b[49m\u001b[43m,\u001b[49m\u001b[43m \u001b[49m\u001b[43mlower_idx\u001b[49m\u001b[43m,\u001b[49m\u001b[43m \u001b[49m\u001b[43mphase\u001b[49m\u001b[43m)\u001b[49m\u001b[43m,\u001b[49m\n\u001b[1;32m    461\u001b[0m \u001b[43m    \u001b[49m\u001b[43mdiagnostics_fn\u001b[49m\u001b[38;5;241;43m=\u001b[39;49m\u001b[43mdiagnostics\u001b[49m\u001b[43m,\u001b[49m\n\u001b[1;32m    462\u001b[0m \u001b[43m    \u001b[49m\u001b[43mnum_chains\u001b[49m\u001b[38;5;241;43m=\u001b[39;49m\u001b[38;5;28;43mself\u001b[39;49m\u001b[38;5;241;43m.\u001b[39;49m\u001b[43mnum_chains\u001b[49m\u001b[43m \u001b[49m\u001b[38;5;28;43;01mif\u001b[39;49;00m\u001b[43m \u001b[49m\u001b[38;5;28;43mself\u001b[39;49m\u001b[38;5;241;43m.\u001b[39;49m\u001b[43mchain_method\u001b[49m\u001b[43m \u001b[49m\u001b[38;5;241;43m==\u001b[39;49m\u001b[43m \u001b[49m\u001b[38;5;124;43m\"\u001b[39;49m\u001b[38;5;124;43mparallel\u001b[39;49m\u001b[38;5;124;43m\"\u001b[39;49m\u001b[43m \u001b[49m\u001b[38;5;28;43;01melse\u001b[39;49;00m\u001b[43m \u001b[49m\u001b[38;5;241;43m1\u001b[39;49m\u001b[43m,\u001b[49m\n\u001b[1;32m    463\u001b[0m \u001b[43m\u001b[49m\u001b[43m)\u001b[49m\n\u001b[1;32m    464\u001b[0m states, last_val \u001b[38;5;241m=\u001b[39m collect_vals\n\u001b[1;32m    465\u001b[0m \u001b[38;5;66;03m# Get first argument of type `HMCState`\u001b[39;00m\n",
      "File \u001b[0;32m~/PycharmProjects/diffrax_STLA/venv/lib/python3.11/site-packages/numpyro/util.py:367\u001b[0m, in \u001b[0;36mfori_collect\u001b[0;34m(lower, upper, body_fun, init_val, transform, progbar, return_last_val, collection_size, thinning, **progbar_opts)\u001b[0m\n\u001b[1;32m    365\u001b[0m \u001b[38;5;28;01mwith\u001b[39;00m tqdm\u001b[38;5;241m.\u001b[39mtrange(upper) \u001b[38;5;28;01mas\u001b[39;00m t:\n\u001b[1;32m    366\u001b[0m     \u001b[38;5;28;01mfor\u001b[39;00m i \u001b[38;5;129;01min\u001b[39;00m t:\n\u001b[0;32m--> 367\u001b[0m         vals \u001b[38;5;241m=\u001b[39m \u001b[43mjit\u001b[49m\u001b[43m(\u001b[49m\u001b[43m_body_fn\u001b[49m\u001b[43m)\u001b[49m\u001b[43m(\u001b[49m\u001b[43mi\u001b[49m\u001b[43m,\u001b[49m\u001b[43m \u001b[49m\u001b[43mvals\u001b[49m\u001b[43m)\u001b[49m\n\u001b[1;32m    368\u001b[0m         t\u001b[38;5;241m.\u001b[39mset_description(progbar_desc(i), refresh\u001b[38;5;241m=\u001b[39m\u001b[38;5;28;01mFalse\u001b[39;00m)\n\u001b[1;32m    369\u001b[0m         \u001b[38;5;28;01mif\u001b[39;00m diagnostics_fn:\n",
      "File \u001b[0;32m<string>:1\u001b[0m, in \u001b[0;36m<lambda>\u001b[0;34m(_cls, step_size, inverse_mass_matrix, mass_matrix_sqrt, mass_matrix_sqrt_inv, ss_state, mm_state, window_idx, rng_key)\u001b[0m\n",
      "\u001b[0;31mKeyboardInterrupt\u001b[0m: "
     ]
    }
   ],
   "source": [
    "gt_nuts = MCMC(NUTS(model_logreg, step_size=2**-4), num_warmup=2**10, num_samples=2**15)\n",
    "gt_nuts.run(jr.PRNGKey(0))\n",
    "gt_logreg = vec_dict_to_array(gt_nuts.get_samples())\n",
    "np.save(f\"mcmc_data/{data_name}_ground_truth.npy\", gt_logreg)\n",
    "gt_logreg = np.load(f\"mcmc_data/{data_name}_ground_truth.npy\")\n",
    "size_gt_half = int(gt_logreg.shape[0] // 2)\n",
    "energy_bias = energy_distance(gt_logreg[:size_gt_half], gt_logreg[size_gt_half:])\n",
    "print(f\"Energy bias: {energy_bias:.4}\")"
   ]
  },
  {
   "cell_type": "code",
   "execution_count": 18,
   "id": "9b866c607224c7d4",
   "metadata": {
    "ExecuteTime": {
     "end_time": "2024-04-26T11:34:02.173979Z",
     "start_time": "2024-04-26T11:30:43.136389Z"
    }
   },
   "outputs": [
    {
     "name": "stdout",
     "output_type": "stream",
     "text": [
      "LMC: Steps warmup: 2300.2734375, steps mcmc: 24664.6640625, gradient evaluations per output: 210.66357421875\n",
      "(128, 256, 9)\n"
     ]
    }
   ],
   "source": [
    "num_chains = 2**7\n",
    "num_samples_per_chain = 2**8\n",
    "out_logreg_lmc, steps_logreg_lmc = run_lmc(\n",
    "    jr.PRNGKey(0),\n",
    "    potential_fn,\n",
    "    arr0,\n",
    "    num_chains,\n",
    "    num_samples_per_chain,\n",
    "    chain_sep=0.25,\n",
    "    tol=0.1,\n",
    "    warmup_mult=128.0,\n",
    "    warmup_tol_mult=4.0,\n",
    ")\n",
    "print(out_logreg_lmc.shape)"
   ]
  },
  {
   "cell_type": "code",
   "execution_count": 23,
   "id": "370c919e1db98307",
   "metadata": {
    "ExecuteTime": {
     "end_time": "2024-04-26T11:39:03.050673Z",
     "start_time": "2024-04-26T11:39:02.266831Z"
    }
   },
   "outputs": [
    {
     "name": "stdout",
     "output_type": "stream",
     "text": [
      "Effective sample size: [427.2759 323.3381 323.3381 323.3381 323.3381 323.3381 323.3381 323.3382\n",
      " 323.3381]:.4\n",
      "Gradient evals per effective sample: [63.109  83.3955 83.3955 83.3955 83.3955 83.3955 83.3955 83.3955 83.3955]\n",
      "Energy distance vs ground truth: 1.216e+08, energy distance vs self: 0.007298\n"
     ]
    }
   ],
   "source": [
    "eval_logreg(out_logreg_lmc, steps_logreg_lmc, gt_logreg)"
   ]
  },
  {
   "cell_type": "code",
   "execution_count": 8,
   "id": "47568f0f703122b5",
   "metadata": {
    "ExecuteTime": {
     "end_time": "2024-04-25T16:08:07.384563Z",
     "start_time": "2024-04-25T16:07:06.205686Z"
    }
   },
   "outputs": [
    {
     "name": "stderr",
     "output_type": "stream",
     "text": [
      "sample: 100%|██████████| 264/264 [00:59<00:00,  4.44it/s]\n"
     ]
    },
    {
     "name": "stdout",
     "output_type": "stream",
     "text": [
      "10.700408935546875\n"
     ]
    }
   ],
   "source": [
    "nuts = MCMC(\n",
    "    NUTS(model_logreg),\n",
    "    num_warmup=2**3,\n",
    "    num_samples=num_samples_per_chain,\n",
    "    num_chains=num_chains,\n",
    "    chain_method=\"vectorized\",\n",
    ")\n",
    "nuts.run(jr.PRNGKey(0), extra_fields=(\"num_steps\",))\n",
    "out_logreg_nuts = nuts.get_samples(group_by_chain=True)\n",
    "num_steps_nuts = nuts.get_extra_fields()[\"num_steps\"]\n",
    "geps_nuts = sum(num_steps_nuts) / len(num_steps_nuts)\n",
    "print(geps_nuts)"
   ]
  },
  {
   "cell_type": "code",
   "execution_count": 9,
   "id": "65cf79276c2501d7",
   "metadata": {
    "ExecuteTime": {
     "end_time": "2024-04-25T16:08:38.286240Z",
     "start_time": "2024-04-25T16:08:07.385089Z"
    }
   },
   "outputs": [
    {
     "name": "stdout",
     "output_type": "stream",
     "text": [
      "Effective sample size: [    nan 65.1355     nan]\n",
      "Gradient evals per effective sample: [    nan 21.0277     nan]\n",
      "W2 distance: 0.03975801461724085\n"
     ]
    },
    {
     "name": "stderr",
     "output_type": "stream",
     "text": [
      "/home/andy/PycharmProjects/diffrax_STLA/venv/lib/python3.11/site-packages/ot/lp/__init__.py:571: UserWarning: numItermax reached before optimality. Try to increase numItermax.\n",
      "  check_result(result_code)\n"
     ]
    }
   ],
   "source": [
    "eval_logreg(out_logreg_nuts, geps_nuts, gt_logreg)"
   ]
  },
  {
   "cell_type": "code",
   "execution_count": 2,
   "id": "f2b826cca477206d",
   "metadata": {
    "ExecuteTime": {
     "end_time": "2024-04-25T16:45:16.467290Z",
     "start_time": "2024-04-25T16:45:16.463760Z"
    },
    "collapsed": false
   },
   "outputs": [],
   "source": [
    "import os\n",
    "\n",
    "\n",
    "def run_logreg_dataset(name):\n",
    "    model_logreg, data_split = get_model_and_data(data, name)\n",
    "    logreg_info = initialize_model(jr.PRNGKey(0), model_logreg)\n",
    "    arr0 = dict_to_array(logreg_info.param_info.z)\n",
    "\n",
    "    @jax.jit\n",
    "    def _potential_fn(arr: jnp.ndarray):\n",
    "        dct = array_to_dict(arr)\n",
    "        return logreg_info.potential_fn(dct)\n",
    "\n",
    "    # Compute ground truth\n",
    "    ground_truth_filename = f\"mcmc_data/{name}_ground_truth.npy\"\n",
    "    if os.path.isfile(ground_truth_filename):\n",
    "        ground_truth = np.load(ground_truth_filename)\n",
    "    else:\n",
    "        gt_nuts = MCMC(\n",
    "            NUTS(model_logreg, step_size=0.125), num_warmup=2**13, num_samples=2**15\n",
    "        )\n",
    "        gt_nuts.run(jr.PRNGKey(0))\n",
    "        ground_truth = vec_dict_to_array(gt_nuts.get_samples())\n",
    "        np.save(f\"mcmc_data/{name}_ground_truth.npy\", ground_truth)\n",
    "    size_gt_half = int(ground_truth.shape[0] // 2)\n",
    "    gt_energy_bias = energy_distance(\n",
    "        ground_truth[:size_gt_half], ground_truth[size_gt_half:]\n",
    "    )\n",
    "    print(f\"Ground truth energy bias: {gt_energy_bias:.4}\")\n",
    "    num_chains = 2**7\n",
    "    num_samples_per_chain = 2**8\n",
    "\n",
    "    out_logreg_lmc, steps_logreg_lmc = run_lmc(\n",
    "        jr.PRNGKey(0),\n",
    "        _potential_fn,\n",
    "        arr0,\n",
    "        num_chains,\n",
    "        num_samples_per_chain,\n",
    "        chain_sep=0.25,\n",
    "        tol=0.1,\n",
    "        warmup_mult=128.0,\n",
    "        warmup_tol_mult=8.0,\n",
    "    )\n",
    "    eval_logreg(out_logreg_lmc, steps_logreg_lmc, ground_truth)\n",
    "\n",
    "    nuts = MCMC(\n",
    "        NUTS(model_logreg),\n",
    "        num_warmup=2**8,\n",
    "        num_samples=num_samples_per_chain,\n",
    "        num_chains=num_chains,\n",
    "        chain_method=\"vectorized\",\n",
    "    )\n",
    "    nuts.run(jr.PRNGKey(0), extra_fields=(\"num_steps\",))\n",
    "    out_logreg_nuts = nuts.get_samples(group_by_chain=True)\n",
    "    num_steps_nuts = nuts.get_extra_fields()[\"num_steps\"]\n",
    "    geps_nuts = sum(num_steps_nuts) / len(num_steps_nuts)\n",
    "    print(f\"NUTS: Gradient evals per output: {geps_nuts}\")\n",
    "    eval_logreg(out_logreg_nuts, geps_nuts, ground_truth)"
   ]
  },
  {
   "cell_type": "code",
   "execution_count": 3,
   "id": "fb6851c76c27702f",
   "metadata": {
    "ExecuteTime": {
     "end_time": "2024-04-25T16:45:17.600931Z",
     "start_time": "2024-04-25T16:45:17.598985Z"
    }
   },
   "outputs": [],
   "source": [
    "names = [\n",
    "    \"banana\",\n",
    "    \"breast_cancer\",\n",
    "    \"diabetis\",\n",
    "    \"flare_solar\",\n",
    "    \"german\",\n",
    "    \"heart\",\n",
    "    \"image\",\n",
    "    \"ringnorm\",\n",
    "    \"splice\",\n",
    "    \"thyroid\",\n",
    "    \"titanic\",\n",
    "    \"twonorm\",\n",
    "    \"waveform\",\n",
    "]"
   ]
  },
  {
   "cell_type": "code",
   "execution_count": 4,
   "id": "e7e926ca753859d5",
   "metadata": {
    "ExecuteTime": {
     "end_time": "2024-04-25T20:34:16.510995Z",
     "start_time": "2024-04-25T16:45:18.624333Z"
    }
   },
   "outputs": [
    {
     "name": "stdout",
     "output_type": "stream",
     "text": [
      "==================== banana ====================\n",
      "LMC\n",
      "LMC: Steps warmup: 600.5859375, steps mcmc: 9082.40625, gradient evaluations per output: 75.64837646484375\n",
      "Effective sample size: [  528.9647  3286.149  13097.2888]\n",
      "Gradient evals per effective sample: [18.3056  2.9466  0.7393]\n",
      "W2 distance: 0.023220977744452573\n",
      "NUTS\n"
     ]
    },
    {
     "name": "stderr",
     "output_type": "stream",
     "text": [
      "sample: 100%|██████████| 320/320 [00:57<00:00,  5.56it/s]\n"
     ]
    },
    {
     "name": "stdout",
     "output_type": "stream",
     "text": [
      "Gradient evals per effective sample (NUTS): 13.71722412109375\n",
      "Effective sample size: [ 6194.9014 27028.3926 24080.6835]\n",
      "Gradient evals per effective sample: [0.2834 0.065  0.0729]\n",
      "W2 distance: 0.00028803654533254326\n",
      "LMC\n",
      "==================== breast_cancer ====================\n",
      "LMC\n",
      "LMC: Steps warmup: 25.6640625, steps mcmc: 910.875, gradient evaluations per output: 7.31671142578125\n",
      "Effective sample size: [4788.6521  323.302   323.3166  323.2347  323.3078  323.2946  323.2509\n",
      "  323.4151  319.7926  323.3168]\n",
      "Gradient evals per effective sample: [0.1956 2.8968 2.8967 2.8974 2.8967 2.8969 2.8973 2.8958 2.9286 2.8967]\n",
      "W2 distance: 540404996204079.0\n",
      "NUTS\n"
     ]
    },
    {
     "name": "stderr",
     "output_type": "stream",
     "text": [
      "sample: 100%|██████████| 320/320 [00:32<00:00,  9.76it/s]\n"
     ]
    },
    {
     "name": "stdout",
     "output_type": "stream",
     "text": [
      "Gradient evals per effective sample (NUTS): 8.668121337890625\n",
      "Effective sample size: [    nan     nan 65.2196     nan     nan     nan     nan     nan     nan\n",
      "     nan]\n",
      "Gradient evals per effective sample: [   nan    nan 17.012    nan    nan    nan    nan    nan    nan    nan]\n",
      "W2 distance: 314604860600664.06\n",
      "LMC\n",
      "==================== diabetis ====================\n"
     ]
    },
    {
     "name": "stderr",
     "output_type": "stream",
     "text": [
      "sample: 100%|██████████| 16640/16640 [00:36<00:00, 450.75it/s, 1 steps of size 1.29e-06. acc. prob=0.67]  \n"
     ]
    },
    {
     "name": "stdout",
     "output_type": "stream",
     "text": [
      "LMC\n",
      "LMC: Steps warmup: 62.484375, steps mcmc: 1994.8359375, gradient evaluations per output: 16.07281494140625\n",
      "Effective sample size: [573.7187 323.3002 323.2995 323.3002 323.3014 323.3013 323.3005 323.3007\n",
      " 323.3003]\n",
      "Gradient evals per effective sample: [3.5859 6.3635 6.3635 6.3635 6.3635 6.3635 6.3635 6.3635 6.3635]\n",
      "W2 distance: 1200989517942678.5\n",
      "NUTS\n"
     ]
    },
    {
     "name": "stderr",
     "output_type": "stream",
     "text": [
      "sample: 100%|██████████| 320/320 [01:00<00:00,  5.26it/s]\n"
     ]
    },
    {
     "name": "stdout",
     "output_type": "stream",
     "text": [
      "Gradient evals per effective sample (NUTS): 7.62481689453125\n",
      "Effective sample size: [     nan 196.1794 196.1808 196.1828 196.1723 196.1621 196.1643 196.1705\n",
      " 196.1765]\n",
      "Gradient evals per effective sample: [   nan 4.9749 4.9749 4.9748 4.9751 4.9754 4.9753 4.9751 4.975 ]\n",
      "W2 distance: 4459274847206856.5\n",
      "LMC\n",
      "==================== flare_solar ====================\n"
     ]
    },
    {
     "name": "stderr",
     "output_type": "stream",
     "text": [
      "sample: 100%|██████████| 16640/16640 [03:49<00:00, 72.54it/s, 63 steps of size 7.53e-02. acc. prob=0.94]\n"
     ]
    },
    {
     "name": "stdout",
     "output_type": "stream",
     "text": [
      "LMC\n",
      "LMC: Steps warmup: 155.0390625, steps mcmc: 3010.21875, gradient evaluations per output: 24.72857666015625\n",
      "Effective sample size: [ 698.3806 1616.1114 1647.3904 2554.9489 1671.9595 1785.5674 2131.7512\n",
      " 2338.3801 2191.8755  827.9338]\n",
      "Gradient evals per effective sample: [4.5323 1.9586 1.9214 1.2389 1.8931 1.7727 1.4848 1.3536 1.4441 3.8231]\n",
      "W2 distance: 0.36185241246931377\n",
      "NUTS\n"
     ]
    },
    {
     "name": "stderr",
     "output_type": "stream",
     "text": [
      "sample: 100%|██████████| 320/320 [00:16<00:00, 19.75it/s]\n"
     ]
    },
    {
     "name": "stdout",
     "output_type": "stream",
     "text": [
      "Gradient evals per effective sample (NUTS): 53.47589111328125\n",
      "Effective sample size: [13450.8355 10240.8361 18660.7307 23661.4046 22750.6907 20257.2226\n",
      " 22369.4588 22118.4988 28380.4042 26857.4759]\n",
      "Gradient evals per effective sample: [0.5089 0.6684 0.3668 0.2893 0.3009 0.3379 0.306  0.3095 0.2412 0.2549]\n",
      "W2 distance: 0.0263435363146163\n",
      "LMC\n",
      "==================== german ====================\n"
     ]
    },
    {
     "name": "stderr",
     "output_type": "stream",
     "text": [
      "sample: 100%|██████████| 16640/16640 [00:51<00:00, 322.76it/s, 1 steps of size 1.18e-06. acc. prob=0.33]   \n"
     ]
    },
    {
     "name": "stdout",
     "output_type": "stream",
     "text": [
      "LMC\n",
      "LMC: Steps warmup: 85.265625, steps mcmc: 2081.6015625, gradient evaluations per output: 16.92864990234375\n",
      "Effective sample size: [5710.5647  323.3007  323.3041  323.2999  323.3076  323.2988  323.3017\n",
      "  323.3027  323.2986  323.052   323.2998  323.305   323.3088  323.3003\n",
      "  323.3063  323.3049  323.3002  323.3024  323.309   323.2983  323.2973]\n",
      "Gradient evals per effective sample: [0.3794 6.7023 6.7023 6.7023 6.7022 6.7024 6.7023 6.7023 6.7024 6.7075\n",
      " 6.7023 6.7022 6.7022 6.7023 6.7022 6.7022 6.7023 6.7023 6.7022 6.7024\n",
      " 6.7024]\n",
      "W2 distance: 3.393477821155428e+24\n",
      "NUTS\n"
     ]
    },
    {
     "name": "stderr",
     "output_type": "stream",
     "text": [
      "sample: 100%|██████████| 320/320 [01:29<00:00,  3.59it/s]\n"
     ]
    },
    {
     "name": "stdout",
     "output_type": "stream",
     "text": [
      "Gradient evals per effective sample (NUTS): 9.33795166015625\n",
      "Effective sample size: [ 65.464  206.1236      nan 206.101  206.0576      nan 206.1223      nan\n",
      " 206.0072      nan 206.0749 205.7906 197.6787 206.0995 206.2341      nan\n",
      "      nan 206.0888      nan      nan 190.1711]\n",
      "Gradient evals per effective sample: [18.2582  5.7987     nan  5.7994  5.8006     nan  5.7988     nan  5.802\n",
      "     nan  5.8001  5.8081  6.0465  5.7994  5.7956     nan     nan  5.7997\n",
      "     nan     nan  6.2852]\n",
      "W2 distance: 3.3186743708373977e+24\n",
      "LMC\n",
      "==================== heart ====================\n"
     ]
    },
    {
     "name": "stderr",
     "output_type": "stream",
     "text": [
      "sample: 100%|██████████| 16640/16640 [00:34<00:00, 477.32it/s, 7 steps of size 5.25e-14. acc. prob=0.66] \n"
     ]
    },
    {
     "name": "stdout",
     "output_type": "stream",
     "text": [
      "LMC\n",
      "LMC: Steps warmup: 42.1640625, steps mcmc: 1483.6875, gradient evaluations per output: 11.92071533203125\n",
      "Effective sample size: [1414.7265  323.3028  323.2343  323.4078  323.3107  323.3177  323.2816\n",
      "  323.1749  323.2894  323.1315  323.3381  323.2948  323.3067  323.2774]\n",
      "Gradient evals per effective sample: [1.0785 4.7196 4.7206 4.718  4.7195 4.7194 4.7199 4.7214 4.7198 4.7221\n",
      " 4.7191 4.7197 4.7195 4.7199]\n",
      "W2 distance: 8.482035947069806e+28\n",
      "NUTS\n"
     ]
    },
    {
     "name": "stderr",
     "output_type": "stream",
     "text": [
      "sample: 100%|██████████| 320/320 [00:32<00:00,  9.81it/s]\n"
     ]
    },
    {
     "name": "stdout",
     "output_type": "stream",
     "text": [
      "Gradient evals per effective sample (NUTS): 8.098663330078125\n",
      "Effective sample size: [     nan      nan 657.0863 856.8401      nan      nan 901.309  861.8158\n",
      "      nan 910.4092      nan      nan      nan      nan]\n",
      "Gradient evals per effective sample: [   nan    nan 1.5776 1.2098    nan    nan 1.1501 1.2028    nan 1.1386\n",
      "    nan    nan    nan    nan]\n",
      "W2 distance: 8.701650165076928e+28\n",
      "LMC\n",
      "==================== image ====================\n"
     ]
    },
    {
     "name": "stderr",
     "output_type": "stream",
     "text": [
      "sample: 100%|██████████| 16640/16640 [22:21<00:00, 12.41it/s, 255 steps of size 1.23e-02. acc. prob=0.93]\n"
     ]
    },
    {
     "name": "stdout",
     "output_type": "stream",
     "text": [
      "LMC\n",
      "LMC: Steps warmup: 615.046875, steps mcmc: 11311.875, gradient evaluations per output: 93.1790771484375\n",
      "Effective sample size: [  723.6322  3410.5624 33827.7544 33948.3572 13908.3542 17067.3401\n",
      " 32070.6369 23602.6354 39665.0891   680.5408   741.2097   849.3059\n",
      "   794.5553  1544.7576   792.7175  1413.0643  3209.898  19503.4566\n",
      " 18116.6526]\n",
      "Gradient evals per effective sample: [16.482   3.4971  0.3526  0.3513  0.8575  0.6988  0.3719  0.5053  0.3007\n",
      " 17.5257 16.0912 14.0431 15.0108  7.7209 15.0456  8.4405  3.7157  0.6115\n",
      "  0.6583]\n",
      "W2 distance: 1.3025857361000306\n",
      "NUTS\n"
     ]
    },
    {
     "name": "stderr",
     "output_type": "stream",
     "text": [
      "sample: 100%|██████████| 320/320 [03:44<00:00,  1.43it/s]\n"
     ]
    },
    {
     "name": "stdout",
     "output_type": "stream",
     "text": [
      "Gradient evals per effective sample (NUTS): 402.3988037109375\n",
      "Effective sample size: [17560.1831 38723.1214 38069.9341 37662.2673 37388.7044 36407.0894\n",
      " 38416.1394 36735.6245 37455.7208 17507.6692 17810.295  18170.3777\n",
      " 16267.176  11776.9843 11799.6105 11661.0834 19650.3976 38315.9265\n",
      " 30417.2787]\n",
      "Gradient evals per effective sample: [2.9332 1.3301 1.353  1.3676 1.3776 1.4148 1.3408 1.4021 1.3751 2.942\n",
      " 2.892  2.8347 3.1663 4.3735 4.3651 4.417  2.6212 1.3443 1.6933]\n",
      "W2 distance: 0.028828142973814908\n",
      "LMC\n",
      "==================== ringnorm ====================\n"
     ]
    },
    {
     "name": "stderr",
     "output_type": "stream",
     "text": [
      "sample: 100%|██████████| 16640/16640 [00:38<00:00, 433.82it/s, 7 steps of size 4.33e-01. acc. prob=0.88]\n"
     ]
    },
    {
     "name": "stdout",
     "output_type": "stream",
     "text": [
      "LMC\n",
      "LMC: Steps warmup: 405.2578125, steps mcmc: 4325.484375, gradient evaluations per output: 36.95892333984375\n",
      "Effective sample size: [  3607.6973   2599.8099  39796.7409  30625.6768  99429.4684  50584.0341\n",
      "  28101.4976  55753.1025  44419.7559  51062.2544  44552.4141 108917.2809\n",
      "  38147.6377  21997.2671  27875.6335  45483.1593  23317.8221  41734.3787\n",
      "  40939.5226  42408.7979  57361.5279]\n",
      "Gradient evals per effective sample: [1.3113 1.8196 0.1189 0.1545 0.0476 0.0935 0.1683 0.0849 0.1065 0.0926\n",
      " 0.1062 0.0434 0.124  0.2151 0.1697 0.104  0.2029 0.1134 0.1156 0.1116\n",
      " 0.0825]\n",
      "W2 distance: 0.08947221389612854\n",
      "NUTS\n"
     ]
    },
    {
     "name": "stderr",
     "output_type": "stream",
     "text": [
      "sample: 100%|██████████| 320/320 [01:02<00:00,  5.10it/s]\n"
     ]
    },
    {
     "name": "stdout",
     "output_type": "stream",
     "text": [
      "Gradient evals per effective sample (NUTS): 44.67138671875\n",
      "Effective sample size: [ 3720.4145 34619.5969 32705.1965 36623.73   34188.8458 34810.0174\n",
      " 35329.5534 36547.4325 33986.4087 34763.0171 35004.6241 31553.9146\n",
      " 34387.0663 35957.3309 36035.1444 32403.422  36520.8932 35625.0128\n",
      " 33753.406  35298.171  36067.9402]\n",
      "Gradient evals per effective sample: [1.5369 0.1652 0.1748 0.1561 0.1672 0.1643 0.1618 0.1565 0.1682 0.1645\n",
      " 0.1633 0.1812 0.1663 0.159  0.1587 0.1765 0.1566 0.1605 0.1694 0.162\n",
      " 0.1585]\n",
      "W2 distance: 0.001283718426240755\n",
      "LMC\n",
      "==================== splice ====================\n"
     ]
    },
    {
     "name": "stderr",
     "output_type": "stream",
     "text": [
      "sample: 100%|██████████| 16640/16640 [00:57<00:00, 287.42it/s, 1 steps of size 1.67e-04. acc. prob=0.99]   \n"
     ]
    },
    {
     "name": "stdout",
     "output_type": "stream",
     "text": [
      "LMC\n",
      "LMC: Steps warmup: 30.0, steps mcmc: 798.84375, gradient evaluations per output: 6.475341796875\n",
      "Effective sample size: [1782.3168  323.3003  323.3003  323.3003  323.3003  323.3003  323.3003\n",
      "  323.3003  323.3003  323.3003  323.3003  323.3003  323.3003  323.3003\n",
      "  323.3003  323.3003  323.3003  323.3003  323.3003  323.3003  323.3003\n",
      "  323.3003  323.3003  323.3003  323.3003  323.3003  323.3003  323.3003\n",
      "  323.3003  323.3003  323.3003  323.3003  323.3003  323.3003  323.3003\n",
      "  323.3003  323.3003  323.3003  323.3003  323.3003  323.3003  323.3003\n",
      "  323.3003  323.3003  323.3003  323.3003  323.3003  323.3003  323.3003\n",
      "  323.3003  323.3003  323.3003  323.3002  323.3003  323.3003  323.3003\n",
      "  323.3003  323.3003  323.3003  323.3003  323.3003]\n",
      "Gradient evals per effective sample: [0.465  2.5637 2.5637 2.5637 2.5637 2.5637 2.5637 2.5637 2.5637 2.5637\n",
      " 2.5637 2.5637 2.5637 2.5637 2.5637 2.5637 2.5637 2.5637 2.5637 2.5637\n",
      " 2.5637 2.5637 2.5637 2.5637 2.5637 2.5637 2.5637 2.5637 2.5637 2.5637\n",
      " 2.5637 2.5637 2.5637 2.5637 2.5637 2.5637 2.5637 2.5637 2.5637 2.5637\n",
      " 2.5637 2.5637 2.5637 2.5637 2.5637 2.5637 2.5637 2.5637 2.5637 2.5637\n",
      " 2.5637 2.5637 2.5637 2.5637 2.5637 2.5637 2.5637 2.5637 2.5637 2.5637\n",
      " 2.5637]\n",
      "W2 distance: 2820248475671.5605\n",
      "NUTS\n"
     ]
    },
    {
     "name": "stderr",
     "output_type": "stream",
     "text": [
      "sample: 100%|██████████| 320/320 [01:18<00:00,  4.09it/s]\n"
     ]
    },
    {
     "name": "stdout",
     "output_type": "stream",
     "text": [
      "Gradient evals per effective sample (NUTS): 5.389129638671875\n",
      "Effective sample size: [65.6532     nan     nan 76.0958     nan     nan     nan     nan     nan\n",
      "     nan 76.0962     nan 76.0963     nan 76.0963     nan     nan     nan\n",
      "     nan 76.0975 76.0958     nan     nan     nan     nan 76.0959     nan\n",
      " 76.096  76.0956     nan 76.0951     nan     nan 76.0963     nan     nan\n",
      " 76.0955     nan     nan     nan     nan 76.0954     nan     nan 76.0965\n",
      "     nan 76.0959 76.0965 76.0958 76.0957 76.0966     nan     nan     nan\n",
      "     nan 76.096      nan     nan     nan 76.0961     nan]\n",
      "Gradient evals per effective sample: [10.5069     nan     nan  9.065      nan     nan     nan     nan     nan\n",
      "     nan  9.065      nan  9.0649     nan  9.0649     nan     nan     nan\n",
      "     nan  9.0648  9.065      nan     nan     nan     nan  9.065      nan\n",
      "  9.065   9.065      nan  9.0651     nan     nan  9.0649     nan     nan\n",
      "  9.065      nan     nan     nan     nan  9.065      nan     nan  9.0649\n",
      "     nan  9.065   9.0649  9.065   9.065   9.0649     nan     nan     nan\n",
      "     nan  9.065      nan     nan     nan  9.065      nan]\n",
      "W2 distance: 621303489572.0199\n",
      "LMC\n",
      "==================== thyroid ====================\n"
     ]
    },
    {
     "name": "stderr",
     "output_type": "stream",
     "text": [
      "sample: 100%|██████████| 16640/16640 [00:43<00:00, 378.96it/s, 3 steps of size 4.57e-07. acc. prob=0.89]  \n"
     ]
    },
    {
     "name": "stdout",
     "output_type": "stream",
     "text": [
      "LMC\n",
      "LMC: Steps warmup: 21.0, steps mcmc: 777.0, gradient evaluations per output: 6.234375\n",
      "Effective sample size: [1779.974   323.302   323.3012  323.2986  323.3025  323.3011]\n",
      "Gradient evals per effective sample: [0.4483 2.4683 2.4683 2.4683 2.4683 2.4683]\n",
      "W2 distance: 3.0464607324680264e+18\n",
      "NUTS\n"
     ]
    },
    {
     "name": "stderr",
     "output_type": "stream",
     "text": [
      "sample: 100%|██████████| 320/320 [00:15<00:00, 20.57it/s]\n"
     ]
    },
    {
     "name": "stdout",
     "output_type": "stream",
     "text": [
      "Gradient evals per effective sample (NUTS): 3.94195556640625\n",
      "Effective sample size: [     nan      nan      nan      nan 182.5514      nan]\n",
      "Gradient evals per effective sample: [  nan   nan   nan   nan 2.764   nan]\n",
      "W2 distance: 1.6840457900237903e+18\n",
      "LMC\n",
      "==================== titanic ====================\n"
     ]
    },
    {
     "name": "stderr",
     "output_type": "stream",
     "text": [
      "sample: 100%|██████████| 16640/16640 [00:40<00:00, 407.78it/s, 1 steps of size 2.69e-01. acc. prob=0.63] \n"
     ]
    },
    {
     "name": "stdout",
     "output_type": "stream",
     "text": [
      "LMC\n",
      "LMC: Steps warmup: 12.0, steps mcmc: 2089.0078125, gradient evaluations per output: 16.41412353515625\n",
      "Effective sample size: [  381.9657  5799.2398 13774.3345  9335.5848]\n",
      "Gradient evals per effective sample: [5.5005 0.3623 0.1525 0.2251]\n",
      "W2 distance: 0.06714026281601781\n",
      "NUTS\n"
     ]
    },
    {
     "name": "stderr",
     "output_type": "stream",
     "text": [
      "sample: 100%|██████████| 320/320 [00:10<00:00, 30.59it/s]\n"
     ]
    },
    {
     "name": "stdout",
     "output_type": "stream",
     "text": [
      "Gradient evals per effective sample (NUTS): 11.40740966796875\n",
      "Effective sample size: [  326.841   3389.2428 14219.9902 14664.0662]\n",
      "Gradient evals per effective sample: [4.4675 0.4308 0.1027 0.0996]\n",
      "W2 distance: 20.766105157542803\n",
      "LMC\n",
      "==================== twonorm ====================\n"
     ]
    },
    {
     "name": "stderr",
     "output_type": "stream",
     "text": [
      "sample: 100%|██████████| 16640/16640 [1:23:20<00:00,  3.33it/s, 1023 steps of size 4.49e-16. acc. prob=0.47]\n"
     ]
    },
    {
     "name": "stdout",
     "output_type": "stream",
     "text": [
      "LMC\n",
      "LMC: Steps warmup: 40.59375, steps mcmc: 1553.203125, gradient evaluations per output: 12.4515380859375\n",
      "Effective sample size: [760.1273 323.3    323.3001 323.3    323.3    323.3    323.3    323.3\n",
      " 323.3    323.3001 323.3    323.2999 323.2999 323.2999 323.3001 323.3\n",
      " 323.3    323.3    323.3    323.3    323.3   ]\n",
      "Gradient evals per effective sample: [2.0967 4.9298 4.9298 4.9298 4.9298 4.9298 4.9298 4.9298 4.9298 4.9298\n",
      " 4.9298 4.9298 4.9298 4.9298 4.9298 4.9298 4.9298 4.9298 4.9298 4.9298\n",
      " 4.9298]\n",
      "W2 distance: 1.4889128894639722e+24\n",
      "NUTS\n"
     ]
    },
    {
     "name": "stderr",
     "output_type": "stream",
     "text": [
      "sample: 100%|██████████| 320/320 [00:43<00:00,  7.28it/s]\n"
     ]
    },
    {
     "name": "stdout",
     "output_type": "stream",
     "text": [
      "Gradient evals per effective sample (NUTS): 3.792510986328125\n",
      "Effective sample size: [     nan      nan      nan 129.4707      nan      nan      nan      nan\n",
      "      nan 129.4675      nan 129.4731      nan      nan 129.4689      nan\n",
      "      nan 129.4727      nan      nan 129.4715]\n",
      "Gradient evals per effective sample: [   nan    nan    nan 3.7494    nan    nan    nan    nan    nan 3.7495\n",
      "    nan 3.7494    nan    nan 3.7495    nan    nan 3.7494    nan    nan\n",
      " 3.7494]\n",
      "W2 distance: 1.4843556079383466e+24\n",
      "LMC\n",
      "==================== waveform ====================\n"
     ]
    },
    {
     "name": "stderr",
     "output_type": "stream",
     "text": [
      "sample: 100%|██████████| 16640/16640 [1:23:37<00:00,  3.32it/s, 1023 steps of size 2.15e-15. acc. prob=0.19]\n"
     ]
    },
    {
     "name": "stdout",
     "output_type": "stream",
     "text": [
      "LMC\n",
      "LMC: Steps warmup: 30.0, steps mcmc: 781.7578125, gradient evaluations per output: 6.34185791015625\n",
      "Effective sample size: [1392.787   323.3003  323.3005  323.2975  323.3502  323.3044  323.303\n",
      "  323.2576  323.2774  323.302   323.3014  323.2743  323.3023  323.3026\n",
      "  323.302   323.3028  323.3014  323.3064  323.3054  323.2991  323.2992\n",
      "  323.3093]\n",
      "Gradient evals per effective sample: [0.5828 2.5108 2.5108 2.5109 2.5105 2.5108 2.5108 2.5112 2.511  2.5108\n",
      " 2.5108 2.511  2.5108 2.5108 2.5108 2.5108 2.5108 2.5108 2.5108 2.5109\n",
      " 2.5109 2.5108]\n",
      "W2 distance: 9.646766406379034e+21\n",
      "NUTS\n"
     ]
    },
    {
     "name": "stderr",
     "output_type": "stream",
     "text": [
      "sample: 100%|██████████| 320/320 [00:47<00:00,  6.78it/s]\n"
     ]
    },
    {
     "name": "stdout",
     "output_type": "stream",
     "text": [
      "Gradient evals per effective sample (NUTS): 3.255615234375\n",
      "Effective sample size: [    nan     nan     nan     nan     nan     nan     nan 64.1405     nan\n",
      " 73.1303     nan     nan     nan 73.0969     nan     nan 73.1399     nan\n",
      " 72.8051     nan     nan     nan]\n",
      "Gradient evals per effective sample: [   nan    nan    nan    nan    nan    nan    nan 6.497     nan 5.6983\n",
      "    nan    nan    nan 5.7009    nan    nan 5.6976    nan 5.7238    nan\n",
      "    nan    nan]\n",
      "W2 distance: 1.028961149034422e+22\n",
      "LMC\n"
     ]
    }
   ],
   "source": [
    "import warnings\n",
    "\n",
    "\n",
    "with warnings.catch_warnings():\n",
    "    warnings.simplefilter(\"ignore\")\n",
    "    for name in names:\n",
    "        print(f\"==================== {name} ====================\")\n",
    "        run_logreg_dataset(name)"
   ]
  }
 ],
 "metadata": {
  "kernelspec": {
   "display_name": "Python 3",
   "language": "python",
   "name": "python3"
  },
  "language_info": {
   "codemirror_mode": {
    "name": "ipython",
    "version": 2
   },
   "file_extension": ".py",
   "mimetype": "text/x-python",
   "name": "python",
   "nbconvert_exporter": "python",
   "pygments_lexer": "ipython2",
   "version": "2.7.6"
  }
 },
 "nbformat": 4,
 "nbformat_minor": 5
}
