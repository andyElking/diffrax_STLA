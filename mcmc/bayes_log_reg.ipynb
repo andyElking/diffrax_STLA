{
 "cells": [
  {
   "cell_type": "code",
   "execution_count": 1,
   "id": "initial_id",
   "metadata": {
    "ExecuteTime": {
     "end_time": "2024-07-29T11:33:05.432847Z",
     "start_time": "2024-07-29T11:33:03.606757Z"
    },
    "collapsed": true
   },
   "outputs": [
    {
     "name": "stdout",
     "output_type": "stream",
     "text": [
      "env: JAX_PLATFORM_NAME=cuda\n",
      "[cuda(id=0)]\n",
      "Data shape: (5300, 2)\n"
     ]
    }
   ],
   "source": [
    "import math\n",
    "from operator import mul\n",
    "\n",
    "\n",
    "%env JAX_PLATFORM_NAME=cuda\n",
    "\n",
    "import warnings\n",
    "from functools import partial, reduce\n",
    "\n",
    "import jax\n",
    "import jax.numpy as jnp\n",
    "import jax.random as jr\n",
    "import jax.tree_util as jtu\n",
    "import numpy as np\n",
    "import numpyro\n",
    "import ot\n",
    "import scipy\n",
    "from jax import Array\n",
    "from numpyro import diagnostics, distributions as dist\n",
    "from numpyro.infer import MCMC, NUTS\n",
    "\n",
    "from mcmc import run_lmc_numpyro\n",
    "\n",
    "\n",
    "warnings.simplefilter(\"ignore\", FutureWarning)\n",
    "\n",
    "jnp.set_printoptions(precision=3, suppress=True)\n",
    "jax.config.update(\"jax_enable_x64\", True)\n",
    "print(jax.devices(\"cuda\"))\n",
    "\n",
    "\n",
    "def get_model_and_data(data, name):\n",
    "    dset = data[name][0, 0]\n",
    "    x = dset[\"x\"]\n",
    "    labels = jnp.squeeze(dset[\"t\"])\n",
    "    # labels are -1 and 1, convert to 0 and 1\n",
    "    labels = (labels + 1) / 2\n",
    "    n, data_dim = x.shape\n",
    "    print(f\"Data shape: {x.shape}\")\n",
    "\n",
    "    # randomly shuffle the data\n",
    "    perm = jax.random.permutation(jr.PRNGKey(0), n)\n",
    "    x = x[perm]\n",
    "    labels = labels[perm]\n",
    "\n",
    "    n_train = min(int(n * 0.8), 1000)\n",
    "    x_train = x[:n_train]\n",
    "    labels_train = labels[:n_train]\n",
    "    x_test = x[n_train:]\n",
    "    labels_test = labels[n_train:]\n",
    "\n",
    "    def model(x, labels):\n",
    "        alpha = numpyro.sample(\"alpha\", dist.Exponential(0.01))\n",
    "        W = numpyro.sample(\"W\", dist.Normal(jnp.zeros(data_dim), 1.0 / alpha))\n",
    "        b = numpyro.sample(\"b\", dist.Normal(jnp.zeros((1,)), 1.0 / alpha))\n",
    "        logits = jnp.sum(W * x + b, axis=-1)\n",
    "        return numpyro.sample(\"obs\", dist.Bernoulli(logits=logits), obs=labels)\n",
    "\n",
    "    return model, (x_train, labels_train, x_test, labels_test)\n",
    "\n",
    "\n",
    "def compute_w2(x1, x2, num_iters):\n",
    "    source_samples = np.array(x1)\n",
    "    target_samples = np.array(x2)\n",
    "    source_weights = np.ones(source_samples.shape[0]) / source_samples.shape[0]\n",
    "    target_weights = np.ones(target_samples.shape[0]) / target_samples.shape[0]\n",
    "    mm = ot.dist(source_samples, target_samples)\n",
    "    return ot.emd2(source_weights, target_weights, mm, numItermax=num_iters)\n",
    "\n",
    "\n",
    "@partial(jax.jit, static_argnames=(\"max_len\",))\n",
    "def energy_distance(x: Array, y: Array, max_len: int = 2**16):\n",
    "    assert y.ndim == x.ndim\n",
    "    assert x.shape[1:] == y.shape[1:]\n",
    "    prod = reduce(mul, x.shape[1:], 1)\n",
    "    if prod >= 4:\n",
    "        max_len = int(max_len / math.sqrt(prod))\n",
    "\n",
    "    if x.shape[0] > max_len:\n",
    "        x = x[:max_len]\n",
    "    if y.shape[0] > max_len:\n",
    "        y = y[:max_len]\n",
    "\n",
    "    @partial(jax.vmap, in_axes=(None, 0))\n",
    "    def _dist_single(_x, _y_single):\n",
    "        assert _x.ndim == _y_single.ndim + 1, f\"{_x.ndim} != {_y_single.ndim + 1}\"\n",
    "        diff = _x - _y_single\n",
    "        if x.ndim > 1:\n",
    "            # take the norm over all axes except the first one\n",
    "            diff = jnp.sqrt(jnp.sum(diff**2, axis=tuple(range(1, diff.ndim))))\n",
    "        return jnp.mean(jnp.abs(diff))\n",
    "\n",
    "    def dist(_x, _y):\n",
    "        assert _x.ndim == _y.ndim\n",
    "        return jnp.mean(_dist_single(_x, _y))\n",
    "\n",
    "    return 2 * dist(x, y) - dist(x, x) - dist(y, y)\n",
    "\n",
    "\n",
    "def dict_to_array(dct: dict):\n",
    "    alpha = dct[\"alpha\"]\n",
    "    alpha = jnp.expand_dims(alpha, alpha.ndim)\n",
    "    b = dct[\"b\"]\n",
    "    return jnp.concatenate([alpha, b, dct[\"W\"]], axis=-1)\n",
    "\n",
    "\n",
    "vec_dict_to_array = jax.jit(jax.vmap(dict_to_array, in_axes=0, out_axes=0))\n",
    "\n",
    "\n",
    "def predict(x, samples):\n",
    "    sum = jnp.sum(samples[:, 2:] * x + samples[:, 1:2], axis=-1)\n",
    "    # apply sigmoid\n",
    "    return 1.0 / (1.0 + jnp.exp(-sum))\n",
    "\n",
    "\n",
    "def test_accuracy(x_test, labels_test, samples):\n",
    "    if isinstance(samples, dict):\n",
    "        samples = vec_dict_to_array(samples)\n",
    "    sample_dim = samples.shape[-1]\n",
    "    samples = jnp.reshape(samples, (-1, sample_dim))\n",
    "    if samples.shape[0] > 2**10:\n",
    "        samples = samples[: 2**10]\n",
    "\n",
    "    func = jax.jit(jax.vmap(lambda x: predict(x, samples), in_axes=0, out_axes=0))\n",
    "    predictions = func(x_test)\n",
    "    assert predictions.shape == (\n",
    "        labels_test.shape[0],\n",
    "        samples.shape[0],\n",
    "    ), f\"{predictions.shape} != {(labels_test.shape[0], samples.shape[0])}\"\n",
    "\n",
    "    labels_test = jnp.reshape(labels_test, (labels_test.shape[0], 1))\n",
    "    is_correct = jnp.abs(predictions - labels_test) < 0.5\n",
    "    accuracy_per_sample = jnp.mean(is_correct, axis=0)\n",
    "\n",
    "    avg_accuracy = jnp.mean(accuracy_per_sample)\n",
    "\n",
    "    len10 = int(0.1 * accuracy_per_sample.shape[0])\n",
    "    best_sorted = jnp.sort(accuracy_per_sample)[len10:]\n",
    "    accuracy_best90 = jnp.mean(best_sorted)\n",
    "    return avg_accuracy, accuracy_best90\n",
    "\n",
    "\n",
    "def eval_logreg(\n",
    "    samples,\n",
    "    evals_per_sample=None,\n",
    "    ground_truth=None,\n",
    "    num_iters_w2=0,\n",
    "    x_test=None,\n",
    "    labels_test=None,\n",
    "):\n",
    "    if isinstance(samples, dict):\n",
    "        samples = vec_dict_to_array(samples)\n",
    "\n",
    "    sample_dim = samples.shape[-1]\n",
    "    reshaped_with_alpha = jnp.reshape(samples, (-1, sample_dim))\n",
    "    vars = jnp.var(reshaped_with_alpha, axis=0)\n",
    "    means = jnp.mean(reshaped_with_alpha, axis=0)\n",
    "    result_str = f\"means: {means},\\nvars:  {vars}\"\n",
    "\n",
    "    samples_with_alpha = samples\n",
    "    samples = samples[..., 1:]\n",
    "    reshaped = jnp.reshape(samples, (-1, sample_dim - 1))\n",
    "\n",
    "    ess = diagnostics.effective_sample_size(samples)\n",
    "    avg_ess = 1 / jnp.mean(1 / jnp.stack(jtu.tree_leaves(ess)))\n",
    "    ess_per_sample = avg_ess / reshaped.shape[0]\n",
    "    result_str += (\n",
    "        f\"\\nEffective sample size: {avg_ess:.4},\"\n",
    "        f\" ess per sample: {ess_per_sample:.4}\"\n",
    "    )\n",
    "    if evals_per_sample is not None:\n",
    "        result_str += f\", grad evals per sample: {evals_per_sample:.4}\"\n",
    "\n",
    "    half_len = reshaped.shape[0] // 2\n",
    "    energy_self = energy_distance(reshaped[:half_len], reshaped[half_len:])\n",
    "    result_str += f\"\\nEnergy dist v self: {energy_self:.4}\"\n",
    "\n",
    "    if ground_truth is not None:\n",
    "        ground_truth = ground_truth[..., 1:]\n",
    "        energy_gt = energy_distance(reshaped, ground_truth)\n",
    "        result_str += f\", energy dist vs ground truth: {energy_gt:.4}\"\n",
    "    if num_iters_w2 > 0 and ground_truth is not None:\n",
    "        w2 = compute_w2(reshaped, ground_truth, num_iters_w2)\n",
    "        result_str += f\", Wasserstein-2: {w2:.4}\"\n",
    "\n",
    "    if x_test is not None and labels_test is not None:\n",
    "        acc_error, acc_best90 = test_accuracy(x_test, labels_test, samples_with_alpha)\n",
    "        result_str += (\n",
    "            f\"\\nTest_accuracy: {acc_error:.4}, top 90% accuracy: {acc_best90:.4}\"\n",
    "        )\n",
    "    else:\n",
    "        acc_error, acc_best90 = None, None\n",
    "\n",
    "    print(result_str)\n",
    "\n",
    "    result_dict = {\n",
    "        \"ess\": avg_ess,\n",
    "        \"ess_per_sample\": ess_per_sample,\n",
    "        \"energy_v_self\": energy_self,\n",
    "        \"grad_evals_per_sample\": evals_per_sample,\n",
    "        \"test_accuracy\": acc_error,\n",
    "        \"top90_accuracy\": acc_best90,\n",
    "    }\n",
    "\n",
    "    return result_str, result_dict\n",
    "\n",
    "\n",
    "dataset = scipy.io.loadmat(\"mcmc_data/benchmarks.mat\")\n",
    "data_name = \"banana\"\n",
    "model_logreg, data_split = get_model_and_data(dataset, data_name)\n",
    "x_train, labels_train, x_test, labels_test = data_split"
   ]
  },
  {
   "cell_type": "code",
   "execution_count": 2,
   "id": "cb6890aa66d4af19",
   "metadata": {
    "ExecuteTime": {
     "end_time": "2024-07-27T18:18:30.215451Z",
     "start_time": "2024-07-27T18:18:29.762870Z"
    },
    "collapsed": false
   },
   "outputs": [
    {
     "name": "stdout",
     "output_type": "stream",
     "text": [
      "Energy bias: 0.251009472403517\n",
      "Ground truth shape: (16384, 4)\n",
      "test accuracy: (Array(0.532, dtype=float32), Array(0.543, dtype=float32))\n"
     ]
    }
   ],
   "source": [
    "file_name = f\"mcmc_data/{data_name}_ground_truth.npy\"\n",
    "\n",
    "# gt_nuts = MCMC(NUTS(model_logreg, step_size=1.0), num_warmup=2**13, num_samples=2**16)\n",
    "# gt_nuts.run(jr.PRNGKey(0), x_train, labels_train)\n",
    "# gt_logreg = vec_dict_to_array(gt_nuts.get_samples())\n",
    "# # thin the samples to 2**15\n",
    "# np.save(file_name, gt_logreg)\n",
    "\n",
    "gt_logreg = np.load(file_name)\n",
    "gt_logreg = gt_logreg[::4]\n",
    "size_gt_half = int(gt_logreg.shape[0] // 2)\n",
    "energy_bias = energy_distance(gt_logreg[:size_gt_half], gt_logreg[size_gt_half:])\n",
    "print(f\"Energy bias: {energy_bias}\")\n",
    "print(f\"Ground truth shape: {gt_logreg.shape}\")\n",
    "print(f\"test accuracy: {test_accuracy(x_test, labels_test, gt_logreg)}\")\n",
    "flattened_gt = jnp.reshape(gt_logreg, (-1, 4))\n",
    "print(flattened_gt.shape)\n",
    "print(jnp.var(flattened_gt, axis=0))\n",
    "print(jnp.mean(flattened_gt, axis=0))"
   ]
  },
  {
   "cell_type": "code",
   "execution_count": 14,
   "id": "88d7bf671176fce0",
   "metadata": {
    "ExecuteTime": {
     "end_time": "2024-07-27T18:37:36.114027Z",
     "start_time": "2024-07-27T18:37:36.111827Z"
    }
   },
   "outputs": [],
   "source": [
    "num_chains = 2**5\n",
    "num_samples_per_chain = 2**10\n",
    "warmup_len = 2**12"
   ]
  },
  {
   "cell_type": "code",
   "execution_count": 15,
   "id": "9b866c607224c7d4",
   "metadata": {
    "ExecuteTime": {
     "end_time": "2024-07-27T18:39:28.883204Z",
     "start_time": "2024-07-27T18:37:36.570194Z"
    }
   },
   "outputs": [
    {
     "name": "stderr",
     "output_type": "stream",
     "text": [
      "100.00%|██████████| [00:27<00:00,  3.66%/s]\n",
      "100.00%|██████████| [01:06<00:00,  1.51%/s]"
     ]
    },
    {
     "name": "stdout",
     "output_type": "stream",
     "text": [
      "LMC: gradient evaluations per output: 32.08\n",
      "{'W': (32, 1024, 2), 'alpha': (32, 1024), 'b': (32, 1024, 1)}\n"
     ]
    },
    {
     "name": "stderr",
     "output_type": "stream",
     "text": [
      "\n"
     ]
    }
   ],
   "source": [
    "out_logreg_lmc, steps_logreg_lmc = run_lmc_numpyro(\n",
    "    jr.PRNGKey(2),\n",
    "    model_logreg,\n",
    "    (x_train, labels_train),\n",
    "    num_chains,\n",
    "    num_samples_per_chain,\n",
    "    chain_sep=0.1,\n",
    "    tol=0.01,\n",
    "    warmup_mult=warmup_len,\n",
    "    warmup_tol_mult=16,\n",
    "    use_adaptive=False,\n",
    ")\n",
    "out_logreg_lmc[\"alpha\"] = jnp.exp(out_logreg_lmc[\"alpha\"])\n",
    "print(jtu.tree_map(lambda x: x.shape, out_logreg_lmc))"
   ]
  },
  {
   "cell_type": "code",
   "execution_count": 16,
   "id": "370c919e1db98307",
   "metadata": {
    "ExecuteTime": {
     "end_time": "2024-07-27T18:39:35.223177Z",
     "start_time": "2024-07-27T18:39:35.096151Z"
    }
   },
   "outputs": [
    {
     "name": "stdout",
     "output_type": "stream",
     "text": [
      "means: [23.139 -0.088 -0.025 -0.022],\n",
      "vars:  [2091.395    0.008    0.041    0.028]\n",
      "Effective sample size: 7021.649662516795, grad evals per sample: 32.08\n",
      "Energy dist v self: 0.0005181\n",
      "Test_accuracy: 0.539, top 90% accuracy: 0.5494\n"
     ]
    }
   ],
   "source": [
    "_ = eval_logreg(\n",
    "    out_logreg_lmc, steps_logreg_lmc, x_test=x_test, labels_test=labels_test\n",
    ")"
   ]
  },
  {
   "cell_type": "code",
   "execution_count": 8,
   "id": "47568f0f703122b5",
   "metadata": {
    "ExecuteTime": {
     "end_time": "2024-07-26T14:28:35.704080Z",
     "start_time": "2024-07-26T14:28:14.228888Z"
    }
   },
   "outputs": [
    {
     "name": "stderr",
     "output_type": "stream",
     "text": [
      "warmup: 100%|██████████| 1024/1024 [00:11<00:00, 88.90it/s] \n",
      "sample: 100%|██████████| 1024/1024 [00:06<00:00, 159.68it/s]\n"
     ]
    },
    {
     "name": "stdout",
     "output_type": "stream",
     "text": [
      "21.57537841796875\n"
     ]
    }
   ],
   "source": [
    "nuts = MCMC(\n",
    "    NUTS(model_logreg),\n",
    "    num_warmup=warmup_len,\n",
    "    num_samples=num_samples_per_chain,\n",
    "    num_chains=num_chains,\n",
    "    chain_method=\"vectorized\",\n",
    ")\n",
    "nuts.warmup(\n",
    "    jr.PRNGKey(2),\n",
    "    x_train,\n",
    "    labels_train,\n",
    "    extra_fields=(\"num_steps\",),\n",
    "    collect_warmup=True,\n",
    ")\n",
    "warmup_steps = sum(nuts.get_extra_fields()[\"num_steps\"])\n",
    "nuts.run(jr.PRNGKey(2), x_train, labels_train, extra_fields=(\"num_steps\",))\n",
    "out_logreg_nuts = nuts.get_samples(group_by_chain=True)\n",
    "num_steps_nuts = sum(nuts.get_extra_fields()[\"num_steps\"]) + warmup_steps\n",
    "geps_nuts = num_steps_nuts / (num_chains * num_samples_per_chain)\n",
    "print(geps_nuts)\n",
    "print(jtu.tree_map(lambda x: x.shape, out_logreg_nuts))"
   ]
  },
  {
   "cell_type": "code",
   "execution_count": 12,
   "id": "65cf79276c2501d7",
   "metadata": {
    "ExecuteTime": {
     "end_time": "2024-07-26T14:11:29.443881Z",
     "start_time": "2024-07-26T14:11:28.581752Z"
    }
   },
   "outputs": [
    {
     "name": "stdout",
     "output_type": "stream",
     "text": [
      "means: [58.19  -0.045 -0.008 -0.008],\n",
      "vars:  [3766.227    0.002    0.002    0.002]\n",
      "Effective sample size: 5715.352966006341\n",
      "Energy dist vs self: 4.118e-05, energy dist vs ground truth: 7.018e-06, test_accuracy: 0.5263, top 90% accuracy: 0.537\n"
     ]
    }
   ],
   "source": [
    "_ = eval_logreg(\n",
    "    out_logreg_nuts, geps_nuts, gt_logreg, x_test=x_test, labels_test=labels_test\n",
    ")"
   ]
  },
  {
   "cell_type": "code",
   "execution_count": 2,
   "id": "f2b826cca477206d",
   "metadata": {
    "ExecuteTime": {
     "end_time": "2024-07-29T11:33:09.777280Z",
     "start_time": "2024-07-29T11:33:09.772642Z"
    },
    "collapsed": false
   },
   "outputs": [],
   "source": [
    "import pickle\n",
    "\n",
    "\n",
    "def run_logreg_dataset(name, results_filename=None, results_dict_filename=None):\n",
    "    model_logreg, data_split = get_model_and_data(dataset, name)\n",
    "    x_train, labels_train, x_test, labels_test = data_split\n",
    "\n",
    "    num_chains = 2**5\n",
    "    num_samples_per_chain = 2**11\n",
    "    warmup_len = 2**13\n",
    "\n",
    "    out_logreg_lmc, geps_lmc = run_lmc_numpyro(\n",
    "        jr.PRNGKey(3),\n",
    "        model_logreg,\n",
    "        (x_train, labels_train),\n",
    "        num_chains,\n",
    "        num_samples_per_chain,\n",
    "        chain_sep=0.2,\n",
    "        tol=0.02,\n",
    "        warmup_mult=warmup_len,\n",
    "        warmup_tol_mult=32,\n",
    "        use_adaptive=False,\n",
    "    )\n",
    "    out_logreg_lmc[\"alpha\"] = jnp.exp(out_logreg_lmc[\"alpha\"])\n",
    "\n",
    "    eval_lmc_str, eval_lmc_dict = eval_logreg(\n",
    "        out_logreg_lmc,\n",
    "        geps_lmc,\n",
    "        ground_truth=None,\n",
    "        x_test=x_test,\n",
    "        labels_test=labels_test,\n",
    "    )\n",
    "\n",
    "    nuts = MCMC(\n",
    "        NUTS(model_logreg),\n",
    "        num_warmup=warmup_len,\n",
    "        num_samples=num_samples_per_chain,\n",
    "        num_chains=num_chains,\n",
    "        chain_method=\"vectorized\",\n",
    "    )\n",
    "    nuts.warmup(\n",
    "        jr.PRNGKey(2),\n",
    "        x_train,\n",
    "        labels_train,\n",
    "        extra_fields=(\"num_steps\",),\n",
    "        collect_warmup=True,\n",
    "    )\n",
    "    warmup_steps = sum(nuts.get_extra_fields()[\"num_steps\"])\n",
    "    nuts.run(jr.PRNGKey(2), x_train, labels_train, extra_fields=(\"num_steps\",))\n",
    "    out_logreg_nuts = nuts.get_samples(group_by_chain=True)\n",
    "    num_steps_nuts = sum(nuts.get_extra_fields()[\"num_steps\"]) + warmup_steps\n",
    "    geps_nuts = num_steps_nuts / (num_chains * num_samples_per_chain)\n",
    "    print(\"NUTS:\")\n",
    "    eval_nuts_str, eval_nuts_dict = eval_logreg(\n",
    "        out_logreg_nuts,\n",
    "        geps_nuts,\n",
    "        ground_truth=None,\n",
    "        x_test=x_test,\n",
    "        labels_test=labels_test,\n",
    "    )\n",
    "\n",
    "    # Compute energy distance between the two methods\n",
    "    def flatten_samples(samples):\n",
    "        if isinstance(samples, dict):\n",
    "            samples = vec_dict_to_array(samples)\n",
    "        # remove alpha\n",
    "        samples = samples[..., 1:]\n",
    "        return jnp.reshape(samples, (-1, samples.shape[-1]))\n",
    "\n",
    "    lmc_flat = flatten_samples(out_logreg_lmc)\n",
    "    nuts_flat = flatten_samples(out_logreg_nuts)\n",
    "\n",
    "    energy_dist = energy_distance(lmc_flat, nuts_flat)\n",
    "    print(f\"Energy distance between LMC and NUTS: {energy_dist:.5}\")\n",
    "\n",
    "    if results_filename is not None:\n",
    "        with open(results_filename, \"a\") as f:\n",
    "            f.write(f\"{name}\\n\")\n",
    "            f.write(f\"LMC: {eval_lmc_str}\\n\\n\")\n",
    "            f.write(f\"NUTS: {eval_nuts_str}\\n\\n\")\n",
    "            f.write(f\"Energy distance: {energy_dist:.5}\\n\\n\\n\")\n",
    "\n",
    "    results_dict = {\n",
    "        \"dataset_name\": name,\n",
    "        \"LMC\": eval_lmc_dict,\n",
    "        \"NUTS\": eval_nuts_dict,\n",
    "        \"Energy distance\": energy_dist,\n",
    "    }\n",
    "\n",
    "    if results_dict_filename is not None:\n",
    "        with open(results_dict_filename, \"wb\") as f:\n",
    "            pickle.dump(results_dict, f)"
   ]
  },
  {
   "cell_type": "code",
   "execution_count": 3,
   "id": "fb6851c76c27702f",
   "metadata": {
    "ExecuteTime": {
     "end_time": "2024-07-29T11:33:10.942759Z",
     "start_time": "2024-07-29T11:33:10.940645Z"
    }
   },
   "outputs": [],
   "source": [
    "names = [\n",
    "    \"banana\",\n",
    "    \"breast_cancer\",\n",
    "    \"diabetis\",\n",
    "    \"flare_solar\",\n",
    "    \"german\",\n",
    "    \"heart\",\n",
    "    \"image\",\n",
    "    \"ringnorm\",\n",
    "    \"splice\",\n",
    "    \"thyroid\",\n",
    "    \"titanic\",\n",
    "    \"twonorm\",\n",
    "    \"waveform\",\n",
    "]"
   ]
  },
  {
   "cell_type": "code",
   "execution_count": 4,
   "id": "e7e926ca753859d5",
   "metadata": {
    "ExecuteTime": {
     "end_time": "2024-07-29T12:28:42.606085Z",
     "start_time": "2024-07-29T11:33:12.020179Z"
    }
   },
   "outputs": [
    {
     "name": "stdout",
     "output_type": "stream",
     "text": [
      "==================== banana ====================\n",
      "Data shape: (5300, 2)\n"
     ]
    },
    {
     "name": "stderr",
     "output_type": "stream",
     "text": [
      "100.00%|██████████| [00:15<00:00,  6.36%/s]\n",
      "100.00%|██████████| [01:52<00:00,  1.12s/%]\n"
     ]
    },
    {
     "name": "stdout",
     "output_type": "stream",
     "text": [
      "means: [16.386 -0.105 -0.033 -0.052],\n",
      "vars:  [344.705   0.031   0.02    0.025]\n",
      "Effective sample size: 3.698e+04, ess per sample: 0.5642, grad evals per sample: 22.03\n",
      "Energy dist v self: 4.406e-05\n",
      "Test_accuracy: 0.5463, top 90% accuracy: 0.5535\n"
     ]
    },
    {
     "name": "stderr",
     "output_type": "stream",
     "text": [
      "warmup: 100%|██████████| 8192/8192 [00:27<00:00, 296.46it/s]\n",
      "sample: 100%|██████████| 2048/2048 [00:09<00:00, 221.97it/s]\n"
     ]
    },
    {
     "name": "stdout",
     "output_type": "stream",
     "text": [
      "NUTS:\n",
      "means: [16.761 -0.101 -0.03  -0.047],\n",
      "vars:  [162.443   0.001   0.002   0.003]\n",
      "Effective sample size: 2.806e+04, ess per sample: 0.4282, grad evals per sample: 32.16\n",
      "Energy dist v self: 9.073e-06\n",
      "Test_accuracy: 0.5509, top 90% accuracy: 0.5549\n",
      "Energy distance between LMC and NUTS: 0.00061195\n",
      "\n",
      "==================== breast_cancer ====================\n",
      "Data shape: (263, 9)\n"
     ]
    },
    {
     "name": "stderr",
     "output_type": "stream",
     "text": [
      "100.00%|██████████| [00:15<00:00,  6.33%/s]\n",
      "100.00%|██████████| [01:52<00:00,  1.13s/%]\n"
     ]
    },
    {
     "name": "stdout",
     "output_type": "stream",
     "text": [
      "means: [ 4.5   -0.135 -0.106  0.138  0.048  0.345 -0.229  0.506 -0.127 -0.004\n",
      " -0.146],\n",
      "vars:  [2.757 0.037 0.09  0.129 0.056 0.37  0.197 0.975 0.083 0.028 0.094]\n",
      "Effective sample size: 4.543e+03, ess per sample: 0.06933, grad evals per sample: 22.03\n",
      "Energy dist v self: 0.0001645\n",
      "Test_accuracy: 0.6574, top 90% accuracy: 0.6634\n"
     ]
    },
    {
     "name": "stderr",
     "output_type": "stream",
     "text": [
      "warmup: 100%|██████████| 8192/8192 [00:25<00:00, 318.96it/s]\n",
      "sample: 100%|██████████| 2048/2048 [00:09<00:00, 221.70it/s]\n"
     ]
    },
    {
     "name": "stdout",
     "output_type": "stream",
     "text": [
      "NUTS:\n",
      "means: [ 4.596 -0.123 -0.097  0.107  0.051  0.295 -0.211  0.425 -0.11  -0.002\n",
      " -0.133],\n",
      "vars:  [2.486 0.    0.024 0.027 0.02  0.026 0.022 0.031 0.019 0.02  0.017]\n",
      "Effective sample size: 6.341e+04, ess per sample: 0.9675, grad evals per sample: 37.85\n",
      "Energy dist v self: 4.937e-05\n",
      "Test_accuracy: 0.6586, top 90% accuracy: 0.6632\n",
      "Energy distance between LMC and NUTS: 0.0024006\n",
      "\n",
      "==================== diabetis ====================\n",
      "Data shape: (768, 8)\n"
     ]
    },
    {
     "name": "stderr",
     "output_type": "stream",
     "text": [
      "100.00%|██████████| [00:16<00:00,  6.11%/s]\n",
      "100.00%|██████████| [01:54<00:00,  1.14s/%]\n"
     ]
    },
    {
     "name": "stdout",
     "output_type": "stream",
     "text": [
      "means: [ 2.025 -0.135  0.507  1.585 -0.447 -0.034 -0.207  1.01   0.321  0.206],\n",
      "vars:  [ 0.364  0.27   1.831 19.756  2.718  0.302  1.34   8.043  1.012  1.276]\n",
      "Effective sample size: 2.354e+03, ess per sample: 0.03591, grad evals per sample: 22.03\n",
      "Energy dist v self: 0.002504\n",
      "Test_accuracy: 0.7728, top 90% accuracy: 0.7786\n"
     ]
    },
    {
     "name": "stderr",
     "output_type": "stream",
     "text": [
      "warmup: 100%|██████████| 8192/8192 [00:22<00:00, 369.83it/s]\n",
      "sample: 100%|██████████| 2048/2048 [00:07<00:00, 277.53it/s]\n"
     ]
    },
    {
     "name": "stdout",
     "output_type": "stream",
     "text": [
      "NUTS:\n",
      "means: [ 2.083 -0.105  0.371  1.136 -0.298 -0.015 -0.142  0.714  0.229  0.159],\n",
      "vars:  [0.264 0.    0.013 0.017 0.012 0.014 0.012 0.017 0.011 0.014]\n",
      "Effective sample size: 8.386e+04, ess per sample: 1.28, grad evals per sample: 34.5\n",
      "Energy dist v self: 4.048e-05\n",
      "Test_accuracy: 0.778, top 90% accuracy: 0.7805\n",
      "Energy distance between LMC and NUTS: 0.019176\n",
      "\n",
      "==================== flare_solar ====================\n",
      "Data shape: (144, 9)\n"
     ]
    },
    {
     "name": "stderr",
     "output_type": "stream",
     "text": [
      "100.00%|██████████| [00:15<00:00,  6.34%/s]\n",
      "100.00%|██████████| [01:52<00:00,  1.13s/%]\n"
     ]
    },
    {
     "name": "stdout",
     "output_type": "stream",
     "text": [
      "means: [  2.389   6.615   0.252   0.223  -0.199   1.042 -32.614   3.737   0.019\n",
      "   0.316  21.606],\n",
      "vars:  [106.953  17.349   0.438   0.206   0.25    1.708 388.496  28.653   0.03\n",
      "   0.288 245.127]\n",
      "Effective sample size: 97.81, ess per sample: 0.001493, grad evals per sample: 22.03\n",
      "Energy dist v self: 1.03\n",
      "Test_accuracy: 0.6197, top 90% accuracy: 0.6276\n"
     ]
    },
    {
     "name": "stderr",
     "output_type": "stream",
     "text": [
      "warmup: 100%|██████████| 8192/8192 [00:57<00:00, 143.63it/s]\n",
      "sample: 100%|██████████| 2048/2048 [00:30<00:00, 67.68it/s] \n"
     ]
    },
    {
     "name": "stdout",
     "output_type": "stream",
     "text": [
      "NUTS:\n",
      "means: [22.333  0.05   0.018  0.025 -0.     0.045 -0.018  0.04   0.002  0.023\n",
      "  0.012],\n",
      "vars:  [237.374   0.002   0.008   0.007   0.007   0.012   0.018   0.015   0.003\n",
      "   0.007   0.01 ]\n",
      "Effective sample size: 1.826e+04, ess per sample: 0.2786, grad evals per sample: 63.76\n",
      "Energy dist v self: 3.95e-05\n",
      "Test_accuracy: 0.5516, top 90% accuracy: 0.5518\n",
      "Energy distance between LMC and NUTS: 50.193\n",
      "\n",
      "==================== german ====================\n",
      "Data shape: (1000, 20)\n"
     ]
    },
    {
     "name": "stderr",
     "output_type": "stream",
     "text": [
      "100.00%|██████████| [00:16<00:00,  5.90%/s]\n",
      "100.00%|██████████| [01:58<00:00,  1.19s/%]\n"
     ]
    },
    {
     "name": "stdout",
     "output_type": "stream",
     "text": [
      "means: [ 4.058 -0.183 -3.176  0.856 -1.713 -0.57   1.265 -1.559 -0.685  1.22\n",
      " -1.138 -0.901  0.325  1.114 -0.596 -0.766 -0.671  0.77  -0.137  0.303\n",
      " -0.648 -0.74 ],\n",
      "vars:  [  1.362   1.498 349.775  26.816  96.091  11.318  51.27   77.993  15.801\n",
      "  49.85   43.131  29.317   3.858  39.077  10.196  18.522  15.745  21.609\n",
      "   1.103   3.381  13.23   15.117]\n",
      "Effective sample size: 1.69e+03, ess per sample: 0.02579, grad evals per sample: 22.03\n",
      "Energy dist v self: 0.00028\n",
      "Test_accuracy: 0.7759, top 90% accuracy: 0.7838\n"
     ]
    },
    {
     "name": "stderr",
     "output_type": "stream",
     "text": [
      "warmup: 100%|██████████| 8192/8192 [00:31<00:00, 260.89it/s]\n",
      "sample: 100%|██████████| 2048/2048 [00:10<00:00, 192.60it/s]\n"
     ]
    },
    {
     "name": "stdout",
     "output_type": "stream",
     "text": [
      "NUTS:\n",
      "means: [ 4.255 -0.053 -0.653  0.239 -0.341 -0.087  0.234 -0.328 -0.147  0.18\n",
      " -0.217 -0.13   0.064  0.244 -0.128 -0.151 -0.097  0.08   0.002  0.052\n",
      " -0.117 -0.156],\n",
      "vars:  [0.577 0.    0.009 0.009 0.009 0.006 0.011 0.008 0.008 0.008 0.007 0.008\n",
      " 0.008 0.009 0.009 0.006 0.008 0.008 0.008 0.007 0.008 0.011]\n",
      "Effective sample size: 7.301e+04, ess per sample: 1.114, grad evals per sample: 41.93\n",
      "Energy dist v self: 8.904e-05\n",
      "Test_accuracy: 0.7818, top 90% accuracy: 0.7855\n",
      "Energy distance between LMC and NUTS: 0.15165\n",
      "\n",
      "==================== heart ====================\n",
      "Data shape: (270, 13)\n"
     ]
    },
    {
     "name": "stderr",
     "output_type": "stream",
     "text": [
      "100.00%|██████████| [00:15<00:00,  6.34%/s]\n",
      "100.00%|██████████| [01:53<00:00,  1.14s/%]\n"
     ]
    },
    {
     "name": "stdout",
     "output_type": "stream",
     "text": [
      "means: [ 2.028 -0.025 -0.177  0.858  0.906  0.385  0.309 -0.057  0.361 -0.144\n",
      "  0.521  0.359  0.416  1.376  0.788],\n",
      "vars:  [0.33  0.016 0.387 2.718 2.349 0.671 0.556 0.078 0.63  0.363 0.784 0.445\n",
      " 0.636 7.102 1.787]\n",
      "Effective sample size: 1.645e+03, ess per sample: 0.02509, grad evals per sample: 22.03\n",
      "Energy dist v self: 0.002329\n",
      "Test_accuracy: 0.8018, top 90% accuracy: 0.8097\n"
     ]
    },
    {
     "name": "stderr",
     "output_type": "stream",
     "text": [
      "warmup: 100%|██████████| 8192/8192 [00:24<00:00, 337.39it/s]\n",
      "sample: 100%|██████████| 2048/2048 [00:08<00:00, 246.32it/s]\n"
     ]
    },
    {
     "name": "stdout",
     "output_type": "stream",
     "text": [
      "NUTS:\n",
      "means: [ 2.073 -0.022 -0.111  0.635  0.719  0.279  0.213 -0.043  0.271 -0.145\n",
      "  0.415  0.315  0.317  1.018  0.645],\n",
      "vars:  [0.245 0.    0.046 0.06  0.045 0.038 0.04  0.04  0.039 0.057 0.042 0.054\n",
      " 0.052 0.07  0.043]\n",
      "Effective sample size: 6.987e+04, ess per sample: 1.066, grad evals per sample: 38.43\n",
      "Energy dist v self: 0.0001023\n",
      "Test_accuracy: 0.8035, top 90% accuracy: 0.8111\n",
      "Energy distance between LMC and NUTS: 0.010395\n",
      "\n",
      "==================== image ====================\n",
      "Data shape: (2086, 18)\n"
     ]
    },
    {
     "name": "stderr",
     "output_type": "stream",
     "text": [
      "100.00%|██████████| [00:15<00:00,  6.32%/s]\n",
      "100.00%|██████████| [01:53<00:00,  1.13s/%]\n"
     ]
    },
    {
     "name": "stdout",
     "output_type": "stream",
     "text": [
      "means: [   0.014   -0.135   -2.733    4.977    0.189    0.094   -1.736   -0.725\n",
      "    5.431   15.841   79.225   67.39    49.589   65.485  -10.422    4.998\n",
      "  -31.448 -264.32    19.096    4.247],\n",
      "vars:  [   0.       0.706   89.297  281.485    1.779    1.129   64.502   15.857\n",
      "  370.589 1293.51  1535.462 1760.06  2032.053 1604.404 2073.326  735.413\n",
      " 1353.16  1350.237 3804.276   50.396]\n",
      "Effective sample size: 72.23, ess per sample: 0.001102, grad evals per sample: 22.03\n",
      "Energy dist v self: 17.86\n",
      "Test_accuracy: 0.821, top 90% accuracy: 0.8247\n"
     ]
    },
    {
     "name": "stderr",
     "output_type": "stream",
     "text": [
      "warmup: 100%|██████████| 8192/8192 [03:40<00:00, 37.19it/s]\n",
      "sample: 100%|██████████| 2048/2048 [01:01<00:00, 33.34it/s]\n"
     ]
    },
    {
     "name": "stdout",
     "output_type": "stream",
     "text": [
      "NUTS:\n",
      "means: [ 1.244  0.014 -0.435  0.503  0.05   0.01  -0.373  0.143  0.681  0.699\n",
      "  0.684  0.886  0.583  0.61   1.246 -0.145 -1.016  0.106  1.631 -0.578],\n",
      "vars:  [0.065 0.    0.008 0.014 0.007 0.007 0.018 0.026 0.026 0.177 0.594 0.562\n",
      " 0.626 0.579 0.186 0.453 0.187 0.638 0.032 0.046]\n",
      "Effective sample size: 4.92e+04, ess per sample: 0.7507, grad evals per sample: 346.4\n",
      "Energy dist v self: 0.0006878\n",
      "Test_accuracy: 0.8241, top 90% accuracy: 0.8254\n",
      "Energy distance between LMC and NUTS: 471.32\n",
      "\n",
      "==================== ringnorm ====================\n",
      "Data shape: (7400, 20)\n"
     ]
    },
    {
     "name": "stderr",
     "output_type": "stream",
     "text": [
      "100.00%|██████████| [00:16<00:00,  5.92%/s]\n",
      "100.00%|██████████| [01:57<00:00,  1.18s/%]\n"
     ]
    },
    {
     "name": "stdout",
     "output_type": "stream",
     "text": [
      "means: [ 2.32   0.047 -2.174 -1.782 -3.714 -2.507 -2.133 -3.301 -1.725 -2.315\n",
      " -3.684 -1.395 -2.211 -1.965 -1.739 -2.443 -3.135 -1.932 -1.821 -2.093\n",
      " -1.73  -1.382],\n",
      "vars:  [  3.195   1.222 132.775  92.764 369.334 173.569 126.057 299.187  84.784\n",
      " 140.986 370.548  68.042 144.533 117.784  87.111 164.199 270.729  97.013\n",
      " 101.097 127.603  82.823  54.443]\n",
      "Effective sample size: 1.356e+03, ess per sample: 0.02068, grad evals per sample: 22.03\n",
      "Energy dist v self: 0.00053\n",
      "Test_accuracy: 0.7357, top 90% accuracy: 0.7482\n"
     ]
    },
    {
     "name": "stderr",
     "output_type": "stream",
     "text": [
      "warmup: 100%|██████████| 8192/8192 [00:34<00:00, 239.49it/s]\n",
      "sample: 100%|██████████| 2048/2048 [00:06<00:00, 320.84it/s]\n"
     ]
    },
    {
     "name": "stdout",
     "output_type": "stream",
     "text": [
      "NUTS:\n",
      "means: [ 3.302 -0.    -0.298 -0.257 -0.462 -0.325 -0.274 -0.387 -0.233 -0.276\n",
      " -0.455 -0.212 -0.295 -0.28  -0.241 -0.335 -0.387 -0.252 -0.24  -0.292\n",
      " -0.245 -0.196],\n",
      "vars:  [0.313 0.    0.006 0.006 0.007 0.007 0.006 0.007 0.007 0.007 0.007 0.006\n",
      " 0.006 0.006 0.006 0.007 0.007 0.007 0.006 0.006 0.006 0.006]\n",
      "Effective sample size: 1.312e+05, ess per sample: 2.002, grad evals per sample: 39.77\n",
      "Energy dist v self: 6.013e-05\n",
      "Test_accuracy: 0.758, top 90% accuracy: 0.7591\n",
      "Energy distance between LMC and NUTS: 0.572\n",
      "\n",
      "==================== splice ====================\n",
      "Data shape: (2991, 60)\n"
     ]
    },
    {
     "name": "stderr",
     "output_type": "stream",
     "text": [
      "100.00%|██████████| [00:17<00:00,  5.85%/s]\n",
      "100.00%|██████████| [02:02<00:00,  1.22s/%]\n"
     ]
    },
    {
     "name": "stdout",
     "output_type": "stream",
     "text": [
      "means: [  0.384  -2.976   3.761   0.556   0.103  -0.254   5.935  -2.555   3.994\n",
      "   0.589   2.797  -0.444   6.337   1.123   4.256   0.901   4.491   3.45\n",
      "   0.752   7.539   4.848   5.949   8.399   3.507   5.788   2.181   4.238\n",
      "   9.022  -0.362  11.268 -33.377 -15.978  -9.908  25.902 -11.93  -14.754\n",
      "  -1.343   7.19   -5.056  -0.427  -1.985   4.429  -0.674  -1.394   3.124\n",
      "   0.274  -1.895   1.142   1.757  -1.466   0.467  -2.998   1.354  -0.351\n",
      "   3.096   2.138   1.054   1.62   -0.431  -0.718  -3.214   2.038],\n",
      "vars:  [    0.056    93.108   212.897    12.001     4.072     3.951   470.835\n",
      "    97.795   218.287     6.279    75.634     6.472   478.813    14.13\n",
      "   185.102    12.721   218.566   129.985     8.916   602.09    250.464\n",
      "   323.843   772.85    135.336   313.889    30.929   174.558   868.699\n",
      "     7.19   1479.532 11957.021  2951.144  1009.766  7237.608  1479.188\n",
      "  2347.083    19.172   579.097   271.956     4.697    52.017   235.726\n",
      "     7.215    17.873   151.619     4.675    36.638    10.774    27.164\n",
      "    58.022     5.484   120.211    32.515     7.398   161.256    52.113\n",
      "    12.883    58.836    11.241    10.941   108.307    56.435]\n",
      "Effective sample size: 121.1, ess per sample: 0.001848, grad evals per sample: 22.03\n",
      "Energy dist v self: 0.05722\n",
      "Test_accuracy: 0.8104, top 90% accuracy: 0.8265\n"
     ]
    },
    {
     "name": "stderr",
     "output_type": "stream",
     "text": [
      "warmup: 100%|██████████| 8192/8192 [05:07<00:00, 26.60it/s]\n",
      "sample: 100%|██████████| 2048/2048 [01:20<00:00, 25.52it/s]\n"
     ]
    },
    {
     "name": "stdout",
     "output_type": "stream",
     "text": [
      "NUTS:\n",
      "means: [ 3.225 -0.119  0.081  0.071 -0.004 -0.043  0.156 -0.053  0.096  0.04\n",
      "  0.149 -0.011  0.197  0.054  0.18   0.032  0.22   0.159  0.066  0.305\n",
      "  0.173  0.248  0.327  0.217  0.235  0.093  0.215  0.378 -0.037  0.46\n",
      " -1.339 -0.631 -0.456  1.055 -0.481 -0.596 -0.091  0.323 -0.199  0.002\n",
      " -0.04   0.157 -0.014 -0.05   0.061  0.044 -0.115  0.067  0.074  0.003\n",
      "  0.026 -0.092  0.026  0.028  0.04   0.159  0.019  0.038 -0.057 -0.089\n",
      " -0.129  0.079],\n",
      "vars:  [0.131 0.001 0.009 0.008 0.009 0.009 0.009 0.009 0.008 0.009 0.009 0.008\n",
      " 0.009 0.009 0.009 0.009 0.01  0.009 0.009 0.01  0.009 0.009 0.009 0.009\n",
      " 0.01  0.009 0.009 0.009 0.009 0.011 0.015 0.015 0.013 0.012 0.01  0.01\n",
      " 0.01  0.009 0.009 0.009 0.01  0.009 0.009 0.009 0.009 0.009 0.009 0.009\n",
      " 0.009 0.009 0.009 0.009 0.01  0.009 0.009 0.009 0.009 0.008 0.009 0.009\n",
      " 0.008 0.009]\n",
      "Effective sample size: 8.834e+04, ess per sample: 1.348, grad evals per sample: 401.8\n",
      "Energy dist v self: 0.0002474\n",
      "Test_accuracy: 0.8277, top 90% accuracy: 0.8289\n",
      "Energy distance between LMC and NUTS: 26.553\n",
      "\n",
      "==================== thyroid ====================\n",
      "Data shape: (215, 5)\n"
     ]
    },
    {
     "name": "stderr",
     "output_type": "stream",
     "text": [
      "100.00%|██████████| [00:15<00:00,  6.53%/s]\n",
      "100.00%|██████████| [01:51<00:00,  1.11s/%]\n"
     ]
    },
    {
     "name": "stdout",
     "output_type": "stream",
     "text": [
      "means: [ 0.236  0.04  -1.137  3.158  1.802 10.462  3.008],\n",
      "vars:  [0.009 0.013 0.236 0.758 0.388 8.006 1.63 ]\n",
      "Effective sample size: 545.0, ess per sample: 0.008316, grad evals per sample: 22.03\n",
      "Energy dist v self: 0.01501\n",
      "Test_accuracy: 0.8396, top 90% accuracy: 0.8429\n"
     ]
    },
    {
     "name": "stderr",
     "output_type": "stream",
     "text": [
      "warmup: 100%|██████████| 8192/8192 [00:49<00:00, 166.81it/s]\n",
      "sample: 100%|██████████| 2048/2048 [00:14<00:00, 139.14it/s]\n"
     ]
    },
    {
     "name": "stdout",
     "output_type": "stream",
     "text": [
      "NUTS:\n",
      "means: [ 0.234  0.042 -1.144  3.166  1.81  10.513  3.008],\n",
      "vars:  [0.008 0.013 0.228 0.743 0.385 7.926 1.595]\n",
      "Effective sample size: 1.885e+04, ess per sample: 0.2877, grad evals per sample: 55.66\n",
      "Energy dist v self: 0.00107\n",
      "Test_accuracy: 0.8434, top 90% accuracy: 0.8468\n",
      "Energy distance between LMC and NUTS: 0.0079424\n",
      "\n",
      "==================== titanic ====================\n",
      "Data shape: (24, 3)\n"
     ]
    },
    {
     "name": "stderr",
     "output_type": "stream",
     "text": [
      "100.00%|██████████| [00:15<00:00,  6.36%/s]\n",
      "100.00%|██████████| [01:52<00:00,  1.12s/%]\n"
     ]
    },
    {
     "name": "stdout",
     "output_type": "stream",
     "text": [
      "means: [21.348 -0.205 -0.283  0.429 -0.409],\n",
      "vars:  [1884.387    5.664    3.407    5.468   18.108]\n",
      "Effective sample size: 325.5, ess per sample: 0.004967, grad evals per sample: 22.03\n",
      "Energy dist v self: 0.01235\n",
      "Test_accuracy: 0.4805, top 90% accuracy: 0.5013\n"
     ]
    },
    {
     "name": "stderr",
     "output_type": "stream",
     "text": [
      "warmup: 100%|██████████| 8192/8192 [01:00<00:00, 134.42it/s]\n",
      "sample: 100%|██████████| 2048/2048 [00:27<00:00, 74.57it/s] \n"
     ]
    },
    {
     "name": "stdout",
     "output_type": "stream",
     "text": [
      "NUTS:\n",
      "means: [89.759  0.004 -0.005  0.016 -0.003],\n",
      "vars:  [5996.756    0.002    0.003    0.004    0.003]\n",
      "Effective sample size: 1.566e+04, ess per sample: 0.2389, grad evals per sample: 51.3\n",
      "Energy dist v self: 1.268e-05\n",
      "Test_accuracy: 0.5057, top 90% accuracy: 0.5202\n",
      "Energy distance between LMC and NUTS: 0.19658\n",
      "\n",
      "==================== twonorm ====================\n",
      "Data shape: (7400, 20)\n"
     ]
    },
    {
     "name": "stderr",
     "output_type": "stream",
     "text": [
      "100.00%|██████████| [00:17<00:00,  5.85%/s]\n",
      "100.00%|██████████| [01:57<00:00,  1.18s/%]\n"
     ]
    },
    {
     "name": "stdout",
     "output_type": "stream",
     "text": [
      "means: [ 0.447 -0.214 28.11  23.582 29.474 15.844 17.299 16.924 14.74  26.68\n",
      " 19.791 18.429 18.928  7.363 22.903 16.962 38.944 19.977 18.87  26.589\n",
      " 19.87  22.618],\n",
      "vars:  [   0.18     0.337 1522.816 1012.148 1587.205  486.271  587.679  567.935\n",
      "  437.935 1226.754  729.78   695.363  663.791  140.182  986.069  549.966\n",
      " 2630.103  752.284  658.124 1284.865  855.454  934.852]\n",
      "Effective sample size: 47.69, ess per sample: 0.0007276, grad evals per sample: 22.03\n",
      "Energy dist v self: 1.316\n",
      "Test_accuracy: 0.9694, top 90% accuracy: 0.9695\n"
     ]
    },
    {
     "name": "stderr",
     "output_type": "stream",
     "text": [
      "warmup: 100%|██████████| 8192/8192 [00:38<00:00, 210.21it/s]\n",
      "sample: 100%|██████████| 2048/2048 [00:09<00:00, 213.18it/s]\n"
     ]
    },
    {
     "name": "stdout",
     "output_type": "stream",
     "text": [
      "NUTS:\n",
      "means: [0.862 0.005 1.459 1.337 1.468 1.074 0.936 0.768 0.997 1.259 1.278 1.241\n",
      " 1.128 0.738 1.378 1.175 1.617 1.236 0.993 1.2   1.082 1.085],\n",
      "vars:  [0.03  0.    0.119 0.102 0.128 0.121 0.079 0.084 0.092 0.104 0.085 0.093\n",
      " 0.104 0.077 0.102 0.1   0.154 0.09  0.089 0.098 0.108 0.099]\n",
      "Effective sample size: 3.365e+04, ess per sample: 0.5135, grad evals per sample: 41.59\n",
      "Energy dist v self: 0.0003256\n",
      "Test_accuracy: 0.9716, top 90% accuracy: 0.972\n",
      "Energy distance between LMC and NUTS: 58.496\n",
      "\n",
      "==================== waveform ====================\n",
      "Data shape: (5000, 21)\n"
     ]
    },
    {
     "name": "stderr",
     "output_type": "stream",
     "text": [
      "100.00%|██████████| [00:16<00:00,  6.14%/s]\n",
      "100.00%|██████████| [01:56<00:00,  1.17s/%]\n"
     ]
    },
    {
     "name": "stdout",
     "output_type": "stream",
     "text": [
      "means: [ 2.136 -0.85   0.344 -0.685  0.277 -0.043  1.806  0.88   2.31   1.766\n",
      "  3.717  2.355  3.928  1.853  0.894 -1.279 -5.723 -3.477 -3.645 -2.942\n",
      " -1.027 -1.062 -0.391],\n",
      "vars:  [  0.388  14.634   2.634   9.381   2.968   0.325  69.653  12.033 106.707\n",
      "  65.995 282.082 113.241 301.536  68.579  17.672  33.537 622.113 237.352\n",
      " 255.168 164.02   22.418  22.402   2.791]\n",
      "Effective sample size: 765.6, ess per sample: 0.01168, grad evals per sample: 22.03\n",
      "Energy dist v self: 0.01838\n",
      "Test_accuracy: 0.8728, top 90% accuracy: 0.8751\n"
     ]
    },
    {
     "name": "stderr",
     "output_type": "stream",
     "text": [
      "warmup: 100%|██████████| 8192/8192 [00:54<00:00, 150.67it/s]\n",
      "sample: 100%|██████████| 2048/2048 [00:20<00:00, 102.39it/s]\n"
     ]
    },
    {
     "name": "stdout",
     "output_type": "stream",
     "text": [
      "NUTS:\n",
      "means: [ 2.257 -0.152  0.034 -0.106  0.023  0.002  0.319  0.227  0.391  0.398\n",
      "  0.714  0.553  0.695  0.311  0.104 -0.292 -0.852 -0.619 -0.673 -0.601\n",
      " -0.232 -0.199 -0.07 ],\n",
      "vars:  [0.147 0.    0.011 0.012 0.014 0.019 0.026 0.029 0.032 0.03  0.028 0.022\n",
      " 0.022 0.022 0.024 0.029 0.042 0.032 0.028 0.022 0.015 0.012 0.011]\n",
      "Effective sample size: 6.79e+04, ess per sample: 1.036, grad evals per sample: 86.95\n",
      "Energy dist v self: 0.0001559\n",
      "Test_accuracy: 0.8749, top 90% accuracy: 0.8758\n",
      "Energy distance between LMC and NUTS: 0.92776\n",
      "\n"
     ]
    }
   ],
   "source": [
    "# make a file for the results, which has date and time in the name\n",
    "import datetime\n",
    "\n",
    "\n",
    "time = datetime.datetime.now().strftime(\"%Y-%m-%d_%H-%M-%S\")\n",
    "results_filename = f\"mcmc_data/results_{time}.txt\"\n",
    "results_dict_filename = f\"mcmc_data/results_dict_{time}.pkl\"\n",
    "\n",
    "# create the results file\n",
    "with open(results_filename, \"w\") as f:\n",
    "    f.write(\"Results\\n\\n\")\n",
    "\n",
    "# with warnings.catch_warnings():\n",
    "#     warnings.simplefilter(\"ignore\")\n",
    "for name in names:\n",
    "    print(f\"==================== {name} ====================\")\n",
    "    run_logreg_dataset(name, results_filename, results_dict_filename)\n",
    "    print()"
   ]
  },
  {
   "cell_type": "code",
   "execution_count": null,
   "id": "c3bd7f4ae52440b7",
   "metadata": {},
   "outputs": [],
   "source": []
  }
 ],
 "metadata": {
  "kernelspec": {
   "display_name": "Python 3",
   "language": "python",
   "name": "python3"
  },
  "language_info": {
   "codemirror_mode": {
    "name": "ipython",
    "version": 2
   },
   "file_extension": ".py",
   "mimetype": "text/x-python",
   "name": "python",
   "nbconvert_exporter": "python",
   "pygments_lexer": "ipython2",
   "version": "2.7.6"
  }
 },
 "nbformat": 4,
 "nbformat_minor": 5
}
