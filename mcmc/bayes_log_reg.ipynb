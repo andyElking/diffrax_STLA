{
 "cells": [
  {
   "cell_type": "code",
   "id": "initial_id",
   "metadata": {
    "collapsed": true,
    "ExecuteTime": {
     "end_time": "2024-04-26T12:15:02.249053Z",
     "start_time": "2024-04-26T12:15:00.326144Z"
    }
   },
   "source": [
    "from functools import partial\n",
    "\n",
    "import jax\n",
    "import jax.numpy as jnp\n",
    "import jax.random as jr\n",
    "import numpy as np\n",
    "import numpyro\n",
    "import ot\n",
    "import scipy\n",
    "from jax import Array\n",
    "from numpyro import diagnostics, distributions as dist\n",
    "from numpyro.infer import MCMC, NUTS\n",
    "from numpyro.infer.util import initialize_model\n",
    "\n",
    "from mcmc import run_lmc\n",
    "\n",
    "\n",
    "jnp.set_printoptions(precision=3, suppress=True)\n",
    "jax.config.update(\"jax_enable_x64\", True)\n",
    "\n",
    "\n",
    "def get_model_and_data(data, name):\n",
    "    dset = data[name][0, 0]\n",
    "    x = dset[\"x\"]\n",
    "    labels = dset[\"t\"]\n",
    "    n, data_dim = x.shape\n",
    "    n_train = min(int(n / 2), 500)\n",
    "    x_train = x[:n_train]\n",
    "    labels_train = labels[:n_train]\n",
    "    x_test = x[n_train:]\n",
    "    labels_test = labels[n_train:]\n",
    "\n",
    "    def model():\n",
    "        alpha = numpyro.sample(\"alpha\", dist.Exponential(0.01))\n",
    "        W = numpyro.sample(\"W\", dist.Normal(jnp.zeros(data_dim), 1.0 / alpha))\n",
    "        logits = jnp.sum(W * x_train, axis=-1)\n",
    "        return numpyro.sample(\"obs\", dist.Bernoulli(logits=logits), obs=labels_train)\n",
    "\n",
    "    return model, (x_train, labels_train, x_test, labels_test)\n",
    "\n",
    "\n",
    "data = scipy.io.loadmat(\"mcmc_data/benchmarks.mat\")\n",
    "\n",
    "data_name = \"diabetis\"\n",
    "model_logreg, data_split = get_model_and_data(data, data_name)\n",
    "\n",
    "logreg_info = initialize_model(jr.PRNGKey(0), model_logreg)\n",
    "\n",
    "\n",
    "def dict_to_array(dct: dict):\n",
    "    alpha = dct[\"alpha\"]\n",
    "\n",
    "    return jnp.concatenate([jnp.expand_dims(alpha, alpha.ndim), dct[\"W\"]], axis=-1)\n",
    "\n",
    "\n",
    "vec_dict_to_array = jax.jit(jax.vmap(dict_to_array, in_axes=0, out_axes=0))\n",
    "\n",
    "\n",
    "@jax.jit\n",
    "def array_to_dict(arr: jnp.ndarray):\n",
    "    return {\"alpha\": arr[0], \"W\": arr[1:]}\n",
    "\n",
    "\n",
    "@jax.jit\n",
    "def potential_fn(arr: jnp.ndarray):\n",
    "    dct = array_to_dict(arr)\n",
    "    return logreg_info.potential_fn(dct)\n",
    "\n",
    "\n",
    "arr0 = dict_to_array(logreg_info.param_info.z)\n",
    "\n",
    "print(jax.devices(\"cuda\"))\n",
    "\n",
    "\n",
    "def compute_w2(x1, x2, num_iters):\n",
    "    source_samples = np.array(x1)\n",
    "    target_samples = np.array(x2)\n",
    "    source_weights = np.ones(source_samples.shape[0]) / source_samples.shape[0]\n",
    "    target_weights = np.ones(target_samples.shape[0]) / target_samples.shape[0]\n",
    "    mm = ot.dist(source_samples, target_samples)\n",
    "    return ot.emd2(source_weights, target_weights, mm, numItermax=num_iters)\n",
    "\n",
    "\n",
    "@partial(jax.jit, static_argnames=(\"max_len\",))\n",
    "def energy_distance(x: Array, y: Array, max_len: int = 2**15):\n",
    "    assert y.ndim == x.ndim\n",
    "    assert x.shape[1:] == y.shape[1:]\n",
    "    if x.shape[0] > max_len:\n",
    "        x = x[:max_len]\n",
    "    if y.shape[0] > max_len:\n",
    "        y = y[:max_len]\n",
    "\n",
    "    @partial(jax.vmap, in_axes=(None, 0))\n",
    "    def _dist_single(_x, _y_single):\n",
    "        assert _x.ndim == _y_single.ndim + 1, f\"{_x.ndim} != {_y_single.ndim + 1}\"\n",
    "        diff = _x - _y_single\n",
    "        if x.ndim > 1:\n",
    "            # take the norm over all axes except the first one\n",
    "            diff = jnp.sqrt(jnp.sum(diff**2, axis=tuple(range(1, diff.ndim))))\n",
    "        return jnp.mean(jnp.abs(diff))\n",
    "\n",
    "    def dist(_x, _y):\n",
    "        assert _x.ndim == _y.ndim\n",
    "        return jnp.mean(_dist_single(_x, _y))\n",
    "\n",
    "    return 2 * dist(x, y) - dist(x, x) - dist(y, y)\n",
    "\n",
    "\n",
    "def eval_logreg(samples, evals_per_sample, ground_truth=None, num_iters_w2=0):\n",
    "    if isinstance(samples, dict):\n",
    "        samples = vec_dict_to_array(samples)\n",
    "    ess = diagnostics.effective_sample_size(samples)\n",
    "    print(f\"Effective sample size: {ess}\")\n",
    "    # print(\n",
    "    #     f\"Gradient evals per effective sample:\"\n",
    "    #     f\" {evals_per_sample * samples.shape[0]/ess}\"\n",
    "    # )\n",
    "    if ground_truth is None:\n",
    "        return\n",
    "    sample_dim = samples.shape[-1]\n",
    "    reshaped = jnp.reshape(samples, (-1, sample_dim))\n",
    "    energy_gt = energy_distance(reshaped, ground_truth)\n",
    "    half_len = reshaped.shape[0] // 2\n",
    "    energy_self = energy_distance(reshaped[:half_len], reshaped[half_len:])\n",
    "    result_str = (\n",
    "        f\"Energy dist vs ground truth: {energy_gt:.4}, vs self: {energy_self:.4}\"\n",
    "    )\n",
    "    if num_iters_w2 > 0:\n",
    "        w2 = compute_w2(reshaped, ground_truth, num_iters_w2)\n",
    "        result_str += f\", Wasserstein-2: {w2:.4}\"\n",
    "    print(result_str)"
   ],
   "outputs": [
    {
     "name": "stdout",
     "output_type": "stream",
     "text": [
      "[cuda(id=0)]\n"
     ]
    }
   ],
   "execution_count": 1
  },
  {
   "cell_type": "code",
   "execution_count": 2,
   "id": "cb6890aa66d4af19",
   "metadata": {
    "ExecuteTime": {
     "end_time": "2024-04-26T12:08:25.049148Z",
     "start_time": "2024-04-26T11:40:30.686874Z"
    },
    "collapsed": false
   },
   "outputs": [
    {
     "name": "stderr",
     "output_type": "stream",
     "text": [
      "sample:  17%|█▋        | 5783/33792 [27:53<2:15:07,  3.45it/s, 1023 steps of size 1.92e-15. acc. prob=0.92]\n"
     ]
    },
    {
     "ename": "KeyboardInterrupt",
     "evalue": "",
     "output_type": "error",
     "traceback": [
      "\u001B[0;31m---------------------------------------------------------------------------\u001B[0m",
      "\u001B[0;31mKeyboardInterrupt\u001B[0m                         Traceback (most recent call last)",
      "Cell \u001B[0;32mIn[2], line 3\u001B[0m\n\u001B[1;32m      1\u001B[0m gt_nuts \u001B[38;5;241m=\u001B[39m MCMC(NUTS(model_logreg, step_size\u001B[38;5;241m=\u001B[39m\u001B[38;5;241m2\u001B[39m\u001B[38;5;241m*\u001B[39m\u001B[38;5;241m*\u001B[39m\u001B[38;5;241m-\u001B[39m\u001B[38;5;241m5\u001B[39m),\n\u001B[1;32m      2\u001B[0m                num_warmup\u001B[38;5;241m=\u001B[39m\u001B[38;5;241m2\u001B[39m\u001B[38;5;241m*\u001B[39m\u001B[38;5;241m*\u001B[39m\u001B[38;5;241m10\u001B[39m, num_samples\u001B[38;5;241m=\u001B[39m\u001B[38;5;241m2\u001B[39m\u001B[38;5;241m*\u001B[39m\u001B[38;5;241m*\u001B[39m\u001B[38;5;241m15\u001B[39m)\n\u001B[0;32m----> 3\u001B[0m \u001B[43mgt_nuts\u001B[49m\u001B[38;5;241;43m.\u001B[39;49m\u001B[43mrun\u001B[49m\u001B[43m(\u001B[49m\u001B[43mjr\u001B[49m\u001B[38;5;241;43m.\u001B[39;49m\u001B[43mPRNGKey\u001B[49m\u001B[43m(\u001B[49m\u001B[38;5;241;43m0\u001B[39;49m\u001B[43m)\u001B[49m\u001B[43m)\u001B[49m\n\u001B[1;32m      4\u001B[0m gt_logreg \u001B[38;5;241m=\u001B[39m vec_dict_to_array(gt_nuts\u001B[38;5;241m.\u001B[39mget_samples())\n\u001B[1;32m      5\u001B[0m np\u001B[38;5;241m.\u001B[39msave(\u001B[38;5;124mf\u001B[39m\u001B[38;5;124m\"\u001B[39m\u001B[38;5;124mmcmc_data/\u001B[39m\u001B[38;5;132;01m{\u001B[39;00mdata_name\u001B[38;5;132;01m}\u001B[39;00m\u001B[38;5;124m_ground_truth.npy\u001B[39m\u001B[38;5;124m\"\u001B[39m, gt_logreg)\n",
      "File \u001B[0;32m~/PycharmProjects/diffrax_STLA/venv/lib/python3.11/site-packages/numpyro/infer/mcmc.py:644\u001B[0m, in \u001B[0;36mMCMC.run\u001B[0;34m(self, rng_key, extra_fields, init_params, *args, **kwargs)\u001B[0m\n\u001B[1;32m    642\u001B[0m map_args \u001B[38;5;241m=\u001B[39m (rng_key, init_state, init_params)\n\u001B[1;32m    643\u001B[0m \u001B[38;5;28;01mif\u001B[39;00m \u001B[38;5;28mself\u001B[39m\u001B[38;5;241m.\u001B[39mnum_chains \u001B[38;5;241m==\u001B[39m \u001B[38;5;241m1\u001B[39m:\n\u001B[0;32m--> 644\u001B[0m     states_flat, last_state \u001B[38;5;241m=\u001B[39m \u001B[43mpartial_map_fn\u001B[49m\u001B[43m(\u001B[49m\u001B[43mmap_args\u001B[49m\u001B[43m)\u001B[49m\n\u001B[1;32m    645\u001B[0m     states \u001B[38;5;241m=\u001B[39m tree_map(\u001B[38;5;28;01mlambda\u001B[39;00m x: x[jnp\u001B[38;5;241m.\u001B[39mnewaxis, \u001B[38;5;241m.\u001B[39m\u001B[38;5;241m.\u001B[39m\u001B[38;5;241m.\u001B[39m], states_flat)\n\u001B[1;32m    646\u001B[0m \u001B[38;5;28;01melse\u001B[39;00m:\n",
      "File \u001B[0;32m~/PycharmProjects/diffrax_STLA/venv/lib/python3.11/site-packages/numpyro/infer/mcmc.py:450\u001B[0m, in \u001B[0;36mMCMC._single_chain_mcmc\u001B[0;34m(self, init, args, kwargs, collect_fields)\u001B[0m\n\u001B[1;32m    444\u001B[0m collection_size \u001B[38;5;241m=\u001B[39m \u001B[38;5;28mself\u001B[39m\u001B[38;5;241m.\u001B[39m_collection_params[\u001B[38;5;124m\"\u001B[39m\u001B[38;5;124mcollection_size\u001B[39m\u001B[38;5;124m\"\u001B[39m]\n\u001B[1;32m    445\u001B[0m collection_size \u001B[38;5;241m=\u001B[39m (\n\u001B[1;32m    446\u001B[0m     collection_size\n\u001B[1;32m    447\u001B[0m     \u001B[38;5;28;01mif\u001B[39;00m collection_size \u001B[38;5;129;01mis\u001B[39;00m \u001B[38;5;28;01mNone\u001B[39;00m\n\u001B[1;32m    448\u001B[0m     \u001B[38;5;28;01melse\u001B[39;00m collection_size \u001B[38;5;241m/\u001B[39m\u001B[38;5;241m/\u001B[39m \u001B[38;5;28mself\u001B[39m\u001B[38;5;241m.\u001B[39mthinning\n\u001B[1;32m    449\u001B[0m )\n\u001B[0;32m--> 450\u001B[0m collect_vals \u001B[38;5;241m=\u001B[39m \u001B[43mfori_collect\u001B[49m\u001B[43m(\u001B[49m\n\u001B[1;32m    451\u001B[0m \u001B[43m    \u001B[49m\u001B[43mlower_idx\u001B[49m\u001B[43m,\u001B[49m\n\u001B[1;32m    452\u001B[0m \u001B[43m    \u001B[49m\u001B[43mupper_idx\u001B[49m\u001B[43m,\u001B[49m\n\u001B[1;32m    453\u001B[0m \u001B[43m    \u001B[49m\u001B[43msample_fn\u001B[49m\u001B[43m,\u001B[49m\n\u001B[1;32m    454\u001B[0m \u001B[43m    \u001B[49m\u001B[43minit_val\u001B[49m\u001B[43m,\u001B[49m\n\u001B[1;32m    455\u001B[0m \u001B[43m    \u001B[49m\u001B[43mtransform\u001B[49m\u001B[38;5;241;43m=\u001B[39;49m\u001B[43m_collect_fn\u001B[49m\u001B[43m(\u001B[49m\u001B[43mcollect_fields\u001B[49m\u001B[43m)\u001B[49m\u001B[43m,\u001B[49m\n\u001B[1;32m    456\u001B[0m \u001B[43m    \u001B[49m\u001B[43mprogbar\u001B[49m\u001B[38;5;241;43m=\u001B[39;49m\u001B[38;5;28;43mself\u001B[39;49m\u001B[38;5;241;43m.\u001B[39;49m\u001B[43mprogress_bar\u001B[49m\u001B[43m,\u001B[49m\n\u001B[1;32m    457\u001B[0m \u001B[43m    \u001B[49m\u001B[43mreturn_last_val\u001B[49m\u001B[38;5;241;43m=\u001B[39;49m\u001B[38;5;28;43;01mTrue\u001B[39;49;00m\u001B[43m,\u001B[49m\n\u001B[1;32m    458\u001B[0m \u001B[43m    \u001B[49m\u001B[43mthinning\u001B[49m\u001B[38;5;241;43m=\u001B[39;49m\u001B[38;5;28;43mself\u001B[39;49m\u001B[38;5;241;43m.\u001B[39;49m\u001B[43mthinning\u001B[49m\u001B[43m,\u001B[49m\n\u001B[1;32m    459\u001B[0m \u001B[43m    \u001B[49m\u001B[43mcollection_size\u001B[49m\u001B[38;5;241;43m=\u001B[39;49m\u001B[43mcollection_size\u001B[49m\u001B[43m,\u001B[49m\n\u001B[1;32m    460\u001B[0m \u001B[43m    \u001B[49m\u001B[43mprogbar_desc\u001B[49m\u001B[38;5;241;43m=\u001B[39;49m\u001B[43mpartial\u001B[49m\u001B[43m(\u001B[49m\u001B[43m_get_progbar_desc_str\u001B[49m\u001B[43m,\u001B[49m\u001B[43m \u001B[49m\u001B[43mlower_idx\u001B[49m\u001B[43m,\u001B[49m\u001B[43m \u001B[49m\u001B[43mphase\u001B[49m\u001B[43m)\u001B[49m\u001B[43m,\u001B[49m\n\u001B[1;32m    461\u001B[0m \u001B[43m    \u001B[49m\u001B[43mdiagnostics_fn\u001B[49m\u001B[38;5;241;43m=\u001B[39;49m\u001B[43mdiagnostics\u001B[49m\u001B[43m,\u001B[49m\n\u001B[1;32m    462\u001B[0m \u001B[43m    \u001B[49m\u001B[43mnum_chains\u001B[49m\u001B[38;5;241;43m=\u001B[39;49m\u001B[38;5;28;43mself\u001B[39;49m\u001B[38;5;241;43m.\u001B[39;49m\u001B[43mnum_chains\u001B[49m\u001B[43m \u001B[49m\u001B[38;5;28;43;01mif\u001B[39;49;00m\u001B[43m \u001B[49m\u001B[38;5;28;43mself\u001B[39;49m\u001B[38;5;241;43m.\u001B[39;49m\u001B[43mchain_method\u001B[49m\u001B[43m \u001B[49m\u001B[38;5;241;43m==\u001B[39;49m\u001B[43m \u001B[49m\u001B[38;5;124;43m\"\u001B[39;49m\u001B[38;5;124;43mparallel\u001B[39;49m\u001B[38;5;124;43m\"\u001B[39;49m\u001B[43m \u001B[49m\u001B[38;5;28;43;01melse\u001B[39;49;00m\u001B[43m \u001B[49m\u001B[38;5;241;43m1\u001B[39;49m\u001B[43m,\u001B[49m\n\u001B[1;32m    463\u001B[0m \u001B[43m\u001B[49m\u001B[43m)\u001B[49m\n\u001B[1;32m    464\u001B[0m states, last_val \u001B[38;5;241m=\u001B[39m collect_vals\n\u001B[1;32m    465\u001B[0m \u001B[38;5;66;03m# Get first argument of type `HMCState`\u001B[39;00m\n",
      "File \u001B[0;32m~/PycharmProjects/diffrax_STLA/venv/lib/python3.11/site-packages/numpyro/util.py:367\u001B[0m, in \u001B[0;36mfori_collect\u001B[0;34m(lower, upper, body_fun, init_val, transform, progbar, return_last_val, collection_size, thinning, **progbar_opts)\u001B[0m\n\u001B[1;32m    365\u001B[0m \u001B[38;5;28;01mwith\u001B[39;00m tqdm\u001B[38;5;241m.\u001B[39mtrange(upper) \u001B[38;5;28;01mas\u001B[39;00m t:\n\u001B[1;32m    366\u001B[0m     \u001B[38;5;28;01mfor\u001B[39;00m i \u001B[38;5;129;01min\u001B[39;00m t:\n\u001B[0;32m--> 367\u001B[0m         vals \u001B[38;5;241m=\u001B[39m \u001B[43mjit\u001B[49m\u001B[43m(\u001B[49m\u001B[43m_body_fn\u001B[49m\u001B[43m)\u001B[49m\u001B[43m(\u001B[49m\u001B[43mi\u001B[49m\u001B[43m,\u001B[49m\u001B[43m \u001B[49m\u001B[43mvals\u001B[49m\u001B[43m)\u001B[49m\n\u001B[1;32m    368\u001B[0m         t\u001B[38;5;241m.\u001B[39mset_description(progbar_desc(i), refresh\u001B[38;5;241m=\u001B[39m\u001B[38;5;28;01mFalse\u001B[39;00m)\n\u001B[1;32m    369\u001B[0m         \u001B[38;5;28;01mif\u001B[39;00m diagnostics_fn:\n",
      "File \u001B[0;32m<string>:1\u001B[0m, in \u001B[0;36m<lambda>\u001B[0;34m(_cls, step_size, inverse_mass_matrix, mass_matrix_sqrt, mass_matrix_sqrt_inv, ss_state, mm_state, window_idx, rng_key)\u001B[0m\n",
      "\u001B[0;31mKeyboardInterrupt\u001B[0m: "
     ]
    }
   ],
   "source": [
    "gt_nuts = MCMC(NUTS(model_logreg, step_size=2**-3), num_warmup=2**13, num_samples=2**15)\n",
    "gt_nuts.run(jr.PRNGKey(0))\n",
    "gt_logreg = vec_dict_to_array(gt_nuts.get_samples())\n",
    "np.save(f\"mcmc_data/{data_name}_ground_truth.npy\", gt_logreg)\n",
    "gt_logreg = np.load(f\"mcmc_data/{data_name}_ground_truth.npy\")\n",
    "size_gt_half = int(gt_logreg.shape[0] // 2)\n",
    "energy_bias = energy_distance(gt_logreg[:size_gt_half], gt_logreg[size_gt_half:])\n",
    "print(f\"Energy bias: {energy_bias:.4}\")"
   ]
  },
  {
   "cell_type": "code",
   "execution_count": 18,
   "id": "9b866c607224c7d4",
   "metadata": {
    "ExecuteTime": {
     "end_time": "2024-04-26T11:34:02.173979Z",
     "start_time": "2024-04-26T11:30:43.136389Z"
    }
   },
   "outputs": [
    {
     "name": "stdout",
     "output_type": "stream",
     "text": [
      "LMC: Steps warmup: 2300.2734375, steps mcmc: 24664.6640625, gradient evaluations per output: 210.66357421875\n",
      "(128, 256, 9)\n"
     ]
    }
   ],
   "source": [
    "num_chains = 2**7\n",
    "num_samples_per_chain = 2**8\n",
    "out_logreg_lmc, steps_logreg_lmc = run_lmc(\n",
    "    jr.PRNGKey(0),\n",
    "    potential_fn,\n",
    "    arr0,\n",
    "    num_chains,\n",
    "    num_samples_per_chain,\n",
    "    chain_sep=0.25,\n",
    "    tol=0.1,\n",
    "    warmup_mult=128.0,\n",
    "    warmup_tol_mult=4.0,\n",
    ")\n",
    "print(out_logreg_lmc.shape)"
   ]
  },
  {
   "cell_type": "code",
   "execution_count": 23,
   "id": "370c919e1db98307",
   "metadata": {
    "ExecuteTime": {
     "end_time": "2024-04-26T11:39:03.050673Z",
     "start_time": "2024-04-26T11:39:02.266831Z"
    }
   },
   "outputs": [
    {
     "name": "stdout",
     "output_type": "stream",
     "text": [
      "Effective sample size: [427.2759 323.3381 323.3381 323.3381 323.3381 323.3381 323.3381 323.3382\n",
      " 323.3381]:.4\n",
      "Gradient evals per effective sample: [63.109  83.3955 83.3955 83.3955 83.3955 83.3955 83.3955 83.3955 83.3955]\n",
      "Energy distance vs ground truth: 1.216e+08, energy distance vs self: 0.007298\n"
     ]
    }
   ],
   "source": [
    "eval_logreg(out_logreg_lmc, steps_logreg_lmc, gt_logreg)"
   ]
  },
  {
   "cell_type": "code",
   "execution_count": 8,
   "id": "47568f0f703122b5",
   "metadata": {
    "ExecuteTime": {
     "end_time": "2024-04-25T16:08:07.384563Z",
     "start_time": "2024-04-25T16:07:06.205686Z"
    }
   },
   "outputs": [
    {
     "name": "stderr",
     "output_type": "stream",
     "text": [
      "sample: 100%|██████████| 264/264 [00:59<00:00,  4.44it/s]\n"
     ]
    },
    {
     "name": "stdout",
     "output_type": "stream",
     "text": [
      "10.700408935546875\n"
     ]
    }
   ],
   "source": [
    "nuts = MCMC(\n",
    "    NUTS(model_logreg),\n",
    "    num_warmup=2**3,\n",
    "    num_samples=num_samples_per_chain,\n",
    "    num_chains=num_chains,\n",
    "    chain_method=\"vectorized\",\n",
    ")\n",
    "nuts.run(jr.PRNGKey(0), extra_fields=(\"num_steps\",))\n",
    "out_logreg_nuts = nuts.get_samples(group_by_chain=True)\n",
    "num_steps_nuts = nuts.get_extra_fields()[\"num_steps\"]\n",
    "geps_nuts = sum(num_steps_nuts) / len(num_steps_nuts)\n",
    "print(geps_nuts)"
   ]
  },
  {
   "cell_type": "code",
   "execution_count": 9,
   "id": "65cf79276c2501d7",
   "metadata": {
    "ExecuteTime": {
     "end_time": "2024-04-25T16:08:38.286240Z",
     "start_time": "2024-04-25T16:08:07.385089Z"
    }
   },
   "outputs": [
    {
     "name": "stdout",
     "output_type": "stream",
     "text": [
      "Effective sample size: [    nan 65.1355     nan]\n",
      "Gradient evals per effective sample: [    nan 21.0277     nan]\n",
      "W2 distance: 0.03975801461724085\n"
     ]
    },
    {
     "name": "stderr",
     "output_type": "stream",
     "text": [
      "/home/andy/PycharmProjects/diffrax_STLA/venv/lib/python3.11/site-packages/ot/lp/__init__.py:571: UserWarning: numItermax reached before optimality. Try to increase numItermax.\n",
      "  check_result(result_code)\n"
     ]
    }
   ],
   "source": [
    "eval_logreg(out_logreg_nuts, geps_nuts, gt_logreg)"
   ]
  },
  {
   "cell_type": "code",
   "id": "f2b826cca477206d",
   "metadata": {
    "collapsed": false,
    "ExecuteTime": {
     "end_time": "2024-04-26T12:15:42.349642Z",
     "start_time": "2024-04-26T12:15:42.345573Z"
    }
   },
   "source": [
    "import os\n",
    "\n",
    "\n",
    "def run_logreg_dataset(name):\n",
    "    model_logreg, data_split = get_model_and_data(data, name)\n",
    "    logreg_info = initialize_model(jr.PRNGKey(0), model_logreg)\n",
    "    arr0 = dict_to_array(logreg_info.param_info.z)\n",
    "\n",
    "    @jax.jit\n",
    "    def _potential_fn(arr: jnp.ndarray):\n",
    "        dct = array_to_dict(arr)\n",
    "        return logreg_info.potential_fn(dct)\n",
    "\n",
    "    # Compute ground truth\n",
    "    ground_truth_filename = f\"mcmc_data/{name}_ground_truth.npy\"\n",
    "    if os.path.isfile(ground_truth_filename):\n",
    "        ground_truth = np.load(ground_truth_filename)\n",
    "    else:\n",
    "        gt_nuts = MCMC(\n",
    "            NUTS(model_logreg, step_size=0.125), num_warmup=2**13, num_samples=2**15\n",
    "        )\n",
    "        gt_nuts.run(jr.PRNGKey(0))\n",
    "        ground_truth = vec_dict_to_array(gt_nuts.get_samples())\n",
    "        np.save(f\"mcmc_data/{name}_ground_truth.npy\", ground_truth)\n",
    "    size_gt_half = int(ground_truth.shape[0] // 2)\n",
    "    gt_energy_bias = energy_distance(\n",
    "        ground_truth[:size_gt_half], ground_truth[size_gt_half:]\n",
    "    )\n",
    "    print(f\"Ground truth energy bias: {gt_energy_bias:.4}\")\n",
    "    num_chains = 2**7\n",
    "    num_samples_per_chain = 2**8\n",
    "\n",
    "    out_logreg_lmc, steps_logreg_lmc = run_lmc(\n",
    "        jr.PRNGKey(0),\n",
    "        _potential_fn,\n",
    "        arr0,\n",
    "        num_chains,\n",
    "        num_samples_per_chain,\n",
    "        chain_sep=0.25,\n",
    "        tol=0.1,\n",
    "        warmup_mult=128.0,\n",
    "        warmup_tol_mult=8.0,\n",
    "    )\n",
    "    eval_logreg(out_logreg_lmc, steps_logreg_lmc, ground_truth)\n",
    "\n",
    "    nuts = MCMC(\n",
    "        NUTS(model_logreg),\n",
    "        num_warmup=2**8,\n",
    "        num_samples=num_samples_per_chain,\n",
    "        num_chains=num_chains,\n",
    "        chain_method=\"vectorized\",\n",
    "    )\n",
    "    nuts.run(jr.PRNGKey(0), extra_fields=(\"num_steps\",))\n",
    "    out_logreg_nuts = nuts.get_samples(group_by_chain=True)\n",
    "    num_steps_nuts = nuts.get_extra_fields()[\"num_steps\"]\n",
    "    geps_nuts = sum(num_steps_nuts) / len(num_steps_nuts)\n",
    "    print(f\"NUTS: Gradient evals per output: {geps_nuts:.4}\")\n",
    "    eval_logreg(out_logreg_nuts, geps_nuts, ground_truth)"
   ],
   "outputs": [],
   "execution_count": 2
  },
  {
   "cell_type": "code",
   "id": "fb6851c76c27702f",
   "metadata": {
    "ExecuteTime": {
     "end_time": "2024-04-26T12:15:43.820119Z",
     "start_time": "2024-04-26T12:15:43.817933Z"
    }
   },
   "source": [
    "names = [\n",
    "    \"banana\",\n",
    "    \"breast_cancer\",\n",
    "    \"diabetis\",\n",
    "    \"flare_solar\",\n",
    "    \"german\",\n",
    "    \"heart\",\n",
    "    \"image\",\n",
    "    \"ringnorm\",\n",
    "    \"splice\",\n",
    "    \"thyroid\",\n",
    "    \"titanic\",\n",
    "    \"twonorm\",\n",
    "    \"waveform\",\n",
    "]"
   ],
   "outputs": [],
   "execution_count": 3
  },
  {
   "cell_type": "code",
   "id": "e7e926ca753859d5",
   "metadata": {
    "ExecuteTime": {
     "end_time": "2024-04-26T22:06:31.672723Z",
     "start_time": "2024-04-26T12:15:47.778178Z"
    }
   },
   "source": [
    "import warnings\n",
    "\n",
    "\n",
    "with warnings.catch_warnings():\n",
    "    warnings.simplefilter(\"ignore\")\n",
    "    for name in names:\n",
    "        print(f\"==================== {name} ====================\")\n",
    "        run_logreg_dataset(name)\n",
    "        print()"
   ],
   "outputs": [
    {
     "name": "stdout",
     "output_type": "stream",
     "text": [
      "==================== banana ====================\n"
     ]
    },
    {
     "name": "stderr",
     "output_type": "stream",
     "text": [
      "sample: 100%|██████████| 40960/40960 [02:09<00:00, 316.86it/s, 7 steps of size 6.03e-01. acc. prob=0.92]\n"
     ]
    },
    {
     "name": "stdout",
     "output_type": "stream",
     "text": [
      "Ground truth energy bias: 0.0002429\n",
      "LMC: gradient evaluations per output: 337.6\n",
      "Effective sample size: [ 2413.727  7492.875 20134.305]\n",
      "Energy dist vs ground truth: 3.438, vs self: 0.0001769\n"
     ]
    },
    {
     "name": "stderr",
     "output_type": "stream",
     "text": [
      "sample: 100%|██████████| 512/512 [01:20<00:00,  6.32it/s]\n"
     ]
    },
    {
     "name": "stdout",
     "output_type": "stream",
     "text": [
      "NUTS: Gradient evals per output: 7.066\n",
      "Effective sample size: [11042.872 33694.531 22180.266]\n",
      "Energy dist vs ground truth: 0.0001309, vs self: 0.0004369\n",
      "\n",
      "==================== breast_cancer ====================\n"
     ]
    },
    {
     "name": "stderr",
     "output_type": "stream",
     "text": [
      "sample: 100%|██████████| 40960/40960 [01:55<00:00, 354.57it/s, 1 steps of size 3.90e-08. acc. prob=0.86]  \n"
     ]
    },
    {
     "name": "stdout",
     "output_type": "stream",
     "text": [
      "Ground truth energy bias: 2.925e+08\n",
      "LMC: gradient evaluations per output: 29.86\n",
      "Effective sample size: [568.704 323.338 323.339 323.338 323.343 323.341 323.338 323.344 323.299\n",
      " 323.342]\n",
      "Energy dist vs ground truth: 9.922e+10, vs self: 0.005908\n"
     ]
    },
    {
     "name": "stderr",
     "output_type": "stream",
     "text": [
      "sample: 100%|██████████| 512/512 [01:56<00:00,  4.38it/s]\n"
     ]
    },
    {
     "name": "stdout",
     "output_type": "stream",
     "text": [
      "NUTS: Gradient evals per output: 42.95\n",
      "Effective sample size: [64.421    nan 64.125 64.125    nan 64.125 64.125 64.125 64.125    nan]\n",
      "Energy dist vs ground truth: 2.803e+22, vs self: 1.101e+23\n",
      "\n",
      "==================== diabetis ====================\n"
     ]
    },
    {
     "name": "stderr",
     "output_type": "stream",
     "text": [
      "sample: 100%|██████████| 40960/40960 [3:24:13<00:00,  3.34it/s, 1023 steps of size 3.78e-16. acc. prob=0.82]  \n"
     ]
    },
    {
     "name": "stdout",
     "output_type": "stream",
     "text": [
      "Ground truth energy bias: 0.0\n",
      "LMC: gradient evaluations per output: 71.52\n",
      "Effective sample size: [572.847 323.338 323.338 323.338 323.338 323.338 323.338 323.338 323.338]\n",
      "Energy dist vs ground truth: 1.601e+11, vs self: 0.004434\n"
     ]
    },
    {
     "name": "stderr",
     "output_type": "stream",
     "text": [
      "sample: 100%|██████████| 512/512 [04:05<00:00,  2.09it/s]\n"
     ]
    },
    {
     "name": "stdout",
     "output_type": "stream",
     "text": [
      "NUTS: Gradient evals per output: 176.6\n",
      "Effective sample size: [   nan 64.125 64.125 64.125 64.125    nan 64.125 64.125    nan]\n",
      "Energy dist vs ground truth: 4.116e+18, vs self: 1.645e+19\n",
      "\n",
      "==================== flare_solar ====================\n"
     ]
    },
    {
     "name": "stderr",
     "output_type": "stream",
     "text": [
      "sample: 100%|██████████| 40960/40960 [09:19<00:00, 73.15it/s, 63 steps of size 7.83e-02. acc. prob=0.96]\n"
     ]
    },
    {
     "name": "stdout",
     "output_type": "stream",
     "text": [
      "Ground truth energy bias: 0.0001228\n"
     ]
    },
    {
     "name": "stderr",
     "output_type": "stream",
     "text": [
      "jax.pure_callback failed\n",
      "Traceback (most recent call last):\n",
      "  File \"/home/andy/PycharmProjects/diffrax_STLA/venv/lib/python3.11/site-packages/jax/_src/callback.py\", line 77, in pure_callback_impl\n",
      "    return callback(*args)\n",
      "           ^^^^^^^^^^^^^^^\n",
      "  File \"/home/andy/PycharmProjects/diffrax_STLA/venv/lib/python3.11/site-packages/jax/_src/callback.py\", line 65, in __call__\n",
      "    return tree_util.tree_leaves(self.callback_func(*args, **kwargs))\n",
      "                                 ^^^^^^^^^^^^^^^^^^^^^^^^^^^^^^^^^^^\n",
      "  File \"/home/andy/PycharmProjects/diffrax_STLA/venv/lib/python3.11/site-packages/equinox/_errors.py\", line 70, in raises\n",
      "    raise EqxRuntimeError(msgs[_index.item()])\n",
      "equinox._errors.EqxRuntimeError: The maximum number of solver steps was reached. Try increasing `max_steps`.\n",
      "E0426 23:06:31.385251   12784 pjrt_stream_executor_client.cc:2809] Execution of replica 0 failed: INTERNAL: CustomCall failed: CpuCallback error: Traceback (most recent call last):\n",
      "  File \"<frozen runpy>\", line 198, in _run_module_as_main\n",
      "  File \"<frozen runpy>\", line 88, in _run_code\n",
      "  File \"/home/andy/PycharmProjects/diffrax_STLA/venv/lib/python3.11/site-packages/ipykernel_launcher.py\", line 17, in <module>\n",
      "  File \"/home/andy/PycharmProjects/diffrax_STLA/venv/lib/python3.11/site-packages/traitlets/config/application.py\", line 1075, in launch_instance\n",
      "  File \"/home/andy/PycharmProjects/diffrax_STLA/venv/lib/python3.11/site-packages/ipykernel/kernelapp.py\", line 701, in start\n",
      "  File \"/home/andy/PycharmProjects/diffrax_STLA/venv/lib/python3.11/site-packages/tornado/platform/asyncio.py\", line 205, in start\n",
      "  File \"/usr/lib/python3.11/asyncio/base_events.py\", line 607, in run_forever\n",
      "  File \"/usr/lib/python3.11/asyncio/base_events.py\", line 1922, in _run_once\n",
      "  File \"/usr/lib/python3.11/asyncio/events.py\", line 80, in _run\n",
      "  File \"/home/andy/PycharmProjects/diffrax_STLA/venv/lib/python3.11/site-packages/ipykernel/kernelbase.py\", line 534, in dispatch_queue\n",
      "  File \"/home/andy/PycharmProjects/diffrax_STLA/venv/lib/python3.11/site-packages/ipykernel/kernelbase.py\", line 523, in process_one\n",
      "  File \"/home/andy/PycharmProjects/diffrax_STLA/venv/lib/python3.11/site-packages/ipykernel/kernelbase.py\", line 429, in dispatch_shell\n",
      "  File \"/home/andy/PycharmProjects/diffrax_STLA/venv/lib/python3.11/site-packages/ipykernel/kernelbase.py\", line 767, in execute_request\n",
      "  File \"/home/andy/PycharmProjects/diffrax_STLA/venv/lib/python3.11/site-packages/ipykernel/ipkernel.py\", line 429, in do_execute\n",
      "  File \"/home/andy/PycharmProjects/diffrax_STLA/venv/lib/python3.11/site-packages/ipykernel/zmqshell.py\", line 549, in run_cell\n",
      "  File \"/home/andy/PycharmProjects/diffrax_STLA/venv/lib/python3.11/site-packages/IPython/core/interactiveshell.py\", line 3051, in run_cell\n",
      "  File \"/home/andy/PycharmProjects/diffrax_STLA/venv/lib/python3.11/site-packages/IPython/core/interactiveshell.py\", line 3106, in _run_cell\n",
      "  File \"/home/andy/PycharmProjects/diffrax_STLA/venv/lib/python3.11/site-packages/IPython/core/async_helpers.py\", line 129, in _pseudo_sync_runner\n",
      "  File \"/home/andy/PycharmProjects/diffrax_STLA/venv/lib/python3.11/site-packages/IPython/core/interactiveshell.py\", line 3311, in run_cell_async\n",
      "  File \"/home/andy/PycharmProjects/diffrax_STLA/venv/lib/python3.11/site-packages/IPython/core/interactiveshell.py\", line 3493, in run_ast_nodes\n",
      "  File \"/home/andy/PycharmProjects/diffrax_STLA/venv/lib/python3.11/site-packages/IPython/core/interactiveshell.py\", line 3553, in run_code\n",
      "  File \"/tmp/ipykernel_12784/743700560.py\", line 8, in <module>\n",
      "  File \"/tmp/ipykernel_12784/2988138139.py\", line 33, in run_logreg_dataset\n",
      "  File \"/home/andy/PycharmProjects/diffrax_STLA/mcmc/main.py\", line 64, in run_lmc\n",
      "  File \"/home/andy/PycharmProjects/diffrax_STLA/venv/lib/python3.11/site-packages/equinox/_jit.py\", line 206, in __call__\n",
      "  File \"/home/andy/PycharmProjects/diffrax_STLA/venv/lib/python3.11/site-packages/equinox/_module.py\", line 935, in __call__\n",
      "  File \"/home/andy/PycharmProjects/diffrax_STLA/venv/lib/python3.11/site-packages/equinox/_jit.py\", line 200, in _call\n",
      "  File \"/home/andy/PycharmProjects/diffrax_STLA/venv/lib/python3.11/site-packages/jax/_src/traceback_util.py\", line 179, in reraise_with_filtered_traceback\n",
      "  File \"/home/andy/PycharmProjects/diffrax_STLA/venv/lib/python3.11/site-packages/jax/_src/pjit.py\", line 298, in cache_miss\n",
      "  File \"/home/andy/PycharmProjects/diffrax_STLA/venv/lib/python3.11/site-packages/jax/_src/pjit.py\", line 176, in _python_pjit_helper\n",
      "  File \"/home/andy/PycharmProjects/diffrax_STLA/venv/lib/python3.11/site-packages/jax/_src/core.py\", line 2788, in bind\n",
      "  File \"/home/andy/PycharmProjects/diffrax_STLA/venv/lib/python3.11/site-packages/jax/_src/core.py\", line 425, in bind_with_trace\n",
      "  File \"/home/andy/PycharmProjects/diffrax_STLA/venv/lib/python3.11/site-packages/jax/_src/core.py\", line 913, in process_primitive\n",
      "  File \"/home/andy/PycharmProjects/diffrax_STLA/venv/lib/python3.11/site-packages/jax/_src/pjit.py\", line 1488, in _pjit_call_impl\n",
      "  File \"/home/andy/PycharmProjects/diffrax_STLA/venv/lib/python3.11/site-packages/jax/_src/pjit.py\", line 1471, in call_impl_cache_miss\n",
      "  File \"/home/andy/PycharmProjects/diffrax_STLA/venv/lib/python3.11/site-packages/jax/_src/pjit.py\", line 1427, in _pjit_call_impl_python\n",
      "  File \"/home/andy/PycharmProjects/diffrax_STLA/venv/lib/python3.11/site-packages/jax/_src/profiler.py\", line 335, in wrapper\n",
      "  File \"/home/andy/PycharmProjects/diffrax_STLA/venv/lib/python3.11/site-packages/jax/_src/interpreters/pxla.py\", line 1205, in __call__\n",
      "  File \"/home/andy/PycharmProjects/diffrax_STLA/venv/lib/python3.11/site-packages/jax/_src/interpreters/mlir.py\", line 2466, in _wrapped_callback\n",
      "  File \"/home/andy/PycharmProjects/diffrax_STLA/venv/lib/python3.11/site-packages/jax/_src/callback.py\", line 219, in _callback\n",
      "  File \"/home/andy/PycharmProjects/diffrax_STLA/venv/lib/python3.11/site-packages/jax/_src/callback.py\", line 80, in pure_callback_impl\n",
      "  File \"/home/andy/PycharmProjects/diffrax_STLA/venv/lib/python3.11/site-packages/jax/_src/callback.py\", line 65, in __call__\n",
      "  File \"/home/andy/PycharmProjects/diffrax_STLA/venv/lib/python3.11/site-packages/equinox/_errors.py\", line 70, in raises\n",
      "EqxRuntimeError: The maximum number of solver steps was reached. Try increasing `max_steps`.\n"
     ]
    },
    {
     "ename": "ValueError",
     "evalue": "not enough values to unpack (expected 2, got 1)",
     "output_type": "error",
     "traceback": [
      "\u001B[0;31m---------------------------------------------------------------------------\u001B[0m",
      "\u001B[0;31mXlaRuntimeError\u001B[0m                           Traceback (most recent call last)",
      "    \u001B[0;31m[... skipping hidden 13 frame]\u001B[0m\n",
      "File \u001B[0;32m~/PycharmProjects/diffrax_STLA/venv/lib/python3.11/site-packages/jax/_src/interpreters/pxla.py:1205\u001B[0m, in \u001B[0;36mExecuteReplicated.__call__\u001B[0;34m(self, *args)\u001B[0m\n\u001B[1;32m   1204\u001B[0m input_bufs \u001B[38;5;241m=\u001B[39m \u001B[38;5;28mself\u001B[39m\u001B[38;5;241m.\u001B[39m_add_tokens_to_inputs(input_bufs)\n\u001B[0;32m-> 1205\u001B[0m results \u001B[38;5;241m=\u001B[39m \u001B[38;5;28;43mself\u001B[39;49m\u001B[38;5;241;43m.\u001B[39;49m\u001B[43mxla_executable\u001B[49m\u001B[38;5;241;43m.\u001B[39;49m\u001B[43mexecute_sharded\u001B[49m\u001B[43m(\u001B[49m\n\u001B[1;32m   1206\u001B[0m \u001B[43m    \u001B[49m\u001B[43minput_bufs\u001B[49m\u001B[43m,\u001B[49m\u001B[43m \u001B[49m\u001B[43mwith_tokens\u001B[49m\u001B[38;5;241;43m=\u001B[39;49m\u001B[38;5;28;43;01mTrue\u001B[39;49;00m\n\u001B[1;32m   1207\u001B[0m \u001B[43m\u001B[49m\u001B[43m)\u001B[49m\n\u001B[1;32m   1208\u001B[0m result_token_bufs \u001B[38;5;241m=\u001B[39m results\u001B[38;5;241m.\u001B[39mdisassemble_prefix_into_single_device_arrays(\n\u001B[1;32m   1209\u001B[0m     \u001B[38;5;28mlen\u001B[39m(\u001B[38;5;28mself\u001B[39m\u001B[38;5;241m.\u001B[39mordered_effects))\n",
      "\u001B[0;31mXlaRuntimeError\u001B[0m: INTERNAL: CustomCall failed: CpuCallback error: Traceback (most recent call last):\n  File \"<frozen runpy>\", line 198, in _run_module_as_main\n  File \"<frozen runpy>\", line 88, in _run_code\n  File \"/home/andy/PycharmProjects/diffrax_STLA/venv/lib/python3.11/site-packages/ipykernel_launcher.py\", line 17, in <module>\n  File \"/home/andy/PycharmProjects/diffrax_STLA/venv/lib/python3.11/site-packages/traitlets/config/application.py\", line 1075, in launch_instance\n  File \"/home/andy/PycharmProjects/diffrax_STLA/venv/lib/python3.11/site-packages/ipykernel/kernelapp.py\", line 701, in start\n  File \"/home/andy/PycharmProjects/diffrax_STLA/venv/lib/python3.11/site-packages/tornado/platform/asyncio.py\", line 205, in start\n  File \"/usr/lib/python3.11/asyncio/base_events.py\", line 607, in run_forever\n  File \"/usr/lib/python3.11/asyncio/base_events.py\", line 1922, in _run_once\n  File \"/usr/lib/python3.11/asyncio/events.py\", line 80, in _run\n  File \"/home/andy/PycharmProjects/diffrax_STLA/venv/lib/python3.11/site-packages/ipykernel/kernelbase.py\", line 534, in dispatch_queue\n  File \"/home/andy/PycharmProjects/diffrax_STLA/venv/lib/python3.11/site-packages/ipykernel/kernelbase.py\", line 523, in process_one\n  File \"/home/andy/PycharmProjects/diffrax_STLA/venv/lib/python3.11/site-packages/ipykernel/kernelbase.py\", line 429, in dispatch_shell\n  File \"/home/andy/PycharmProjects/diffrax_STLA/venv/lib/python3.11/site-packages/ipykernel/kernelbase.py\", line 767, in execute_request\n  File \"/home/andy/PycharmProjects/diffrax_STLA/venv/lib/python3.11/site-packages/ipykernel/ipkernel.py\", line 429, in do_execute\n  File \"/home/andy/PycharmProjects/diffrax_STLA/venv/lib/python3.11/site-packages/ipykernel/zmqshell.py\", line 549, in run_cell\n  File \"/home/andy/PycharmProjects/diffrax_STLA/venv/lib/python3.11/site-packages/IPython/core/interactiveshell.py\", line 3051, in run_cell\n  File \"/home/andy/PycharmProjects/diffrax_STLA/venv/lib/python3.11/site-packages/IPython/core/interactiveshell.py\", line 3106, in _run_cell\n  File \"/home/andy/PycharmProjects/diffrax_STLA/venv/lib/python3.11/site-packages/IPython/core/async_helpers.py\", line 129, in _pseudo_sync_runner\n  File \"/home/andy/PycharmProjects/diffrax_STLA/venv/lib/python3.11/site-packages/IPython/core/interactiveshell.py\", line 3311, in run_cell_async\n  File \"/home/andy/PycharmProjects/diffrax_STLA/venv/lib/python3.11/site-packages/IPython/core/interactiveshell.py\", line 3493, in run_ast_nodes\n  File \"/home/andy/PycharmProjects/diffrax_STLA/venv/lib/python3.11/site-packages/IPython/core/interactiveshell.py\", line 3553, in run_code\n  File \"/tmp/ipykernel_12784/743700560.py\", line 8, in <module>\n  File \"/tmp/ipykernel_12784/2988138139.py\", line 33, in run_logreg_dataset\n  File \"/home/andy/PycharmProjects/diffrax_STLA/mcmc/main.py\", line 64, in run_lmc\n  File \"/home/andy/PycharmProjects/diffrax_STLA/venv/lib/python3.11/site-packages/equinox/_jit.py\", line 206, in __call__\n  File \"/home/andy/PycharmProjects/diffrax_STLA/venv/lib/python3.11/site-packages/equinox/_module.py\", line 935, in __call__\n  File \"/home/andy/PycharmProjects/diffrax_STLA/venv/lib/python3.11/site-packages/equinox/_jit.py\", line 200, in _call\n  File \"/home/andy/PycharmProjects/diffrax_STLA/venv/lib/python3.11/site-packages/jax/_src/traceback_util.py\", line 179, in reraise_with_filtered_traceback\n  File \"/home/andy/PycharmProjects/diffrax_STLA/venv/lib/python3.11/site-packages/jax/_src/pjit.py\", line 298, in cache_miss\n  File \"/home/andy/PycharmProjects/diffrax_STLA/venv/lib/python3.11/site-packages/jax/_src/pjit.py\", line 176, in _python_pjit_helper\n  File \"/home/andy/PycharmProjects/diffrax_STLA/venv/lib/python3.11/site-packages/jax/_src/core.py\", line 2788, in bind\n  File \"/home/andy/PycharmProjects/diffrax_STLA/venv/lib/python3.11/site-packages/jax/_src/core.py\", line 425, in bind_with_trace\n  File \"/home/andy/PycharmProjects/diffrax_STLA/venv/lib/python3.11/site-packages/jax/_src/core.py\", line 913, in process_primitive\n  File \"/home/andy/PycharmProjects/diffrax_STLA/venv/lib/python3.11/site-packages/jax/_src/pjit.py\", line 1488, in _pjit_call_impl\n  File \"/home/andy/PycharmProjects/diffrax_STLA/venv/lib/python3.11/site-packages/jax/_src/pjit.py\", line 1471, in call_impl_cache_miss\n  File \"/home/andy/PycharmProjects/diffrax_STLA/venv/lib/python3.11/site-packages/jax/_src/pjit.py\", line 1427, in _pjit_call_impl_python\n  File \"/home/andy/PycharmProjects/diffrax_STLA/venv/lib/python3.11/site-packages/jax/_src/profiler.py\", line 335, in wrapper\n  File \"/home/andy/PycharmProjects/diffrax_STLA/venv/lib/python3.11/site-packages/jax/_src/interpreters/pxla.py\", line 1205, in __call__\n  File \"/home/andy/PycharmProjects/diffrax_STLA/venv/lib/python3.11/site-packages/jax/_src/interpreters/mlir.py\", line 2466, in _wrapped_callback\n  File \"/home/andy/PycharmProjects/diffrax_STLA/venv/lib/python3.11/site-packages/jax/_src/callback.py\", line 219, in _callback\n  File \"/home/andy/PycharmProjects/diffrax_STLA/venv/lib/python3.11/site-packages/jax/_src/callback.py\", line 80, in pure_callback_impl\n  File \"/home/andy/PycharmProjects/diffrax_STLA/venv/lib/python3.11/site-packages/jax/_src/callback.py\", line 65, in __call__\n  File \"/home/andy/PycharmProjects/diffrax_STLA/venv/lib/python3.11/site-packages/equinox/_errors.py\", line 70, in raises\nEqxRuntimeError: The maximum number of solver steps was reached. Try increasing `max_steps`.",
      "\nDuring handling of the above exception, another exception occurred:\n",
      "\u001B[0;31mValueError\u001B[0m                                Traceback (most recent call last)",
      "Cell \u001B[0;32mIn[4], line 8\u001B[0m\n\u001B[1;32m      6\u001B[0m \u001B[38;5;28;01mfor\u001B[39;00m name \u001B[38;5;129;01min\u001B[39;00m names:\n\u001B[1;32m      7\u001B[0m     \u001B[38;5;28mprint\u001B[39m(\u001B[38;5;124mf\u001B[39m\u001B[38;5;124m\"\u001B[39m\u001B[38;5;124m==================== \u001B[39m\u001B[38;5;132;01m{\u001B[39;00mname\u001B[38;5;132;01m}\u001B[39;00m\u001B[38;5;124m ====================\u001B[39m\u001B[38;5;124m\"\u001B[39m)\n\u001B[0;32m----> 8\u001B[0m     \u001B[43mrun_logreg_dataset\u001B[49m\u001B[43m(\u001B[49m\u001B[43mname\u001B[49m\u001B[43m)\u001B[49m\n\u001B[1;32m      9\u001B[0m     \u001B[38;5;28mprint\u001B[39m()\n",
      "Cell \u001B[0;32mIn[2], line 33\u001B[0m, in \u001B[0;36mrun_logreg_dataset\u001B[0;34m(name)\u001B[0m\n\u001B[1;32m     30\u001B[0m num_chains \u001B[38;5;241m=\u001B[39m \u001B[38;5;241m2\u001B[39m\u001B[38;5;241m*\u001B[39m\u001B[38;5;241m*\u001B[39m\u001B[38;5;241m7\u001B[39m\n\u001B[1;32m     31\u001B[0m num_samples_per_chain \u001B[38;5;241m=\u001B[39m \u001B[38;5;241m2\u001B[39m\u001B[38;5;241m*\u001B[39m\u001B[38;5;241m*\u001B[39m\u001B[38;5;241m8\u001B[39m\n\u001B[0;32m---> 33\u001B[0m out_logreg_lmc, steps_logreg_lmc \u001B[38;5;241m=\u001B[39m \u001B[43mrun_lmc\u001B[49m\u001B[43m(\u001B[49m\n\u001B[1;32m     34\u001B[0m \u001B[43m    \u001B[49m\u001B[43mjr\u001B[49m\u001B[38;5;241;43m.\u001B[39;49m\u001B[43mPRNGKey\u001B[49m\u001B[43m(\u001B[49m\u001B[38;5;241;43m0\u001B[39;49m\u001B[43m)\u001B[49m\u001B[43m,\u001B[49m\n\u001B[1;32m     35\u001B[0m \u001B[43m    \u001B[49m\u001B[43m_potential_fn\u001B[49m\u001B[43m,\u001B[49m\n\u001B[1;32m     36\u001B[0m \u001B[43m    \u001B[49m\u001B[43marr0\u001B[49m\u001B[43m,\u001B[49m\n\u001B[1;32m     37\u001B[0m \u001B[43m    \u001B[49m\u001B[43mnum_chains\u001B[49m\u001B[43m,\u001B[49m\n\u001B[1;32m     38\u001B[0m \u001B[43m    \u001B[49m\u001B[43mnum_samples_per_chain\u001B[49m\u001B[43m,\u001B[49m\n\u001B[1;32m     39\u001B[0m \u001B[43m    \u001B[49m\u001B[43mchain_sep\u001B[49m\u001B[38;5;241;43m=\u001B[39;49m\u001B[38;5;241;43m0.25\u001B[39;49m\u001B[43m,\u001B[49m\n\u001B[1;32m     40\u001B[0m \u001B[43m    \u001B[49m\u001B[43mtol\u001B[49m\u001B[38;5;241;43m=\u001B[39;49m\u001B[38;5;241;43m0.1\u001B[39;49m\u001B[43m,\u001B[49m\n\u001B[1;32m     41\u001B[0m \u001B[43m    \u001B[49m\u001B[43mwarmup_mult\u001B[49m\u001B[38;5;241;43m=\u001B[39;49m\u001B[38;5;241;43m128.0\u001B[39;49m\u001B[43m,\u001B[49m\n\u001B[1;32m     42\u001B[0m \u001B[43m    \u001B[49m\u001B[43mwarmup_tol_mult\u001B[49m\u001B[38;5;241;43m=\u001B[39;49m\u001B[38;5;241;43m8.0\u001B[39;49m\u001B[43m,\u001B[49m\n\u001B[1;32m     43\u001B[0m \u001B[43m\u001B[49m\u001B[43m)\u001B[49m\n\u001B[1;32m     44\u001B[0m eval_logreg(out_logreg_lmc, steps_logreg_lmc, ground_truth)\n\u001B[1;32m     46\u001B[0m nuts \u001B[38;5;241m=\u001B[39m MCMC(\n\u001B[1;32m     47\u001B[0m     NUTS(model_logreg),\n\u001B[1;32m     48\u001B[0m     num_warmup\u001B[38;5;241m=\u001B[39m\u001B[38;5;241m2\u001B[39m\u001B[38;5;241m*\u001B[39m\u001B[38;5;241m*\u001B[39m\u001B[38;5;241m8\u001B[39m,\n\u001B[0;32m   (...)\u001B[0m\n\u001B[1;32m     51\u001B[0m     chain_method\u001B[38;5;241m=\u001B[39m\u001B[38;5;124m\"\u001B[39m\u001B[38;5;124mvectorized\u001B[39m\u001B[38;5;124m\"\u001B[39m,\n\u001B[1;32m     52\u001B[0m )\n",
      "File \u001B[0;32m~/PycharmProjects/diffrax_STLA/mcmc/main.py:64\u001B[0m, in \u001B[0;36mrun_lmc\u001B[0;34m(key, log_p, x0, num_particles, chain_len, chain_sep, tol, warmup_mult, warmup_tol_mult, use_adaptive, solver)\u001B[0m\n\u001B[1;32m     61\u001B[0m \u001B[38;5;28;01melse\u001B[39;00m:\n\u001B[1;32m     62\u001B[0m     controller_warmup \u001B[38;5;241m=\u001B[39m ConstantStepSize()\n\u001B[0;32m---> 64\u001B[0m out_warmup, steps_warmup \u001B[38;5;241m=\u001B[39m \u001B[43m_batch_sde_solve\u001B[49m\u001B[43m(\u001B[49m\n\u001B[1;32m     65\u001B[0m \u001B[43m    \u001B[49m\u001B[43mkeys_warmup\u001B[49m\u001B[43m,\u001B[49m\n\u001B[1;32m     66\u001B[0m \u001B[43m    \u001B[49m\u001B[43mget_terms\u001B[49m\u001B[43m,\u001B[49m\n\u001B[1;32m     67\u001B[0m \u001B[43m    \u001B[49m\u001B[43mw_shape\u001B[49m\u001B[43m,\u001B[49m\n\u001B[1;32m     68\u001B[0m \u001B[43m    \u001B[49m\u001B[38;5;241;43m0.0\u001B[39;49m\u001B[43m,\u001B[49m\n\u001B[1;32m     69\u001B[0m \u001B[43m    \u001B[49m\u001B[43mt_warmup\u001B[49m\u001B[43m,\u001B[49m\n\u001B[1;32m     70\u001B[0m \u001B[43m    \u001B[49m\u001B[43my0\u001B[49m\u001B[43m,\u001B[49m\n\u001B[1;32m     71\u001B[0m \u001B[43m    \u001B[49m\u001B[38;5;28;43;01mNone\u001B[39;49;00m\u001B[43m,\u001B[49m\n\u001B[1;32m     72\u001B[0m \u001B[43m    \u001B[49m\u001B[43msolver\u001B[49m\u001B[43m,\u001B[49m\n\u001B[1;32m     73\u001B[0m \u001B[43m    \u001B[49m\u001B[43mSpaceTimeTimeLevyArea\u001B[49m\u001B[43m,\u001B[49m\n\u001B[1;32m     74\u001B[0m \u001B[43m    \u001B[49m\u001B[43mtol_warmup\u001B[49m\u001B[43m,\u001B[49m\n\u001B[1;32m     75\u001B[0m \u001B[43m    \u001B[49m\u001B[43mcontroller_warmup\u001B[49m\u001B[43m,\u001B[49m\n\u001B[1;32m     76\u001B[0m \u001B[43m    \u001B[49m\u001B[38;5;241;43m2\u001B[39;49m\u001B[38;5;241;43m*\u001B[39;49m\u001B[38;5;241;43m*\u001B[39;49m\u001B[38;5;241;43m-\u001B[39;49m\u001B[38;5;241;43m9\u001B[39;49m\u001B[43m,\u001B[49m\n\u001B[1;32m     77\u001B[0m \u001B[43m    \u001B[49m\u001B[43mSaveAt\u001B[49m\u001B[43m(\u001B[49m\u001B[43mt1\u001B[49m\u001B[38;5;241;43m=\u001B[39;49m\u001B[38;5;28;43;01mTrue\u001B[39;49;00m\u001B[43m)\u001B[49m\u001B[43m,\u001B[49m\n\u001B[1;32m     78\u001B[0m \u001B[43m\u001B[49m\u001B[43m)\u001B[49m\n\u001B[1;32m     79\u001B[0m y_warm \u001B[38;5;241m=\u001B[39m jtu\u001B[38;5;241m.\u001B[39mtree_map(\n\u001B[1;32m     80\u001B[0m     \u001B[38;5;28;01mlambda\u001B[39;00m x: jnp\u001B[38;5;241m.\u001B[39mnan_to_num(x[:, \u001B[38;5;241m0\u001B[39m], nan\u001B[38;5;241m=\u001B[39m\u001B[38;5;241m0\u001B[39m, posinf\u001B[38;5;241m=\u001B[39m\u001B[38;5;241m0\u001B[39m, neginf\u001B[38;5;241m=\u001B[39m\u001B[38;5;241m0\u001B[39m), out_warmup\n\u001B[1;32m     81\u001B[0m )\n\u001B[1;32m     83\u001B[0m t0_mcmc \u001B[38;5;241m=\u001B[39m \u001B[38;5;241m4\u001B[39m \u001B[38;5;241m*\u001B[39m chain_sep\n",
      "File \u001B[0;32m~/PycharmProjects/diffrax_STLA/venv/lib/python3.11/site-packages/equinox/_jit.py:215\u001B[0m, in \u001B[0;36m_JitWrapper.__call__\u001B[0;34m(self, *args, **kwargs)\u001B[0m\n\u001B[1;32m    213\u001B[0m \u001B[38;5;28;01mif\u001B[39;00m \u001B[38;5;124m\"\u001B[39m\u001B[38;5;124mEqxRuntimeError: \u001B[39m\u001B[38;5;124m\"\u001B[39m \u001B[38;5;129;01min\u001B[39;00m msg:\n\u001B[1;32m    214\u001B[0m     _, msg \u001B[38;5;241m=\u001B[39m msg\u001B[38;5;241m.\u001B[39msplit(\u001B[38;5;124m\"\u001B[39m\u001B[38;5;124mEqxRuntimeError: \u001B[39m\u001B[38;5;124m\"\u001B[39m, \u001B[38;5;241m1\u001B[39m)\n\u001B[0;32m--> 215\u001B[0m     msg, _ \u001B[38;5;241m=\u001B[39m msg\u001B[38;5;241m.\u001B[39mrsplit(\u001B[38;5;124m\"\u001B[39m\u001B[38;5;130;01m\\n\u001B[39;00m\u001B[38;5;130;01m\\n\u001B[39;00m\u001B[38;5;124mAt:\u001B[39m\u001B[38;5;130;01m\\n\u001B[39;00m\u001B[38;5;124m\"\u001B[39m, \u001B[38;5;241m1\u001B[39m)\n\u001B[1;32m    216\u001B[0m     msg \u001B[38;5;241m=\u001B[39m msg \u001B[38;5;241m+\u001B[39m _eqx_on_error_msg\n\u001B[1;32m    217\u001B[0m     e\u001B[38;5;241m.\u001B[39margs \u001B[38;5;241m=\u001B[39m (msg,)\n",
      "\u001B[0;31mValueError\u001B[0m: not enough values to unpack (expected 2, got 1)"
     ]
    }
   ],
   "execution_count": 4
  },
  {
   "metadata": {},
   "cell_type": "code",
   "outputs": [],
   "execution_count": null,
   "source": "",
   "id": "2f0934ba3585949a"
  }
 ],
 "metadata": {
  "kernelspec": {
   "display_name": "Python 3",
   "language": "python",
   "name": "python3"
  },
  "language_info": {
   "codemirror_mode": {
    "name": "ipython",
    "version": 2
   },
   "file_extension": ".py",
   "mimetype": "text/x-python",
   "name": "python",
   "nbconvert_exporter": "python",
   "pygments_lexer": "ipython2",
   "version": "2.7.6"
  }
 },
 "nbformat": 4,
 "nbformat_minor": 5
}
