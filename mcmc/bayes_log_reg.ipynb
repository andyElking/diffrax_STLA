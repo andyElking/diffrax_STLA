{
 "cells": [
  {
   "cell_type": "code",
   "execution_count": 1,
   "id": "initial_id",
   "metadata": {
    "ExecuteTime": {
     "end_time": "2024-07-26T14:40:00.160211Z",
     "start_time": "2024-07-26T14:39:58.248914Z"
    },
    "collapsed": true
   },
   "outputs": [
    {
     "name": "stdout",
     "output_type": "stream",
     "text": [
      "env: JAX_PLATFORM_NAME=cuda\n",
      "[cuda(id=0)]\n",
      "Data shape: (5300, 2)\n"
     ]
    }
   ],
   "source": [
    "%env JAX_PLATFORM_NAME=cuda\n",
    "\n",
    "import warnings\n",
    "from functools import partial\n",
    "\n",
    "import jax\n",
    "import jax.numpy as jnp\n",
    "import jax.random as jr\n",
    "import jax.tree_util as jtu\n",
    "import numpy as np\n",
    "import numpyro\n",
    "import ot\n",
    "import scipy\n",
    "from jax import Array\n",
    "from numpyro import diagnostics, distributions as dist\n",
    "from numpyro.infer import MCMC, NUTS\n",
    "\n",
    "from mcmc import run_lmc_numpyro\n",
    "\n",
    "\n",
    "warnings.simplefilter(\"ignore\", FutureWarning)\n",
    "\n",
    "jnp.set_printoptions(precision=3, suppress=True)\n",
    "jax.config.update(\"jax_enable_x64\", True)\n",
    "print(jax.devices(\"cuda\"))\n",
    "\n",
    "\n",
    "def get_model_and_data(data, name):\n",
    "    dset = data[name][0, 0]\n",
    "    x = dset[\"x\"]\n",
    "    labels = jnp.squeeze(dset[\"t\"])\n",
    "    # labels are -1 and 1, convert to 0 and 1\n",
    "    labels = (labels + 1) / 2\n",
    "    n, data_dim = x.shape\n",
    "    print(f\"Data shape: {x.shape}\")\n",
    "\n",
    "    # randomly shuffle the data\n",
    "    perm = jax.random.permutation(jr.PRNGKey(0), n)\n",
    "    x = x[perm]\n",
    "    labels = labels[perm]\n",
    "\n",
    "    n_train = min(int(n * 0.8), 500)\n",
    "    x_train = x[:n_train]\n",
    "    labels_train = labels[:n_train]\n",
    "    x_test = x[n_train:]\n",
    "    labels_test = labels[n_train:]\n",
    "\n",
    "    def model(x, labels):\n",
    "        alpha = numpyro.sample(\"alpha\", dist.Exponential(0.01))\n",
    "        W = numpyro.sample(\"W\", dist.Normal(jnp.zeros(data_dim), 1.0 / alpha))\n",
    "        b = numpyro.sample(\"b\", dist.Normal(jnp.zeros((1,)), 1.0 / alpha))\n",
    "        logits = jnp.sum(W * x + b, axis=-1)\n",
    "        return numpyro.sample(\"obs\", dist.Bernoulli(logits=logits), obs=labels)\n",
    "\n",
    "    return model, (x_train, labels_train, x_test, labels_test)\n",
    "\n",
    "\n",
    "def compute_w2(x1, x2, num_iters):\n",
    "    source_samples = np.array(x1)\n",
    "    target_samples = np.array(x2)\n",
    "    source_weights = np.ones(source_samples.shape[0]) / source_samples.shape[0]\n",
    "    target_weights = np.ones(target_samples.shape[0]) / target_samples.shape[0]\n",
    "    mm = ot.dist(source_samples, target_samples)\n",
    "    return ot.emd2(source_weights, target_weights, mm, numItermax=num_iters)\n",
    "\n",
    "\n",
    "@partial(jax.jit, static_argnames=(\"max_len\",))\n",
    "def energy_distance(x: Array, y: Array, max_len: int = 2**15):\n",
    "    assert y.ndim == x.ndim\n",
    "    assert x.shape[1:] == y.shape[1:]\n",
    "    if x.shape[0] > max_len:\n",
    "        x = x[:max_len]\n",
    "    if y.shape[0] > max_len:\n",
    "        y = y[:max_len]\n",
    "\n",
    "    @partial(jax.vmap, in_axes=(None, 0))\n",
    "    def _dist_single(_x, _y_single):\n",
    "        assert _x.ndim == _y_single.ndim + 1, f\"{_x.ndim} != {_y_single.ndim + 1}\"\n",
    "        diff = _x - _y_single\n",
    "        if x.ndim > 1:\n",
    "            # take the norm over all axes except the first one\n",
    "            diff = jnp.sqrt(jnp.sum(diff**2, axis=tuple(range(1, diff.ndim))))\n",
    "        return jnp.mean(jnp.abs(diff))\n",
    "\n",
    "    def dist(_x, _y):\n",
    "        assert _x.ndim == _y.ndim\n",
    "        return jnp.mean(_dist_single(_x, _y))\n",
    "\n",
    "    return 2 * dist(x, y) - dist(x, x) - dist(y, y)\n",
    "\n",
    "\n",
    "def dict_to_array(dct: dict):\n",
    "    alpha = dct[\"alpha\"]\n",
    "    alpha = jnp.expand_dims(alpha, alpha.ndim)\n",
    "    b = dct[\"b\"]\n",
    "    return jnp.concatenate([alpha, b, dct[\"W\"]], axis=-1)\n",
    "\n",
    "\n",
    "vec_dict_to_array = jax.jit(jax.vmap(dict_to_array, in_axes=0, out_axes=0))\n",
    "\n",
    "\n",
    "def predict(x, samples):\n",
    "    sum = jnp.sum(samples[:, 2:] * x + samples[:, 1:2], axis=-1)\n",
    "    # apply sigmoid\n",
    "    return 1.0 / (1.0 + jnp.exp(-sum))\n",
    "\n",
    "\n",
    "def test_accuracy(x_test, labels_test, samples):\n",
    "    if isinstance(samples, dict):\n",
    "        samples = vec_dict_to_array(samples)\n",
    "    sample_dim = samples.shape[-1]\n",
    "    samples = jnp.reshape(samples, (-1, sample_dim))\n",
    "    if samples.shape[0] > 2**10:\n",
    "        samples = samples[: 2**10]\n",
    "\n",
    "    func = jax.jit(jax.vmap(lambda x: predict(x, samples), in_axes=0, out_axes=0))\n",
    "    predictions = func(x_test)\n",
    "    assert predictions.shape == (\n",
    "        labels_test.shape[0],\n",
    "        samples.shape[0],\n",
    "    ), f\"{predictions.shape} != {(labels_test.shape[0], samples.shape[0])}\"\n",
    "\n",
    "    labels_test = jnp.reshape(labels_test, (labels_test.shape[0], 1))\n",
    "    is_correct = jnp.abs(predictions - labels_test) < 0.5\n",
    "    accuracy_per_sample = jnp.mean(is_correct, axis=0)\n",
    "\n",
    "    avg_accuracy = jnp.mean(accuracy_per_sample)\n",
    "\n",
    "    len10 = int(0.1 * accuracy_per_sample.shape[0])\n",
    "    best_sorted = jnp.sort(accuracy_per_sample)[len10:]\n",
    "    accuracy_best90 = jnp.mean(best_sorted)\n",
    "    return avg_accuracy, accuracy_best90\n",
    "\n",
    "\n",
    "def eval_logreg(\n",
    "    samples,\n",
    "    evals_per_sample=None,\n",
    "    ground_truth=None,\n",
    "    num_iters_w2=0,\n",
    "    x_test=None,\n",
    "    labels_test=None,\n",
    "):\n",
    "    if isinstance(samples, dict):\n",
    "        samples = vec_dict_to_array(samples)\n",
    "\n",
    "    sample_dim = samples.shape[-1]\n",
    "    reshaped_with_alpha = jnp.reshape(samples, (-1, sample_dim))\n",
    "    vars = jnp.var(reshaped_with_alpha, axis=0)\n",
    "    means = jnp.mean(reshaped_with_alpha, axis=0)\n",
    "    result_str = f\"means: {means},\\nvars:  {vars}\"\n",
    "\n",
    "    samples_with_alpha = samples\n",
    "    samples = samples[..., 1:]\n",
    "    ess = diagnostics.effective_sample_size(samples)\n",
    "    avg_ess = 1 / jnp.mean(1 / jnp.stack(jtu.tree_leaves(ess)))\n",
    "    result_str += f\"\\nEffective sample size: {avg_ess}\"\n",
    "    if evals_per_sample is not None:\n",
    "        result_str += f\", grad evals per sample: {evals_per_sample:.4}\"\n",
    "\n",
    "    reshaped = jnp.reshape(samples, (-1, sample_dim - 1))\n",
    "\n",
    "    half_len = reshaped.shape[0] // 2\n",
    "    energy_self = energy_distance(reshaped[:half_len], reshaped[half_len:])\n",
    "    result_str += f\"\\nEnergy dist v self: {energy_self:.4}\"\n",
    "\n",
    "    if ground_truth is not None:\n",
    "        ground_truth = ground_truth[..., 1:]\n",
    "        energy_gt = energy_distance(reshaped, ground_truth)\n",
    "        result_str += f\", energy dist vs ground truth: {energy_gt:.4}\"\n",
    "    if num_iters_w2 > 0 and ground_truth is not None:\n",
    "        w2 = compute_w2(reshaped, ground_truth, num_iters_w2)\n",
    "        result_str += f\", Wasserstein-2: {w2:.4}\"\n",
    "\n",
    "    if x_test is not None and labels_test is not None:\n",
    "        acc_error, acc_best90 = test_accuracy(x_test, labels_test, samples_with_alpha)\n",
    "        result_str += (\n",
    "            f\"\\nTest_accuracy: {acc_error:.4}, top 90% accuracy: {acc_best90:.4}\"\n",
    "        )\n",
    "\n",
    "    print(result_str)\n",
    "\n",
    "    return result_str\n",
    "\n",
    "\n",
    "dataset = scipy.io.loadmat(\"mcmc_data/benchmarks.mat\")\n",
    "data_name = \"banana\"\n",
    "model_logreg, data_split = get_model_and_data(dataset, data_name)\n",
    "x_train, labels_train, x_test, labels_test = data_split"
   ]
  },
  {
   "cell_type": "code",
   "execution_count": 2,
   "id": "cb6890aa66d4af19",
   "metadata": {
    "ExecuteTime": {
     "end_time": "2024-07-26T14:23:40.037787Z",
     "start_time": "2024-07-26T14:23:39.598329Z"
    },
    "collapsed": false
   },
   "outputs": [
    {
     "name": "stdout",
     "output_type": "stream",
     "text": [
      "Energy bias: 0.251009472403517\n",
      "Ground truth shape: (16384, 4)\n",
      "test accuracy: (Array(0.532, dtype=float32), Array(0.543, dtype=float32))\n"
     ]
    }
   ],
   "source": [
    "file_name = f\"mcmc_data/{data_name}_ground_truth.npy\"\n",
    "\n",
    "# gt_nuts = MCMC(NUTS(model_logreg, step_size=1.0), num_warmup=2**13, num_samples=2**16)\n",
    "# gt_nuts.run(jr.PRNGKey(0), x_train, labels_train)\n",
    "# gt_logreg = vec_dict_to_array(gt_nuts.get_samples())\n",
    "# # thin the samples to 2**15\n",
    "# np.save(file_name, gt_logreg)\n",
    "\n",
    "gt_logreg = np.load(file_name)\n",
    "gt_logreg = gt_logreg[::4]\n",
    "size_gt_half = int(gt_logreg.shape[0] // 2)\n",
    "energy_bias = energy_distance(gt_logreg[:size_gt_half], gt_logreg[size_gt_half:])\n",
    "print(f\"Energy bias: {energy_bias}\")\n",
    "print(f\"Ground truth shape: {gt_logreg.shape}\")\n",
    "print(f\"test accuracy: {test_accuracy(x_test, labels_test, gt_logreg)}\")"
   ]
  },
  {
   "cell_type": "code",
   "execution_count": 3,
   "id": "6712ead78c75f5b4",
   "metadata": {
    "ExecuteTime": {
     "end_time": "2024-07-26T14:23:40.126513Z",
     "start_time": "2024-07-26T14:23:40.038878Z"
    }
   },
   "outputs": [
    {
     "name": "stdout",
     "output_type": "stream",
     "text": [
      "(16384, 4)\n",
      "[3464.127    0.002    0.002    0.002]\n",
      "[57.174 -0.045 -0.008 -0.008]\n"
     ]
    }
   ],
   "source": [
    "flattened_gt = jnp.reshape(gt_logreg, (-1, 4))\n",
    "print(flattened_gt.shape)\n",
    "print(jnp.var(flattened_gt, axis=0))\n",
    "print(jnp.mean(flattened_gt, axis=0))"
   ]
  },
  {
   "cell_type": "code",
   "execution_count": 4,
   "id": "88d7bf671176fce0",
   "metadata": {
    "ExecuteTime": {
     "end_time": "2024-07-26T14:23:40.129372Z",
     "start_time": "2024-07-26T14:23:40.127332Z"
    }
   },
   "outputs": [],
   "source": [
    "num_chains = 2**5\n",
    "num_samples_per_chain = 2**10\n",
    "warmup_len = 2**13"
   ]
  },
  {
   "cell_type": "code",
   "execution_count": 5,
   "id": "9b866c607224c7d4",
   "metadata": {
    "ExecuteTime": {
     "end_time": "2024-07-26T14:25:14.611666Z",
     "start_time": "2024-07-26T14:23:56.357416Z"
    }
   },
   "outputs": [
    {
     "name": "stderr",
     "output_type": "stream",
     "text": [
      "100.00%|██████████| [00:16<00:00,  6.11%/s]\n",
      "100.00%|██████████| [00:41<00:00,  2.40%/s]\n"
     ]
    },
    {
     "name": "stdout",
     "output_type": "stream",
     "text": [
      "LMC: gradient evaluations per output: 20.04\n",
      "{'W': (32, 1024, 2), 'alpha': (32, 1024), 'b': (32, 1024, 1)}\n"
     ]
    }
   ],
   "source": [
    "out_logreg_lmc, steps_logreg_lmc = run_lmc_numpyro(\n",
    "    jr.PRNGKey(3),\n",
    "    model_logreg,\n",
    "    (x_train, labels_train),\n",
    "    num_chains,\n",
    "    num_samples_per_chain,\n",
    "    chain_sep=0.3,\n",
    "    tol=0.05,\n",
    "    warmup_mult=warmup_len,\n",
    "    warmup_tol_mult=16,\n",
    "    use_adaptive=False,\n",
    ")\n",
    "print(jtu.tree_map(lambda x: x.shape, out_logreg_lmc))"
   ]
  },
  {
   "cell_type": "code",
   "execution_count": 6,
   "id": "370c919e1db98307",
   "metadata": {
    "ExecuteTime": {
     "end_time": "2024-07-26T14:25:50.824870Z",
     "start_time": "2024-07-26T14:25:49.974776Z"
    }
   },
   "outputs": [
    {
     "name": "stdout",
     "output_type": "stream",
     "text": [
      "means: [-34.706  -0.124  -0.042  -0.043],\n",
      "vars:  [2280.214    0.771    1.778    1.917]\n",
      "Effective sample size: 24883.356050420618\n",
      "Energy dist vs self: 0.003162, energy dist vs ground truth: 0.05075, test_accuracy: 0.5422, top 90% accuracy: 0.5526, Gradient evals per sample: 20.04\n"
     ]
    }
   ],
   "source": [
    "_ = eval_logreg(\n",
    "    out_logreg_lmc, steps_logreg_lmc, gt_logreg, x_test=x_test, labels_test=labels_test\n",
    ")"
   ]
  },
  {
   "cell_type": "code",
   "execution_count": 8,
   "id": "47568f0f703122b5",
   "metadata": {
    "ExecuteTime": {
     "end_time": "2024-07-26T14:28:35.704080Z",
     "start_time": "2024-07-26T14:28:14.228888Z"
    }
   },
   "outputs": [
    {
     "name": "stderr",
     "output_type": "stream",
     "text": [
      "warmup: 100%|██████████| 1024/1024 [00:11<00:00, 88.90it/s] \n",
      "sample: 100%|██████████| 1024/1024 [00:06<00:00, 159.68it/s]\n"
     ]
    },
    {
     "name": "stdout",
     "output_type": "stream",
     "text": [
      "21.57537841796875\n"
     ]
    }
   ],
   "source": [
    "nuts = MCMC(\n",
    "    NUTS(model_logreg),\n",
    "    num_warmup=warmup_len,\n",
    "    num_samples=num_samples_per_chain,\n",
    "    num_chains=num_chains,\n",
    "    chain_method=\"vectorized\",\n",
    ")\n",
    "nuts.warmup(\n",
    "    jr.PRNGKey(2),\n",
    "    x_train,\n",
    "    labels_train,\n",
    "    extra_fields=(\"num_steps\",),\n",
    "    collect_warmup=True,\n",
    ")\n",
    "warmup_steps = sum(nuts.get_extra_fields()[\"num_steps\"])\n",
    "nuts.run(jr.PRNGKey(2), x_train, labels_train, extra_fields=(\"num_steps\",))\n",
    "out_logreg_nuts = nuts.get_samples(group_by_chain=True)\n",
    "num_steps_nuts = sum(nuts.get_extra_fields()[\"num_steps\"]) + warmup_steps\n",
    "geps_nuts = num_steps_nuts / (num_chains * num_samples_per_chain)\n",
    "print(geps_nuts)"
   ]
  },
  {
   "cell_type": "code",
   "execution_count": 9,
   "id": "fe43d3df0b350386",
   "metadata": {
    "ExecuteTime": {
     "end_time": "2024-07-26T14:28:35.706578Z",
     "start_time": "2024-07-26T14:28:35.704734Z"
    }
   },
   "outputs": [
    {
     "name": "stdout",
     "output_type": "stream",
     "text": [
      "{'W': (32, 1024, 2), 'alpha': (32, 1024), 'b': (32, 1024, 1)}\n"
     ]
    }
   ],
   "source": [
    "print(jtu.tree_map(lambda x: x.shape, out_logreg_nuts))"
   ]
  },
  {
   "cell_type": "code",
   "execution_count": 12,
   "id": "65cf79276c2501d7",
   "metadata": {
    "ExecuteTime": {
     "end_time": "2024-07-26T14:11:29.443881Z",
     "start_time": "2024-07-26T14:11:28.581752Z"
    }
   },
   "outputs": [
    {
     "name": "stdout",
     "output_type": "stream",
     "text": [
      "means: [58.19  -0.045 -0.008 -0.008],\n",
      "vars:  [3766.227    0.002    0.002    0.002]\n",
      "Effective sample size: 5715.352966006341\n",
      "Energy dist vs self: 4.118e-05, energy dist vs ground truth: 7.018e-06, test_accuracy: 0.5263, top 90% accuracy: 0.537\n"
     ]
    }
   ],
   "source": [
    "_ = eval_logreg(\n",
    "    out_logreg_nuts, geps_nuts, gt_logreg, x_test=x_test, labels_test=labels_test\n",
    ")"
   ]
  },
  {
   "cell_type": "code",
   "execution_count": 5,
   "id": "f2b826cca477206d",
   "metadata": {
    "ExecuteTime": {
     "end_time": "2024-07-26T15:17:26.808984Z",
     "start_time": "2024-07-26T15:17:26.801318Z"
    },
    "collapsed": false
   },
   "outputs": [],
   "source": [
    "def run_logreg_dataset(name, results_filename=None):\n",
    "    model_logreg, data_split = get_model_and_data(dataset, name)\n",
    "    x_train, labels_train, x_test, labels_test = data_split\n",
    "\n",
    "    # Compute ground truth\n",
    "    # ground_truth_filename = f\"mcmc_data/{name}_ground_truth.npy\"\n",
    "    # if os.path.isfile(ground_truth_filename):\n",
    "    #     ground_truth = np.load(ground_truth_filename)\n",
    "    # else:\n",
    "    #     gt_nuts = MCMC(\n",
    "    #         NUTS(model_logreg, step_size=1.0), num_warmup=2**13, num_samples=2**18\n",
    "    #     )\n",
    "    #     gt_nuts.run(jr.PRNGKey(0), x_train, labels_train)\n",
    "    #     ground_truth = vec_dict_to_array(gt_nuts.get_samples())\n",
    "    #     np.save(f\"mcmc_data/{name}_ground_truth.npy\", ground_truth)\n",
    "    # # thin the samples to 2**16\n",
    "    # factor = int(ground_truth.shape[0] // 2**16)\n",
    "    # ground_truth = ground_truth[::factor]\n",
    "    # assert ground_truth.shape == (\n",
    "    #     2**16,\n",
    "    #     2 + x_train.shape[1],\n",
    "    # ), f\"ground_truth.shape: {ground_truth.shape}\"\n",
    "    #\n",
    "    # size_gt_half = int(ground_truth.shape[0] // 2)\n",
    "    # gt_energy_bias = energy_distance(\n",
    "    #     ground_truth[:size_gt_half], ground_truth[size_gt_half:]\n",
    "    # )\n",
    "    # print(f\"Ground truth energy bias: {gt_energy_bias:.4}\")\n",
    "    num_chains = 2**5\n",
    "    num_samples_per_chain = 2**10\n",
    "    warmup_len = 2**12\n",
    "\n",
    "    out_logreg_lmc, geps_lmc = run_lmc_numpyro(\n",
    "        jr.PRNGKey(3),\n",
    "        model_logreg,\n",
    "        (x_train, labels_train),\n",
    "        num_chains,\n",
    "        num_samples_per_chain,\n",
    "        chain_sep=0.3,\n",
    "        tol=0.05,\n",
    "        warmup_mult=warmup_len,\n",
    "        warmup_tol_mult=4,\n",
    "        use_adaptive=False,\n",
    "    )\n",
    "\n",
    "    eval_lmc = eval_logreg(\n",
    "        out_logreg_lmc,\n",
    "        geps_lmc,\n",
    "        ground_truth=None,\n",
    "        x_test=x_test,\n",
    "        labels_test=labels_test,\n",
    "    )\n",
    "\n",
    "    nuts = MCMC(\n",
    "        NUTS(model_logreg),\n",
    "        num_warmup=warmup_len,\n",
    "        num_samples=num_samples_per_chain,\n",
    "        num_chains=num_chains,\n",
    "        chain_method=\"vectorized\",\n",
    "    )\n",
    "    nuts.warmup(\n",
    "        jr.PRNGKey(2),\n",
    "        x_train,\n",
    "        labels_train,\n",
    "        extra_fields=(\"num_steps\",),\n",
    "        collect_warmup=True,\n",
    "    )\n",
    "    warmup_steps = sum(nuts.get_extra_fields()[\"num_steps\"])\n",
    "    nuts.run(jr.PRNGKey(2), x_train, labels_train, extra_fields=(\"num_steps\",))\n",
    "    out_logreg_nuts = nuts.get_samples(group_by_chain=True)\n",
    "    num_steps_nuts = sum(nuts.get_extra_fields()[\"num_steps\"]) + warmup_steps\n",
    "    geps_nuts = num_steps_nuts / (num_chains * num_samples_per_chain)\n",
    "    print(\"NUTS:\")\n",
    "    eval_nuts = eval_logreg(\n",
    "        out_logreg_nuts,\n",
    "        geps_nuts,\n",
    "        ground_truth=None,\n",
    "        x_test=x_test,\n",
    "        labels_test=labels_test,\n",
    "    )\n",
    "\n",
    "    if results_filename is not None:\n",
    "        with open(results_filename, \"a\") as f:\n",
    "            f.write(f\"{name}\\n\")\n",
    "            f.write(f\"LMC: {eval_lmc}\\n\")\n",
    "            f.write(f\"NUTS: {eval_nuts}\\n\\n\")"
   ]
  },
  {
   "cell_type": "code",
   "execution_count": 6,
   "id": "fb6851c76c27702f",
   "metadata": {
    "ExecuteTime": {
     "end_time": "2024-07-26T15:17:36.321128Z",
     "start_time": "2024-07-26T15:17:36.318408Z"
    }
   },
   "outputs": [],
   "source": [
    "names = [\n",
    "    \"banana\",\n",
    "    \"breast_cancer\",\n",
    "    \"diabetis\",\n",
    "    \"flare_solar\",\n",
    "    \"german\",\n",
    "    \"heart\",\n",
    "    \"image\",\n",
    "    \"ringnorm\",\n",
    "    \"splice\",\n",
    "    \"thyroid\",\n",
    "    \"titanic\",\n",
    "    \"twonorm\",\n",
    "    \"waveform\",\n",
    "]"
   ]
  },
  {
   "cell_type": "code",
   "execution_count": 7,
   "id": "e7e926ca753859d5",
   "metadata": {
    "ExecuteTime": {
     "end_time": "2024-07-26T15:19:02.754023Z",
     "start_time": "2024-07-26T15:17:39.377263Z"
    }
   },
   "outputs": [
    {
     "name": "stdout",
     "output_type": "stream",
     "text": [
      "==================== banana ====================\n",
      "Data shape: (5300, 2)\n"
     ]
    },
    {
     "name": "stderr",
     "output_type": "stream",
     "text": [
      "100.00%|██████████| [00:30<00:00,  3.23%/s]\n",
      "70.96%|███████   | [00:28<00:11,  2.47%/s]E0726 16:19:02.423946   35629 pjrt_stream_executor_client.cc:2985] Execution of replica 0 failed: INTERNAL: CustomCall failed: CpuCallback error: Traceback (most recent call last):\n",
      "  File \"<frozen runpy>\", line 198, in _run_module_as_main\n",
      "  File \"<frozen runpy>\", line 88, in _run_code\n",
      "  File \"/home/andy/PycharmProjects/diffrax_STLA/venv/lib/python3.11/site-packages/ipykernel_launcher.py\", line 18, in <module>\n",
      "  File \"/home/andy/PycharmProjects/diffrax_STLA/venv/lib/python3.11/site-packages/traitlets/config/application.py\", line 1075, in launch_instance\n",
      "  File \"/home/andy/PycharmProjects/diffrax_STLA/venv/lib/python3.11/site-packages/ipykernel/kernelapp.py\", line 739, in start\n",
      "  File \"/home/andy/PycharmProjects/diffrax_STLA/venv/lib/python3.11/site-packages/tornado/platform/asyncio.py\", line 205, in start\n",
      "  File \"/usr/lib/python3.11/asyncio/base_events.py\", line 607, in run_forever\n",
      "  File \"/usr/lib/python3.11/asyncio/base_events.py\", line 1922, in _run_once\n",
      "  File \"/usr/lib/python3.11/asyncio/events.py\", line 80, in _run\n",
      "  File \"/home/andy/PycharmProjects/diffrax_STLA/venv/lib/python3.11/site-packages/ipykernel/kernelbase.py\", line 545, in dispatch_queue\n",
      "  File \"/home/andy/PycharmProjects/diffrax_STLA/venv/lib/python3.11/site-packages/ipykernel/kernelbase.py\", line 534, in process_one\n",
      "  File \"/home/andy/PycharmProjects/diffrax_STLA/venv/lib/python3.11/site-packages/ipykernel/kernelbase.py\", line 437, in dispatch_shell\n",
      "  File \"/home/andy/PycharmProjects/diffrax_STLA/venv/lib/python3.11/site-packages/ipykernel/ipkernel.py\", line 362, in execute_request\n",
      "  File \"/home/andy/PycharmProjects/diffrax_STLA/venv/lib/python3.11/site-packages/ipykernel/kernelbase.py\", line 778, in execute_request\n",
      "  File \"/home/andy/PycharmProjects/diffrax_STLA/venv/lib/python3.11/site-packages/ipykernel/ipkernel.py\", line 449, in do_execute\n",
      "  File \"/home/andy/PycharmProjects/diffrax_STLA/venv/lib/python3.11/site-packages/ipykernel/zmqshell.py\", line 549, in run_cell\n",
      "  File \"/home/andy/PycharmProjects/diffrax_STLA/venv/lib/python3.11/site-packages/IPython/core/interactiveshell.py\", line 3075, in run_cell\n",
      "  File \"/home/andy/PycharmProjects/diffrax_STLA/venv/lib/python3.11/site-packages/IPython/core/interactiveshell.py\", line 3130, in _run_cell\n",
      "  File \"/home/andy/PycharmProjects/diffrax_STLA/venv/lib/python3.11/site-packages/IPython/core/async_helpers.py\", line 129, in _pseudo_sync_runner\n",
      "  File \"/home/andy/PycharmProjects/diffrax_STLA/venv/lib/python3.11/site-packages/IPython/core/interactiveshell.py\", line 3334, in run_cell_async\n",
      "  File \"/home/andy/PycharmProjects/diffrax_STLA/venv/lib/python3.11/site-packages/IPython/core/interactiveshell.py\", line 3517, in run_ast_nodes\n",
      "  File \"/home/andy/PycharmProjects/diffrax_STLA/venv/lib/python3.11/site-packages/IPython/core/interactiveshell.py\", line 3577, in run_code\n",
      "  File \"/tmp/ipykernel_35629/3213873017.py\", line 14, in <module>\n",
      "  File \"/tmp/ipykernel_35629/260045252.py\", line 36, in run_logreg_dataset\n",
      "  File \"/home/andy/PycharmProjects/diffrax_STLA/mcmc/main.py\", line 41, in run_lmc_numpyro\n",
      "  File \"/home/andy/PycharmProjects/diffrax_STLA/mcmc/main.py\", line 145, in run_lmc\n",
      "  File \"/home/andy/PycharmProjects/diffrax_STLA/venv/lib/python3.11/site-packages/equinox/_jit.py\", line 206, in __call__\n",
      "  File \"/home/andy/PycharmProjects/diffrax_STLA/venv/lib/python3.11/site-packages/equinox/_module.py\", line 1053, in __call__\n",
      "  File \"/home/andy/PycharmProjects/diffrax_STLA/venv/lib/python3.11/site-packages/equinox/_jit.py\", line 200, in _call\n",
      "  File \"/home/andy/PycharmProjects/diffrax_STLA/venv/lib/python3.11/site-packages/jax/_src/traceback_util.py\", line 179, in reraise_with_filtered_traceback\n",
      "  File \"/home/andy/PycharmProjects/diffrax_STLA/venv/lib/python3.11/site-packages/jax/_src/pjit.py\", line 327, in cache_miss\n",
      "  File \"/home/andy/PycharmProjects/diffrax_STLA/venv/lib/python3.11/site-packages/jax/_src/pjit.py\", line 185, in _python_pjit_helper\n",
      "  File \"/home/andy/PycharmProjects/diffrax_STLA/venv/lib/python3.11/site-packages/jax/_src/core.py\", line 2834, in bind\n",
      "  File \"/home/andy/PycharmProjects/diffrax_STLA/venv/lib/python3.11/site-packages/jax/_src/core.py\", line 420, in bind_with_trace\n",
      "  File \"/home/andy/PycharmProjects/diffrax_STLA/venv/lib/python3.11/site-packages/jax/_src/core.py\", line 921, in process_primitive\n",
      "  File \"/home/andy/PycharmProjects/diffrax_STLA/venv/lib/python3.11/site-packages/jax/_src/pjit.py\", line 1635, in _pjit_call_impl\n",
      "  File \"/home/andy/PycharmProjects/diffrax_STLA/venv/lib/python3.11/site-packages/jax/_src/pjit.py\", line 1614, in call_impl_cache_miss\n",
      "  File \"/home/andy/PycharmProjects/diffrax_STLA/venv/lib/python3.11/site-packages/jax/_src/pjit.py\", line 1568, in _pjit_call_impl_python\n",
      "  File \"/home/andy/PycharmProjects/diffrax_STLA/venv/lib/python3.11/site-packages/jax/_src/profiler.py\", line 335, in wrapper\n",
      "  File \"/home/andy/PycharmProjects/diffrax_STLA/venv/lib/python3.11/site-packages/jax/_src/interpreters/pxla.py\", line 1244, in __call__\n",
      "  File \"/home/andy/PycharmProjects/diffrax_STLA/venv/lib/python3.11/site-packages/jax/_src/interpreters/mlir.py\", line 2476, in _wrapped_callback\n",
      "KeyboardInterrupt: \n"
     ]
    },
    {
     "ename": "XlaRuntimeError",
     "evalue": "INTERNAL: CustomCall failed: CpuCallback error: Traceback (most recent call last):\n  File \"<frozen runpy>\", line 198, in _run_module_as_main\n  File \"<frozen runpy>\", line 88, in _run_code\n  File \"/home/andy/PycharmProjects/diffrax_STLA/venv/lib/python3.11/site-packages/ipykernel_launcher.py\", line 18, in <module>\n  File \"/home/andy/PycharmProjects/diffrax_STLA/venv/lib/python3.11/site-packages/traitlets/config/application.py\", line 1075, in launch_instance\n  File \"/home/andy/PycharmProjects/diffrax_STLA/venv/lib/python3.11/site-packages/ipykernel/kernelapp.py\", line 739, in start\n  File \"/home/andy/PycharmProjects/diffrax_STLA/venv/lib/python3.11/site-packages/tornado/platform/asyncio.py\", line 205, in start\n  File \"/usr/lib/python3.11/asyncio/base_events.py\", line 607, in run_forever\n  File \"/usr/lib/python3.11/asyncio/base_events.py\", line 1922, in _run_once\n  File \"/usr/lib/python3.11/asyncio/events.py\", line 80, in _run\n  File \"/home/andy/PycharmProjects/diffrax_STLA/venv/lib/python3.11/site-packages/ipykernel/kernelbase.py\", line 545, in dispatch_queue\n  File \"/home/andy/PycharmProjects/diffrax_STLA/venv/lib/python3.11/site-packages/ipykernel/kernelbase.py\", line 534, in process_one\n  File \"/home/andy/PycharmProjects/diffrax_STLA/venv/lib/python3.11/site-packages/ipykernel/kernelbase.py\", line 437, in dispatch_shell\n  File \"/home/andy/PycharmProjects/diffrax_STLA/venv/lib/python3.11/site-packages/ipykernel/ipkernel.py\", line 362, in execute_request\n  File \"/home/andy/PycharmProjects/diffrax_STLA/venv/lib/python3.11/site-packages/ipykernel/kernelbase.py\", line 778, in execute_request\n  File \"/home/andy/PycharmProjects/diffrax_STLA/venv/lib/python3.11/site-packages/ipykernel/ipkernel.py\", line 449, in do_execute\n  File \"/home/andy/PycharmProjects/diffrax_STLA/venv/lib/python3.11/site-packages/ipykernel/zmqshell.py\", line 549, in run_cell\n  File \"/home/andy/PycharmProjects/diffrax_STLA/venv/lib/python3.11/site-packages/IPython/core/interactiveshell.py\", line 3075, in run_cell\n  File \"/home/andy/PycharmProjects/diffrax_STLA/venv/lib/python3.11/site-packages/IPython/core/interactiveshell.py\", line 3130, in _run_cell\n  File \"/home/andy/PycharmProjects/diffrax_STLA/venv/lib/python3.11/site-packages/IPython/core/async_helpers.py\", line 129, in _pseudo_sync_runner\n  File \"/home/andy/PycharmProjects/diffrax_STLA/venv/lib/python3.11/site-packages/IPython/core/interactiveshell.py\", line 3334, in run_cell_async\n  File \"/home/andy/PycharmProjects/diffrax_STLA/venv/lib/python3.11/site-packages/IPython/core/interactiveshell.py\", line 3517, in run_ast_nodes\n  File \"/home/andy/PycharmProjects/diffrax_STLA/venv/lib/python3.11/site-packages/IPython/core/interactiveshell.py\", line 3577, in run_code\n  File \"/tmp/ipykernel_35629/3213873017.py\", line 14, in <module>\n  File \"/tmp/ipykernel_35629/260045252.py\", line 36, in run_logreg_dataset\n  File \"/home/andy/PycharmProjects/diffrax_STLA/mcmc/main.py\", line 41, in run_lmc_numpyro\n  File \"/home/andy/PycharmProjects/diffrax_STLA/mcmc/main.py\", line 145, in run_lmc\n  File \"/home/andy/PycharmProjects/diffrax_STLA/venv/lib/python3.11/site-packages/equinox/_jit.py\", line 206, in __call__\n  File \"/home/andy/PycharmProjects/diffrax_STLA/venv/lib/python3.11/site-packages/equinox/_module.py\", line 1053, in __call__\n  File \"/home/andy/PycharmProjects/diffrax_STLA/venv/lib/python3.11/site-packages/equinox/_jit.py\", line 200, in _call\n  File \"/home/andy/PycharmProjects/diffrax_STLA/venv/lib/python3.11/site-packages/jax/_src/traceback_util.py\", line 179, in reraise_with_filtered_traceback\n  File \"/home/andy/PycharmProjects/diffrax_STLA/venv/lib/python3.11/site-packages/jax/_src/pjit.py\", line 327, in cache_miss\n  File \"/home/andy/PycharmProjects/diffrax_STLA/venv/lib/python3.11/site-packages/jax/_src/pjit.py\", line 185, in _python_pjit_helper\n  File \"/home/andy/PycharmProjects/diffrax_STLA/venv/lib/python3.11/site-packages/jax/_src/core.py\", line 2834, in bind\n  File \"/home/andy/PycharmProjects/diffrax_STLA/venv/lib/python3.11/site-packages/jax/_src/core.py\", line 420, in bind_with_trace\n  File \"/home/andy/PycharmProjects/diffrax_STLA/venv/lib/python3.11/site-packages/jax/_src/core.py\", line 921, in process_primitive\n  File \"/home/andy/PycharmProjects/diffrax_STLA/venv/lib/python3.11/site-packages/jax/_src/pjit.py\", line 1635, in _pjit_call_impl\n  File \"/home/andy/PycharmProjects/diffrax_STLA/venv/lib/python3.11/site-packages/jax/_src/pjit.py\", line 1614, in call_impl_cache_miss\n  File \"/home/andy/PycharmProjects/diffrax_STLA/venv/lib/python3.11/site-packages/jax/_src/pjit.py\", line 1568, in _pjit_call_impl_python\n  File \"/home/andy/PycharmProjects/diffrax_STLA/venv/lib/python3.11/site-packages/jax/_src/profiler.py\", line 335, in wrapper\n  File \"/home/andy/PycharmProjects/diffrax_STLA/venv/lib/python3.11/site-packages/jax/_src/interpreters/pxla.py\", line 1244, in __call__\n  File \"/home/andy/PycharmProjects/diffrax_STLA/venv/lib/python3.11/site-packages/jax/_src/interpreters/mlir.py\", line 2476, in _wrapped_callback\nKeyboardInterrupt: ",
     "output_type": "error",
     "traceback": [
      "\u001B[0;31m---------------------------------------------------------------------------\u001B[0m",
      "\u001B[0;31mXlaRuntimeError\u001B[0m                           Traceback (most recent call last)",
      "Cell \u001B[0;32mIn[7], line 14\u001B[0m\n\u001B[1;32m     12\u001B[0m \u001B[38;5;28;01mfor\u001B[39;00m name \u001B[38;5;129;01min\u001B[39;00m names:\n\u001B[1;32m     13\u001B[0m     \u001B[38;5;28mprint\u001B[39m(\u001B[38;5;124mf\u001B[39m\u001B[38;5;124m\"\u001B[39m\u001B[38;5;124m==================== \u001B[39m\u001B[38;5;132;01m{\u001B[39;00mname\u001B[38;5;132;01m}\u001B[39;00m\u001B[38;5;124m ====================\u001B[39m\u001B[38;5;124m\"\u001B[39m)\n\u001B[0;32m---> 14\u001B[0m     \u001B[43mrun_logreg_dataset\u001B[49m\u001B[43m(\u001B[49m\u001B[43mname\u001B[49m\u001B[43m,\u001B[49m\u001B[43m \u001B[49m\u001B[43mresults_filename\u001B[49m\u001B[43m)\u001B[49m\n\u001B[1;32m     15\u001B[0m     \u001B[38;5;28mprint\u001B[39m()\n",
      "Cell \u001B[0;32mIn[5], line 36\u001B[0m, in \u001B[0;36mrun_logreg_dataset\u001B[0;34m(name, results_filename)\u001B[0m\n\u001B[1;32m     33\u001B[0m num_samples_per_chain \u001B[38;5;241m=\u001B[39m \u001B[38;5;241m2\u001B[39m\u001B[38;5;241m*\u001B[39m\u001B[38;5;241m*\u001B[39m\u001B[38;5;241m10\u001B[39m\n\u001B[1;32m     34\u001B[0m warmup_len \u001B[38;5;241m=\u001B[39m \u001B[38;5;241m2\u001B[39m\u001B[38;5;241m*\u001B[39m\u001B[38;5;241m*\u001B[39m\u001B[38;5;241m12\u001B[39m\n\u001B[0;32m---> 36\u001B[0m out_logreg_lmc, geps_lmc \u001B[38;5;241m=\u001B[39m \u001B[43mrun_lmc_numpyro\u001B[49m\u001B[43m(\u001B[49m\n\u001B[1;32m     37\u001B[0m \u001B[43m    \u001B[49m\u001B[43mjr\u001B[49m\u001B[38;5;241;43m.\u001B[39;49m\u001B[43mPRNGKey\u001B[49m\u001B[43m(\u001B[49m\u001B[38;5;241;43m3\u001B[39;49m\u001B[43m)\u001B[49m\u001B[43m,\u001B[49m\n\u001B[1;32m     38\u001B[0m \u001B[43m    \u001B[49m\u001B[43mmodel_logreg\u001B[49m\u001B[43m,\u001B[49m\n\u001B[1;32m     39\u001B[0m \u001B[43m    \u001B[49m\u001B[43m(\u001B[49m\u001B[43mx_train\u001B[49m\u001B[43m,\u001B[49m\u001B[43m \u001B[49m\u001B[43mlabels_train\u001B[49m\u001B[43m)\u001B[49m\u001B[43m,\u001B[49m\n\u001B[1;32m     40\u001B[0m \u001B[43m    \u001B[49m\u001B[43mnum_chains\u001B[49m\u001B[43m,\u001B[49m\n\u001B[1;32m     41\u001B[0m \u001B[43m    \u001B[49m\u001B[43mnum_samples_per_chain\u001B[49m\u001B[43m,\u001B[49m\n\u001B[1;32m     42\u001B[0m \u001B[43m    \u001B[49m\u001B[43mchain_sep\u001B[49m\u001B[38;5;241;43m=\u001B[39;49m\u001B[38;5;241;43m0.3\u001B[39;49m\u001B[43m,\u001B[49m\n\u001B[1;32m     43\u001B[0m \u001B[43m    \u001B[49m\u001B[43mtol\u001B[49m\u001B[38;5;241;43m=\u001B[39;49m\u001B[38;5;241;43m0.05\u001B[39;49m\u001B[43m,\u001B[49m\n\u001B[1;32m     44\u001B[0m \u001B[43m    \u001B[49m\u001B[43mwarmup_mult\u001B[49m\u001B[38;5;241;43m=\u001B[39;49m\u001B[43mwarmup_len\u001B[49m\u001B[43m,\u001B[49m\n\u001B[1;32m     45\u001B[0m \u001B[43m    \u001B[49m\u001B[43mwarmup_tol_mult\u001B[49m\u001B[38;5;241;43m=\u001B[39;49m\u001B[38;5;241;43m4\u001B[39;49m\u001B[43m,\u001B[49m\n\u001B[1;32m     46\u001B[0m \u001B[43m    \u001B[49m\u001B[43muse_adaptive\u001B[49m\u001B[38;5;241;43m=\u001B[39;49m\u001B[38;5;28;43;01mFalse\u001B[39;49;00m\u001B[43m,\u001B[49m\n\u001B[1;32m     47\u001B[0m \u001B[43m\u001B[49m\u001B[43m)\u001B[49m\n\u001B[1;32m     49\u001B[0m eval_lmc \u001B[38;5;241m=\u001B[39m eval_logreg(\n\u001B[1;32m     50\u001B[0m     out_logreg_lmc,\n\u001B[1;32m     51\u001B[0m     geps_lmc,\n\u001B[0;32m   (...)\u001B[0m\n\u001B[1;32m     54\u001B[0m     labels_test\u001B[38;5;241m=\u001B[39mlabels_test,\n\u001B[1;32m     55\u001B[0m )\n\u001B[1;32m     57\u001B[0m nuts \u001B[38;5;241m=\u001B[39m MCMC(\n\u001B[1;32m     58\u001B[0m     NUTS(model_logreg),\n\u001B[1;32m     59\u001B[0m     num_warmup\u001B[38;5;241m=\u001B[39mwarmup_len,\n\u001B[0;32m   (...)\u001B[0m\n\u001B[1;32m     62\u001B[0m     chain_method\u001B[38;5;241m=\u001B[39m\u001B[38;5;124m\"\u001B[39m\u001B[38;5;124mvectorized\u001B[39m\u001B[38;5;124m\"\u001B[39m,\n\u001B[1;32m     63\u001B[0m )\n",
      "File \u001B[0;32m~/PycharmProjects/diffrax_STLA/mcmc/main.py:41\u001B[0m, in \u001B[0;36mrun_lmc_numpyro\u001B[0;34m(key, model, model_args, num_particles, chain_len, chain_sep, tol, warmup_mult, warmup_tol_mult, use_adaptive, solver)\u001B[0m\n\u001B[1;32m     39\u001B[0m log_p \u001B[38;5;241m=\u001B[39m jax\u001B[38;5;241m.\u001B[39mjit(model_info\u001B[38;5;241m.\u001B[39mpotential_fn)\n\u001B[1;32m     40\u001B[0m x0 \u001B[38;5;241m=\u001B[39m model_info\u001B[38;5;241m.\u001B[39mparam_info\u001B[38;5;241m.\u001B[39mz\n\u001B[0;32m---> 41\u001B[0m \u001B[38;5;28;01mreturn\u001B[39;00m \u001B[43mrun_lmc\u001B[49m\u001B[43m(\u001B[49m\n\u001B[1;32m     42\u001B[0m \u001B[43m    \u001B[49m\u001B[43mlmc_key\u001B[49m\u001B[43m,\u001B[49m\n\u001B[1;32m     43\u001B[0m \u001B[43m    \u001B[49m\u001B[43mlog_p\u001B[49m\u001B[43m,\u001B[49m\n\u001B[1;32m     44\u001B[0m \u001B[43m    \u001B[49m\u001B[43mx0\u001B[49m\u001B[43m,\u001B[49m\n\u001B[1;32m     45\u001B[0m \u001B[43m    \u001B[49m\u001B[43mnum_particles\u001B[49m\u001B[43m,\u001B[49m\n\u001B[1;32m     46\u001B[0m \u001B[43m    \u001B[49m\u001B[43mchain_len\u001B[49m\u001B[43m,\u001B[49m\n\u001B[1;32m     47\u001B[0m \u001B[43m    \u001B[49m\u001B[43mchain_sep\u001B[49m\u001B[43m,\u001B[49m\n\u001B[1;32m     48\u001B[0m \u001B[43m    \u001B[49m\u001B[43mtol\u001B[49m\u001B[43m,\u001B[49m\n\u001B[1;32m     49\u001B[0m \u001B[43m    \u001B[49m\u001B[43mwarmup_mult\u001B[49m\u001B[43m,\u001B[49m\n\u001B[1;32m     50\u001B[0m \u001B[43m    \u001B[49m\u001B[43mwarmup_tol_mult\u001B[49m\u001B[43m,\u001B[49m\n\u001B[1;32m     51\u001B[0m \u001B[43m    \u001B[49m\u001B[43muse_adaptive\u001B[49m\u001B[43m,\u001B[49m\n\u001B[1;32m     52\u001B[0m \u001B[43m    \u001B[49m\u001B[43msolver\u001B[49m\u001B[43m,\u001B[49m\n\u001B[1;32m     53\u001B[0m \u001B[43m\u001B[49m\u001B[43m)\u001B[49m\n",
      "File \u001B[0;32m~/PycharmProjects/diffrax_STLA/mcmc/main.py:145\u001B[0m, in \u001B[0;36mrun_lmc\u001B[0;34m(key, log_p, x0, num_particles, chain_len, chain_sep, tol, warmup_mult, warmup_tol_mult, use_adaptive, solver)\u001B[0m\n\u001B[1;32m    125\u001B[0m out_warmup, steps_warmup \u001B[38;5;241m=\u001B[39m _batch_sde_solve(\n\u001B[1;32m    126\u001B[0m     keys_warmup,\n\u001B[1;32m    127\u001B[0m     get_terms,\n\u001B[0;32m   (...)\u001B[0m\n\u001B[1;32m    139\u001B[0m     use_progress_meter\u001B[38;5;241m=\u001B[39m\u001B[38;5;28;01mTrue\u001B[39;00m,\n\u001B[1;32m    140\u001B[0m )\n\u001B[1;32m    141\u001B[0m y_warm \u001B[38;5;241m=\u001B[39m jtu\u001B[38;5;241m.\u001B[39mtree_map(\n\u001B[1;32m    142\u001B[0m     \u001B[38;5;28;01mlambda\u001B[39;00m x: jnp\u001B[38;5;241m.\u001B[39mnan_to_num(x[:, \u001B[38;5;241m0\u001B[39m], nan\u001B[38;5;241m=\u001B[39m\u001B[38;5;241m0\u001B[39m, posinf\u001B[38;5;241m=\u001B[39m\u001B[38;5;241m0\u001B[39m, neginf\u001B[38;5;241m=\u001B[39m\u001B[38;5;241m0\u001B[39m), out_warmup\n\u001B[1;32m    143\u001B[0m )\n\u001B[0;32m--> 145\u001B[0m out_mcmc, steps_mcmc \u001B[38;5;241m=\u001B[39m \u001B[43m_batch_sde_solve_multi_y0\u001B[49m\u001B[43m(\u001B[49m\n\u001B[1;32m    146\u001B[0m \u001B[43m    \u001B[49m\u001B[43mkeys_mcmc\u001B[49m\u001B[43m,\u001B[49m\n\u001B[1;32m    147\u001B[0m \u001B[43m    \u001B[49m\u001B[43mget_terms\u001B[49m\u001B[43m,\u001B[49m\n\u001B[1;32m    148\u001B[0m \u001B[43m    \u001B[49m\u001B[43mw_shape\u001B[49m\u001B[43m,\u001B[49m\n\u001B[1;32m    149\u001B[0m \u001B[43m    \u001B[49m\u001B[38;5;241;43m0.0\u001B[39;49m\u001B[43m,\u001B[49m\n\u001B[1;32m    150\u001B[0m \u001B[43m    \u001B[49m\u001B[43mt1_mcmc\u001B[49m\u001B[43m,\u001B[49m\n\u001B[1;32m    151\u001B[0m \u001B[43m    \u001B[49m\u001B[43my_warm\u001B[49m\u001B[43m,\u001B[49m\n\u001B[1;32m    152\u001B[0m \u001B[43m    \u001B[49m\u001B[38;5;28;43;01mNone\u001B[39;49;00m\u001B[43m,\u001B[49m\n\u001B[1;32m    153\u001B[0m \u001B[43m    \u001B[49m\u001B[43msolver\u001B[49m\u001B[43m,\u001B[49m\n\u001B[1;32m    154\u001B[0m \u001B[43m    \u001B[49m\u001B[43mSpaceTimeTimeLevyArea\u001B[49m\u001B[43m,\u001B[49m\n\u001B[1;32m    155\u001B[0m \u001B[43m    \u001B[49m\u001B[38;5;28;43;01mNone\u001B[39;49;00m\u001B[43m,\u001B[49m\n\u001B[1;32m    156\u001B[0m \u001B[43m    \u001B[49m\u001B[43mcontroller_mcmc\u001B[49m\u001B[43m,\u001B[49m\n\u001B[1;32m    157\u001B[0m \u001B[43m    \u001B[49m\u001B[43mbm_tol\u001B[49m\u001B[43m,\u001B[49m\n\u001B[1;32m    158\u001B[0m \u001B[43m    \u001B[49m\u001B[43msaveat\u001B[49m\u001B[43m,\u001B[49m\n\u001B[1;32m    159\u001B[0m \u001B[43m    \u001B[49m\u001B[43muse_progress_meter\u001B[49m\u001B[38;5;241;43m=\u001B[39;49m\u001B[38;5;28;43;01mTrue\u001B[39;49;00m\u001B[43m,\u001B[49m\n\u001B[1;32m    160\u001B[0m \u001B[43m\u001B[49m\u001B[43m)\u001B[49m\n\u001B[1;32m    161\u001B[0m ys_mcmc \u001B[38;5;241m=\u001B[39m out_mcmc[\u001B[38;5;241m0\u001B[39m]\n\u001B[1;32m    162\u001B[0m ys_mcmc \u001B[38;5;241m=\u001B[39m jtu\u001B[38;5;241m.\u001B[39mtree_map(\n\u001B[1;32m    163\u001B[0m     \u001B[38;5;28;01mlambda\u001B[39;00m x: jnp\u001B[38;5;241m.\u001B[39mnan_to_num(x, nan\u001B[38;5;241m=\u001B[39m\u001B[38;5;241m0\u001B[39m, posinf\u001B[38;5;241m=\u001B[39m\u001B[38;5;241m0\u001B[39m, neginf\u001B[38;5;241m=\u001B[39m\u001B[38;5;241m0\u001B[39m), ys_mcmc\n\u001B[1;32m    164\u001B[0m )\n",
      "    \u001B[0;31m[... skipping hidden 13 frame]\u001B[0m\n",
      "File \u001B[0;32m~/PycharmProjects/diffrax_STLA/venv/lib/python3.11/site-packages/jax/_src/interpreters/pxla.py:1244\u001B[0m, in \u001B[0;36mExecuteReplicated.__call__\u001B[0;34m(self, *args)\u001B[0m\n\u001B[1;32m   1241\u001B[0m \u001B[38;5;28;01mif\u001B[39;00m (\u001B[38;5;28mself\u001B[39m\u001B[38;5;241m.\u001B[39mordered_effects \u001B[38;5;129;01mor\u001B[39;00m \u001B[38;5;28mself\u001B[39m\u001B[38;5;241m.\u001B[39mhas_unordered_effects\n\u001B[1;32m   1242\u001B[0m     \u001B[38;5;129;01mor\u001B[39;00m \u001B[38;5;28mself\u001B[39m\u001B[38;5;241m.\u001B[39mhas_host_callbacks):\n\u001B[1;32m   1243\u001B[0m   input_bufs \u001B[38;5;241m=\u001B[39m \u001B[38;5;28mself\u001B[39m\u001B[38;5;241m.\u001B[39m_add_tokens_to_inputs(input_bufs)\n\u001B[0;32m-> 1244\u001B[0m   results \u001B[38;5;241m=\u001B[39m \u001B[38;5;28;43mself\u001B[39;49m\u001B[38;5;241;43m.\u001B[39;49m\u001B[43mxla_executable\u001B[49m\u001B[38;5;241;43m.\u001B[39;49m\u001B[43mexecute_sharded\u001B[49m\u001B[43m(\u001B[49m\n\u001B[1;32m   1245\u001B[0m \u001B[43m      \u001B[49m\u001B[43minput_bufs\u001B[49m\u001B[43m,\u001B[49m\u001B[43m \u001B[49m\u001B[43mwith_tokens\u001B[49m\u001B[38;5;241;43m=\u001B[39;49m\u001B[38;5;28;43;01mTrue\u001B[39;49;00m\n\u001B[1;32m   1246\u001B[0m \u001B[43m  \u001B[49m\u001B[43m)\u001B[49m\n\u001B[1;32m   1248\u001B[0m   result_token_bufs \u001B[38;5;241m=\u001B[39m results\u001B[38;5;241m.\u001B[39mdisassemble_prefix_into_single_device_arrays(\n\u001B[1;32m   1249\u001B[0m       \u001B[38;5;28mlen\u001B[39m(\u001B[38;5;28mself\u001B[39m\u001B[38;5;241m.\u001B[39mordered_effects))\n\u001B[1;32m   1250\u001B[0m   sharded_runtime_token \u001B[38;5;241m=\u001B[39m results\u001B[38;5;241m.\u001B[39mconsume_token()\n",
      "\u001B[0;31mXlaRuntimeError\u001B[0m: INTERNAL: CustomCall failed: CpuCallback error: Traceback (most recent call last):\n  File \"<frozen runpy>\", line 198, in _run_module_as_main\n  File \"<frozen runpy>\", line 88, in _run_code\n  File \"/home/andy/PycharmProjects/diffrax_STLA/venv/lib/python3.11/site-packages/ipykernel_launcher.py\", line 18, in <module>\n  File \"/home/andy/PycharmProjects/diffrax_STLA/venv/lib/python3.11/site-packages/traitlets/config/application.py\", line 1075, in launch_instance\n  File \"/home/andy/PycharmProjects/diffrax_STLA/venv/lib/python3.11/site-packages/ipykernel/kernelapp.py\", line 739, in start\n  File \"/home/andy/PycharmProjects/diffrax_STLA/venv/lib/python3.11/site-packages/tornado/platform/asyncio.py\", line 205, in start\n  File \"/usr/lib/python3.11/asyncio/base_events.py\", line 607, in run_forever\n  File \"/usr/lib/python3.11/asyncio/base_events.py\", line 1922, in _run_once\n  File \"/usr/lib/python3.11/asyncio/events.py\", line 80, in _run\n  File \"/home/andy/PycharmProjects/diffrax_STLA/venv/lib/python3.11/site-packages/ipykernel/kernelbase.py\", line 545, in dispatch_queue\n  File \"/home/andy/PycharmProjects/diffrax_STLA/venv/lib/python3.11/site-packages/ipykernel/kernelbase.py\", line 534, in process_one\n  File \"/home/andy/PycharmProjects/diffrax_STLA/venv/lib/python3.11/site-packages/ipykernel/kernelbase.py\", line 437, in dispatch_shell\n  File \"/home/andy/PycharmProjects/diffrax_STLA/venv/lib/python3.11/site-packages/ipykernel/ipkernel.py\", line 362, in execute_request\n  File \"/home/andy/PycharmProjects/diffrax_STLA/venv/lib/python3.11/site-packages/ipykernel/kernelbase.py\", line 778, in execute_request\n  File \"/home/andy/PycharmProjects/diffrax_STLA/venv/lib/python3.11/site-packages/ipykernel/ipkernel.py\", line 449, in do_execute\n  File \"/home/andy/PycharmProjects/diffrax_STLA/venv/lib/python3.11/site-packages/ipykernel/zmqshell.py\", line 549, in run_cell\n  File \"/home/andy/PycharmProjects/diffrax_STLA/venv/lib/python3.11/site-packages/IPython/core/interactiveshell.py\", line 3075, in run_cell\n  File \"/home/andy/PycharmProjects/diffrax_STLA/venv/lib/python3.11/site-packages/IPython/core/interactiveshell.py\", line 3130, in _run_cell\n  File \"/home/andy/PycharmProjects/diffrax_STLA/venv/lib/python3.11/site-packages/IPython/core/async_helpers.py\", line 129, in _pseudo_sync_runner\n  File \"/home/andy/PycharmProjects/diffrax_STLA/venv/lib/python3.11/site-packages/IPython/core/interactiveshell.py\", line 3334, in run_cell_async\n  File \"/home/andy/PycharmProjects/diffrax_STLA/venv/lib/python3.11/site-packages/IPython/core/interactiveshell.py\", line 3517, in run_ast_nodes\n  File \"/home/andy/PycharmProjects/diffrax_STLA/venv/lib/python3.11/site-packages/IPython/core/interactiveshell.py\", line 3577, in run_code\n  File \"/tmp/ipykernel_35629/3213873017.py\", line 14, in <module>\n  File \"/tmp/ipykernel_35629/260045252.py\", line 36, in run_logreg_dataset\n  File \"/home/andy/PycharmProjects/diffrax_STLA/mcmc/main.py\", line 41, in run_lmc_numpyro\n  File \"/home/andy/PycharmProjects/diffrax_STLA/mcmc/main.py\", line 145, in run_lmc\n  File \"/home/andy/PycharmProjects/diffrax_STLA/venv/lib/python3.11/site-packages/equinox/_jit.py\", line 206, in __call__\n  File \"/home/andy/PycharmProjects/diffrax_STLA/venv/lib/python3.11/site-packages/equinox/_module.py\", line 1053, in __call__\n  File \"/home/andy/PycharmProjects/diffrax_STLA/venv/lib/python3.11/site-packages/equinox/_jit.py\", line 200, in _call\n  File \"/home/andy/PycharmProjects/diffrax_STLA/venv/lib/python3.11/site-packages/jax/_src/traceback_util.py\", line 179, in reraise_with_filtered_traceback\n  File \"/home/andy/PycharmProjects/diffrax_STLA/venv/lib/python3.11/site-packages/jax/_src/pjit.py\", line 327, in cache_miss\n  File \"/home/andy/PycharmProjects/diffrax_STLA/venv/lib/python3.11/site-packages/jax/_src/pjit.py\", line 185, in _python_pjit_helper\n  File \"/home/andy/PycharmProjects/diffrax_STLA/venv/lib/python3.11/site-packages/jax/_src/core.py\", line 2834, in bind\n  File \"/home/andy/PycharmProjects/diffrax_STLA/venv/lib/python3.11/site-packages/jax/_src/core.py\", line 420, in bind_with_trace\n  File \"/home/andy/PycharmProjects/diffrax_STLA/venv/lib/python3.11/site-packages/jax/_src/core.py\", line 921, in process_primitive\n  File \"/home/andy/PycharmProjects/diffrax_STLA/venv/lib/python3.11/site-packages/jax/_src/pjit.py\", line 1635, in _pjit_call_impl\n  File \"/home/andy/PycharmProjects/diffrax_STLA/venv/lib/python3.11/site-packages/jax/_src/pjit.py\", line 1614, in call_impl_cache_miss\n  File \"/home/andy/PycharmProjects/diffrax_STLA/venv/lib/python3.11/site-packages/jax/_src/pjit.py\", line 1568, in _pjit_call_impl_python\n  File \"/home/andy/PycharmProjects/diffrax_STLA/venv/lib/python3.11/site-packages/jax/_src/profiler.py\", line 335, in wrapper\n  File \"/home/andy/PycharmProjects/diffrax_STLA/venv/lib/python3.11/site-packages/jax/_src/interpreters/pxla.py\", line 1244, in __call__\n  File \"/home/andy/PycharmProjects/diffrax_STLA/venv/lib/python3.11/site-packages/jax/_src/interpreters/mlir.py\", line 2476, in _wrapped_callback\nKeyboardInterrupt: "
     ]
    }
   ],
   "source": [
    "# make a file for the results, which has date and time in the name\n",
    "import datetime\n",
    "\n",
    "\n",
    "results_filename = (\n",
    "    f\"mcmc_data/results_{datetime.datetime.now().strftime('%Y-%m-%d_%H-%M-%S')}.txt\"\n",
    ")\n",
    "\n",
    "# create the results file\n",
    "with open(results_filename, \"w\") as f:\n",
    "    f.write(\"Results\\n\\n\")\n",
    "\n",
    "# with warnings.catch_warnings():\n",
    "#     warnings.simplefilter(\"ignore\")\n",
    "for name in names:\n",
    "    print(f\"==================== {name} ====================\")\n",
    "    run_logreg_dataset(name, results_filename)\n",
    "    print()"
   ]
  },
  {
   "cell_type": "code",
   "execution_count": null,
   "id": "c3bd7f4ae52440b7",
   "metadata": {},
   "outputs": [],
   "source": []
  }
 ],
 "metadata": {
  "kernelspec": {
   "display_name": "Python 3",
   "language": "python",
   "name": "python3"
  },
  "language_info": {
   "codemirror_mode": {
    "name": "ipython",
    "version": 2
   },
   "file_extension": ".py",
   "mimetype": "text/x-python",
   "name": "python",
   "nbconvert_exporter": "python",
   "pygments_lexer": "ipython2",
   "version": "2.7.6"
  }
 },
 "nbformat": 4,
 "nbformat_minor": 5
}
