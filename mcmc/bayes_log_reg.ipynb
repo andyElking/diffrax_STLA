{
 "cells": [
  {
   "cell_type": "code",
   "execution_count": 11,
   "id": "initial_id",
   "metadata": {
    "ExecuteTime": {
     "end_time": "2024-08-01T15:11:26.114649Z",
     "start_time": "2024-08-01T15:11:25.646474Z"
    },
    "collapsed": true
   },
   "outputs": [
    {
     "name": "stdout",
     "output_type": "stream",
     "text": [
      "env: JAX_PLATFORM_NAME=cuda\n",
      "[cuda(id=0)]\n",
      "Data shape: (144, 9)\n"
     ]
    }
   ],
   "source": [
    "import math\n",
    "from operator import mul\n",
    "\n",
    "\n",
    "%env JAX_PLATFORM_NAME=cuda\n",
    "\n",
    "import warnings\n",
    "from functools import partial, reduce\n",
    "\n",
    "import jax\n",
    "import jax.numpy as jnp\n",
    "import jax.random as jr\n",
    "import jax.tree_util as jtu\n",
    "import numpy as np\n",
    "import numpyro\n",
    "import ot\n",
    "import scipy\n",
    "from jax import Array\n",
    "from numpyro import diagnostics, distributions as dist\n",
    "from numpyro.infer import MCMC, NUTS\n",
    "\n",
    "from mcmc import run_lmc_numpyro\n",
    "\n",
    "\n",
    "warnings.simplefilter(\"ignore\", FutureWarning)\n",
    "\n",
    "jnp.set_printoptions(precision=3, suppress=True)\n",
    "jax.config.update(\"jax_enable_x64\", True)\n",
    "print(jax.devices(\"cuda\"))\n",
    "\n",
    "\n",
    "def get_model_and_data(data, name):\n",
    "    dset = data[name][0, 0]\n",
    "    x = dset[\"x\"]\n",
    "    labels = jnp.squeeze(dset[\"t\"])\n",
    "    # labels are -1 and 1, convert to 0 and 1\n",
    "    labels = (labels + 1) / 2\n",
    "    n, data_dim = x.shape\n",
    "    print(f\"Data shape: {x.shape}\")\n",
    "\n",
    "    # randomly shuffle the data\n",
    "    perm = jax.random.permutation(jr.PRNGKey(0), n)\n",
    "    x = x[perm]\n",
    "    labels = labels[perm]\n",
    "\n",
    "    n_train = min(int(n * 0.8), 1000)\n",
    "    x_train = x[:n_train]\n",
    "    labels_train = labels[:n_train]\n",
    "    x_test = x[n_train:]\n",
    "    labels_test = labels[n_train:]\n",
    "\n",
    "    def model(x, labels):\n",
    "        alpha = numpyro.sample(\"alpha\", dist.Exponential(0.01))\n",
    "        W = numpyro.sample(\"W\", dist.Normal(jnp.zeros(data_dim), 1.0 / alpha))\n",
    "        b = numpyro.sample(\"b\", dist.Normal(jnp.zeros((1,)), 1.0 / alpha))\n",
    "        logits = jnp.sum(W * x + b, axis=-1)\n",
    "        return numpyro.sample(\"obs\", dist.Bernoulli(logits=logits), obs=labels)\n",
    "\n",
    "    return model, (x_train, labels_train, x_test, labels_test)\n",
    "\n",
    "\n",
    "def compute_w2(x1, x2, num_iters):\n",
    "    source_samples = np.array(x1)\n",
    "    target_samples = np.array(x2)\n",
    "    source_weights = np.ones(source_samples.shape[0]) / source_samples.shape[0]\n",
    "    target_weights = np.ones(target_samples.shape[0]) / target_samples.shape[0]\n",
    "    mm = ot.dist(source_samples, target_samples)\n",
    "    return ot.emd2(source_weights, target_weights, mm, numItermax=num_iters)\n",
    "\n",
    "\n",
    "@partial(jax.jit, static_argnames=(\"max_len\",))\n",
    "def energy_distance(x: Array, y: Array, max_len: int = 2**16):\n",
    "    assert y.ndim == x.ndim\n",
    "    assert x.shape[1:] == y.shape[1:]\n",
    "    prod = reduce(mul, x.shape[1:], 1)\n",
    "    if prod >= 4:\n",
    "        max_len = int(max_len / math.sqrt(prod))\n",
    "\n",
    "    if x.shape[0] > max_len:\n",
    "        x = x[:max_len]\n",
    "    if y.shape[0] > max_len:\n",
    "        y = y[:max_len]\n",
    "\n",
    "    @partial(jax.vmap, in_axes=(None, 0))\n",
    "    def _dist_single(_x, _y_single):\n",
    "        assert _x.ndim == _y_single.ndim + 1, f\"{_x.ndim} != {_y_single.ndim + 1}\"\n",
    "        diff = _x - _y_single\n",
    "        if x.ndim > 1:\n",
    "            # take the norm over all axes except the first one\n",
    "            diff = jnp.sqrt(jnp.sum(diff**2, axis=tuple(range(1, diff.ndim))))\n",
    "        return jnp.mean(jnp.abs(diff))\n",
    "\n",
    "    def dist(_x, _y):\n",
    "        assert _x.ndim == _y.ndim\n",
    "        return jnp.mean(_dist_single(_x, _y))\n",
    "\n",
    "    return 2 * dist(x, y) - dist(x, x) - dist(y, y)\n",
    "\n",
    "\n",
    "def dict_to_array(dct: dict):\n",
    "    alpha = dct[\"alpha\"]\n",
    "    alpha = jnp.expand_dims(alpha, alpha.ndim)\n",
    "    b = dct[\"b\"]\n",
    "    return jnp.concatenate([alpha, b, dct[\"W\"]], axis=-1)\n",
    "\n",
    "\n",
    "vec_dict_to_array = jax.jit(jax.vmap(dict_to_array, in_axes=0, out_axes=0))\n",
    "\n",
    "\n",
    "def flatten_samples(samples):\n",
    "    if isinstance(samples, dict):\n",
    "        samples = vec_dict_to_array(samples)\n",
    "    # remove alpha\n",
    "    samples = samples[..., 1:]\n",
    "    return jnp.reshape(samples, (-1, samples.shape[-1]))\n",
    "\n",
    "\n",
    "def predict(x, samples):\n",
    "    sum = jnp.sum(samples[:, 2:] * x + samples[:, 1:2], axis=-1)\n",
    "    # apply sigmoid\n",
    "    return 1.0 / (1.0 + jnp.exp(-sum))\n",
    "\n",
    "\n",
    "def test_accuracy(x_test, labels_test, samples):\n",
    "    if isinstance(samples, dict):\n",
    "        samples = vec_dict_to_array(samples)\n",
    "    sample_dim = samples.shape[-1]\n",
    "    samples = jnp.reshape(samples, (-1, sample_dim))\n",
    "    if samples.shape[0] > 2**10:\n",
    "        samples = samples[: 2**10]\n",
    "\n",
    "    func = jax.jit(jax.vmap(lambda x: predict(x, samples), in_axes=0, out_axes=0))\n",
    "    predictions = func(x_test)\n",
    "    assert predictions.shape == (\n",
    "        labels_test.shape[0],\n",
    "        samples.shape[0],\n",
    "    ), f\"{predictions.shape} != {(labels_test.shape[0], samples.shape[0])}\"\n",
    "\n",
    "    labels_test = jnp.reshape(labels_test, (labels_test.shape[0], 1))\n",
    "    is_correct = jnp.abs(predictions - labels_test) < 0.5\n",
    "    accuracy_per_sample = jnp.mean(is_correct, axis=0)\n",
    "\n",
    "    avg_accuracy = jnp.mean(accuracy_per_sample)\n",
    "\n",
    "    len10 = int(0.1 * accuracy_per_sample.shape[0])\n",
    "    best_sorted = jnp.sort(accuracy_per_sample)[len10:]\n",
    "    accuracy_best90 = jnp.mean(best_sorted)\n",
    "    return avg_accuracy, accuracy_best90\n",
    "\n",
    "\n",
    "def eval_logreg(\n",
    "    samples,\n",
    "    evals_per_sample=None,\n",
    "    ground_truth=None,\n",
    "    num_iters_w2=0,\n",
    "    x_test=None,\n",
    "    labels_test=None,\n",
    "):\n",
    "    if isinstance(samples, dict):\n",
    "        samples = vec_dict_to_array(samples)\n",
    "\n",
    "    sample_dim = samples.shape[-1]\n",
    "    reshaped_with_alpha = jnp.reshape(samples, (-1, sample_dim))\n",
    "    vars = jnp.var(reshaped_with_alpha, axis=0)\n",
    "    means = jnp.mean(reshaped_with_alpha, axis=0)\n",
    "    result_str = f\"means: {means},\\nvars:  {vars}\"\n",
    "\n",
    "    samples_with_alpha = samples\n",
    "    samples = samples[..., 1:]\n",
    "    reshaped = jnp.reshape(samples, (-1, sample_dim - 1))\n",
    "\n",
    "    ess = diagnostics.effective_sample_size(samples)\n",
    "    avg_ess = 1 / jnp.mean(1 / jnp.stack(jtu.tree_leaves(ess)))\n",
    "    ess_per_sample = avg_ess / reshaped.shape[0]\n",
    "    result_str += (\n",
    "        f\"\\nEffective sample size: {avg_ess:.4},\"\n",
    "        f\" ess per sample: {ess_per_sample:.4}\"\n",
    "    )\n",
    "    if evals_per_sample is not None:\n",
    "        result_str += f\", grad evals per sample: {evals_per_sample:.4}\"\n",
    "\n",
    "    half_len = reshaped.shape[0] // 2\n",
    "    energy_self = energy_distance(reshaped[:half_len], reshaped[half_len:])\n",
    "    result_str += f\"\\nEnergy dist v self: {energy_self:.4}\"\n",
    "\n",
    "    if ground_truth is not None:\n",
    "        ground_truth = ground_truth[..., 1:]\n",
    "        energy_gt = energy_distance(reshaped, ground_truth)\n",
    "        result_str += f\", energy dist vs ground truth: {energy_gt:.4}\"\n",
    "    if num_iters_w2 > 0 and ground_truth is not None:\n",
    "        w2 = compute_w2(reshaped, ground_truth, num_iters_w2)\n",
    "        result_str += f\", Wasserstein-2: {w2:.4}\"\n",
    "\n",
    "    if x_test is not None and labels_test is not None:\n",
    "        acc_error, acc_best90 = test_accuracy(x_test, labels_test, samples_with_alpha)\n",
    "        result_str += (\n",
    "            f\"\\nTest_accuracy: {acc_error:.4}, top 90% accuracy: {acc_best90:.4}\"\n",
    "        )\n",
    "    else:\n",
    "        acc_error, acc_best90 = None, None\n",
    "\n",
    "    print(result_str)\n",
    "\n",
    "    result_dict = {\n",
    "        \"ess\": avg_ess,\n",
    "        \"ess_per_sample\": ess_per_sample,\n",
    "        \"energy_v_self\": energy_self,\n",
    "        \"grad_evals_per_sample\": evals_per_sample,\n",
    "        \"test_accuracy\": acc_error,\n",
    "        \"top90_accuracy\": acc_best90,\n",
    "    }\n",
    "\n",
    "    return result_str, result_dict\n",
    "\n",
    "\n",
    "dataset = scipy.io.loadmat(\"mcmc_data/benchmarks.mat\")\n",
    "data_name = \"flare_solar\"\n",
    "model_logreg, data_split = get_model_and_data(dataset, data_name)\n",
    "x_train, labels_train, x_test, labels_test = data_split"
   ]
  },
  {
   "cell_type": "code",
   "execution_count": 2,
   "id": "cb6890aa66d4af19",
   "metadata": {
    "ExecuteTime": {
     "end_time": "2024-07-31T19:37:08.821575Z",
     "start_time": "2024-07-31T19:37:08.660929Z"
    },
    "collapsed": false
   },
   "outputs": [
    {
     "ename": "FileNotFoundError",
     "evalue": "[Errno 2] No such file or directory: 'mcmc_data/banana_ground_truth.npy'",
     "output_type": "error",
     "traceback": [
      "\u001b[0;31m---------------------------------------------------------------------------\u001b[0m",
      "\u001b[0;31mFileNotFoundError\u001b[0m                         Traceback (most recent call last)",
      "Cell \u001b[0;32mIn[2], line 9\u001b[0m\n\u001b[1;32m      1\u001b[0m file_name \u001b[38;5;241m=\u001b[39m \u001b[38;5;124mf\u001b[39m\u001b[38;5;124m\"\u001b[39m\u001b[38;5;124mmcmc_data/\u001b[39m\u001b[38;5;132;01m{\u001b[39;00mdata_name\u001b[38;5;132;01m}\u001b[39;00m\u001b[38;5;124m_ground_truth.npy\u001b[39m\u001b[38;5;124m\"\u001b[39m\n\u001b[1;32m      3\u001b[0m \u001b[38;5;66;03m# gt_nuts = MCMC(NUTS(model_logreg, step_size=1.0), num_warmup=2**13, num_samples=2**16)\u001b[39;00m\n\u001b[1;32m      4\u001b[0m \u001b[38;5;66;03m# gt_nuts.run(jr.PRNGKey(0), x_train, labels_train)\u001b[39;00m\n\u001b[1;32m      5\u001b[0m \u001b[38;5;66;03m# gt_logreg = vec_dict_to_array(gt_nuts.get_samples())\u001b[39;00m\n\u001b[1;32m      6\u001b[0m \u001b[38;5;66;03m# # thin the samples to 2**15\u001b[39;00m\n\u001b[1;32m      7\u001b[0m \u001b[38;5;66;03m# np.save(file_name, gt_logreg)\u001b[39;00m\n\u001b[0;32m----> 9\u001b[0m gt_logreg \u001b[38;5;241m=\u001b[39m \u001b[43mnp\u001b[49m\u001b[38;5;241;43m.\u001b[39;49m\u001b[43mload\u001b[49m\u001b[43m(\u001b[49m\u001b[43mfile_name\u001b[49m\u001b[43m)\u001b[49m\n\u001b[1;32m     10\u001b[0m gt_logreg \u001b[38;5;241m=\u001b[39m gt_logreg[::\u001b[38;5;241m4\u001b[39m]\n\u001b[1;32m     11\u001b[0m size_gt_half \u001b[38;5;241m=\u001b[39m \u001b[38;5;28mint\u001b[39m(gt_logreg\u001b[38;5;241m.\u001b[39mshape[\u001b[38;5;241m0\u001b[39m] \u001b[38;5;241m/\u001b[39m\u001b[38;5;241m/\u001b[39m \u001b[38;5;241m2\u001b[39m)\n",
      "File \u001b[0;32m~/PycharmProjects/diffrax_STLA/venv/lib/python3.11/site-packages/numpy/lib/_npyio_impl.py:455\u001b[0m, in \u001b[0;36mload\u001b[0;34m(file, mmap_mode, allow_pickle, fix_imports, encoding, max_header_size)\u001b[0m\n\u001b[1;32m    453\u001b[0m     own_fid \u001b[38;5;241m=\u001b[39m \u001b[38;5;28;01mFalse\u001b[39;00m\n\u001b[1;32m    454\u001b[0m \u001b[38;5;28;01melse\u001b[39;00m:\n\u001b[0;32m--> 455\u001b[0m     fid \u001b[38;5;241m=\u001b[39m stack\u001b[38;5;241m.\u001b[39menter_context(\u001b[38;5;28;43mopen\u001b[39;49m\u001b[43m(\u001b[49m\u001b[43mos\u001b[49m\u001b[38;5;241;43m.\u001b[39;49m\u001b[43mfspath\u001b[49m\u001b[43m(\u001b[49m\u001b[43mfile\u001b[49m\u001b[43m)\u001b[49m\u001b[43m,\u001b[49m\u001b[43m \u001b[49m\u001b[38;5;124;43m\"\u001b[39;49m\u001b[38;5;124;43mrb\u001b[39;49m\u001b[38;5;124;43m\"\u001b[39;49m\u001b[43m)\u001b[49m)\n\u001b[1;32m    456\u001b[0m     own_fid \u001b[38;5;241m=\u001b[39m \u001b[38;5;28;01mTrue\u001b[39;00m\n\u001b[1;32m    458\u001b[0m \u001b[38;5;66;03m# Code to distinguish from NumPy binary files and pickles.\u001b[39;00m\n",
      "\u001b[0;31mFileNotFoundError\u001b[0m: [Errno 2] No such file or directory: 'mcmc_data/banana_ground_truth.npy'"
     ]
    }
   ],
   "source": [
    "file_name = f\"mcmc_data/{data_name}_ground_truth.npy\"\n",
    "\n",
    "# gt_nuts = MCMC(NUTS(model_logreg, step_size=1.0), num_warmup=2**13, num_samples=2**16)\n",
    "# gt_nuts.run(jr.PRNGKey(0), x_train, labels_train)\n",
    "# gt_logreg = vec_dict_to_array(gt_nuts.get_samples())\n",
    "# # thin the samples to 2**15\n",
    "# np.save(file_name, gt_logreg)\n",
    "\n",
    "gt_logreg = np.load(file_name)\n",
    "gt_logreg = gt_logreg[::4]\n",
    "size_gt_half = int(gt_logreg.shape[0] // 2)\n",
    "energy_bias = energy_distance(gt_logreg[:size_gt_half], gt_logreg[size_gt_half:])\n",
    "print(f\"Energy bias: {energy_bias}\")\n",
    "print(f\"Ground truth shape: {gt_logreg.shape}\")\n",
    "print(f\"test accuracy: {test_accuracy(x_test, labels_test, gt_logreg)}\")\n",
    "flattened_gt = jnp.reshape(gt_logreg, (-1, 4))\n",
    "print(flattened_gt.shape)\n",
    "print(jnp.var(flattened_gt, axis=0))\n",
    "print(jnp.mean(flattened_gt, axis=0))"
   ]
  },
  {
   "cell_type": "code",
   "execution_count": 23,
   "id": "88d7bf671176fce0",
   "metadata": {
    "ExecuteTime": {
     "end_time": "2024-08-01T15:15:58.522013Z",
     "start_time": "2024-08-01T15:15:58.519854Z"
    }
   },
   "outputs": [],
   "source": [
    "num_chains = 2**5\n",
    "num_samples_per_chain = 2**11\n",
    "warmup_len = 2**13"
   ]
  },
  {
   "cell_type": "code",
   "execution_count": 24,
   "id": "9b866c607224c7d4",
   "metadata": {
    "ExecuteTime": {
     "end_time": "2024-08-01T15:20:59.934019Z",
     "start_time": "2024-08-01T15:15:58.927943Z"
    }
   },
   "outputs": [
    {
     "name": "stderr",
     "output_type": "stream",
     "text": [
      "100.00%|██████████| [00:27<00:00,  3.69%/s]\n",
      "100.00%|██████████| [04:13<00:00,  2.53s/%]"
     ]
    },
    {
     "name": "stdout",
     "output_type": "stream",
     "text": [
      "{'W': (32, 2048, 9), 'alpha': (32, 2048), 'b': (32, 2048, 1)}\n"
     ]
    },
    {
     "name": "stderr",
     "output_type": "stream",
     "text": [
      "\n"
     ]
    }
   ],
   "source": [
    "out_logreg_lmc, steps_logreg_lmc = run_lmc_numpyro(\n",
    "    jr.PRNGKey(2),\n",
    "    model_logreg,\n",
    "    (x_train, labels_train),\n",
    "    num_chains,\n",
    "    num_samples_per_chain,\n",
    "    chain_sep=0.2,\n",
    "    tol=0.01,\n",
    "    warmup_mult=warmup_len,\n",
    "    warmup_tol_mult=32,\n",
    "    use_adaptive=False,\n",
    ")\n",
    "out_logreg_lmc[\"alpha\"] = jnp.exp(out_logreg_lmc[\"alpha\"])\n",
    "print(jtu.tree_map(lambda x: x.shape, out_logreg_lmc))"
   ]
  },
  {
   "cell_type": "code",
   "execution_count": 33,
   "id": "b84632ae75588c64",
   "metadata": {
    "ExecuteTime": {
     "end_time": "2024-08-01T15:53:39.806676Z",
     "start_time": "2024-08-01T15:53:39.802184Z"
    }
   },
   "outputs": [
    {
     "name": "stdout",
     "output_type": "stream",
     "text": [
      "(65536, 10)\n",
      "[]\n",
      "(0, 10)\n"
     ]
    }
   ],
   "source": [
    "flat_lmc = flatten_samples(out_logreg_lmc)\n",
    "print(flat_lmc.shape)\n",
    "outlier_positions = jnp.abs(flat_lmc) > 400\n",
    "outlier_positions = jnp.any(outlier_positions, axis=1)\n",
    "outliers = flat_lmc[outlier_positions]\n",
    "print(outliers)\n",
    "print(outliers.shape)"
   ]
  },
  {
   "cell_type": "code",
   "execution_count": 26,
   "id": "370c919e1db98307",
   "metadata": {
    "ExecuteTime": {
     "end_time": "2024-08-01T15:21:00.614069Z",
     "start_time": "2024-08-01T15:21:00.120188Z"
    }
   },
   "outputs": [
    {
     "name": "stdout",
     "output_type": "stream",
     "text": [
      "means: [   0.013   44.606    0.313    0.27    -0.25     1.263 -208.002   12.058\n",
      "    0.021    0.382  129.781],\n",
      "vars:  [   0.      51.064    0.793    0.483    0.502    6.237  949.076  495.334\n",
      "    0.033    0.608 1168.32 ]\n",
      "Effective sample size: 61.44, ess per sample: 0.0009375, grad evals per sample: 45.06\n",
      "Energy dist v self: 2.66\n",
      "Test_accuracy: 0.6211, top 90% accuracy: 0.6296\n"
     ]
    }
   ],
   "source": [
    "_ = eval_logreg(\n",
    "    out_logreg_lmc, steps_logreg_lmc, x_test=x_test, labels_test=labels_test\n",
    ")"
   ]
  },
  {
   "cell_type": "code",
   "execution_count": 27,
   "id": "47568f0f703122b5",
   "metadata": {
    "ExecuteTime": {
     "end_time": "2024-08-01T15:22:32.334991Z",
     "start_time": "2024-08-01T15:21:00.615052Z"
    }
   },
   "outputs": [
    {
     "name": "stderr",
     "output_type": "stream",
     "text": [
      "warmup: 100%|██████████| 8192/8192 [00:56<00:00, 146.28it/s]\n",
      "sample: 100%|██████████| 2048/2048 [00:29<00:00, 69.19it/s] \n"
     ]
    },
    {
     "name": "stdout",
     "output_type": "stream",
     "text": [
      "63.75968933105469\n",
      "{'W': (32, 2048, 9), 'alpha': (32, 2048), 'b': (32, 2048, 1)}\n"
     ]
    }
   ],
   "source": [
    "nuts = MCMC(\n",
    "    NUTS(model_logreg),\n",
    "    num_warmup=warmup_len,\n",
    "    num_samples=num_samples_per_chain,\n",
    "    num_chains=num_chains,\n",
    "    chain_method=\"vectorized\",\n",
    ")\n",
    "nuts.warmup(\n",
    "    jr.PRNGKey(2),\n",
    "    x_train,\n",
    "    labels_train,\n",
    "    extra_fields=(\"num_steps\",),\n",
    "    collect_warmup=True,\n",
    ")\n",
    "warmup_steps = sum(nuts.get_extra_fields()[\"num_steps\"])\n",
    "nuts.run(jr.PRNGKey(2), x_train, labels_train, extra_fields=(\"num_steps\",))\n",
    "out_logreg_nuts = nuts.get_samples(group_by_chain=True)\n",
    "num_steps_nuts = sum(nuts.get_extra_fields()[\"num_steps\"]) + warmup_steps\n",
    "geps_nuts = num_steps_nuts / (num_chains * num_samples_per_chain)\n",
    "print(geps_nuts)\n",
    "print(jtu.tree_map(lambda x: x.shape, out_logreg_nuts))"
   ]
  },
  {
   "cell_type": "code",
   "execution_count": 28,
   "id": "65cf79276c2501d7",
   "metadata": {
    "ExecuteTime": {
     "end_time": "2024-08-01T15:22:32.698187Z",
     "start_time": "2024-08-01T15:22:32.336183Z"
    }
   },
   "outputs": [
    {
     "name": "stdout",
     "output_type": "stream",
     "text": [
      "means: [22.333  0.05   0.018  0.025 -0.     0.045 -0.018  0.04   0.002  0.023\n",
      "  0.012],\n",
      "vars:  [237.374   0.002   0.008   0.007   0.007   0.012   0.018   0.015   0.003\n",
      "   0.007   0.01 ]\n",
      "Effective sample size: 1.826e+04, ess per sample: 0.2786, grad evals per sample: 63.76\n",
      "Energy dist v self: 3.95e-05\n",
      "Test_accuracy: 0.5516, top 90% accuracy: 0.5518\n"
     ]
    }
   ],
   "source": [
    "_ = eval_logreg(out_logreg_nuts, geps_nuts, x_test=x_test, labels_test=labels_test)"
   ]
  },
  {
   "cell_type": "code",
   "execution_count": 29,
   "id": "4726ef43f61a7013",
   "metadata": {
    "ExecuteTime": {
     "end_time": "2024-08-01T15:22:33.101284Z",
     "start_time": "2024-08-01T15:22:32.698954Z"
    }
   },
   "outputs": [
    {
     "name": "stdout",
     "output_type": "stream",
     "text": [
      "446.56067682614116\n"
     ]
    }
   ],
   "source": [
    "flat_nuts = flatten_samples(out_logreg_nuts)\n",
    "enenrgy_dist = energy_distance(flat_nuts, flat_lmc)\n",
    "print(enenrgy_dist)"
   ]
  },
  {
   "cell_type": "code",
   "execution_count": 3,
   "id": "f2b826cca477206d",
   "metadata": {
    "ExecuteTime": {
     "end_time": "2024-07-31T20:19:35.079938Z",
     "start_time": "2024-07-31T20:19:35.075389Z"
    },
    "collapsed": false
   },
   "outputs": [],
   "source": [
    "import pickle\n",
    "\n",
    "\n",
    "def run_logreg_dataset(name, results_filename=None, results_dict_filename=None):\n",
    "    model_logreg, data_split = get_model_and_data(dataset, name)\n",
    "    x_train, labels_train, x_test, labels_test = data_split\n",
    "\n",
    "    num_chains = 2**5\n",
    "    num_samples_per_chain = 2**11\n",
    "    warmup_len = 2**13\n",
    "\n",
    "    nuts = MCMC(\n",
    "        NUTS(model_logreg),\n",
    "        num_warmup=warmup_len,\n",
    "        num_samples=num_samples_per_chain,\n",
    "        num_chains=num_chains,\n",
    "        chain_method=\"vectorized\",\n",
    "    )\n",
    "    nuts.warmup(\n",
    "        jr.PRNGKey(2),\n",
    "        x_train,\n",
    "        labels_train,\n",
    "        extra_fields=(\"num_steps\",),\n",
    "        collect_warmup=True,\n",
    "    )\n",
    "    warmup_steps = sum(nuts.get_extra_fields()[\"num_steps\"])\n",
    "    nuts.run(jr.PRNGKey(2), x_train, labels_train, extra_fields=(\"num_steps\",))\n",
    "    out_logreg_nuts = nuts.get_samples(group_by_chain=True)\n",
    "    num_steps_nuts = sum(nuts.get_extra_fields()[\"num_steps\"]) + warmup_steps\n",
    "    geps_nuts = num_steps_nuts / (num_chains * num_samples_per_chain)\n",
    "    print(\"NUTS:\")\n",
    "    eval_nuts_str, eval_nuts_dict = eval_logreg(\n",
    "        out_logreg_nuts,\n",
    "        geps_nuts,\n",
    "        ground_truth=None,\n",
    "        x_test=x_test,\n",
    "        labels_test=labels_test,\n",
    "    )\n",
    "\n",
    "    lmc_tol = 0.01\n",
    "    chain_sep = (0.4 * num_steps_nuts / num_chains) * (\n",
    "        lmc_tol / (num_samples_per_chain + 4 + warmup_len / 32)\n",
    "    )\n",
    "    print(f\"Target chain separation: {chain_sep}\")\n",
    "    if chain_sep < 0.1:\n",
    "        chain_sep = 0.1\n",
    "\n",
    "    out_logreg_lmc, geps_lmc = run_lmc_numpyro(\n",
    "        jr.PRNGKey(3),\n",
    "        model_logreg,\n",
    "        (x_train, labels_train),\n",
    "        num_chains,\n",
    "        num_samples_per_chain,\n",
    "        chain_sep=chain_sep,\n",
    "        tol=lmc_tol,\n",
    "        warmup_mult=warmup_len,\n",
    "        warmup_tol_mult=32,\n",
    "        use_adaptive=False,\n",
    "    )\n",
    "    out_logreg_lmc[\"alpha\"] = jnp.exp(out_logreg_lmc[\"alpha\"])\n",
    "\n",
    "    eval_lmc_str, eval_lmc_dict = eval_logreg(\n",
    "        out_logreg_lmc,\n",
    "        geps_lmc,\n",
    "        ground_truth=None,\n",
    "        x_test=x_test,\n",
    "        labels_test=labels_test,\n",
    "    )\n",
    "\n",
    "    # Compute energy distance between the two methods\n",
    "    lmc_flat = flatten_samples(out_logreg_lmc)\n",
    "    nuts_flat = flatten_samples(out_logreg_nuts)\n",
    "\n",
    "    energy_dist = energy_distance(lmc_flat, nuts_flat)\n",
    "    print(f\"Energy distance between LMC and NUTS: {energy_dist:.5}\")\n",
    "\n",
    "    if results_filename is not None:\n",
    "        with open(results_filename, \"a\") as f:\n",
    "            f.write(f\"{name}\\n\")\n",
    "            f.write(f\"LMC: {eval_lmc_str}\\n\\n\")\n",
    "            f.write(f\"NUTS: {eval_nuts_str}\\n\\n\")\n",
    "            f.write(f\"Energy distance: {energy_dist:.5}\\n\\n\\n\")\n",
    "\n",
    "    results_dict = {\n",
    "        \"dataset_name\": name,\n",
    "        \"LMC\": eval_lmc_dict,\n",
    "        \"NUTS\": eval_nuts_dict,\n",
    "        \"Energy distance\": energy_dist,\n",
    "    }\n",
    "\n",
    "    if results_dict_filename is not None:\n",
    "        with open(results_dict_filename, \"wb\") as f:\n",
    "            pickle.dump(results_dict, f)"
   ]
  },
  {
   "cell_type": "code",
   "execution_count": 4,
   "id": "fb6851c76c27702f",
   "metadata": {
    "ExecuteTime": {
     "end_time": "2024-07-31T20:19:37.333545Z",
     "start_time": "2024-07-31T20:19:37.331063Z"
    }
   },
   "outputs": [],
   "source": [
    "names = [\n",
    "    \"banana\",\n",
    "    \"breast_cancer\",\n",
    "    \"diabetis\",\n",
    "    \"flare_solar\",\n",
    "    \"german\",\n",
    "    \"heart\",\n",
    "    \"image\",\n",
    "    \"ringnorm\",\n",
    "    \"splice\",\n",
    "    \"thyroid\",\n",
    "    \"titanic\",\n",
    "    \"twonorm\",\n",
    "    \"waveform\",\n",
    "]"
   ]
  },
  {
   "cell_type": "code",
   "execution_count": null,
   "id": "e7e926ca753859d5",
   "metadata": {
    "ExecuteTime": {
     "start_time": "2024-07-31T20:19:37.947746Z"
    },
    "jupyter": {
     "is_executing": true
    }
   },
   "outputs": [
    {
     "name": "stdout",
     "output_type": "stream",
     "text": [
      "==================== banana ====================\n",
      "Data shape: (5300, 2)\n"
     ]
    },
    {
     "name": "stderr",
     "output_type": "stream",
     "text": [
      "warmup: 100%|██████████| 8192/8192 [00:26<00:00, 306.29it/s]\n",
      "sample: 100%|██████████| 2048/2048 [00:08<00:00, 234.85it/s]\n"
     ]
    },
    {
     "name": "stdout",
     "output_type": "stream",
     "text": [
      "NUTS:\n",
      "means: [16.761 -0.101 -0.03  -0.047],\n",
      "vars:  [162.443   0.001   0.002   0.003]\n",
      "Effective sample size: 2.806e+04, ess per sample: 0.4282, grad evals per sample: 32.16\n",
      "Energy dist v self: 9.073e-06\n",
      "Test_accuracy: 0.5509, top 90% accuracy: 0.5549\n",
      "Target chain separation: 0.07134521907495668\n"
     ]
    },
    {
     "name": "stderr",
     "output_type": "stream",
     "text": [
      "100.00%|██████████| [00:13<00:00,  7.40%/s]\n",
      "100.00%|██████████| [02:06<00:00,  1.27s/%]\n"
     ]
    },
    {
     "name": "stdout",
     "output_type": "stream",
     "text": [
      "means: [16.46  -0.111 -0.036 -0.056],\n",
      "vars:  [322.838   0.283   0.189   0.261]\n",
      "Effective sample size: 2.761e+04, ess per sample: 0.4214, grad evals per sample: 22.53\n",
      "Energy dist v self: 0.0001146\n",
      "Test_accuracy: 0.546, top 90% accuracy: 0.5544\n",
      "Energy distance between LMC and NUTS: 0.001113\n",
      "\n",
      "==================== breast_cancer ====================\n",
      "Data shape: (263, 9)\n"
     ]
    },
    {
     "name": "stderr",
     "output_type": "stream",
     "text": [
      "warmup: 100%|██████████| 8192/8192 [00:24<00:00, 329.15it/s]\n",
      "sample: 100%|██████████| 2048/2048 [00:08<00:00, 230.53it/s]\n"
     ]
    },
    {
     "name": "stdout",
     "output_type": "stream",
     "text": [
      "NUTS:\n",
      "means: [ 4.596 -0.123 -0.097  0.107  0.051  0.295 -0.211  0.425 -0.11  -0.002\n",
      " -0.133],\n",
      "vars:  [2.486 0.    0.024 0.027 0.02  0.026 0.022 0.031 0.019 0.02  0.017]\n",
      "Effective sample size: 6.341e+04, ess per sample: 0.9675, grad evals per sample: 37.85\n",
      "Energy dist v self: 4.937e-05\n",
      "Test_accuracy: 0.6586, top 90% accuracy: 0.6632\n",
      "Target chain separation: 0.0839616957322357\n"
     ]
    },
    {
     "name": "stderr",
     "output_type": "stream",
     "text": [
      "100.00%|██████████| [00:13<00:00,  7.27%/s]\n",
      "100.00%|██████████| [02:08<00:00,  1.28s/%]\n"
     ]
    },
    {
     "name": "stdout",
     "output_type": "stream",
     "text": [
      "means: [ 4.471 -0.161 -0.118  0.232  0.049  0.408 -0.268  0.76  -0.186 -0.009\n",
      " -0.175],\n",
      "vars:  [2.798 0.219 0.24  1.154 0.162 1.159 0.64  9.702 0.671 0.041 0.305]\n",
      "Effective sample size: 3.951e+03, ess per sample: 0.06029, grad evals per sample: 22.53\n",
      "Energy dist v self: 0.0001789\n",
      "Test_accuracy: 0.6587, top 90% accuracy: 0.664\n",
      "Energy distance between LMC and NUTS: 0.009713\n",
      "\n",
      "==================== diabetis ====================\n",
      "Data shape: (768, 8)\n"
     ]
    },
    {
     "name": "stderr",
     "output_type": "stream",
     "text": [
      "warmup: 100%|██████████| 8192/8192 [00:22<00:00, 368.61it/s]\n",
      "sample: 100%|██████████| 2048/2048 [00:07<00:00, 282.18it/s]\n"
     ]
    },
    {
     "name": "stdout",
     "output_type": "stream",
     "text": [
      "NUTS:\n",
      "means: [ 2.083 -0.105  0.371  1.136 -0.298 -0.015 -0.142  0.714  0.229  0.159],\n",
      "vars:  [0.264 0.    0.013 0.017 0.012 0.014 0.012 0.017 0.011 0.014]\n",
      "Effective sample size: 8.386e+04, ess per sample: 1.28, grad evals per sample: 34.5\n",
      "Energy dist v self: 4.048e-05\n",
      "Test_accuracy: 0.778, top 90% accuracy: 0.7805\n",
      "Target chain separation: 0.07654422118717505\n"
     ]
    },
    {
     "name": "stderr",
     "output_type": "stream",
     "text": [
      "100.00%|██████████| [00:14<00:00,  7.11%/s]\n",
      "100.00%|██████████| [02:11<00:00,  1.32s/%]\n"
     ]
    },
    {
     "name": "stdout",
     "output_type": "stream",
     "text": [
      "means: [ 2.08  -0.105  0.372  1.137 -0.299 -0.016 -0.142  0.715  0.229  0.159],\n",
      "vars:  [0.271 0.    0.013 0.02  0.013 0.014 0.014 0.021 0.012 0.014]\n",
      "Effective sample size: 2.932e+04, ess per sample: 0.4473, grad evals per sample: 22.53\n",
      "Energy dist v self: 5.438e-05\n",
      "Test_accuracy: 0.7776, top 90% accuracy: 0.7803\n",
      "Energy distance between LMC and NUTS: 7.637e-05\n",
      "\n",
      "==================== flare_solar ====================\n",
      "Data shape: (144, 9)\n"
     ]
    },
    {
     "name": "stderr",
     "output_type": "stream",
     "text": [
      "warmup: 100%|██████████| 8192/8192 [00:54<00:00, 149.49it/s]\n",
      "sample: 100%|██████████| 2048/2048 [00:29<00:00, 69.25it/s] \n"
     ]
    },
    {
     "name": "stdout",
     "output_type": "stream",
     "text": [
      "NUTS:\n",
      "means: [22.333  0.05   0.018  0.025 -0.     0.045 -0.018  0.04   0.002  0.023\n",
      "  0.012],\n",
      "vars:  [237.374   0.002   0.008   0.007   0.007   0.012   0.018   0.015   0.003\n",
      "   0.007   0.01 ]\n",
      "Effective sample size: 1.826e+04, ess per sample: 0.2786, grad evals per sample: 63.76\n",
      "Energy dist v self: 3.95e-05\n",
      "Test_accuracy: 0.5516, top 90% accuracy: 0.5518\n",
      "Target chain separation: 0.14144263837738302\n"
     ]
    },
    {
     "name": "stderr",
     "output_type": "stream",
     "text": [
      "100.00%|██████████| [00:20<00:00,  4.89%/s]\n",
      "100.00%|██████████| [03:12<00:00,  1.93s/%]\n"
     ]
    },
    {
     "name": "stdout",
     "output_type": "stream",
     "text": [
      "means: [   0.014   41.193    0.337    0.302   -0.272    1.368 -194.248   15.019\n",
      "    0.021    0.406  120.766],\n",
      "vars:  [   0.      27.697    1.053    0.785    0.682   10.246  468.104  580.589\n",
      "    0.031    0.828 1216.831]\n",
      "Effective sample size: 71.62, ess per sample: 0.001093, grad evals per sample: 33.58\n",
      "Energy dist v self: 1.474\n",
      "Test_accuracy: 0.6226, top 90% accuracy: 0.6313\n",
      "Energy distance between LMC and NUTS: 412.16\n",
      "\n",
      "==================== german ====================\n",
      "Data shape: (1000, 20)\n"
     ]
    },
    {
     "name": "stderr",
     "output_type": "stream",
     "text": [
      "warmup: 100%|██████████| 8192/8192 [00:30<00:00, 266.03it/s]\n",
      "sample: 100%|██████████| 2048/2048 [00:10<00:00, 197.31it/s]\n"
     ]
    },
    {
     "name": "stdout",
     "output_type": "stream",
     "text": [
      "NUTS:\n",
      "means: [ 4.255 -0.053 -0.653  0.239 -0.341 -0.087  0.234 -0.328 -0.147  0.18\n",
      " -0.217 -0.13   0.064  0.244 -0.128 -0.151 -0.097  0.08   0.002  0.052\n",
      " -0.117 -0.156],\n",
      "vars:  [0.577 0.    0.009 0.009 0.009 0.006 0.011 0.008 0.008 0.008 0.007 0.008\n",
      " 0.008 0.009 0.009 0.006 0.008 0.008 0.008 0.007 0.008 0.011]\n",
      "Effective sample size: 7.301e+04, ess per sample: 1.114, grad evals per sample: 41.93\n",
      "Energy dist v self: 8.904e-05\n",
      "Test_accuracy: 0.7818, top 90% accuracy: 0.7855\n",
      "Target chain separation: 0.09300696625866552\n"
     ]
    },
    {
     "name": "stderr",
     "output_type": "stream",
     "text": [
      "100.00%|██████████| [00:14<00:00,  6.97%/s]\n",
      "100.00%|██████████| [02:13<00:00,  1.34s/%]\n"
     ]
    },
    {
     "name": "stdout",
     "output_type": "stream",
     "text": [
      "means: [ 4.261 -0.053 -0.652  0.238 -0.341 -0.087  0.234 -0.327 -0.146  0.181\n",
      " -0.217 -0.129  0.063  0.245 -0.128 -0.151 -0.097  0.08   0.002  0.051\n",
      " -0.117 -0.156],\n",
      "vars:  [0.608 0.    0.009 0.01  0.009 0.007 0.011 0.009 0.008 0.008 0.007 0.008\n",
      " 0.008 0.009 0.009 0.007 0.008 0.009 0.008 0.007 0.008 0.011]\n",
      "Effective sample size: 3.373e+04, ess per sample: 0.5147, grad evals per sample: 22.53\n",
      "Energy dist v self: 6.986e-05\n",
      "Test_accuracy: 0.7824, top 90% accuracy: 0.786\n",
      "Energy distance between LMC and NUTS: 0.00010642\n",
      "\n",
      "==================== heart ====================\n",
      "Data shape: (270, 13)\n"
     ]
    },
    {
     "name": "stderr",
     "output_type": "stream",
     "text": [
      "warmup: 100%|██████████| 8192/8192 [00:23<00:00, 342.36it/s]\n",
      "sample: 100%|██████████| 2048/2048 [00:08<00:00, 232.54it/s]\n"
     ]
    },
    {
     "name": "stdout",
     "output_type": "stream",
     "text": [
      "NUTS:\n",
      "means: [ 2.073 -0.022 -0.111  0.635  0.719  0.279  0.213 -0.043  0.271 -0.145\n",
      "  0.415  0.315  0.317  1.018  0.645],\n",
      "vars:  [0.245 0.    0.046 0.06  0.045 0.038 0.04  0.04  0.039 0.057 0.042 0.054\n",
      " 0.052 0.07  0.043]\n",
      "Effective sample size: 6.987e+04, ess per sample: 1.066, grad evals per sample: 38.43\n",
      "Energy dist v self: 0.0001023\n",
      "Test_accuracy: 0.8035, top 90% accuracy: 0.8111\n",
      "Target chain separation: 0.08524808410961872\n"
     ]
    },
    {
     "name": "stderr",
     "output_type": "stream",
     "text": [
      "100.00%|██████████| [00:13<00:00,  7.15%/s]\n",
      "100.00%|██████████| [02:06<00:00,  1.27s/%]\n"
     ]
    },
    {
     "name": "stdout",
     "output_type": "stream",
     "text": [
      "means: [ 1.992 -0.03  -0.464  1.706  1.564  0.835  0.69  -0.099  0.676 -0.052\n",
      "  0.921  0.412  0.781  2.723  1.201],\n",
      "vars:  [ 0.415  0.099  3.768 34.265 25.743  9.176  6.517  0.268  5.936  1.838\n",
      "  8.584  3.085  6.67  85.814 14.693]\n",
      "Effective sample size: 968.9, ess per sample: 0.01478, grad evals per sample: 22.53\n",
      "Energy dist v self: 0.01377\n",
      "Test_accuracy: 0.802, top 90% accuracy: 0.81\n",
      "Energy distance between LMC and NUTS: 0.094604\n",
      "\n",
      "==================== image ====================\n",
      "Data shape: (2086, 18)\n"
     ]
    },
    {
     "name": "stderr",
     "output_type": "stream",
     "text": [
      "warmup: 100%|██████████| 8192/8192 [03:32<00:00, 38.46it/s]\n",
      "sample: 100%|██████████| 2048/2048 [01:00<00:00, 33.73it/s]\n"
     ]
    },
    {
     "name": "stdout",
     "output_type": "stream",
     "text": [
      "NUTS:\n",
      "means: [ 1.244  0.014 -0.435  0.503  0.05   0.01  -0.373  0.143  0.681  0.699\n",
      "  0.684  0.886  0.583  0.61   1.246 -0.145 -1.016  0.106  1.631 -0.578],\n",
      "vars:  [0.065 0.    0.008 0.014 0.007 0.007 0.018 0.026 0.026 0.177 0.594 0.562\n",
      " 0.626 0.579 0.186 0.453 0.187 0.638 0.032 0.046]\n",
      "Effective sample size: 4.92e+04, ess per sample: 0.7507, grad evals per sample: 346.4\n",
      "Energy dist v self: 0.0006878\n",
      "Test_accuracy: 0.8241, top 90% accuracy: 0.8254\n",
      "Target chain separation: 0.7685093289644714\n"
     ]
    },
    {
     "name": "stderr",
     "output_type": "stream",
     "text": [
      "100.00%|██████████| [02:01<00:00,  1.22s/%]\n",
      "100.00%|██████████| [17:57<00:00, 10.78s/%]\n"
     ]
    },
    {
     "name": "stdout",
     "output_type": "stream",
     "text": [
      "means: [ 1.25   0.014 -0.435  0.503  0.05   0.01  -0.372  0.144  0.679  0.696\n",
      "  0.684  0.885  0.575  0.61   1.247 -0.14  -1.01   0.111  1.627 -0.578],\n",
      "vars:  [0.067 0.    0.008 0.014 0.007 0.007 0.019 0.026 0.026 0.175 0.589 0.552\n",
      " 0.611 0.558 0.183 0.447 0.184 0.619 0.032 0.046]\n",
      "Effective sample size: 4.039e+04, ess per sample: 0.6164, grad evals per sample: 173.4\n",
      "Energy dist v self: 0.001093\n",
      "Test_accuracy: 0.8237, top 90% accuracy: 0.8249\n",
      "Energy distance between LMC and NUTS: 0.0008031\n",
      "\n",
      "==================== ringnorm ====================\n",
      "Data shape: (7400, 20)\n"
     ]
    },
    {
     "name": "stderr",
     "output_type": "stream",
     "text": [
      "warmup: 100%|██████████| 8192/8192 [00:33<00:00, 245.87it/s]\n",
      "sample:  66%|██████▌   | 1355/2048 [00:05<00:01, 596.20it/s]"
     ]
    }
   ],
   "source": [
    "# make a file for the results, which has date and time in the name\n",
    "import datetime\n",
    "\n",
    "\n",
    "time = datetime.datetime.now().strftime(\"%Y-%m-%d_%H-%M-%S\")\n",
    "results_filename = f\"mcmc_data/results_{time}.txt\"\n",
    "results_dict_filename = f\"mcmc_data/results_dict_{time}.pkl\"\n",
    "\n",
    "# create the results file\n",
    "with open(results_filename, \"w\") as f:\n",
    "    f.write(\"Results\\n\\n\")\n",
    "\n",
    "# with warnings.catch_warnings():\n",
    "#     warnings.simplefilter(\"ignore\")\n",
    "for name in names:\n",
    "    print(f\"==================== {name} ====================\")\n",
    "    run_logreg_dataset(name, results_filename, results_dict_filename)\n",
    "    print()"
   ]
  },
  {
   "cell_type": "code",
   "execution_count": null,
   "id": "c3bd7f4ae52440b7",
   "metadata": {},
   "outputs": [],
   "source": []
  }
 ],
 "metadata": {
  "kernelspec": {
   "display_name": "Python 3",
   "language": "python",
   "name": "python3"
  },
  "language_info": {
   "codemirror_mode": {
    "name": "ipython",
    "version": 2
   },
   "file_extension": ".py",
   "mimetype": "text/x-python",
   "name": "python",
   "nbconvert_exporter": "python",
   "pygments_lexer": "ipython2",
   "version": "2.7.6"
  }
 },
 "nbformat": 4,
 "nbformat_minor": 5
}
