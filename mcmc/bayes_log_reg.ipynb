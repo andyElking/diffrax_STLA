{
 "cells": [
  {
   "cell_type": "code",
   "execution_count": 1,
   "id": "initial_id",
   "metadata": {
    "ExecuteTime": {
     "end_time": "2024-07-25T22:33:31.538733Z",
     "start_time": "2024-07-25T22:33:29.580607Z"
    },
    "collapsed": true
   },
   "outputs": [
    {
     "name": "stdout",
     "output_type": "stream",
     "text": [
      "env: JAX_PLATFORM_NAME=cuda\n",
      "[cuda(id=0)]\n",
      "Data shape: (5300, 2)\n"
     ]
    }
   ],
   "source": [
    "%env JAX_PLATFORM_NAME=cuda\n",
    "\n",
    "import warnings\n",
    "from functools import partial\n",
    "\n",
    "import jax\n",
    "import jax.numpy as jnp\n",
    "import jax.random as jr\n",
    "import jax.tree_util as jtu\n",
    "import numpy as np\n",
    "import numpyro\n",
    "import ot\n",
    "import scipy\n",
    "from jax import Array\n",
    "from numpyro import diagnostics, distributions as dist\n",
    "from numpyro.infer import MCMC, NUTS\n",
    "\n",
    "from mcmc import run_lmc_numpyro\n",
    "\n",
    "\n",
    "warnings.simplefilter(\"ignore\", FutureWarning)\n",
    "\n",
    "jnp.set_printoptions(precision=3, suppress=True)\n",
    "jax.config.update(\"jax_enable_x64\", True)\n",
    "print(jax.devices(\"cuda\"))\n",
    "\n",
    "\n",
    "def get_model_and_data(data, name):\n",
    "    dset = data[name][0, 0]\n",
    "    x = dset[\"x\"]\n",
    "    labels = jnp.squeeze(dset[\"t\"])\n",
    "    # labels are -1 and 1, convert to 0 and 1\n",
    "    labels = (labels + 1) / 2\n",
    "    n, data_dim = x.shape\n",
    "    print(f\"Data shape: {x.shape}\")\n",
    "\n",
    "    # randomly shuffle the data\n",
    "    perm = jax.random.permutation(jr.PRNGKey(0), n)\n",
    "    x = x[perm]\n",
    "    labels = labels[perm]\n",
    "\n",
    "    n_train = min(int(n * 0.8), 500)\n",
    "    x_train = x[:n_train]\n",
    "    labels_train = labels[:n_train]\n",
    "    x_test = x[n_train:]\n",
    "    labels_test = labels[n_train:]\n",
    "\n",
    "    def model(x, labels):\n",
    "        alpha = numpyro.sample(\"alpha\", dist.Exponential(0.01))\n",
    "        W = numpyro.sample(\"W\", dist.Normal(jnp.zeros(data_dim), 1.0 / alpha))\n",
    "        b = numpyro.sample(\"b\", dist.Normal(jnp.zeros((1,)), 1.0 / alpha))\n",
    "        logits = jnp.sum(W * x + b, axis=-1)\n",
    "        return numpyro.sample(\"obs\", dist.Bernoulli(logits=logits), obs=labels)\n",
    "\n",
    "    return model, (x_train, labels_train, x_test, labels_test)\n",
    "\n",
    "\n",
    "def compute_w2(x1, x2, num_iters):\n",
    "    source_samples = np.array(x1)\n",
    "    target_samples = np.array(x2)\n",
    "    source_weights = np.ones(source_samples.shape[0]) / source_samples.shape[0]\n",
    "    target_weights = np.ones(target_samples.shape[0]) / target_samples.shape[0]\n",
    "    mm = ot.dist(source_samples, target_samples)\n",
    "    return ot.emd2(source_weights, target_weights, mm, numItermax=num_iters)\n",
    "\n",
    "\n",
    "@partial(jax.jit, static_argnames=(\"max_len\",))\n",
    "def energy_distance(x: Array, y: Array, max_len: int = 2**15):\n",
    "    assert y.ndim == x.ndim\n",
    "    assert x.shape[1:] == y.shape[1:]\n",
    "    if x.shape[0] > max_len:\n",
    "        x = x[:max_len]\n",
    "    if y.shape[0] > max_len:\n",
    "        y = y[:max_len]\n",
    "\n",
    "    @partial(jax.vmap, in_axes=(None, 0))\n",
    "    def _dist_single(_x, _y_single):\n",
    "        assert _x.ndim == _y_single.ndim + 1, f\"{_x.ndim} != {_y_single.ndim + 1}\"\n",
    "        diff = _x - _y_single\n",
    "        if x.ndim > 1:\n",
    "            # take the norm over all axes except the first one\n",
    "            diff = jnp.sqrt(jnp.sum(diff**2, axis=tuple(range(1, diff.ndim))))\n",
    "        return jnp.mean(jnp.abs(diff))\n",
    "\n",
    "    def dist(_x, _y):\n",
    "        assert _x.ndim == _y.ndim\n",
    "        return jnp.mean(_dist_single(_x, _y))\n",
    "\n",
    "    return 2 * dist(x, y) - dist(x, x) - dist(y, y)\n",
    "\n",
    "\n",
    "def dict_to_array(dct: dict):\n",
    "    alpha = dct[\"alpha\"]\n",
    "    alpha = jnp.expand_dims(alpha, alpha.ndim)\n",
    "    b = dct[\"b\"]\n",
    "    return jnp.concatenate([alpha, b, dct[\"W\"]], axis=-1)\n",
    "\n",
    "\n",
    "vec_dict_to_array = jax.jit(jax.vmap(dict_to_array, in_axes=0, out_axes=0))\n",
    "\n",
    "\n",
    "def predict(x, samples):\n",
    "    sum = jnp.sum(samples[:, 2:] * x + samples[:, 1:2], axis=-1)\n",
    "    # apply sigmoid\n",
    "    return 1.0 / (1.0 + jnp.exp(-sum))\n",
    "\n",
    "\n",
    "def test_accuracy(x_test, labels_test, samples):\n",
    "    if isinstance(samples, dict):\n",
    "        samples = vec_dict_to_array(samples)\n",
    "    sample_dim = samples.shape[-1]\n",
    "    samples = jnp.reshape(samples, (-1, sample_dim))\n",
    "    if samples.shape[0] > 2**10:\n",
    "        samples = samples[: 2**10]\n",
    "\n",
    "    func = jax.jit(jax.vmap(lambda x: predict(x, samples), in_axes=0, out_axes=0))\n",
    "    predictions = func(x_test)\n",
    "    assert predictions.shape == (\n",
    "        labels_test.shape[0],\n",
    "        samples.shape[0],\n",
    "    ), f\"{predictions.shape} != {(labels_test.shape[0], samples.shape[0])}\"\n",
    "\n",
    "    labels_test = jnp.reshape(labels_test, (labels_test.shape[0], 1))\n",
    "    is_correct = jnp.abs(predictions - labels_test) < 0.5\n",
    "    accuracy_per_sample = jnp.mean(is_correct, axis=0)\n",
    "\n",
    "    avg_accuracy = jnp.mean(accuracy_per_sample)\n",
    "\n",
    "    len10 = int(0.1 * accuracy_per_sample.shape[0])\n",
    "    best_sorted = jnp.sort(accuracy_per_sample)[len10:]\n",
    "    accuracy_best90 = jnp.mean(best_sorted)\n",
    "    return avg_accuracy, accuracy_best90\n",
    "\n",
    "\n",
    "def eval_logreg(\n",
    "    samples,\n",
    "    evals_per_sample,\n",
    "    ground_truth=None,\n",
    "    num_iters_w2=0,\n",
    "    x_test=None,\n",
    "    labels_test=None,\n",
    "):\n",
    "    if isinstance(samples, dict):\n",
    "        samples = vec_dict_to_array(samples)\n",
    "    # remove the alpha parameter\n",
    "    samples_with_alpha = samples\n",
    "    samples = samples[..., 1:]\n",
    "    ess = diagnostics.effective_sample_size(samples)\n",
    "    avg_ess = 1 / jnp.mean(1 / jnp.stack(jtu.tree_leaves(ess)))\n",
    "    print(f\"Effective sample size: {avg_ess}\")\n",
    "    # print(\n",
    "    #     f\"Gradient evals per effective sample:\"\n",
    "    #     f\" {evals_per_sample * samples.shape[0]/ess}\"\n",
    "    # )\n",
    "    sample_dim = samples.shape[-1]\n",
    "    reshaped = jnp.reshape(samples, (-1, sample_dim))\n",
    "\n",
    "    half_len = reshaped.shape[0] // 2\n",
    "    energy_self = energy_distance(reshaped[:half_len], reshaped[half_len:])\n",
    "    result_str = f\"Energy dist vs self: {energy_self:.4}\"\n",
    "\n",
    "    if ground_truth is not None:\n",
    "        ground_truth = ground_truth[..., 1:]\n",
    "        energy_gt = energy_distance(reshaped, ground_truth)\n",
    "        result_str += f\", energy dist vs ground truth: {energy_gt:.4}\"\n",
    "    if num_iters_w2 > 0 and ground_truth is not None:\n",
    "        w2 = compute_w2(reshaped, ground_truth, num_iters_w2)\n",
    "        result_str += f\", Wasserstein-2: {w2:.4}\"\n",
    "\n",
    "    if x_test is not None and labels_test is not None:\n",
    "        acc_error, acc_best90 = test_accuracy(x_test, labels_test, samples_with_alpha)\n",
    "        result_str += (\n",
    "            f\", test_accuracy: {acc_error:.4}, top 90% accuracy: {acc_best90:.4}\"\n",
    "        )\n",
    "    print(result_str)\n",
    "\n",
    "\n",
    "dataset = scipy.io.loadmat(\"mcmc_data/benchmarks.mat\")\n",
    "data_name = \"banana\"\n",
    "model_logreg, data_split = get_model_and_data(dataset, data_name)\n",
    "x_train, labels_train, x_test, labels_test = data_split"
   ]
  },
  {
   "cell_type": "code",
   "execution_count": 2,
   "id": "cb6890aa66d4af19",
   "metadata": {
    "ExecuteTime": {
     "end_time": "2024-07-25T22:33:32.026210Z",
     "start_time": "2024-07-25T22:33:31.539638Z"
    },
    "collapsed": false
   },
   "outputs": [
    {
     "name": "stdout",
     "output_type": "stream",
     "text": [
      "Energy bias: 0.251009472403517\n",
      "Ground truth shape: (16384, 4)\n",
      "test accuracy: (Array(0.532, dtype=float32), Array(0.543, dtype=float32))\n"
     ]
    }
   ],
   "source": [
    "file_name = f\"mcmc_data/{data_name}_ground_truth.npy\"\n",
    "\n",
    "# gt_nuts = MCMC(NUTS(model_logreg, step_size=1.0), num_warmup=2**13, num_samples=2**16)\n",
    "# gt_nuts.run(jr.PRNGKey(0), x_train, labels_train)\n",
    "# gt_logreg = vec_dict_to_array(gt_nuts.get_samples())\n",
    "# # thin the samples to 2**15\n",
    "# np.save(file_name, gt_logreg)\n",
    "\n",
    "gt_logreg = np.load(file_name)\n",
    "gt_logreg = gt_logreg[::4]\n",
    "size_gt_half = int(gt_logreg.shape[0] // 2)\n",
    "energy_bias = energy_distance(gt_logreg[:size_gt_half], gt_logreg[size_gt_half:])\n",
    "print(f\"Energy bias: {energy_bias}\")\n",
    "print(f\"Ground truth shape: {gt_logreg.shape}\")\n",
    "print(f\"test accuracy: {test_accuracy(x_test, labels_test, gt_logreg)}\")"
   ]
  },
  {
   "cell_type": "code",
   "execution_count": 3,
   "id": "6712ead78c75f5b4",
   "metadata": {
    "ExecuteTime": {
     "end_time": "2024-07-25T22:33:32.161910Z",
     "start_time": "2024-07-25T22:33:32.078495Z"
    }
   },
   "outputs": [
    {
     "name": "stdout",
     "output_type": "stream",
     "text": [
      "(16384, 4)\n",
      "[3464.127    0.002    0.002    0.002]\n",
      "[57.174 -0.045 -0.008 -0.008]\n"
     ]
    }
   ],
   "source": [
    "flattened_gt = jnp.reshape(gt_logreg, (-1, 4))\n",
    "print(flattened_gt.shape)\n",
    "print(jnp.var(flattened_gt, axis=0))\n",
    "print(jnp.mean(flattened_gt, axis=0))"
   ]
  },
  {
   "cell_type": "code",
   "execution_count": 4,
   "id": "88d7bf671176fce0",
   "metadata": {
    "ExecuteTime": {
     "end_time": "2024-07-25T22:33:32.896342Z",
     "start_time": "2024-07-25T22:33:32.893762Z"
    }
   },
   "outputs": [],
   "source": [
    "num_chains = 2**5\n",
    "num_samples_per_chain = 2**10\n",
    "total_samples = num_chains * num_samples_per_chain\n",
    "warmup_len = 2**12"
   ]
  },
  {
   "cell_type": "code",
   "execution_count": 5,
   "id": "9b866c607224c7d4",
   "metadata": {
    "ExecuteTime": {
     "end_time": "2024-07-25T22:41:03.214593Z",
     "start_time": "2024-07-25T22:33:33.443018Z"
    }
   },
   "outputs": [
    {
     "name": "stderr",
     "output_type": "stream",
     "text": [
      "100.00%|██████████| [02:18<00:00,  1.39s/%]\n",
      "100.00%|██████████| [04:18<00:00,  2.59s/%]\n"
     ]
    },
    {
     "name": "stdout",
     "output_type": "stream",
     "text": [
      "LMC: gradient evaluations per output: 149.7\n",
      "{'W': (32, 1024, 2), 'alpha': (32, 1024), 'b': (32, 1024, 1)}\n"
     ]
    }
   ],
   "source": [
    "out_logreg_lmc, steps_logreg_lmc = run_lmc_numpyro(\n",
    "    jr.PRNGKey(3),\n",
    "    model_logreg,\n",
    "    (x_train, labels_train),\n",
    "    num_chains,\n",
    "    num_samples_per_chain,\n",
    "    chain_sep=0.2,\n",
    "    tol=0.5,\n",
    "    warmup_mult=warmup_len,\n",
    "    warmup_tol_mult=20,\n",
    "    use_adaptive=True,\n",
    ")\n",
    "print(jtu.tree_map(lambda x: x.shape, out_logreg_lmc))"
   ]
  },
  {
   "cell_type": "code",
   "execution_count": 6,
   "id": "370c919e1db98307",
   "metadata": {
    "ExecuteTime": {
     "end_time": "2024-07-25T22:41:03.966963Z",
     "start_time": "2024-07-25T22:41:03.215771Z"
    }
   },
   "outputs": [
    {
     "name": "stdout",
     "output_type": "stream",
     "text": [
      "Effective sample size: 9518.90316636304\n",
      "Energy dist vs self: 0.0001116, energy dist vs ground truth: 0.0108, test_accuracy: 0.5386, top 90% accuracy: 0.5495\n",
      "vars: [420.794   0.005   0.008   0.008], means: [-9.681 -0.073 -0.021 -0.02 ]\n"
     ]
    }
   ],
   "source": [
    "eval_logreg(\n",
    "    out_logreg_lmc, steps_logreg_lmc, gt_logreg, x_test=x_test, labels_test=labels_test\n",
    ")\n",
    "out_arr_lmc = vec_dict_to_array(out_logreg_lmc)\n",
    "flattened_lmc = jnp.reshape(out_arr_lmc, (total_samples, 4))\n",
    "vars_lmc = jnp.var(flattened_lmc, axis=0)\n",
    "means_lmc = jnp.mean(flattened_lmc, axis=0)\n",
    "print(f\"vars: {vars_lmc}, means: {means_lmc}\")"
   ]
  },
  {
   "cell_type": "code",
   "execution_count": 7,
   "id": "47568f0f703122b5",
   "metadata": {
    "ExecuteTime": {
     "end_time": "2024-07-25T22:41:36.225531Z",
     "start_time": "2024-07-25T22:41:03.967680Z"
    }
   },
   "outputs": [
    {
     "name": "stderr",
     "output_type": "stream",
     "text": [
      "sample: 100%|██████████| 5120/5120 [00:29<00:00, 173.69it/s]\n"
     ]
    },
    {
     "name": "stdout",
     "output_type": "stream",
     "text": [
      "10.07049560546875\n"
     ]
    }
   ],
   "source": [
    "nuts = MCMC(\n",
    "    NUTS(model_logreg, step_size=1.0),\n",
    "    num_warmup=warmup_len,\n",
    "    num_samples=num_samples_per_chain,\n",
    "    num_chains=num_chains,\n",
    "    chain_method=\"vectorized\",\n",
    ")\n",
    "# nuts.warmup(jr.PRNGKey(2), x_train, labels_train, extra_fields=(\"num_steps\",))\n",
    "# warmup_steps = nuts.get_extra_fields()[\"num_steps\"]\n",
    "nuts.run(jr.PRNGKey(2), x_train, labels_train, extra_fields=(\"num_steps\",))\n",
    "out_logreg_nuts = nuts.get_samples(group_by_chain=True)\n",
    "num_steps_nuts = nuts.get_extra_fields()[\"num_steps\"]\n",
    "geps_nuts = sum(num_steps_nuts) / (num_chains * num_samples_per_chain)\n",
    "print(geps_nuts)"
   ]
  },
  {
   "cell_type": "code",
   "execution_count": 8,
   "id": "65cf79276c2501d7",
   "metadata": {
    "ExecuteTime": {
     "end_time": "2024-07-25T22:41:36.469063Z",
     "start_time": "2024-07-25T22:41:36.226335Z"
    }
   },
   "outputs": [
    {
     "name": "stdout",
     "output_type": "stream",
     "text": [
      "Effective sample size: 4931.994023257395\n",
      "Energy dist vs self: 0.000405, energy dist vs ground truth: 3.029e-05, test_accuracy: 0.5341, top 90% accuracy: 0.5448\n",
      "vars: [4498.434    0.002    0.002    0.002], means: [61.918 -0.043 -0.008 -0.008]\n"
     ]
    }
   ],
   "source": [
    "eval_logreg(\n",
    "    out_logreg_nuts, geps_nuts, gt_logreg, x_test=x_test, labels_test=labels_test\n",
    ")\n",
    "out_arr_nuts = vec_dict_to_array(out_logreg_nuts)\n",
    "flattened_nuts = jnp.reshape(out_arr_nuts, (total_samples, 4))\n",
    "vars_nuts = jnp.var(flattened_nuts, axis=0)\n",
    "means_nuts = jnp.mean(flattened_nuts, axis=0)\n",
    "print(f\"vars: {vars_nuts}, means: {means_nuts}\")"
   ]
  },
  {
   "cell_type": "code",
   "execution_count": 10,
   "id": "f2b826cca477206d",
   "metadata": {
    "ExecuteTime": {
     "end_time": "2024-06-07T17:19:33.691485Z",
     "start_time": "2024-06-07T17:19:33.687205Z"
    },
    "collapsed": false
   },
   "outputs": [],
   "source": [
    "import os\n",
    "\n",
    "\n",
    "def run_logreg_dataset(name):\n",
    "    model_logreg, data_split = get_model_and_data(dataset, name)\n",
    "    x_train, labels_train, x_test, labels_test = data_split\n",
    "\n",
    "    # Compute ground truth\n",
    "    ground_truth_filename = f\"mcmc_data/{name}_ground_truth.npy\"\n",
    "    if os.path.isfile(ground_truth_filename):\n",
    "        ground_truth = np.load(ground_truth_filename)\n",
    "    else:\n",
    "        gt_nuts = MCMC(\n",
    "            NUTS(model_logreg, step_size=1.0), num_warmup=2**13, num_samples=2**18\n",
    "        )\n",
    "        gt_nuts.run(jr.PRNGKey(0), x_train, labels_train)\n",
    "        ground_truth = vec_dict_to_array(gt_nuts.get_samples())\n",
    "        np.save(f\"mcmc_data/{name}_ground_truth.npy\", ground_truth)\n",
    "    # thin the samples to 2**16\n",
    "    factor = int(ground_truth.shape[0] // 2**16)\n",
    "    ground_truth = ground_truth[::factor]\n",
    "    assert ground_truth.shape == (\n",
    "        2**16,\n",
    "        2 + x_train.shape[1],\n",
    "    ), f\"ground_truth.shape: {ground_truth.shape}\"\n",
    "\n",
    "    size_gt_half = int(ground_truth.shape[0] // 2)\n",
    "    gt_energy_bias = energy_distance(\n",
    "        ground_truth[:size_gt_half], ground_truth[size_gt_half:]\n",
    "    )\n",
    "    print(f\"Ground truth energy bias: {gt_energy_bias:.4}\")\n",
    "    num_chains = 2**6\n",
    "    num_samples_per_chain = 2**9\n",
    "    warmup_len = 2**9\n",
    "\n",
    "    out_logreg_lmc, steps_logreg_lmc = run_lmc_numpyro(\n",
    "        jr.PRNGKey(0),\n",
    "        model_logreg,\n",
    "        (x_train, labels_train),\n",
    "        num_chains,\n",
    "        num_samples_per_chain,\n",
    "        chain_sep=0.5,\n",
    "        tol=1.0,\n",
    "        warmup_mult=warmup_len,\n",
    "        warmup_tol_mult=50,\n",
    "    )\n",
    "\n",
    "    eval_logreg(\n",
    "        out_logreg_lmc,\n",
    "        steps_logreg_lmc,\n",
    "        ground_truth,\n",
    "        x_test=x_test,\n",
    "        labels_test=labels_test,\n",
    "    )\n",
    "\n",
    "    nuts = MCMC(\n",
    "        NUTS(model_logreg),\n",
    "        num_warmup=warmup_len,\n",
    "        num_samples=num_samples_per_chain,\n",
    "        num_chains=num_chains,\n",
    "        chain_method=\"vectorized\",\n",
    "    )\n",
    "    nuts.warmup(jr.PRNGKey(2), x_train, labels_train, extra_fields=(\"num_steps\",))\n",
    "    warmup_steps = nuts.get_extra_fields()[\"num_steps\"]\n",
    "    nuts.run(jr.PRNGKey(2), x_train, labels_train, extra_fields=(\"num_steps\",))\n",
    "    out_logreg_nuts = nuts.get_samples(group_by_chain=True)\n",
    "    num_steps_nuts = nuts.get_extra_fields()[\"num_steps\"] + warmup_steps\n",
    "    geps_nuts = sum(num_steps_nuts) / (num_chains * num_samples_per_chain)\n",
    "    print(f\"NUTS: Gradient evals per output: {geps_nuts:.4}\")\n",
    "    eval_logreg(\n",
    "        out_logreg_nuts, geps_nuts, ground_truth, x_test=x_test, labels_test=labels_test\n",
    "    )"
   ]
  },
  {
   "cell_type": "code",
   "execution_count": 11,
   "id": "fb6851c76c27702f",
   "metadata": {
    "ExecuteTime": {
     "end_time": "2024-06-07T17:19:39.781329Z",
     "start_time": "2024-06-07T17:19:39.779064Z"
    }
   },
   "outputs": [],
   "source": [
    "names = [\n",
    "    # \"banana\",\n",
    "    \"breast_cancer\",\n",
    "    \"diabetis\",\n",
    "    \"flare_solar\",\n",
    "    \"german\",\n",
    "    \"heart\",\n",
    "    \"image\",\n",
    "    \"ringnorm\",\n",
    "    \"splice\",\n",
    "    \"thyroid\",\n",
    "    \"titanic\",\n",
    "    \"twonorm\",\n",
    "    \"waveform\",\n",
    "]"
   ]
  },
  {
   "cell_type": "code",
   "execution_count": 12,
   "id": "e7e926ca753859d5",
   "metadata": {
    "ExecuteTime": {
     "end_time": "2024-06-07T18:27:11.818935Z",
     "start_time": "2024-06-07T17:19:41.114838Z"
    }
   },
   "outputs": [
    {
     "name": "stdout",
     "output_type": "stream",
     "text": [
      "==================== breast_cancer ====================\n",
      "Data shape: (263, 9)\n",
      "Ground truth energy bias: 5.265e-05\n"
     ]
    },
    {
     "name": "stderr",
     "output_type": "stream",
     "text": [
      "100.00%|██████████| [00:14<00:00,  6.89%/s]\n",
      "100.00%|██████████| [01:40<00:00,  1.00s/%]\n"
     ]
    },
    {
     "name": "stdout",
     "output_type": "stream",
     "text": [
      "LMC: gradient evaluations per output: 52.1\n",
      "Effective sample size: 11045.111485292075\n",
      "Energy dist vs self: 8.343e-05, energy dist vs ground truth: 3.783, test_accuracy: 0.6571, top 90% accuracy: 0.6521\n"
     ]
    },
    {
     "name": "stderr",
     "output_type": "stream",
     "text": [
      "warmup: 100%|██████████| 512/512 [00:06<00:00, 73.54it/s] \n",
      "sample: 100%|██████████| 512/512 [00:01<00:00, 270.96it/s]\n"
     ]
    },
    {
     "name": "stdout",
     "output_type": "stream",
     "text": [
      "NUTS: Gradient evals per output: 8.305\n",
      "Effective sample size: 29451.629207132286\n",
      "Energy dist vs self: 0.0001881, energy dist vs ground truth: 0.0001118, test_accuracy: 0.6583, top 90% accuracy: 0.6531\n",
      "\n",
      "==================== diabetis ====================\n",
      "Data shape: (768, 8)\n"
     ]
    },
    {
     "name": "stderr",
     "output_type": "stream",
     "text": [
      "sample: 100%|██████████| 270336/270336 [10:37<00:00, 424.05it/s, 7 steps of size 6.38e-01. acc. prob=0.84] \n"
     ]
    },
    {
     "name": "stdout",
     "output_type": "stream",
     "text": [
      "Ground truth energy bias: 3.868e-05\n"
     ]
    },
    {
     "name": "stderr",
     "output_type": "stream",
     "text": [
      "100.00%|██████████| [00:30<00:00,  3.23%/s]\n",
      "100.00%|██████████| [02:23<00:00,  1.43s/%]\n"
     ]
    },
    {
     "name": "stdout",
     "output_type": "stream",
     "text": [
      "LMC: gradient evaluations per output: 77.08\n",
      "Effective sample size: 11888.729979305777\n",
      "Energy dist vs self: 9.536e-05, energy dist vs ground truth: 1.599, test_accuracy: 0.7776, top 90% accuracy: 0.7748\n"
     ]
    },
    {
     "name": "stderr",
     "output_type": "stream",
     "text": [
      "warmup: 100%|██████████| 512/512 [00:08<00:00, 61.25it/s] \n",
      "sample: 100%|██████████| 512/512 [00:01<00:00, 306.22it/s]\n"
     ]
    },
    {
     "name": "stdout",
     "output_type": "stream",
     "text": [
      "NUTS: Gradient evals per output: 7.072\n",
      "Effective sample size: 42109.23992533085\n",
      "Energy dist vs self: 0.0001622, energy dist vs ground truth: 3.794e-05, test_accuracy: 0.7779, top 90% accuracy: 0.7754\n",
      "\n",
      "==================== flare_solar ====================\n",
      "Data shape: (144, 9)\n"
     ]
    },
    {
     "name": "stderr",
     "output_type": "stream",
     "text": [
      "sample:  44%|████▍     | 120204/270336 [50:38<1:03:15, 39.55it/s, 7 steps of size 2.51e-01. acc. prob=0.81]E0607 19:27:11.763629   14861 pjrt_stream_executor_client.cc:2809] Execution of replica 0 failed: INTERNAL: Failed to complete all kernels launched on stream 0x4a82090: Could not synchronize CUDA stream: CUDA_ERROR_LAUNCH_FAILED: unspecified launch failure\n",
      "\n"
     ]
    },
    {
     "ename": "ValueError",
     "evalue": "INTERNAL: Failed to complete all kernels launched on stream 0x4a82090: Could not synchronize CUDA stream: CUDA_ERROR_LAUNCH_FAILED: unspecified launch failure",
     "output_type": "error",
     "traceback": [
      "\u001b[0;31m---------------------------------------------------------------------------\u001b[0m",
      "\u001b[0;31mValueError\u001b[0m                                Traceback (most recent call last)",
      "Cell \u001b[0;32mIn[12], line 5\u001b[0m\n\u001b[1;32m      3\u001b[0m \u001b[38;5;28;01mfor\u001b[39;00m name \u001b[38;5;129;01min\u001b[39;00m names:\n\u001b[1;32m      4\u001b[0m     \u001b[38;5;28mprint\u001b[39m(\u001b[38;5;124mf\u001b[39m\u001b[38;5;124m\"\u001b[39m\u001b[38;5;124m==================== \u001b[39m\u001b[38;5;132;01m{\u001b[39;00mname\u001b[38;5;132;01m}\u001b[39;00m\u001b[38;5;124m ====================\u001b[39m\u001b[38;5;124m\"\u001b[39m)\n\u001b[0;32m----> 5\u001b[0m     \u001b[43mrun_logreg_dataset\u001b[49m\u001b[43m(\u001b[49m\u001b[43mname\u001b[49m\u001b[43m)\u001b[49m\n\u001b[1;32m      6\u001b[0m     \u001b[38;5;28mprint\u001b[39m()\n",
      "Cell \u001b[0;32mIn[10], line 16\u001b[0m, in \u001b[0;36mrun_logreg_dataset\u001b[0;34m(name)\u001b[0m\n\u001b[1;32m     12\u001b[0m \u001b[38;5;28;01melse\u001b[39;00m:\n\u001b[1;32m     13\u001b[0m     gt_nuts \u001b[38;5;241m=\u001b[39m MCMC(\n\u001b[1;32m     14\u001b[0m         NUTS(model_logreg, step_size\u001b[38;5;241m=\u001b[39m\u001b[38;5;241m1.0\u001b[39m), num_warmup\u001b[38;5;241m=\u001b[39m\u001b[38;5;241m2\u001b[39m\u001b[38;5;241m*\u001b[39m\u001b[38;5;241m*\u001b[39m\u001b[38;5;241m13\u001b[39m, num_samples\u001b[38;5;241m=\u001b[39m\u001b[38;5;241m2\u001b[39m\u001b[38;5;241m*\u001b[39m\u001b[38;5;241m*\u001b[39m\u001b[38;5;241m18\u001b[39m\n\u001b[1;32m     15\u001b[0m     )\n\u001b[0;32m---> 16\u001b[0m     \u001b[43mgt_nuts\u001b[49m\u001b[38;5;241;43m.\u001b[39;49m\u001b[43mrun\u001b[49m\u001b[43m(\u001b[49m\u001b[43mjr\u001b[49m\u001b[38;5;241;43m.\u001b[39;49m\u001b[43mPRNGKey\u001b[49m\u001b[43m(\u001b[49m\u001b[38;5;241;43m0\u001b[39;49m\u001b[43m)\u001b[49m\u001b[43m,\u001b[49m\u001b[43m \u001b[49m\u001b[43mx_train\u001b[49m\u001b[43m,\u001b[49m\u001b[43m \u001b[49m\u001b[43mlabels_train\u001b[49m\u001b[43m)\u001b[49m\n\u001b[1;32m     17\u001b[0m     ground_truth \u001b[38;5;241m=\u001b[39m vec_dict_to_array(gt_nuts\u001b[38;5;241m.\u001b[39mget_samples())\n\u001b[1;32m     18\u001b[0m     np\u001b[38;5;241m.\u001b[39msave(\u001b[38;5;124mf\u001b[39m\u001b[38;5;124m\"\u001b[39m\u001b[38;5;124mmcmc_data/\u001b[39m\u001b[38;5;132;01m{\u001b[39;00mname\u001b[38;5;132;01m}\u001b[39;00m\u001b[38;5;124m_ground_truth.npy\u001b[39m\u001b[38;5;124m\"\u001b[39m, ground_truth)\n",
      "File \u001b[0;32m~/PycharmProjects/diffrax_STLA/venv/lib/python3.11/site-packages/numpyro/infer/mcmc.py:666\u001b[0m, in \u001b[0;36mMCMC.run\u001b[0;34m(self, rng_key, extra_fields, init_params, *args, **kwargs)\u001b[0m\n\u001b[1;32m    664\u001b[0m map_args \u001b[38;5;241m=\u001b[39m (rng_key, init_state, init_params)\n\u001b[1;32m    665\u001b[0m \u001b[38;5;28;01mif\u001b[39;00m \u001b[38;5;28mself\u001b[39m\u001b[38;5;241m.\u001b[39mnum_chains \u001b[38;5;241m==\u001b[39m \u001b[38;5;241m1\u001b[39m:\n\u001b[0;32m--> 666\u001b[0m     states_flat, last_state \u001b[38;5;241m=\u001b[39m \u001b[43mpartial_map_fn\u001b[49m\u001b[43m(\u001b[49m\u001b[43mmap_args\u001b[49m\u001b[43m)\u001b[49m\n\u001b[1;32m    667\u001b[0m     states \u001b[38;5;241m=\u001b[39m tree_map(\u001b[38;5;28;01mlambda\u001b[39;00m x: x[jnp\u001b[38;5;241m.\u001b[39mnewaxis, \u001b[38;5;241m.\u001b[39m\u001b[38;5;241m.\u001b[39m\u001b[38;5;241m.\u001b[39m], states_flat)\n\u001b[1;32m    668\u001b[0m \u001b[38;5;28;01melse\u001b[39;00m:\n",
      "File \u001b[0;32m~/PycharmProjects/diffrax_STLA/venv/lib/python3.11/site-packages/numpyro/infer/mcmc.py:462\u001b[0m, in \u001b[0;36mMCMC._single_chain_mcmc\u001b[0;34m(self, init, args, kwargs, collect_fields, remove_sites)\u001b[0m\n\u001b[1;32m    456\u001b[0m collection_size \u001b[38;5;241m=\u001b[39m \u001b[38;5;28mself\u001b[39m\u001b[38;5;241m.\u001b[39m_collection_params[\u001b[38;5;124m\"\u001b[39m\u001b[38;5;124mcollection_size\u001b[39m\u001b[38;5;124m\"\u001b[39m]\n\u001b[1;32m    457\u001b[0m collection_size \u001b[38;5;241m=\u001b[39m (\n\u001b[1;32m    458\u001b[0m     collection_size\n\u001b[1;32m    459\u001b[0m     \u001b[38;5;28;01mif\u001b[39;00m collection_size \u001b[38;5;129;01mis\u001b[39;00m \u001b[38;5;28;01mNone\u001b[39;00m\n\u001b[1;32m    460\u001b[0m     \u001b[38;5;28;01melse\u001b[39;00m collection_size \u001b[38;5;241m/\u001b[39m\u001b[38;5;241m/\u001b[39m \u001b[38;5;28mself\u001b[39m\u001b[38;5;241m.\u001b[39mthinning\n\u001b[1;32m    461\u001b[0m )\n\u001b[0;32m--> 462\u001b[0m collect_vals \u001b[38;5;241m=\u001b[39m \u001b[43mfori_collect\u001b[49m\u001b[43m(\u001b[49m\n\u001b[1;32m    463\u001b[0m \u001b[43m    \u001b[49m\u001b[43mlower_idx\u001b[49m\u001b[43m,\u001b[49m\n\u001b[1;32m    464\u001b[0m \u001b[43m    \u001b[49m\u001b[43mupper_idx\u001b[49m\u001b[43m,\u001b[49m\n\u001b[1;32m    465\u001b[0m \u001b[43m    \u001b[49m\u001b[43msample_fn\u001b[49m\u001b[43m,\u001b[49m\n\u001b[1;32m    466\u001b[0m \u001b[43m    \u001b[49m\u001b[43minit_val\u001b[49m\u001b[43m,\u001b[49m\n\u001b[1;32m    467\u001b[0m \u001b[43m    \u001b[49m\u001b[43mtransform\u001b[49m\u001b[38;5;241;43m=\u001b[39;49m\u001b[43m_collect_fn\u001b[49m\u001b[43m(\u001b[49m\u001b[43mcollect_fields\u001b[49m\u001b[43m,\u001b[49m\u001b[43m \u001b[49m\u001b[43mremove_sites\u001b[49m\u001b[43m)\u001b[49m\u001b[43m,\u001b[49m\n\u001b[1;32m    468\u001b[0m \u001b[43m    \u001b[49m\u001b[43mprogbar\u001b[49m\u001b[38;5;241;43m=\u001b[39;49m\u001b[38;5;28;43mself\u001b[39;49m\u001b[38;5;241;43m.\u001b[39;49m\u001b[43mprogress_bar\u001b[49m\u001b[43m,\u001b[49m\n\u001b[1;32m    469\u001b[0m \u001b[43m    \u001b[49m\u001b[43mreturn_last_val\u001b[49m\u001b[38;5;241;43m=\u001b[39;49m\u001b[38;5;28;43;01mTrue\u001b[39;49;00m\u001b[43m,\u001b[49m\n\u001b[1;32m    470\u001b[0m \u001b[43m    \u001b[49m\u001b[43mthinning\u001b[49m\u001b[38;5;241;43m=\u001b[39;49m\u001b[38;5;28;43mself\u001b[39;49m\u001b[38;5;241;43m.\u001b[39;49m\u001b[43mthinning\u001b[49m\u001b[43m,\u001b[49m\n\u001b[1;32m    471\u001b[0m \u001b[43m    \u001b[49m\u001b[43mcollection_size\u001b[49m\u001b[38;5;241;43m=\u001b[39;49m\u001b[43mcollection_size\u001b[49m\u001b[43m,\u001b[49m\n\u001b[1;32m    472\u001b[0m \u001b[43m    \u001b[49m\u001b[43mprogbar_desc\u001b[49m\u001b[38;5;241;43m=\u001b[39;49m\u001b[43mpartial\u001b[49m\u001b[43m(\u001b[49m\u001b[43m_get_progbar_desc_str\u001b[49m\u001b[43m,\u001b[49m\u001b[43m \u001b[49m\u001b[43mlower_idx\u001b[49m\u001b[43m,\u001b[49m\u001b[43m \u001b[49m\u001b[43mphase\u001b[49m\u001b[43m)\u001b[49m\u001b[43m,\u001b[49m\n\u001b[1;32m    473\u001b[0m \u001b[43m    \u001b[49m\u001b[43mdiagnostics_fn\u001b[49m\u001b[38;5;241;43m=\u001b[39;49m\u001b[43mdiagnostics\u001b[49m\u001b[43m,\u001b[49m\n\u001b[1;32m    474\u001b[0m \u001b[43m    \u001b[49m\u001b[43mnum_chains\u001b[49m\u001b[38;5;241;43m=\u001b[39;49m\u001b[38;5;28;43mself\u001b[39;49m\u001b[38;5;241;43m.\u001b[39;49m\u001b[43mnum_chains\u001b[49m\u001b[43m \u001b[49m\u001b[38;5;28;43;01mif\u001b[39;49;00m\u001b[43m \u001b[49m\u001b[38;5;28;43mself\u001b[39;49m\u001b[38;5;241;43m.\u001b[39;49m\u001b[43mchain_method\u001b[49m\u001b[43m \u001b[49m\u001b[38;5;241;43m==\u001b[39;49m\u001b[43m \u001b[49m\u001b[38;5;124;43m\"\u001b[39;49m\u001b[38;5;124;43mparallel\u001b[39;49m\u001b[38;5;124;43m\"\u001b[39;49m\u001b[43m \u001b[49m\u001b[38;5;28;43;01melse\u001b[39;49;00m\u001b[43m \u001b[49m\u001b[38;5;241;43m1\u001b[39;49m\u001b[43m,\u001b[49m\n\u001b[1;32m    475\u001b[0m \u001b[43m\u001b[49m\u001b[43m)\u001b[49m\n\u001b[1;32m    476\u001b[0m states, last_val \u001b[38;5;241m=\u001b[39m collect_vals\n\u001b[1;32m    477\u001b[0m \u001b[38;5;66;03m# Get first argument of type `HMCState`\u001b[39;00m\n",
      "File \u001b[0;32m~/PycharmProjects/diffrax_STLA/venv/lib/python3.11/site-packages/numpyro/util.py:367\u001b[0m, in \u001b[0;36mfori_collect\u001b[0;34m(lower, upper, body_fun, init_val, transform, progbar, return_last_val, collection_size, thinning, **progbar_opts)\u001b[0m\n\u001b[1;32m    365\u001b[0m \u001b[38;5;28;01mwith\u001b[39;00m tqdm\u001b[38;5;241m.\u001b[39mtrange(upper) \u001b[38;5;28;01mas\u001b[39;00m t:\n\u001b[1;32m    366\u001b[0m     \u001b[38;5;28;01mfor\u001b[39;00m i \u001b[38;5;129;01min\u001b[39;00m t:\n\u001b[0;32m--> 367\u001b[0m         vals \u001b[38;5;241m=\u001b[39m \u001b[43mjit\u001b[49m\u001b[43m(\u001b[49m\u001b[43m_body_fn\u001b[49m\u001b[43m)\u001b[49m\u001b[43m(\u001b[49m\u001b[43mi\u001b[49m\u001b[43m,\u001b[49m\u001b[43m \u001b[49m\u001b[43mvals\u001b[49m\u001b[43m)\u001b[49m\n\u001b[1;32m    368\u001b[0m         t\u001b[38;5;241m.\u001b[39mset_description(progbar_desc(i), refresh\u001b[38;5;241m=\u001b[39m\u001b[38;5;28;01mFalse\u001b[39;00m)\n\u001b[1;32m    369\u001b[0m         \u001b[38;5;28;01mif\u001b[39;00m diagnostics_fn:\n",
      "\u001b[0;31mValueError\u001b[0m: INTERNAL: Failed to complete all kernels launched on stream 0x4a82090: Could not synchronize CUDA stream: CUDA_ERROR_LAUNCH_FAILED: unspecified launch failure"
     ]
    }
   ],
   "source": [
    "# with warnings.catch_warnings():\n",
    "#     warnings.simplefilter(\"ignore\")\n",
    "for name in names:\n",
    "    print(f\"==================== {name} ====================\")\n",
    "    run_logreg_dataset(name)\n",
    "    print()"
   ]
  }
 ],
 "metadata": {
  "kernelspec": {
   "display_name": "Python 3",
   "language": "python",
   "name": "python3"
  },
  "language_info": {
   "codemirror_mode": {
    "name": "ipython",
    "version": 2
   },
   "file_extension": ".py",
   "mimetype": "text/x-python",
   "name": "python",
   "nbconvert_exporter": "python",
   "pygments_lexer": "ipython2",
   "version": "2.7.6"
  }
 },
 "nbformat": 4,
 "nbformat_minor": 5
}
