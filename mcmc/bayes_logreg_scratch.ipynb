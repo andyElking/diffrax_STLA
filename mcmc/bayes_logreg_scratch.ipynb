{
 "cells": [
  {
   "cell_type": "code",
   "execution_count": 1,
   "id": "initial_id",
   "metadata": {
    "ExecuteTime": {
     "end_time": "2024-09-26T16:15:38.393975Z",
     "start_time": "2024-09-26T16:15:35.573150Z"
    },
    "collapsed": true
   },
   "outputs": [
    {
     "name": "stdout",
     "output_type": "stream",
     "text": [
      "env: JAX_PLATFORM_NAME=cuda\n",
      "[CudaDevice(id=0)]\n",
      "Data shape: (144, 9)\n"
     ]
    }
   ],
   "source": [
    "import warnings\n",
    "\n",
    "import jax\n",
    "import jax.numpy as jnp\n",
    "import jax.random as jr\n",
    "import jax.tree_util as jtu\n",
    "import numpy as np\n",
    "import scipy\n",
    "from evaluation import (\n",
    "    energy_distance,\n",
    "    eval_logreg,\n",
    "    flatten_samples,\n",
    "    test_accuracy,\n",
    ")\n",
    "from get_model import get_model_and_data\n",
    "from numpyro.infer import MCMC, NUTS\n",
    "\n",
    "from mcmc import run_lmc_numpyro\n",
    "\n",
    "\n",
    "%env JAX_PLATFORM_NAME=cuda\n",
    "warnings.simplefilter(\"ignore\", FutureWarning)\n",
    "\n",
    "jnp.set_printoptions(precision=4, suppress=True)\n",
    "jax.config.update(\"jax_enable_x64\", True)\n",
    "print(jax.devices(\"cuda\"))\n",
    "\n",
    "dataset = scipy.io.loadmat(\"mcmc_data/benchmarks.mat\")\n",
    "data_name = \"flare_solar\"\n",
    "model_logreg, data_split = get_model_and_data(dataset, data_name)\n",
    "x_train, labels_train, x_test, labels_test = data_split"
   ]
  },
  {
   "cell_type": "code",
   "execution_count": 2,
   "id": "cb6890aa66d4af19",
   "metadata": {
    "ExecuteTime": {
     "end_time": "2024-09-26T16:19:34.971499Z",
     "start_time": "2024-09-26T16:19:34.613119Z"
    },
    "collapsed": false
   },
   "outputs": [
    {
     "ename": "FileNotFoundError",
     "evalue": "[Errno 2] No such file or directory: 'mcmc_data/flare_solar_ground_truth.npy'",
     "output_type": "error",
     "traceback": [
      "\u001b[0;31m---------------------------------------------------------------------------\u001b[0m",
      "\u001b[0;31mFileNotFoundError\u001b[0m                         Traceback (most recent call last)",
      "Cell \u001b[0;32mIn[2], line 8\u001b[0m\n\u001b[1;32m      1\u001b[0m file_name \u001b[38;5;241m=\u001b[39m \u001b[38;5;124mf\u001b[39m\u001b[38;5;124m\"\u001b[39m\u001b[38;5;124mmcmc_data/\u001b[39m\u001b[38;5;132;01m{\u001b[39;00mdata_name\u001b[38;5;132;01m}\u001b[39;00m\u001b[38;5;124m_ground_truth.npy\u001b[39m\u001b[38;5;124m\"\u001b[39m\n\u001b[1;32m      3\u001b[0m \u001b[38;5;66;03m# gt_nuts = MCMC(NUTS(model_logreg, step_size=1.0), num_warmup=2**14, num_samples=2**16)\u001b[39;00m\n\u001b[1;32m      4\u001b[0m \u001b[38;5;66;03m# gt_nuts.run(jr.PRNGKey(0), x_train, labels_train)\u001b[39;00m\n\u001b[1;32m      5\u001b[0m \u001b[38;5;66;03m# gt_logreg = vec_dict_to_array(gt_nuts.get_samples())\u001b[39;00m\n\u001b[1;32m      6\u001b[0m \u001b[38;5;66;03m# np.save(file_name, gt_logreg)\u001b[39;00m\n\u001b[0;32m----> 8\u001b[0m gt_logreg \u001b[38;5;241m=\u001b[39m \u001b[43mnp\u001b[49m\u001b[38;5;241;43m.\u001b[39;49m\u001b[43mload\u001b[49m\u001b[43m(\u001b[49m\u001b[43mfile_name\u001b[49m\u001b[43m)\u001b[49m\n\u001b[1;32m      9\u001b[0m size_gt_half \u001b[38;5;241m=\u001b[39m \u001b[38;5;28mint\u001b[39m(gt_logreg\u001b[38;5;241m.\u001b[39mshape[\u001b[38;5;241m0\u001b[39m] \u001b[38;5;241m/\u001b[39m\u001b[38;5;241m/\u001b[39m \u001b[38;5;241m2\u001b[39m)\n\u001b[1;32m     10\u001b[0m energy_bias \u001b[38;5;241m=\u001b[39m energy_distance(gt_logreg[:size_gt_half], gt_logreg[size_gt_half:])\n",
      "File \u001b[0;32m~/PycharmProjects/diffrax_STLA/venv/lib/python3.11/site-packages/numpy/lib/_npyio_impl.py:455\u001b[0m, in \u001b[0;36mload\u001b[0;34m(file, mmap_mode, allow_pickle, fix_imports, encoding, max_header_size)\u001b[0m\n\u001b[1;32m    453\u001b[0m     own_fid \u001b[38;5;241m=\u001b[39m \u001b[38;5;28;01mFalse\u001b[39;00m\n\u001b[1;32m    454\u001b[0m \u001b[38;5;28;01melse\u001b[39;00m:\n\u001b[0;32m--> 455\u001b[0m     fid \u001b[38;5;241m=\u001b[39m stack\u001b[38;5;241m.\u001b[39menter_context(\u001b[38;5;28;43mopen\u001b[39;49m\u001b[43m(\u001b[49m\u001b[43mos\u001b[49m\u001b[38;5;241;43m.\u001b[39;49m\u001b[43mfspath\u001b[49m\u001b[43m(\u001b[49m\u001b[43mfile\u001b[49m\u001b[43m)\u001b[49m\u001b[43m,\u001b[49m\u001b[43m \u001b[49m\u001b[38;5;124;43m\"\u001b[39;49m\u001b[38;5;124;43mrb\u001b[39;49m\u001b[38;5;124;43m\"\u001b[39;49m\u001b[43m)\u001b[49m)\n\u001b[1;32m    456\u001b[0m     own_fid \u001b[38;5;241m=\u001b[39m \u001b[38;5;28;01mTrue\u001b[39;00m\n\u001b[1;32m    458\u001b[0m \u001b[38;5;66;03m# Code to distinguish from NumPy binary files and pickles.\u001b[39;00m\n",
      "\u001b[0;31mFileNotFoundError\u001b[0m: [Errno 2] No such file or directory: 'mcmc_data/flare_solar_ground_truth.npy'"
     ]
    }
   ],
   "source": [
    "file_name = f\"mcmc_data/{data_name}_ground_truth.npy\"\n",
    "\n",
    "# gt_nuts = MCMC(NUTS(model_logreg, step_size=1.0), num_warmup=2**14, num_samples=2**16)\n",
    "# gt_nuts.run(jr.PRNGKey(0), x_train, labels_train)\n",
    "# gt_logreg = vec_dict_to_array(gt_nuts.get_samples())\n",
    "# np.save(file_name, gt_logreg)\n",
    "\n",
    "gt_logreg = np.load(file_name)\n",
    "size_gt_half = int(gt_logreg.shape[0] // 2)\n",
    "energy_bias = energy_distance(gt_logreg[:size_gt_half], gt_logreg[size_gt_half:])\n",
    "print(f\"Energy bias: {energy_bias}\")\n",
    "print(f\"Ground truth shape: {gt_logreg.shape}\")\n",
    "print(f\"test accuracy: {test_accuracy(x_test, labels_test, gt_logreg)}\")\n",
    "flattened_gt = jnp.reshape(gt_logreg, (-1, 4))\n",
    "print(flattened_gt.shape)\n",
    "print(jnp.var(flattened_gt, axis=0))\n",
    "print(jnp.mean(flattened_gt, axis=0))"
   ]
  },
  {
   "cell_type": "code",
   "execution_count": 3,
   "id": "88d7bf671176fce0",
   "metadata": {
    "ExecuteTime": {
     "end_time": "2024-09-26T16:20:23.477065Z",
     "start_time": "2024-09-26T16:20:23.472801Z"
    }
   },
   "outputs": [],
   "source": [
    "num_chains = 2**4\n",
    "num_samples_per_chain = 2**8\n",
    "warmup_len = 2**9"
   ]
  },
  {
   "cell_type": "code",
   "execution_count": 3,
   "id": "9b866c607224c7d4",
   "metadata": {
    "ExecuteTime": {
     "end_time": "2024-08-02T18:32:39.563706Z",
     "start_time": "2024-08-02T18:08:24.977145Z"
    }
   },
   "outputs": [
    {
     "name": "stderr",
     "output_type": "stream",
     "text": [
      "100.00%|██████████| [02:27<00:00,  1.47s/%]\n",
      "100.00%|██████████| [21:25<00:00, 12.86s/%]\n"
     ]
    },
    {
     "name": "stdout",
     "output_type": "stream",
     "text": [
      "{'W': (16, 4096, 9), 'alpha': (16, 4096), 'b': (16, 4096, 1)}\n"
     ]
    }
   ],
   "source": [
    "out_logreg_lmc, steps_logreg_lmc = run_lmc_numpyro(\n",
    "    jr.PRNGKey(2),\n",
    "    model_logreg,\n",
    "    (x_train, labels_train),\n",
    "    num_chains,\n",
    "    num_samples_per_chain,\n",
    "    chain_sep=1.0,\n",
    "    tol=0.2,\n",
    "    warmup_mult=warmup_len,\n",
    "    warmup_tol_mult=2,\n",
    "    use_adaptive=False,\n",
    ")\n",
    "out_logreg_lmc[\"alpha\"] = jnp.exp(out_logreg_lmc[\"alpha\"])\n",
    "print(jtu.tree_map(lambda x: x.shape, out_logreg_lmc))"
   ]
  },
  {
   "cell_type": "code",
   "execution_count": 15,
   "id": "b84632ae75588c64",
   "metadata": {
    "ExecuteTime": {
     "end_time": "2024-08-02T19:16:46.487854Z",
     "start_time": "2024-08-02T19:16:46.334019Z"
    }
   },
   "outputs": [
    {
     "name": "stdout",
     "output_type": "stream",
     "text": [
      "(10, 10)\n"
     ]
    }
   ],
   "source": [
    "flat_lmc = flatten_samples(out_logreg_lmc)\n",
    "outlier_positions = jnp.any(jnp.abs(flat_lmc) > 400, axis=1)\n",
    "outliers = flat_lmc[outlier_positions]\n",
    "print(outliers.shape)"
   ]
  },
  {
   "cell_type": "code",
   "execution_count": 7,
   "id": "370c919e1db98307",
   "metadata": {
    "ExecuteTime": {
     "end_time": "2024-08-02T19:13:11.374270Z",
     "start_time": "2024-08-02T19:13:10.277197Z"
    }
   },
   "outputs": [
    {
     "name": "stdout",
     "output_type": "stream",
     "text": [
      "means: [   1.287   38.399    0.242    0.207   -0.184    0.978 -175.385    3.333\n",
      "    0.019    0.313  125.581],\n",
      "vars:  [   54.842   494.392     0.408     0.21      0.191     0.59  10095.7\n",
      "    69.699     0.029     0.275  5909.377]\n",
      "Effective sample size: 43.88, ess per sample: 0.0006696, grad evals per sample: 112.6\n",
      "Energy dist v self: 22.28\n",
      "Test_accuracy: 0.6182, top 90% accuracy: 0.6266\n"
     ]
    }
   ],
   "source": [
    "_ = eval_logreg(\n",
    "    out_logreg_lmc, steps_logreg_lmc, x_test=x_test, labels_test=labels_test\n",
    ")"
   ]
  },
  {
   "cell_type": "code",
   "execution_count": 10,
   "id": "a48091d47a262bd0",
   "metadata": {
    "ExecuteTime": {
     "end_time": "2024-08-02T19:13:46.960408Z",
     "start_time": "2024-08-02T19:13:46.836809Z"
    }
   },
   "outputs": [
    {
     "name": "stdout",
     "output_type": "stream",
     "text": [
      "{'W': (16, 9), 'alpha': (16,), 'b': (16, 1)}\n"
     ]
    }
   ],
   "source": [
    "lmc_last_sample = jtu.tree_map(lambda x: x[:num_chains, -1], out_logreg_lmc)\n",
    "lmc_last_sample[\"alpha\"] = jnp.log(lmc_last_sample[\"alpha\"])\n",
    "print(jtu.tree_map(lambda x: x.shape, lmc_last_sample))"
   ]
  },
  {
   "cell_type": "code",
   "execution_count": 5,
   "id": "47568f0f703122b5",
   "metadata": {
    "ExecuteTime": {
     "end_time": "2024-09-26T16:22:56.960010Z",
     "start_time": "2024-09-26T16:21:21.640326Z"
    }
   },
   "outputs": [
    {
     "name": "stderr",
     "output_type": "stream",
     "text": [
      "warmup: 100%|██████████| 512/512 [01:04<00:00,  7.99it/s]\n",
      "sample: 100%|██████████| 256/256 [00:23<00:00, 10.78it/s]\n"
     ]
    },
    {
     "name": "stdout",
     "output_type": "stream",
     "text": [
      "926.51513671875\n",
      "{'W': (16, 256, 9), 'b': (16, 256, 1)}\n"
     ]
    }
   ],
   "source": [
    "nuts = MCMC(\n",
    "    NUTS(model_logreg),\n",
    "    num_warmup=warmup_len,\n",
    "    num_samples=num_samples_per_chain,\n",
    "    num_chains=num_chains,\n",
    "    chain_method=\"vectorized\",\n",
    ")\n",
    "nuts.warmup(\n",
    "    jr.PRNGKey(2),\n",
    "    x_train,\n",
    "    labels_train,\n",
    "    # init_params=lmc_last_sample,\n",
    "    extra_fields=(\"num_steps\",),\n",
    "    collect_warmup=True,\n",
    ")\n",
    "nuts_steps_raw = nuts.get_extra_fields()[\"num_steps\"]\n",
    "warmup_steps = sum(nuts.get_extra_fields()[\"num_steps\"])\n",
    "nuts.run(jr.PRNGKey(2), x_train, labels_train, extra_fields=(\"num_steps\",))\n",
    "out_logreg_nuts = nuts.get_samples(group_by_chain=True)\n",
    "num_steps_nuts = sum(nuts.get_extra_fields()[\"num_steps\"]) + warmup_steps\n",
    "geps_nuts = num_steps_nuts / (num_chains * num_samples_per_chain)\n",
    "print(geps_nuts)\n",
    "print(jtu.tree_map(lambda x: x.shape, out_logreg_nuts))"
   ]
  },
  {
   "cell_type": "code",
   "execution_count": 13,
   "id": "65cf79276c2501d7",
   "metadata": {
    "ExecuteTime": {
     "end_time": "2024-08-02T19:16:17.921981Z",
     "start_time": "2024-08-02T19:16:17.486225Z"
    }
   },
   "outputs": [
    {
     "name": "stdout",
     "output_type": "stream",
     "text": [
      "means: [22.47   0.05   0.018  0.025  0.     0.044 -0.015  0.038  0.002  0.023\n",
      "  0.012],\n",
      "vars:  [248.525   0.002   0.007   0.006   0.006   0.011   0.014   0.013   0.003\n",
      "   0.007   0.009]\n",
      "Effective sample size: 2.145e+04, ess per sample: 0.3273, grad evals per sample: 50.91\n",
      "Energy dist v self: 5.708e-05\n",
      "Test_accuracy: 0.5514, top 90% accuracy: 0.552\n"
     ]
    }
   ],
   "source": [
    "_ = eval_logreg(out_logreg_nuts, geps_nuts, x_test=x_test, labels_test=labels_test)"
   ]
  },
  {
   "cell_type": "code",
   "execution_count": 16,
   "id": "4726ef43f61a7013",
   "metadata": {
    "ExecuteTime": {
     "end_time": "2024-08-02T19:16:50.099284Z",
     "start_time": "2024-08-02T19:16:49.623751Z"
    }
   },
   "outputs": [
    {
     "name": "stdout",
     "output_type": "stream",
     "text": [
      "241.1279099007155\n"
     ]
    }
   ],
   "source": [
    "flat_nuts = flatten_samples(out_logreg_nuts)\n",
    "enenrgy_dist = energy_distance(flat_nuts, flat_lmc)\n",
    "print(enenrgy_dist)"
   ]
  },
  {
   "cell_type": "code",
   "execution_count": 4,
   "id": "fb6851c76c27702f",
   "metadata": {
    "ExecuteTime": {
     "end_time": "2024-07-31T20:19:37.333545Z",
     "start_time": "2024-07-31T20:19:37.331063Z"
    }
   },
   "outputs": [],
   "source": [
    "names = [\n",
    "    \"banana\",\n",
    "    \"breast_cancer\",\n",
    "    \"diabetis\",\n",
    "    \"flare_solar\",\n",
    "    \"german\",\n",
    "    \"heart\",\n",
    "    \"image\",\n",
    "    \"ringnorm\",\n",
    "    \"splice\",\n",
    "    \"thyroid\",\n",
    "    \"titanic\",\n",
    "    \"twonorm\",\n",
    "    \"waveform\",\n",
    "]"
   ]
  }
 ],
 "metadata": {
  "kernelspec": {
   "display_name": "Python 3",
   "language": "python",
   "name": "python3"
  },
  "language_info": {
   "codemirror_mode": {
    "name": "ipython",
    "version": 2
   },
   "file_extension": ".py",
   "mimetype": "text/x-python",
   "name": "python",
   "nbconvert_exporter": "python",
   "pygments_lexer": "ipython2",
   "version": "2.7.6"
  }
 },
 "nbformat": 4,
 "nbformat_minor": 5
}
