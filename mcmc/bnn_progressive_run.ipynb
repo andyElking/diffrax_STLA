{
 "cells": [
  {
   "cell_type": "code",
   "execution_count": 1,
   "id": "initial_id",
   "metadata": {
    "ExecuteTime": {
     "end_time": "2024-10-02T17:12:00.065917Z",
     "start_time": "2024-10-02T17:11:59.292225Z"
    },
    "collapsed": true
   },
   "outputs": [
    {
     "name": "stdout",
     "output_type": "stream",
     "text": [
      "env: JAX_PLATFORM_NAME=cuda\n",
      "[CudaDevice(id=0)]\n"
     ]
    }
   ],
   "source": [
    "import sys\n",
    "import warnings\n",
    "\n",
    "import jax\n",
    "import jax.numpy as jnp\n",
    "from get_model import get_model_and_data  # noqa: F401\n",
    "from lmc import run_simple_lmc_numpyro  # noqa: F401\n",
    "from numpyro.infer import MCMC, NUTS, Predictive  # noqa: F401\n",
    "\n",
    "\n",
    "%env JAX_PLATFORM_NAME=cuda\n",
    "warnings.simplefilter(\"ignore\", FutureWarning)\n",
    "\n",
    "jnp.set_printoptions(precision=3, suppress=True, threshold=sys.maxsize)\n",
    "jax.config.update(\"jax_enable_x64\", True)\n",
    "print(jax.devices(\"cuda\"))"
   ]
  },
  {
   "cell_type": "code",
   "execution_count": null,
   "id": "8d2fd4f43250429",
   "metadata": {},
   "outputs": [],
   "source": []
  }
 ],
 "metadata": {
  "kernelspec": {
   "display_name": "Python 3",
   "language": "python",
   "name": "python3"
  },
  "language_info": {
   "codemirror_mode": {
    "name": "ipython",
    "version": 2
   },
   "file_extension": ".py",
   "mimetype": "text/x-python",
   "name": "python",
   "nbconvert_exporter": "python",
   "pygments_lexer": "ipython2",
   "version": "2.7.6"
  }
 },
 "nbformat": 4,
 "nbformat_minor": 5
}
