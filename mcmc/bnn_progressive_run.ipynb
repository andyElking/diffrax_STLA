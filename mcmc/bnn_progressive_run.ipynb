{
 "cells": [
  {
   "cell_type": "code",
   "id": "initial_id",
   "metadata": {
    "collapsed": true,
    "ExecuteTime": {
     "end_time": "2024-10-03T16:45:01.907238Z",
     "start_time": "2024-10-03T16:45:01.033302Z"
    }
   },
   "source": [
    "import sys\n",
    "import warnings\n",
    "\n",
    "import jax\n",
    "import jax.numpy as jnp\n",
    "import jax.random as jr\n",
    "import diffrax\n",
    "import datetime\n",
    "\n",
    "from mcmc.logreg_utils import get_model_and_data  # noqa: F401\n",
    "from lmc import run_simple_lmc_numpyro  # noqa: F401\n",
    "from numpyro.infer import MCMC, NUTS, Predictive  # noqa: F401\n",
    "\n",
    "from mcmc.bayes_nn.bnn_evaluator import ProgBNNEvaluator, BNNLogger\n",
    "from mcmc.bayes_nn.bnn_utils import get_model_and_data, get_gt_bnn, eval_gt_bnn\n",
    "from mcmc.progressive import ProgressiveNUTS, ProgressiveLMC\n",
    "from mcmc.metrics import adjust_max_len\n",
    "from mcmc.experiment_main import run_experiment\n",
    "\n",
    "\n",
    "%env JAX_PLATFORM_NAME=cuda\n",
    "warnings.simplefilter(\"ignore\", FutureWarning)\n",
    "\n",
    "jnp.set_printoptions(precision=3, suppress=True, threshold=sys.maxsize)\n",
    "jax.config.update(\"jax_enable_x64\", True)\n",
    "print(jax.devices(\"cuda\"))"
   ],
   "outputs": [
    {
     "name": "stdout",
     "output_type": "stream",
     "text": [
      "env: JAX_PLATFORM_NAME=cuda\n",
      "[CudaDevice(id=0)]\n"
     ]
    }
   ],
   "execution_count": 1
  },
  {
   "cell_type": "code",
   "id": "8d2fd4f43250429",
   "metadata": {
    "ExecuteTime": {
     "end_time": "2024-10-03T16:45:24.540407Z",
     "start_time": "2024-10-03T16:45:02.579695Z"
    }
   },
   "source": [
    "model, model_args, test_args = get_model_and_data()\n",
    "timestamp = datetime.datetime.now().strftime(\"%Y-%m-%d_%H-%M-%S\")\n",
    "get_result_filename = lambda name: f\"progressive_results/{name}_pid_{timestamp}.pkl\"\n",
    "get_prev_result_filename = lambda name: f\"progressive_results/{name}_*.pkl\"\n",
    "data_dim = model_args[0].shape[1] + 1\n",
    "num_particles = adjust_max_len(2**6, data_dim)\n",
    "config = {\n",
    "    \"num_particles\": num_particles,\n",
    "    \"test_args\": test_args,\n",
    "}\n",
    "\n",
    "evaluator = ProgBNNEvaluator()\n",
    "logger = BNNLogger(log_filename=f\"bnn_results/log_{timestamp}.txt\")\n",
    "logger.start_log(timestamp)\n",
    "\n",
    "nust = ProgressiveNUTS(20, 2**5)\n",
    "\n",
    "USE_PID = False\n",
    "\n",
    "\n",
    "def make_pid(atol, dt0):\n",
    "    if not USE_PID:\n",
    "        return None\n",
    "    return diffrax.PIDController(\n",
    "        atol=atol,\n",
    "        rtol=0.0,\n",
    "        dtmax=0.5,\n",
    "        dtmin=dt0 / 10,\n",
    "        pcoeff=0.1,\n",
    "        icoeff=0.4,\n",
    "    )\n",
    "\n",
    "\n",
    "quic_kwargs = {\n",
    "    \"chain_len\": 2**5,\n",
    "    \"chain_sep\": 1.0,\n",
    "    \"dt0\": 0.07,\n",
    "    \"solver\": diffrax.QUICSORT(0.1),\n",
    "    \"pid\": make_pid(0.1, 0.07),\n",
    "}\n",
    "quic = ProgressiveLMC(quic_kwargs)\n",
    "\n",
    "run_experiment(\n",
    "    jr.key(0),\n",
    "    model,\n",
    "    model_args,\n",
    "    \"bnn\",\n",
    "    [nust, quic],\n",
    "    config,\n",
    "    evaluator,\n",
    "    logger,\n",
    "    get_gt_bnn,\n",
    "    eval_gt_bnn,\n",
    "    get_result_filename,\n",
    ")"
   ],
   "outputs": [
    {
     "name": "stdout",
     "output_type": "stream",
     "text": [
      "\n",
      "======= bnn =======\n",
      "sample energy bias: 5.108e-01, mean_err: 1.192, pred_energy_err: 36.9\n",
      "\n"
     ]
    },
    {
     "name": "stderr",
     "output_type": "stream",
     "text": [
      "warmup: 100%|██████████| 20/20 [00:05<00:00,  3.33it/s]\n",
      "sample: 100%|██████████| 12/12 [00:05<00:00,  2.25it/s]\n"
     ]
    },
    {
     "name": "stdout",
     "output_type": "stream",
     "text": [
      "vec_predict. Sample shape: {'prec_obs': (32,), 'w1': (32, 3, 4), 'w2': (32, 4, 4), 'w3': (32, 4, 1)}, X shape: (500, 3)\n"
     ]
    },
    {
     "ename": "AssertionError",
     "evalue": "",
     "output_type": "error",
     "traceback": [
      "\u001B[0;31m---------------------------------------------------------------------------\u001B[0m",
      "\u001B[0;31mAssertionError\u001B[0m                            Traceback (most recent call last)",
      "Cell \u001B[0;32mIn[2], line 43\u001B[0m\n\u001B[1;32m     34\u001B[0m quic_kwargs \u001B[38;5;241m=\u001B[39m {\n\u001B[1;32m     35\u001B[0m     \u001B[38;5;124m\"\u001B[39m\u001B[38;5;124mchain_len\u001B[39m\u001B[38;5;124m\"\u001B[39m: \u001B[38;5;241m2\u001B[39m\u001B[38;5;241m*\u001B[39m\u001B[38;5;241m*\u001B[39m\u001B[38;5;241m5\u001B[39m,\n\u001B[1;32m     36\u001B[0m     \u001B[38;5;124m\"\u001B[39m\u001B[38;5;124mchain_sep\u001B[39m\u001B[38;5;124m\"\u001B[39m: \u001B[38;5;241m1.0\u001B[39m,\n\u001B[0;32m   (...)\u001B[0m\n\u001B[1;32m     39\u001B[0m     \u001B[38;5;124m\"\u001B[39m\u001B[38;5;124mpid\u001B[39m\u001B[38;5;124m\"\u001B[39m: make_pid(\u001B[38;5;241m0.1\u001B[39m, \u001B[38;5;241m0.07\u001B[39m),\n\u001B[1;32m     40\u001B[0m }\n\u001B[1;32m     41\u001B[0m quic \u001B[38;5;241m=\u001B[39m ProgressiveLMC(quic_kwargs)\n\u001B[0;32m---> 43\u001B[0m \u001B[43mrun_experiment\u001B[49m\u001B[43m(\u001B[49m\n\u001B[1;32m     44\u001B[0m \u001B[43m    \u001B[49m\u001B[43mjr\u001B[49m\u001B[38;5;241;43m.\u001B[39;49m\u001B[43mkey\u001B[49m\u001B[43m(\u001B[49m\u001B[38;5;241;43m0\u001B[39;49m\u001B[43m)\u001B[49m\u001B[43m,\u001B[49m\n\u001B[1;32m     45\u001B[0m \u001B[43m    \u001B[49m\u001B[43mmodel\u001B[49m\u001B[43m,\u001B[49m\n\u001B[1;32m     46\u001B[0m \u001B[43m    \u001B[49m\u001B[43mmodel_args\u001B[49m\u001B[43m,\u001B[49m\n\u001B[1;32m     47\u001B[0m \u001B[43m    \u001B[49m\u001B[38;5;124;43m\"\u001B[39;49m\u001B[38;5;124;43mbnn\u001B[39;49m\u001B[38;5;124;43m\"\u001B[39;49m\u001B[43m,\u001B[49m\n\u001B[1;32m     48\u001B[0m \u001B[43m    \u001B[49m\u001B[43m[\u001B[49m\u001B[43mnust\u001B[49m\u001B[43m,\u001B[49m\u001B[43m \u001B[49m\u001B[43mquic\u001B[49m\u001B[43m]\u001B[49m\u001B[43m,\u001B[49m\n\u001B[1;32m     49\u001B[0m \u001B[43m    \u001B[49m\u001B[43mconfig\u001B[49m\u001B[43m,\u001B[49m\n\u001B[1;32m     50\u001B[0m \u001B[43m    \u001B[49m\u001B[43mevaluator\u001B[49m\u001B[43m,\u001B[49m\n\u001B[1;32m     51\u001B[0m \u001B[43m    \u001B[49m\u001B[43mlogger\u001B[49m\u001B[43m,\u001B[49m\n\u001B[1;32m     52\u001B[0m \u001B[43m    \u001B[49m\u001B[43mget_gt_bnn\u001B[49m\u001B[43m,\u001B[49m\n\u001B[1;32m     53\u001B[0m \u001B[43m    \u001B[49m\u001B[43meval_gt_bnn\u001B[49m\u001B[43m,\u001B[49m\n\u001B[1;32m     54\u001B[0m \u001B[43m    \u001B[49m\u001B[43mget_result_filename\u001B[49m\u001B[43m,\u001B[49m\n\u001B[1;32m     55\u001B[0m \u001B[43m)\u001B[49m\n",
      "File \u001B[0;32m~/PycharmProjects/diffrax_STLA/mcmc/experiment_main.py:41\u001B[0m, in \u001B[0;36mrun_experiment\u001B[0;34m(key, model, model_args, model_name, methods, config, evaluator, logger, get_gt_fun, gt_eval_fun, get_result_filename)\u001B[0m\n\u001B[1;32m     37\u001B[0m     key_sample, key_eval \u001B[38;5;241m=\u001B[39m jr\u001B[38;5;241m.\u001B[39msplit(key, \u001B[38;5;241m2\u001B[39m)\n\u001B[1;32m     38\u001B[0m     samples, aux_output \u001B[38;5;241m=\u001B[39m method\u001B[38;5;241m.\u001B[39mrun(\n\u001B[1;32m     39\u001B[0m         key, model, model_args, result_dict, config\n\u001B[1;32m     40\u001B[0m     )\n\u001B[0;32m---> 41\u001B[0m     method_dict \u001B[38;5;241m=\u001B[39m \u001B[43mevaluator\u001B[49m\u001B[38;5;241;43m.\u001B[39;49m\u001B[43meval\u001B[49m\u001B[43m(\u001B[49m\n\u001B[1;32m     42\u001B[0m \u001B[43m        \u001B[49m\u001B[43msamples\u001B[49m\u001B[43m,\u001B[49m\u001B[43m \u001B[49m\u001B[43maux_output\u001B[49m\u001B[43m,\u001B[49m\u001B[43m \u001B[49m\u001B[43mgt\u001B[49m\u001B[43m,\u001B[49m\u001B[43m \u001B[49m\u001B[43mconfig\u001B[49m\u001B[43m,\u001B[49m\u001B[43m \u001B[49m\u001B[38;5;28;43;01mNone\u001B[39;49;00m\u001B[43m,\u001B[49m\u001B[43m \u001B[49m\u001B[43mkey_eval\u001B[49m\n\u001B[1;32m     43\u001B[0m \u001B[43m    \u001B[49m\u001B[43m)\u001B[49m\n\u001B[1;32m     44\u001B[0m     \u001B[38;5;28;01mdel\u001B[39;00m samples, aux_output\n\u001B[1;32m     45\u001B[0m \u001B[38;5;28;01melse\u001B[39;00m:\n",
      "File \u001B[0;32m~/PycharmProjects/diffrax_STLA/mcmc/progressive/progressive_evaluator.py:80\u001B[0m, in \u001B[0;36mAbstractProgressiveEvaluator.eval\u001B[0;34m(self, samples, aux_output, ground_truth, config, model, key)\u001B[0m\n\u001B[1;32m     78\u001B[0m \u001B[38;5;66;03m# vectorize over the chain_len dimension\u001B[39;00m\n\u001B[1;32m     79\u001B[0m vec_metrics \u001B[38;5;241m=\u001B[39m jax\u001B[38;5;241m.\u001B[39mjit(jax\u001B[38;5;241m.\u001B[39mvmap(partial_metrics, in_axes\u001B[38;5;241m=\u001B[39m\u001B[38;5;241m1\u001B[39m))\n\u001B[0;32m---> 80\u001B[0m vec_dict \u001B[38;5;241m=\u001B[39m \u001B[43mvec_metrics\u001B[49m\u001B[43m(\u001B[49m\u001B[43msamples\u001B[49m\u001B[43m)\u001B[49m\n\u001B[1;32m     82\u001B[0m \u001B[38;5;28;01mdef\u001B[39;00m \u001B[38;5;21mget_slice\u001B[39m(samples, i):\n\u001B[1;32m     83\u001B[0m     \u001B[38;5;28;01mreturn\u001B[39;00m jtu\u001B[38;5;241m.\u001B[39mtree_map(\u001B[38;5;28;01mlambda\u001B[39;00m x: x[:, i], samples)\n",
      "    \u001B[0;31m[... skipping hidden 14 frame]\u001B[0m\n",
      "File \u001B[0;32m~/PycharmProjects/diffrax_STLA/mcmc/bayes_nn/bnn_evaluator.py:63\u001B[0m, in \u001B[0;36mProgBNNEvaluator.vectorisable_metrics\u001B[0;34m(self, sample_slice, ground_truth, config, model, key)\u001B[0m\n\u001B[1;32m     60\u001B[0m gt_samples, gt_predictions \u001B[38;5;241m=\u001B[39m ground_truth\n\u001B[1;32m     62\u001B[0m x, y_true, d_h \u001B[38;5;241m=\u001B[39m config[\u001B[38;5;124m\"\u001B[39m\u001B[38;5;124mtest_args\u001B[39m\u001B[38;5;124m\"\u001B[39m]\n\u001B[0;32m---> 63\u001B[0m y_pred \u001B[38;5;241m=\u001B[39m \u001B[43mvec_predict\u001B[49m\u001B[43m(\u001B[49m\u001B[43mmodel\u001B[49m\u001B[43m,\u001B[49m\u001B[43m \u001B[49m\u001B[43mkey\u001B[49m\u001B[43m,\u001B[49m\u001B[43m \u001B[49m\u001B[43msample_slice\u001B[49m\u001B[43m,\u001B[49m\u001B[43m \u001B[49m\u001B[43mconfig\u001B[49m\u001B[43m[\u001B[49m\u001B[38;5;124;43m\"\u001B[39;49m\u001B[38;5;124;43mtest_args\u001B[39;49m\u001B[38;5;124;43m\"\u001B[39;49m\u001B[43m]\u001B[49m\u001B[43m)\u001B[49m\n\u001B[1;32m     64\u001B[0m mean_err, pred_energy_err \u001B[38;5;241m=\u001B[39m bnn_pred_error(y_pred, gt_predictions, y_true)\n\u001B[1;32m     65\u001B[0m flat_slice \u001B[38;5;241m=\u001B[39m flatten_bnn_samples(sample_slice)\n",
      "File \u001B[0;32m~/PycharmProjects/diffrax_STLA/mcmc/bayes_nn/bnn_evaluator.py:32\u001B[0m, in \u001B[0;36mvec_predict\u001B[0;34m(model, key, samples, test_args)\u001B[0m\n\u001B[1;32m     30\u001B[0m     \u001B[38;5;28;01mreturn\u001B[39;00m predict(model, key, samples, X, D_H)\n\u001B[1;32m     31\u001B[0m _vec_fun \u001B[38;5;241m=\u001B[39m eqx\u001B[38;5;241m.\u001B[39mfilter_jit(jax\u001B[38;5;241m.\u001B[39mvmap(pred_fun, in_axes\u001B[38;5;241m=\u001B[39m\u001B[38;5;241m0\u001B[39m))\n\u001B[0;32m---> 32\u001B[0m y_pred \u001B[38;5;241m=\u001B[39m \u001B[43m_vec_fun\u001B[49m\u001B[43m(\u001B[49m\u001B[43mkeys\u001B[49m\u001B[43m,\u001B[49m\u001B[43m \u001B[49m\u001B[43msamples\u001B[49m\u001B[43m)\u001B[49m\n\u001B[1;32m     33\u001B[0m \u001B[38;5;28;01massert\u001B[39;00m y_pred\u001B[38;5;241m.\u001B[39mshape \u001B[38;5;241m==\u001B[39m (num_samples, linspace_len, \u001B[38;5;241m1\u001B[39m), \u001B[38;5;124mf\u001B[39m\u001B[38;5;124m\"\u001B[39m\u001B[38;5;124mExpected \u001B[39m\u001B[38;5;132;01m{\u001B[39;00m(num_samples,\u001B[38;5;250m \u001B[39mlinspace_len)\u001B[38;5;132;01m}\u001B[39;00m\u001B[38;5;124m, got \u001B[39m\u001B[38;5;132;01m{\u001B[39;00my_pred\u001B[38;5;241m.\u001B[39mshape\u001B[38;5;132;01m}\u001B[39;00m\u001B[38;5;124m\"\u001B[39m\n\u001B[1;32m     34\u001B[0m \u001B[38;5;28;01mreturn\u001B[39;00m y_pred[:, :, \u001B[38;5;241m0\u001B[39m]\n",
      "    \u001B[0;31m[... skipping hidden 18 frame]\u001B[0m\n",
      "File \u001B[0;32m~/PycharmProjects/diffrax_STLA/mcmc/bayes_nn/bnn_evaluator.py:30\u001B[0m, in \u001B[0;36mvec_predict.<locals>.pred_fun\u001B[0;34m(key, samples)\u001B[0m\n\u001B[1;32m     29\u001B[0m \u001B[38;5;28;01mdef\u001B[39;00m \u001B[38;5;21mpred_fun\u001B[39m(key, samples):\n\u001B[0;32m---> 30\u001B[0m     \u001B[38;5;28;01mreturn\u001B[39;00m \u001B[43mpredict\u001B[49m\u001B[43m(\u001B[49m\u001B[43mmodel\u001B[49m\u001B[43m,\u001B[49m\u001B[43m \u001B[49m\u001B[43mkey\u001B[49m\u001B[43m,\u001B[49m\u001B[43m \u001B[49m\u001B[43msamples\u001B[49m\u001B[43m,\u001B[49m\u001B[43m \u001B[49m\u001B[43mX\u001B[49m\u001B[43m,\u001B[49m\u001B[43m \u001B[49m\u001B[43mD_H\u001B[49m\u001B[43m)\u001B[49m\n",
      "File \u001B[0;32m~/PycharmProjects/diffrax_STLA/mcmc/bayes_nn/bnn_evaluator.py:16\u001B[0m, in \u001B[0;36mpredict\u001B[0;34m(model, key, samples, X, D_H)\u001B[0m\n\u001B[1;32m     14\u001B[0m model \u001B[38;5;241m=\u001B[39m handlers\u001B[38;5;241m.\u001B[39msubstitute(handlers\u001B[38;5;241m.\u001B[39mseed(model, key), samples)\n\u001B[1;32m     15\u001B[0m \u001B[38;5;66;03m# note that Y will be sampled in the model because we pass Y=None here\u001B[39;00m\n\u001B[0;32m---> 16\u001B[0m model_trace \u001B[38;5;241m=\u001B[39m \u001B[43mhandlers\u001B[49m\u001B[38;5;241;43m.\u001B[39;49m\u001B[43mtrace\u001B[49m\u001B[43m(\u001B[49m\u001B[43mmodel\u001B[49m\u001B[43m)\u001B[49m\u001B[38;5;241;43m.\u001B[39;49m\u001B[43mget_trace\u001B[49m\u001B[43m(\u001B[49m\u001B[43mX\u001B[49m\u001B[38;5;241;43m=\u001B[39;49m\u001B[43mX\u001B[49m\u001B[43m,\u001B[49m\u001B[43m \u001B[49m\u001B[43mY\u001B[49m\u001B[38;5;241;43m=\u001B[39;49m\u001B[38;5;28;43;01mNone\u001B[39;49;00m\u001B[43m,\u001B[49m\u001B[43m \u001B[49m\u001B[43mD_H\u001B[49m\u001B[38;5;241;43m=\u001B[39;49m\u001B[43mD_H\u001B[49m\u001B[43m)\u001B[49m\n\u001B[1;32m     17\u001B[0m \u001B[38;5;28;01mreturn\u001B[39;00m model_trace[\u001B[38;5;124m\"\u001B[39m\u001B[38;5;124mY\u001B[39m\u001B[38;5;124m\"\u001B[39m][\u001B[38;5;124m\"\u001B[39m\u001B[38;5;124mvalue\u001B[39m\u001B[38;5;124m\"\u001B[39m]\n",
      "File \u001B[0;32m~/PycharmProjects/diffrax_STLA/venv/lib/python3.11/site-packages/numpyro/handlers.py:171\u001B[0m, in \u001B[0;36mtrace.get_trace\u001B[0;34m(self, *args, **kwargs)\u001B[0m\n\u001B[1;32m    163\u001B[0m \u001B[38;5;28;01mdef\u001B[39;00m \u001B[38;5;21mget_trace\u001B[39m(\u001B[38;5;28mself\u001B[39m, \u001B[38;5;241m*\u001B[39margs, \u001B[38;5;241m*\u001B[39m\u001B[38;5;241m*\u001B[39mkwargs):\n\u001B[1;32m    164\u001B[0m \u001B[38;5;250m    \u001B[39m\u001B[38;5;124;03m\"\"\"\u001B[39;00m\n\u001B[1;32m    165\u001B[0m \u001B[38;5;124;03m    Run the wrapped callable and return the recorded trace.\u001B[39;00m\n\u001B[1;32m    166\u001B[0m \n\u001B[0;32m   (...)\u001B[0m\n\u001B[1;32m    169\u001B[0m \u001B[38;5;124;03m    :return: `OrderedDict` containing the execution trace.\u001B[39;00m\n\u001B[1;32m    170\u001B[0m \u001B[38;5;124;03m    \"\"\"\u001B[39;00m\n\u001B[0;32m--> 171\u001B[0m     \u001B[38;5;28;43mself\u001B[39;49m\u001B[43m(\u001B[49m\u001B[38;5;241;43m*\u001B[39;49m\u001B[43margs\u001B[49m\u001B[43m,\u001B[49m\u001B[43m \u001B[49m\u001B[38;5;241;43m*\u001B[39;49m\u001B[38;5;241;43m*\u001B[39;49m\u001B[43mkwargs\u001B[49m\u001B[43m)\u001B[49m\n\u001B[1;32m    172\u001B[0m     \u001B[38;5;28;01mreturn\u001B[39;00m \u001B[38;5;28mself\u001B[39m\u001B[38;5;241m.\u001B[39mtrace\n",
      "File \u001B[0;32m~/PycharmProjects/diffrax_STLA/venv/lib/python3.11/site-packages/numpyro/primitives.py:105\u001B[0m, in \u001B[0;36mMessenger.__call__\u001B[0;34m(self, *args, **kwargs)\u001B[0m\n\u001B[1;32m    103\u001B[0m     \u001B[38;5;28;01mreturn\u001B[39;00m \u001B[38;5;28mself\u001B[39m\n\u001B[1;32m    104\u001B[0m \u001B[38;5;28;01mwith\u001B[39;00m \u001B[38;5;28mself\u001B[39m:\n\u001B[0;32m--> 105\u001B[0m     \u001B[38;5;28;01mreturn\u001B[39;00m \u001B[38;5;28;43mself\u001B[39;49m\u001B[38;5;241;43m.\u001B[39;49m\u001B[43mfn\u001B[49m\u001B[43m(\u001B[49m\u001B[38;5;241;43m*\u001B[39;49m\u001B[43margs\u001B[49m\u001B[43m,\u001B[49m\u001B[43m \u001B[49m\u001B[38;5;241;43m*\u001B[39;49m\u001B[38;5;241;43m*\u001B[39;49m\u001B[43mkwargs\u001B[49m\u001B[43m)\u001B[49m\n",
      "File \u001B[0;32m~/PycharmProjects/diffrax_STLA/venv/lib/python3.11/site-packages/numpyro/primitives.py:105\u001B[0m, in \u001B[0;36mMessenger.__call__\u001B[0;34m(self, *args, **kwargs)\u001B[0m\n\u001B[1;32m    103\u001B[0m     \u001B[38;5;28;01mreturn\u001B[39;00m \u001B[38;5;28mself\u001B[39m\n\u001B[1;32m    104\u001B[0m \u001B[38;5;28;01mwith\u001B[39;00m \u001B[38;5;28mself\u001B[39m:\n\u001B[0;32m--> 105\u001B[0m     \u001B[38;5;28;01mreturn\u001B[39;00m \u001B[38;5;28;43mself\u001B[39;49m\u001B[38;5;241;43m.\u001B[39;49m\u001B[43mfn\u001B[49m\u001B[43m(\u001B[49m\u001B[38;5;241;43m*\u001B[39;49m\u001B[43margs\u001B[49m\u001B[43m,\u001B[49m\u001B[43m \u001B[49m\u001B[38;5;241;43m*\u001B[39;49m\u001B[38;5;241;43m*\u001B[39;49m\u001B[43mkwargs\u001B[49m\u001B[43m)\u001B[49m\n",
      "File \u001B[0;32m~/PycharmProjects/diffrax_STLA/venv/lib/python3.11/site-packages/numpyro/primitives.py:101\u001B[0m, in \u001B[0;36mMessenger.__call__\u001B[0;34m(self, *args, **kwargs)\u001B[0m\n\u001B[1;32m     98\u001B[0m \u001B[38;5;28;01mdef\u001B[39;00m \u001B[38;5;21m__call__\u001B[39m(\u001B[38;5;28mself\u001B[39m, \u001B[38;5;241m*\u001B[39margs, \u001B[38;5;241m*\u001B[39m\u001B[38;5;241m*\u001B[39mkwargs):\n\u001B[1;32m     99\u001B[0m     \u001B[38;5;28;01mif\u001B[39;00m \u001B[38;5;28mself\u001B[39m\u001B[38;5;241m.\u001B[39mfn \u001B[38;5;129;01mis\u001B[39;00m \u001B[38;5;28;01mNone\u001B[39;00m:\n\u001B[1;32m    100\u001B[0m         \u001B[38;5;66;03m# Assume self is being used as a decorator.\u001B[39;00m\n\u001B[0;32m--> 101\u001B[0m         \u001B[38;5;28;01massert\u001B[39;00m \u001B[38;5;28mlen\u001B[39m(args) \u001B[38;5;241m==\u001B[39m \u001B[38;5;241m1\u001B[39m \u001B[38;5;129;01mand\u001B[39;00m \u001B[38;5;129;01mnot\u001B[39;00m kwargs\n\u001B[1;32m    102\u001B[0m         \u001B[38;5;28mself\u001B[39m\u001B[38;5;241m.\u001B[39mfn \u001B[38;5;241m=\u001B[39m args[\u001B[38;5;241m0\u001B[39m]\n\u001B[1;32m    103\u001B[0m         \u001B[38;5;28;01mreturn\u001B[39;00m \u001B[38;5;28mself\u001B[39m\n",
      "\u001B[0;31mAssertionError\u001B[0m: "
     ]
    }
   ],
   "execution_count": 2
  },
  {
   "metadata": {},
   "cell_type": "code",
   "outputs": [],
   "execution_count": null,
   "source": "",
   "id": "c4bc6aa6fd913d44"
  }
 ],
 "metadata": {
  "kernelspec": {
   "display_name": "Python 3",
   "language": "python",
   "name": "python3"
  },
  "language_info": {
   "codemirror_mode": {
    "name": "ipython",
    "version": 2
   },
   "file_extension": ".py",
   "mimetype": "text/x-python",
   "name": "python",
   "nbconvert_exporter": "python",
   "pygments_lexer": "ipython2",
   "version": "2.7.6"
  }
 },
 "nbformat": 4,
 "nbformat_minor": 5
}
