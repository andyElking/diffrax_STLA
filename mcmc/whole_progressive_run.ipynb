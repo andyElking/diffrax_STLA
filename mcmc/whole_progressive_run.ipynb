{
 "cells": [
  {
   "cell_type": "code",
   "id": "initial_id",
   "metadata": {
    "collapsed": true,
    "ExecuteTime": {
     "end_time": "2024-09-29T10:50:01.623906Z",
     "start_time": "2024-09-29T10:50:01.620719Z"
    }
   },
   "source": [
    "import datetime\n",
    "import sys\n",
    "import warnings\n",
    "\n",
    "import jax\n",
    "import jax.numpy as jnp\n",
    "from get_model import get_model_and_data  # noqa: F401\n",
    "from main import run_simple_lmc_numpyro  # noqa: F401\n",
    "from numpyro.infer import MCMC, NUTS, Predictive  # noqa: F401\n",
    "from progressive_full_run import run_progressive_logreg\n",
    "\n",
    "\n",
    "%env JAX_PLATFORM_NAME=cuda\n",
    "warnings.simplefilter(\"ignore\", FutureWarning)\n",
    "\n",
    "jnp.set_printoptions(precision=3, suppress=True, threshold=sys.maxsize)\n",
    "jax.config.update(\"jax_enable_x64\", True)\n",
    "print(jax.devices(\"cuda\"))\n",
    "\n",
    "names = [\n",
    "    \"banana\",\n",
    "    \"breast_cancer\",\n",
    "    \"diabetis\",\n",
    "    \"flare_solar\",\n",
    "    \"german\",\n",
    "    \"heart\",\n",
    "    \"image\",\n",
    "    \"ringnorm\",\n",
    "    \"splice\",\n",
    "    \"thyroid\",\n",
    "    \"titanic\",\n",
    "    \"twonorm\",\n",
    "    \"waveform\",\n",
    "]"
   ],
   "outputs": [
    {
     "name": "stdout",
     "output_type": "stream",
     "text": [
      "env: JAX_PLATFORM_NAME=cuda\n",
      "[CudaDevice(id=0)]\n"
     ]
    }
   ],
   "execution_count": 2
  },
  {
   "cell_type": "code",
   "id": "ac576c0531af74c1",
   "metadata": {
    "ExecuteTime": {
     "end_time": "2024-09-29T11:29:03.848207Z",
     "start_time": "2024-09-29T10:50:02.526242Z"
    }
   },
   "source": [
    "timestamp = datetime.datetime.now().strftime(\"%Y-%m-%d_%H-%M-%S\")\n",
    "log_filename = f\"progressive_results/log_{timestamp}.txt\"\n",
    "with open(log_filename, \"w\") as f:\n",
    "    f.write(f\"Results for time {timestamp}\\n\\n\")\n",
    "\n",
    "with warnings.catch_warnings():\n",
    "    warnings.simplefilter(\"ignore\")\n",
    "for name in names:\n",
    "    print(f\"==================== {name} ====================\")\n",
    "    run_progressive_logreg(name, log_filename, timestamp)\n",
    "    print()"
   ],
   "outputs": [
    {
     "name": "stdout",
     "output_type": "stream",
     "text": [
      "==================== banana ====================\n",
      "Data shape: (5300, 2)\n",
      "GT energy bias: 1.374e-05, test acc: 0.5468, test acc top 90%: 0.5547\n"
     ]
    },
    {
     "name": "stderr",
     "output_type": "stream",
     "text": [
      "100.00%|██████████| [00:18<00:00,  5.47%/s]\n"
     ]
    },
    {
     "name": "stdout",
     "output_type": "stream",
     "text": [
      "QUICSORT acc: 0.5517, acc top 90%: 0.557, energy: 5.419e-05, w2: 3.961e-04\n"
     ]
    },
    {
     "name": "stderr",
     "output_type": "stream",
     "text": [
      "100.00%|██████████| [00:31<00:00,  3.19%/s]\n"
     ]
    },
    {
     "name": "stdout",
     "output_type": "stream",
     "text": [
      "Euler acc: 0.5093, acc top 90%: 0.5209, energy: 5.655e-01, w2: 1.368e+00\n"
     ]
    },
    {
     "name": "stderr",
     "output_type": "stream",
     "text": [
      "warmup: 100%|██████████| 20/20 [00:39<00:00,  1.96s/it]\n",
      "sample: 100%|██████████| 44/44 [00:56<00:00,  1.28s/it]\n"
     ]
    },
    {
     "name": "stdout",
     "output_type": "stream",
     "text": [
      "NUTS acc: 0.5509, acc top 90%: 0.5568, energy: 7.520e-06, w2: 3.826e-04\n",
      "\n",
      "==================== breast_cancer ====================\n",
      "Data shape: (263, 9)\n",
      "GT energy bias: 2.373e-04, test acc: 0.6599, test acc top 90%: 0.6655\n"
     ]
    },
    {
     "name": "stderr",
     "output_type": "stream",
     "text": [
      "100.00%|██████████| [00:17<00:00,  5.82%/s]\n"
     ]
    },
    {
     "name": "stdout",
     "output_type": "stream",
     "text": [
      "QUICSORT acc: 0.6651, acc top 90%: 0.6713, energy: 2.021e-04, w2: 1.483e-01\n"
     ]
    },
    {
     "name": "stderr",
     "output_type": "stream",
     "text": [
      "100.00%|██████████| [00:39<00:00,  2.53%/s]\n"
     ]
    },
    {
     "name": "stdout",
     "output_type": "stream",
     "text": [
      "Euler acc: 0.6566, acc top 90%: 0.665, energy: 2.755e-01, w2: 1.169e+00\n"
     ]
    },
    {
     "name": "stderr",
     "output_type": "stream",
     "text": [
      "warmup: 100%|██████████| 20/20 [00:14<00:00,  1.34it/s]\n",
      "sample: 100%|██████████| 44/44 [00:19<00:00,  2.25it/s]\n"
     ]
    },
    {
     "name": "stdout",
     "output_type": "stream",
     "text": [
      "NUTS acc: 0.6641, acc top 90%: 0.6726, energy: 2.228e-04, w2: 1.490e-01\n",
      "\n",
      "==================== diabetis ====================\n",
      "Data shape: (768, 8)\n",
      "GT energy bias: 1.654e-04, test acc: 0.7777, test acc top 90%: 0.7802\n"
     ]
    },
    {
     "name": "stderr",
     "output_type": "stream",
     "text": [
      "100.00%|██████████| [00:22<00:00,  4.35%/s]\n"
     ]
    },
    {
     "name": "stdout",
     "output_type": "stream",
     "text": [
      "QUICSORT acc: 0.7786, acc top 90%: 0.7812, energy: 1.394e-04, w2: 4.334e-02\n"
     ]
    },
    {
     "name": "stderr",
     "output_type": "stream",
     "text": [
      "100.00%|██████████| [00:45<00:00,  2.18%/s]\n"
     ]
    },
    {
     "name": "stdout",
     "output_type": "stream",
     "text": [
      "Euler acc: 0.7074, acc top 90%: 0.7198, energy: 9.727e-01, w2: 4.079e+00\n"
     ]
    },
    {
     "name": "stderr",
     "output_type": "stream",
     "text": [
      "warmup: 100%|██████████| 20/20 [00:34<00:00,  1.75s/it]\n",
      "sample: 100%|██████████| 44/44 [00:54<00:00,  1.24s/it]\n"
     ]
    },
    {
     "name": "stdout",
     "output_type": "stream",
     "text": [
      "NUTS acc: 0.7788, acc top 90%: 0.7814, energy: 1.338e-04, w2: 4.328e-02\n",
      "\n",
      "==================== flare_solar ====================\n",
      "Data shape: (144, 9)\n",
      "GT energy bias: 1.909e-03, test acc: 0.6165, test acc top 90%: 0.6244\n"
     ]
    },
    {
     "name": "stderr",
     "output_type": "stream",
     "text": [
      "100.00%|██████████| [00:14<00:00,  6.88%/s]\n"
     ]
    },
    {
     "name": "stdout",
     "output_type": "stream",
     "text": [
      "QUICSORT acc: 0.6295, acc top 90%: 0.6385, energy: 6.967e-02, w2: 2.117e+00\n"
     ]
    },
    {
     "name": "stderr",
     "output_type": "stream",
     "text": [
      "100.00%|██████████| [00:36<00:00,  2.76%/s]\n"
     ]
    },
    {
     "name": "stdout",
     "output_type": "stream",
     "text": [
      "Euler acc: 0.5914, acc top 90%: 0.5968, energy: 4.254e+00, w2: 9.623e+01\n"
     ]
    },
    {
     "name": "stderr",
     "output_type": "stream",
     "text": [
      "warmup: 100%|██████████| 20/20 [01:10<00:00,  3.51s/it]\n",
      "sample: 100%|██████████| 44/44 [02:55<00:00,  3.98s/it]\n"
     ]
    },
    {
     "name": "stdout",
     "output_type": "stream",
     "text": [
      "NUTS acc: 0.6191, acc top 90%: 0.6269, energy: 1.461e-02, w2: 3.028e+00\n",
      "\n",
      "==================== german ====================\n",
      "Data shape: (1000, 20)\n",
      "GT energy bias: 3.364e-04, test acc: 0.7838, test acc top 90%: 0.7875\n"
     ]
    },
    {
     "name": "stderr",
     "output_type": "stream",
     "text": [
      "100.00%|██████████| [00:47<00:00,  2.13%/s]\n"
     ]
    },
    {
     "name": "stdout",
     "output_type": "stream",
     "text": [
      "QUICSORT acc: 0.7848, acc top 90%: 0.7884, energy: 3.173e-04, w2: 1.614e-01\n"
     ]
    },
    {
     "name": "stderr",
     "output_type": "stream",
     "text": [
      "100.00%|██████████| [01:31<00:00,  1.09%/s]\n"
     ]
    },
    {
     "name": "stdout",
     "output_type": "stream",
     "text": [
      "Euler acc: 0.7162, acc top 90%: 0.724, energy: 1.331e+00, w2: 7.621e+00\n"
     ]
    },
    {
     "name": "stderr",
     "output_type": "stream",
     "text": [
      "warmup: 100%|██████████| 20/20 [01:06<00:00,  3.31s/it]\n",
      "sample: 100%|██████████| 44/44 [02:20<00:00,  3.18s/it]\n"
     ]
    },
    {
     "name": "stdout",
     "output_type": "stream",
     "text": [
      "NUTS acc: 0.7842, acc top 90%: 0.7878, energy: 2.858e-04, w2: 1.610e-01\n",
      "\n",
      "==================== heart ====================\n",
      "Data shape: (270, 13)\n",
      "GT energy bias: 4.896e-04, test acc: 0.8003, test acc top 90%: 0.8086\n"
     ]
    },
    {
     "name": "stderr",
     "output_type": "stream",
     "text": [
      "100.00%|██████████| [00:22<00:00,  4.46%/s]\n"
     ]
    },
    {
     "name": "stdout",
     "output_type": "stream",
     "text": [
      "QUICSORT acc: 0.8039, acc top 90%: 0.8118, energy: 3.685e-04, w2: 3.799e-01\n"
     ]
    },
    {
     "name": "stderr",
     "output_type": "stream",
     "text": [
      "100.00%|██████████| [00:51<00:00,  1.92%/s]\n"
     ]
    },
    {
     "name": "stdout",
     "output_type": "stream",
     "text": [
      "Euler acc: 0.7983, acc top 90%: 0.8073, energy: 9.073e-02, w2: 9.021e-01\n"
     ]
    },
    {
     "name": "stderr",
     "output_type": "stream",
     "text": [
      "warmup: 100%|██████████| 20/20 [00:18<00:00,  1.10it/s]\n",
      "sample: 100%|██████████| 44/44 [00:22<00:00,  1.94it/s]\n"
     ]
    },
    {
     "name": "stdout",
     "output_type": "stream",
     "text": [
      "NUTS acc: 0.8038, acc top 90%: 0.812, energy: 3.556e-04, w2: 3.772e-01\n",
      "\n",
      "==================== image ====================\n",
      "Data shape: (2086, 18)\n",
      "GT energy bias: 1.013e-03, test acc: 0.8213, test acc top 90%: 0.8227\n"
     ]
    },
    {
     "name": "stderr",
     "output_type": "stream",
     "text": [
      "100.00%|██████████| [00:47<00:00,  2.12%/s]\n"
     ]
    },
    {
     "name": "stdout",
     "output_type": "stream",
     "text": [
      "QUICSORT acc: 0.8224, acc top 90%: 0.824, energy: 6.639e-04, w2: 7.524e-01\n"
     ]
    },
    {
     "name": "stderr",
     "output_type": "stream",
     "text": [
      "100.00%|██████████| [01:28<00:00,  1.13%/s]\n"
     ]
    },
    {
     "name": "stdout",
     "output_type": "stream",
     "text": [
      "Euler acc: 0.6833, acc top 90%: 0.6998, energy: 2.523e+00, w2: 1.213e+01\n"
     ]
    },
    {
     "name": "stderr",
     "output_type": "stream",
     "text": [
      "2024-09-29 12:15:30.778025: W external/xla/xla/service/hlo_rematerialization.cc:3005] Can't reduce memory use below 4.18GiB (4485233875 bytes) by rematerialization; only reduced to 4.39GiB (4718592000 bytes), down from 4.39GiB (4718592000 bytes) originally\n",
      "2024-09-29 12:15:31.137893: W external/xla/xla/service/hlo_rematerialization.cc:3005] Can't reduce memory use below 3.95GiB (4240816537 bytes) by rematerialization; only reduced to 4.39GiB (4718592000 bytes), down from 4.39GiB (4718592000 bytes) originally\n",
      "warmup: 100%|██████████| 20/20 [06:18<00:00, 18.90s/it]\n",
      "sample: 100%|██████████| 44/44 [07:03<00:00,  9.63s/it]\n",
      "2024-09-29 12:29:03.559442: W external/xla/xla/tsl/framework/bfc_allocator.cc:482] Allocator (GPU_0_bfc) ran out of memory trying to allocate 6.75GiB (rounded to 7249603328)requested by op \n",
      "2024-09-29 12:29:03.559877: W external/xla/xla/tsl/framework/bfc_allocator.cc:494] ************************____________________________________________________________________________\n",
      "E0929 12:29:03.559925   15798 pjrt_stream_executor_client.cc:3067] Execution of replica 0 failed: RESOURCE_EXHAUSTED: Out of memory while trying to allocate 7249603088 bytes.\n"
     ]
    },
    {
     "ename": "ValueError",
     "evalue": "RESOURCE_EXHAUSTED: Out of memory while trying to allocate 7249603088 bytes.",
     "output_type": "error",
     "traceback": [
      "\u001B[0;31m---------------------------------------------------------------------------\u001B[0m",
      "\u001B[0;31mValueError\u001B[0m                                Traceback (most recent call last)",
      "Cell \u001B[0;32mIn[3], line 10\u001B[0m\n\u001B[1;32m      8\u001B[0m \u001B[38;5;28;01mfor\u001B[39;00m name \u001B[38;5;129;01min\u001B[39;00m names:\n\u001B[1;32m      9\u001B[0m     \u001B[38;5;28mprint\u001B[39m(\u001B[38;5;124mf\u001B[39m\u001B[38;5;124m\"\u001B[39m\u001B[38;5;124m==================== \u001B[39m\u001B[38;5;132;01m{\u001B[39;00mname\u001B[38;5;132;01m}\u001B[39;00m\u001B[38;5;124m ====================\u001B[39m\u001B[38;5;124m\"\u001B[39m)\n\u001B[0;32m---> 10\u001B[0m     \u001B[43mrun_progressive_logreg\u001B[49m\u001B[43m(\u001B[49m\u001B[43mname\u001B[49m\u001B[43m,\u001B[49m\u001B[43m \u001B[49m\u001B[43mlog_filename\u001B[49m\u001B[43m,\u001B[49m\u001B[43m \u001B[49m\u001B[43mtimestamp\u001B[49m\u001B[43m)\u001B[49m\n\u001B[1;32m     11\u001B[0m     \u001B[38;5;28mprint\u001B[39m()\n",
      "File \u001B[0;32m~/PycharmProjects/diffrax_STLA/mcmc/progressive_full_run.py:189\u001B[0m, in \u001B[0;36mrun_progressive_logreg\u001B[0;34m(data_name, log_filename, timestamp, quic_dict_filename, euler_dict_filename, nuts_dict_filename)\u001B[0m\n\u001B[1;32m    186\u001B[0m     f\u001B[38;5;241m.\u001B[39mwrite(\u001B[38;5;124mf\u001B[39m\u001B[38;5;124m\"\u001B[39m\u001B[38;5;132;01m{\u001B[39;00meuler_str\u001B[38;5;132;01m}\u001B[39;00m\u001B[38;5;130;01m\\n\u001B[39;00m\u001B[38;5;124m\"\u001B[39m)\n\u001B[1;32m    188\u001B[0m \u001B[38;5;28;01mif\u001B[39;00m nuts_dict_filename \u001B[38;5;129;01mis\u001B[39;00m \u001B[38;5;28;01mNone\u001B[39;00m:\n\u001B[0;32m--> 189\u001B[0m     result_dict_nuts \u001B[38;5;241m=\u001B[39m \u001B[43mrun_nuts\u001B[49m\u001B[43m(\u001B[49m\n\u001B[1;32m    190\u001B[0m \u001B[43m        \u001B[49m\u001B[43mmodel\u001B[49m\u001B[43m,\u001B[49m\u001B[43m \u001B[49m\u001B[43mnum_particles\u001B[49m\u001B[43m,\u001B[49m\u001B[43m \u001B[49m\u001B[43mx_train\u001B[49m\u001B[43m,\u001B[49m\u001B[43m \u001B[49m\u001B[43mlabels_train\u001B[49m\u001B[43m,\u001B[49m\u001B[43m \u001B[49m\u001B[43mx_test\u001B[49m\u001B[43m,\u001B[49m\u001B[43m \u001B[49m\u001B[43mlabels_test\u001B[49m\u001B[43m,\u001B[49m\u001B[43m \u001B[49m\u001B[43mgt_logreg\u001B[49m\n\u001B[1;32m    191\u001B[0m \u001B[43m    \u001B[49m\u001B[43m)\u001B[49m\n\u001B[1;32m    192\u001B[0m \u001B[38;5;28;01melse\u001B[39;00m:\n\u001B[1;32m    193\u001B[0m     \u001B[38;5;28;01mwith\u001B[39;00m \u001B[38;5;28mopen\u001B[39m(nuts_dict_filename, \u001B[38;5;124m\"\u001B[39m\u001B[38;5;124mrb\u001B[39m\u001B[38;5;124m\"\u001B[39m) \u001B[38;5;28;01mas\u001B[39;00m f:\n",
      "File \u001B[0;32m~/PycharmProjects/diffrax_STLA/mcmc/progressive_full_run.py:74\u001B[0m, in \u001B[0;36mrun_nuts\u001B[0;34m(model, num_particles, x_train, labels_train, x_test, labels_test, gt_logreg)\u001B[0m\n\u001B[1;32m     71\u001B[0m steps_nuts \u001B[38;5;241m=\u001B[39m jnp\u001B[38;5;241m.\u001B[39mconcatenate((warmup_steps, run_steps), axis\u001B[38;5;241m=\u001B[39m\u001B[38;5;241m-\u001B[39m\u001B[38;5;241m1\u001B[39m)\n\u001B[1;32m     72\u001B[0m steps_nuts \u001B[38;5;241m=\u001B[39m jnp\u001B[38;5;241m.\u001B[39mreshape(steps_nuts, (\u001B[38;5;241m-\u001B[39m\u001B[38;5;241m1\u001B[39m,))\n\u001B[0;32m---> 74\u001B[0m result_dict_nuts \u001B[38;5;241m=\u001B[39m \u001B[43meval_progressive_logreg\u001B[49m\u001B[43m(\u001B[49m\n\u001B[1;32m     75\u001B[0m \u001B[43m    \u001B[49m\u001B[43mout_nuts\u001B[49m\u001B[43m,\u001B[49m\n\u001B[1;32m     76\u001B[0m \u001B[43m    \u001B[49m\u001B[43mgt_logreg\u001B[49m\u001B[43m,\u001B[49m\n\u001B[1;32m     77\u001B[0m \u001B[43m    \u001B[49m\u001B[43msteps_nuts\u001B[49m\u001B[43m,\u001B[49m\n\u001B[1;32m     78\u001B[0m \u001B[43m    \u001B[49m\u001B[43mx_test\u001B[49m\u001B[43m,\u001B[49m\n\u001B[1;32m     79\u001B[0m \u001B[43m    \u001B[49m\u001B[43mlabels_test\u001B[49m\u001B[43m,\u001B[49m\n\u001B[1;32m     80\u001B[0m \u001B[43m    \u001B[49m\u001B[43mmetric_eval_interval\u001B[49m\u001B[38;5;241;43m=\u001B[39;49m\u001B[43mchain_len_nuts\u001B[49m\u001B[43m \u001B[49m\u001B[38;5;241;43m/\u001B[39;49m\u001B[38;5;241;43m/\u001B[39;49m\u001B[43m \u001B[49m\u001B[43m(\u001B[49m\u001B[38;5;241;43m2\u001B[39;49m\u001B[38;5;241;43m*\u001B[39;49m\u001B[38;5;241;43m*\u001B[39;49m\u001B[38;5;241;43m5\u001B[39;49m\u001B[43m)\u001B[49m\u001B[43m,\u001B[49m\n\u001B[1;32m     81\u001B[0m \u001B[43m    \u001B[49m\u001B[43mmax_samples_w2\u001B[49m\u001B[38;5;241;43m=\u001B[39;49m\u001B[38;5;241;43m2\u001B[39;49m\u001B[38;5;241;43m*\u001B[39;49m\u001B[38;5;241;43m*\u001B[39;49m\u001B[38;5;241;43m11\u001B[39;49m\u001B[43m,\u001B[49m\n\u001B[1;32m     82\u001B[0m \u001B[43m\u001B[49m\u001B[43m)\u001B[49m\n\u001B[1;32m     83\u001B[0m result_dict_nuts[\u001B[38;5;124m\"\u001B[39m\u001B[38;5;124mtime\u001B[39m\u001B[38;5;124m\"\u001B[39m] \u001B[38;5;241m=\u001B[39m time_nuts\n\u001B[1;32m     84\u001B[0m \u001B[38;5;28;01mreturn\u001B[39;00m result_dict_nuts\n",
      "File \u001B[0;32m~/PycharmProjects/diffrax_STLA/mcmc/evaluation.py:240\u001B[0m, in \u001B[0;36meval_progressive_logreg\u001B[0;34m(samples, ground_truth, evals_per_sample, x_test, labels_test, num_iters_w2, max_samples_w2, metric_eval_interval)\u001B[0m\n\u001B[1;32m    238\u001B[0m \u001B[38;5;66;03m# vectorize over the chain_len dimension\u001B[39;00m\n\u001B[1;32m    239\u001B[0m vec_metrics \u001B[38;5;241m=\u001B[39m jax\u001B[38;5;241m.\u001B[39mvmap(partial_metrics, in_axes\u001B[38;5;241m=\u001B[39m\u001B[38;5;241m1\u001B[39m)\n\u001B[0;32m--> 240\u001B[0m energy_err, test_acc, test_acc_best90 \u001B[38;5;241m=\u001B[39m \u001B[43mvec_metrics\u001B[49m\u001B[43m(\u001B[49m\u001B[43msamples_for_eval\u001B[49m\u001B[43m)\u001B[49m\n\u001B[1;32m    242\u001B[0m \u001B[38;5;28;01mif\u001B[39;00m num_iters_w2 \u001B[38;5;241m>\u001B[39m \u001B[38;5;241m0\u001B[39m:\n\u001B[1;32m    243\u001B[0m     \u001B[38;5;66;03m# wasserstein-2 distance is done via numpy, so cannot be vectorised\u001B[39;00m\n\u001B[1;32m    244\u001B[0m     w2_list \u001B[38;5;241m=\u001B[39m []\n",
      "    \u001B[0;31m[... skipping hidden 3 frame]\u001B[0m\n",
      "File \u001B[0;32m~/PycharmProjects/diffrax_STLA/mcmc/evaluation.py:190\u001B[0m, in \u001B[0;36mcompute_metrics\u001B[0;34m(sample_slice, ground_truth, x_test, labels_test)\u001B[0m\n\u001B[1;32m    189\u001B[0m \u001B[38;5;28;01mdef\u001B[39;00m \u001B[38;5;21mcompute_metrics\u001B[39m(sample_slice, ground_truth, x_test, labels_test):\n\u001B[0;32m--> 190\u001B[0m     energy_err \u001B[38;5;241m=\u001B[39m \u001B[43menergy_distance\u001B[49m\u001B[43m(\u001B[49m\u001B[43msample_slice\u001B[49m\u001B[43m,\u001B[49m\u001B[43m \u001B[49m\u001B[43mground_truth\u001B[49m\u001B[43m,\u001B[49m\u001B[43m \u001B[49m\u001B[43mmax_len\u001B[49m\u001B[38;5;241;43m=\u001B[39;49m\u001B[38;5;241;43m2\u001B[39;49m\u001B[38;5;241;43m*\u001B[39;49m\u001B[38;5;241;43m*\u001B[39;49m\u001B[38;5;241;43m14\u001B[39;49m\u001B[43m)\u001B[49m\n\u001B[1;32m    192\u001B[0m     \u001B[38;5;28;01mif\u001B[39;00m x_test \u001B[38;5;129;01mis\u001B[39;00m \u001B[38;5;129;01mnot\u001B[39;00m \u001B[38;5;28;01mNone\u001B[39;00m \u001B[38;5;129;01mand\u001B[39;00m labels_test \u001B[38;5;129;01mis\u001B[39;00m \u001B[38;5;129;01mnot\u001B[39;00m \u001B[38;5;28;01mNone\u001B[39;00m:\n\u001B[1;32m    193\u001B[0m         test_acc, test_acc_best90 \u001B[38;5;241m=\u001B[39m test_accuracy(x_test, labels_test, sample_slice)\n",
      "    \u001B[0;31m[... skipping hidden 10 frame]\u001B[0m\n",
      "File \u001B[0;32m~/PycharmProjects/diffrax_STLA/venv/lib/python3.11/site-packages/jax/_src/pjit.py:1730\u001B[0m, in \u001B[0;36m_pjit_call_impl\u001B[0;34m(jaxpr, in_shardings, out_shardings, in_layouts, out_layouts, resource_env, donated_invars, name, keep_unused, inline, *args)\u001B[0m\n\u001B[1;32m   1727\u001B[0m donated_argnums \u001B[38;5;241m=\u001B[39m [i \u001B[38;5;28;01mfor\u001B[39;00m i, d \u001B[38;5;129;01min\u001B[39;00m \u001B[38;5;28menumerate\u001B[39m(donated_invars) \u001B[38;5;28;01mif\u001B[39;00m d]\n\u001B[1;32m   1728\u001B[0m has_explicit_sharding \u001B[38;5;241m=\u001B[39m _pjit_explicit_sharding(\n\u001B[1;32m   1729\u001B[0m     in_shardings, out_shardings, \u001B[38;5;28;01mNone\u001B[39;00m, \u001B[38;5;28;01mNone\u001B[39;00m)\n\u001B[0;32m-> 1730\u001B[0m \u001B[38;5;28;01mreturn\u001B[39;00m \u001B[43mxc\u001B[49m\u001B[38;5;241;43m.\u001B[39;49m\u001B[43m_xla\u001B[49m\u001B[38;5;241;43m.\u001B[39;49m\u001B[43mpjit\u001B[49m\u001B[43m(\u001B[49m\n\u001B[1;32m   1731\u001B[0m \u001B[43m    \u001B[49m\u001B[43mname\u001B[49m\u001B[43m,\u001B[49m\u001B[43m \u001B[49m\u001B[43mf\u001B[49m\u001B[43m,\u001B[49m\u001B[43m \u001B[49m\u001B[43mcall_impl_cache_miss\u001B[49m\u001B[43m,\u001B[49m\u001B[43m \u001B[49m\u001B[43m[\u001B[49m\u001B[43m]\u001B[49m\u001B[43m,\u001B[49m\u001B[43m \u001B[49m\u001B[43m[\u001B[49m\u001B[43m]\u001B[49m\u001B[43m,\u001B[49m\u001B[43m \u001B[49m\u001B[43mdonated_argnums\u001B[49m\u001B[43m,\u001B[49m\n\u001B[1;32m   1732\u001B[0m \u001B[43m    \u001B[49m\u001B[43mtree_util\u001B[49m\u001B[38;5;241;43m.\u001B[39;49m\u001B[43mdispatch_registry\u001B[49m\u001B[43m,\u001B[49m\n\u001B[1;32m   1733\u001B[0m \u001B[43m    \u001B[49m\u001B[38;5;28;43;01mlambda\u001B[39;49;00m\u001B[43m \u001B[49m\u001B[43mx\u001B[49m\u001B[43m,\u001B[49m\u001B[43m \u001B[49m\u001B[43msharding\u001B[49m\u001B[43m:\u001B[49m\u001B[43m \u001B[49m\u001B[43mpxla\u001B[49m\u001B[38;5;241;43m.\u001B[39;49m\u001B[43mshard_args\u001B[49m\u001B[43m(\u001B[49m\u001B[43m[\u001B[49m\u001B[43msharding\u001B[49m\u001B[43m]\u001B[49m\u001B[43m,\u001B[49m\u001B[43m \u001B[49m\u001B[43m[\u001B[49m\u001B[43mx\u001B[49m\u001B[43m]\u001B[49m\u001B[43m)\u001B[49m\u001B[43m[\u001B[49m\u001B[38;5;241;43m0\u001B[39;49m\u001B[43m]\u001B[49m\u001B[43m,\u001B[49m\n\u001B[1;32m   1734\u001B[0m \u001B[43m    \u001B[49m\u001B[43m_get_cpp_global_cache\u001B[49m\u001B[43m(\u001B[49m\u001B[43mhas_explicit_sharding\u001B[49m\u001B[43m)\u001B[49m\u001B[43m)\u001B[49m\u001B[43m(\u001B[49m\u001B[38;5;241;43m*\u001B[39;49m\u001B[43margs\u001B[49m\u001B[43m)\u001B[49m\n",
      "\u001B[0;31mValueError\u001B[0m: RESOURCE_EXHAUSTED: Out of memory while trying to allocate 7249603088 bytes."
     ]
    }
   ],
   "execution_count": 3
  }
 ],
 "metadata": {
  "kernelspec": {
   "display_name": "Python 3",
   "language": "python",
   "name": "python3"
  },
  "language_info": {
   "codemirror_mode": {
    "name": "ipython",
    "version": 2
   },
   "file_extension": ".py",
   "mimetype": "text/x-python",
   "name": "python",
   "nbconvert_exporter": "python",
   "pygments_lexer": "ipython2",
   "version": "2.7.6"
  }
 },
 "nbformat": 4,
 "nbformat_minor": 5
}
