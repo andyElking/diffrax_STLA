{
 "cells": [
  {
   "cell_type": "code",
   "execution_count": 1,
   "id": "initial_id",
   "metadata": {
    "ExecuteTime": {
     "end_time": "2024-09-30T12:29:18.749646Z",
     "start_time": "2024-09-30T12:29:17.772131Z"
    },
    "collapsed": true
   },
   "outputs": [
    {
     "name": "stdout",
     "output_type": "stream",
     "text": [
      "env: JAX_PLATFORM_NAME=cuda\n",
      "[CudaDevice(id=0)]\n"
     ]
    }
   ],
   "source": [
    "import datetime\n",
    "import sys\n",
    "import warnings\n",
    "\n",
    "import jax\n",
    "import jax.numpy as jnp\n",
    "from get_model import get_model_and_data  # noqa: F401\n",
    "from main import run_simple_lmc_numpyro  # noqa: F401\n",
    "from numpyro.infer import MCMC, NUTS, Predictive  # noqa: F401\n",
    "from progressive_full_run import run_progressive_logreg\n",
    "\n",
    "\n",
    "%env JAX_PLATFORM_NAME=cuda\n",
    "warnings.simplefilter(\"ignore\", FutureWarning)\n",
    "\n",
    "jnp.set_printoptions(precision=3, suppress=True, threshold=sys.maxsize)\n",
    "jax.config.update(\"jax_enable_x64\", True)\n",
    "print(jax.devices(\"cuda\"))\n",
    "\n",
    "names = [\n",
    "    \"banana\",\n",
    "    \"breast_cancer\",\n",
    "    \"diabetis\",\n",
    "    \"flare_solar\",\n",
    "    \"german\",\n",
    "    \"heart\",\n",
    "    \"image\",\n",
    "    \"ringnorm\",\n",
    "    \"splice\",\n",
    "    \"thyroid\",\n",
    "    \"titanic\",\n",
    "    \"twonorm\",\n",
    "    \"waveform\",\n",
    "]"
   ]
  },
  {
   "cell_type": "code",
   "execution_count": 2,
   "id": "ac576c0531af74c1",
   "metadata": {
    "ExecuteTime": {
     "end_time": "2024-09-30T12:33:11.830380Z",
     "start_time": "2024-09-30T12:29:26.134620Z"
    }
   },
   "outputs": [
    {
     "name": "stdout",
     "output_type": "stream",
     "text": [
      "==================== banana ====================\n",
      "Data shape: (5300, 2)\n",
      "GT energy bias: 1.374e-05, test acc: 0.5468, test acc top 90%: 0.5547\n",
      "QUICSORT acc: 0.5517, acc top 90%: 0.557, energy: 5.419e-05, w2: 3.961e-04\n"
     ]
    },
    {
     "name": "stderr",
     "output_type": "stream",
     "text": [
      "100.00%|██████████| [00:37<00:00,  2.68%/s]\n"
     ]
    },
    {
     "name": "stdout",
     "output_type": "stream",
     "text": [
      "Euler acc: 0.5111, acc top 90%: 0.5226, energy: 5.581e-01, w2: 1.345e+00\n",
      "NUTS acc: 0.5509, acc top 90%: 0.5568, energy: 7.520e-06, w2: 3.826e-04\n",
      "\n",
      "==================== breast_cancer ====================\n",
      "Data shape: (263, 9)\n",
      "GT energy bias: 1.405e-04, test acc: 0.6599, test acc top 90%: 0.6655\n",
      "QUICSORT acc: 0.6651, acc top 90%: 0.6713, energy: 2.021e-04, w2: 1.483e-01\n"
     ]
    },
    {
     "name": "stderr",
     "output_type": "stream",
     "text": [
      "100.00%|██████████| [00:30<00:00,  3.31%/s]\n"
     ]
    },
    {
     "name": "stdout",
     "output_type": "stream",
     "text": [
      "Euler acc: 0.6643, acc top 90%: 0.671, energy: 1.308e-02, w2: 2.087e-01\n",
      "NUTS acc: 0.6641, acc top 90%: 0.6726, energy: 2.228e-04, w2: 1.490e-01\n",
      "\n",
      "==================== diabetis ====================\n",
      "Data shape: (768, 8)\n",
      "GT energy bias: 9.340e-05, test acc: 0.7777, test acc top 90%: 0.7802\n",
      "QUICSORT acc: 0.7786, acc top 90%: 0.7812, energy: 1.394e-04, w2: 4.334e-02\n"
     ]
    },
    {
     "name": "stderr",
     "output_type": "stream",
     "text": [
      "100.00%|██████████| [00:33<00:00,  3.02%/s]\n"
     ]
    },
    {
     "name": "stdout",
     "output_type": "stream",
     "text": [
      "Euler acc: 0.7298, acc top 90%: 0.7384, energy: 6.179e-01, w2: 1.774e+00\n",
      "NUTS acc: 0.7788, acc top 90%: 0.7814, energy: 1.338e-04, w2: 4.328e-02\n",
      "\n",
      "==================== flare_solar ====================\n",
      "Data shape: (144, 9)\n",
      "GT energy bias: 3.103e-03, test acc: 0.6165, test acc top 90%: 0.6244\n",
      "QUICSORT acc: 0.6295, acc top 90%: 0.6385, energy: 6.967e-02, w2: 2.117e+00\n"
     ]
    },
    {
     "name": "stderr",
     "output_type": "stream",
     "text": [
      "100.00%|██████████| [00:29<00:00,  3.41%/s]\n"
     ]
    },
    {
     "name": "stdout",
     "output_type": "stream",
     "text": [
      "Euler acc: 0.6071, acc top 90%: 0.6137, energy: 3.786e+00, w2: 6.533e+01\n",
      "NUTS acc: 0.6191, acc top 90%: 0.6269, energy: 1.461e-02, w2: 3.028e+00\n",
      "\n",
      "==================== german ====================\n",
      "Data shape: (1000, 20)\n",
      "GT energy bias: 3.190e-04, test acc: 0.7838, test acc top 90%: 0.7875\n",
      "QUICSORT acc: 0.7848, acc top 90%: 0.7884, energy: 3.173e-04, w2: 1.614e-01\n"
     ]
    },
    {
     "name": "stderr",
     "output_type": "stream",
     "text": [
      "37.45%|███▋      | [00:12<00:21,  2.93%/s]E0930 13:33:11.360351   20448 pjrt_stream_executor_client.cc:3067] Execution of replica 0 failed: INTERNAL: CustomCall failed: CpuCallback error: Traceback (most recent call last):\n",
      "  File \"<frozen runpy>\", line 198, in _run_module_as_main\n",
      "  File \"<frozen runpy>\", line 88, in _run_code\n",
      "  File \"/home/andy/PycharmProjects/diffrax_STLA/venv/lib/python3.11/site-packages/ipykernel_launcher.py\", line 18, in <module>\n",
      "  File \"/home/andy/PycharmProjects/diffrax_STLA/venv/lib/python3.11/site-packages/traitlets/config/application.py\", line 1075, in launch_instance\n",
      "  File \"/home/andy/PycharmProjects/diffrax_STLA/venv/lib/python3.11/site-packages/ipykernel/kernelapp.py\", line 739, in start\n",
      "  File \"/home/andy/PycharmProjects/diffrax_STLA/venv/lib/python3.11/site-packages/tornado/platform/asyncio.py\", line 205, in start\n",
      "  File \"/usr/lib/python3.11/asyncio/base_events.py\", line 608, in run_forever\n",
      "  File \"/usr/lib/python3.11/asyncio/base_events.py\", line 1936, in _run_once\n",
      "  File \"/usr/lib/python3.11/asyncio/events.py\", line 84, in _run\n",
      "  File \"/home/andy/PycharmProjects/diffrax_STLA/venv/lib/python3.11/site-packages/ipykernel/kernelbase.py\", line 545, in dispatch_queue\n",
      "  File \"/home/andy/PycharmProjects/diffrax_STLA/venv/lib/python3.11/site-packages/ipykernel/kernelbase.py\", line 534, in process_one\n",
      "  File \"/home/andy/PycharmProjects/diffrax_STLA/venv/lib/python3.11/site-packages/ipykernel/kernelbase.py\", line 437, in dispatch_shell\n",
      "  File \"/home/andy/PycharmProjects/diffrax_STLA/venv/lib/python3.11/site-packages/ipykernel/ipkernel.py\", line 362, in execute_request\n",
      "  File \"/home/andy/PycharmProjects/diffrax_STLA/venv/lib/python3.11/site-packages/ipykernel/kernelbase.py\", line 778, in execute_request\n",
      "  File \"/home/andy/PycharmProjects/diffrax_STLA/venv/lib/python3.11/site-packages/ipykernel/ipkernel.py\", line 449, in do_execute\n",
      "  File \"/home/andy/PycharmProjects/diffrax_STLA/venv/lib/python3.11/site-packages/ipykernel/zmqshell.py\", line 549, in run_cell\n",
      "  File \"/home/andy/PycharmProjects/diffrax_STLA/venv/lib/python3.11/site-packages/IPython/core/interactiveshell.py\", line 3075, in run_cell\n",
      "  File \"/home/andy/PycharmProjects/diffrax_STLA/venv/lib/python3.11/site-packages/IPython/core/interactiveshell.py\", line 3130, in _run_cell\n",
      "  File \"/home/andy/PycharmProjects/diffrax_STLA/venv/lib/python3.11/site-packages/IPython/core/async_helpers.py\", line 128, in _pseudo_sync_runner\n",
      "  File \"/home/andy/PycharmProjects/diffrax_STLA/venv/lib/python3.11/site-packages/IPython/core/interactiveshell.py\", line 3334, in run_cell_async\n",
      "  File \"/home/andy/PycharmProjects/diffrax_STLA/venv/lib/python3.11/site-packages/IPython/core/interactiveshell.py\", line 3517, in run_ast_nodes\n",
      "  File \"/home/andy/PycharmProjects/diffrax_STLA/venv/lib/python3.11/site-packages/IPython/core/interactiveshell.py\", line 3577, in run_code\n",
      "  File \"/tmp/ipykernel_20448/4188709020.py\", line 13, in <module>\n",
      "  File \"/home/andy/PycharmProjects/diffrax_STLA/mcmc/progressive_full_run.py\", line 170, in run_progressive_logreg\n",
      "  File \"/home/andy/PycharmProjects/diffrax_STLA/mcmc/main.py\", line 315, in run_simple_lmc_numpyro\n",
      "  File \"/home/andy/PycharmProjects/diffrax_STLA/mcmc/main.py\", line 267, in run_simple_lmc\n",
      "  File \"/home/andy/PycharmProjects/diffrax_STLA/venv/lib/python3.11/site-packages/equinox/_jit.py\", line 206, in __call__\n",
      "  File \"/home/andy/PycharmProjects/diffrax_STLA/venv/lib/python3.11/site-packages/equinox/_module.py\", line 1053, in __call__\n",
      "  File \"/home/andy/PycharmProjects/diffrax_STLA/venv/lib/python3.11/site-packages/equinox/_jit.py\", line 200, in _call\n",
      "  File \"/home/andy/PycharmProjects/diffrax_STLA/venv/lib/python3.11/site-packages/jax/_src/traceback_util.py\", line 180, in reraise_with_filtered_traceback\n",
      "  File \"/home/andy/PycharmProjects/diffrax_STLA/venv/lib/python3.11/site-packages/jax/_src/pjit.py\", line 332, in cache_miss\n",
      "  File \"/home/andy/PycharmProjects/diffrax_STLA/venv/lib/python3.11/site-packages/jax/_src/pjit.py\", line 190, in _python_pjit_helper\n",
      "  File \"/home/andy/PycharmProjects/diffrax_STLA/venv/lib/python3.11/site-packages/jax/_src/core.py\", line 2739, in bind\n",
      "  File \"/home/andy/PycharmProjects/diffrax_STLA/venv/lib/python3.11/site-packages/jax/_src/core.py\", line 433, in bind_with_trace\n",
      "  File \"/home/andy/PycharmProjects/diffrax_STLA/venv/lib/python3.11/site-packages/jax/_src/core.py\", line 939, in process_primitive\n",
      "  File \"/home/andy/PycharmProjects/diffrax_STLA/venv/lib/python3.11/site-packages/jax/_src/pjit.py\", line 1730, in _pjit_call_impl\n",
      "  File \"/home/andy/PycharmProjects/diffrax_STLA/venv/lib/python3.11/site-packages/jax/_src/pjit.py\", line 1712, in call_impl_cache_miss\n",
      "  File \"/home/andy/PycharmProjects/diffrax_STLA/venv/lib/python3.11/site-packages/jax/_src/pjit.py\", line 1666, in _pjit_call_impl_python\n",
      "  File \"/home/andy/PycharmProjects/diffrax_STLA/venv/lib/python3.11/site-packages/jax/_src/profiler.py\", line 336, in wrapper\n",
      "  File \"/home/andy/PycharmProjects/diffrax_STLA/venv/lib/python3.11/site-packages/jax/_src/interpreters/pxla.py\", line 1239, in __call__\n",
      "  File \"/home/andy/PycharmProjects/diffrax_STLA/venv/lib/python3.11/site-packages/jax/_src/interpreters/mlir.py\", line 2655, in _wrapped_callback\n",
      "KeyboardInterrupt: \n"
     ]
    },
    {
     "ename": "XlaRuntimeError",
     "evalue": "INTERNAL: CustomCall failed: CpuCallback error: Traceback (most recent call last):\n  File \"<frozen runpy>\", line 198, in _run_module_as_main\n  File \"<frozen runpy>\", line 88, in _run_code\n  File \"/home/andy/PycharmProjects/diffrax_STLA/venv/lib/python3.11/site-packages/ipykernel_launcher.py\", line 18, in <module>\n  File \"/home/andy/PycharmProjects/diffrax_STLA/venv/lib/python3.11/site-packages/traitlets/config/application.py\", line 1075, in launch_instance\n  File \"/home/andy/PycharmProjects/diffrax_STLA/venv/lib/python3.11/site-packages/ipykernel/kernelapp.py\", line 739, in start\n  File \"/home/andy/PycharmProjects/diffrax_STLA/venv/lib/python3.11/site-packages/tornado/platform/asyncio.py\", line 205, in start\n  File \"/usr/lib/python3.11/asyncio/base_events.py\", line 608, in run_forever\n  File \"/usr/lib/python3.11/asyncio/base_events.py\", line 1936, in _run_once\n  File \"/usr/lib/python3.11/asyncio/events.py\", line 84, in _run\n  File \"/home/andy/PycharmProjects/diffrax_STLA/venv/lib/python3.11/site-packages/ipykernel/kernelbase.py\", line 545, in dispatch_queue\n  File \"/home/andy/PycharmProjects/diffrax_STLA/venv/lib/python3.11/site-packages/ipykernel/kernelbase.py\", line 534, in process_one\n  File \"/home/andy/PycharmProjects/diffrax_STLA/venv/lib/python3.11/site-packages/ipykernel/kernelbase.py\", line 437, in dispatch_shell\n  File \"/home/andy/PycharmProjects/diffrax_STLA/venv/lib/python3.11/site-packages/ipykernel/ipkernel.py\", line 362, in execute_request\n  File \"/home/andy/PycharmProjects/diffrax_STLA/venv/lib/python3.11/site-packages/ipykernel/kernelbase.py\", line 778, in execute_request\n  File \"/home/andy/PycharmProjects/diffrax_STLA/venv/lib/python3.11/site-packages/ipykernel/ipkernel.py\", line 449, in do_execute\n  File \"/home/andy/PycharmProjects/diffrax_STLA/venv/lib/python3.11/site-packages/ipykernel/zmqshell.py\", line 549, in run_cell\n  File \"/home/andy/PycharmProjects/diffrax_STLA/venv/lib/python3.11/site-packages/IPython/core/interactiveshell.py\", line 3075, in run_cell\n  File \"/home/andy/PycharmProjects/diffrax_STLA/venv/lib/python3.11/site-packages/IPython/core/interactiveshell.py\", line 3130, in _run_cell\n  File \"/home/andy/PycharmProjects/diffrax_STLA/venv/lib/python3.11/site-packages/IPython/core/async_helpers.py\", line 128, in _pseudo_sync_runner\n  File \"/home/andy/PycharmProjects/diffrax_STLA/venv/lib/python3.11/site-packages/IPython/core/interactiveshell.py\", line 3334, in run_cell_async\n  File \"/home/andy/PycharmProjects/diffrax_STLA/venv/lib/python3.11/site-packages/IPython/core/interactiveshell.py\", line 3517, in run_ast_nodes\n  File \"/home/andy/PycharmProjects/diffrax_STLA/venv/lib/python3.11/site-packages/IPython/core/interactiveshell.py\", line 3577, in run_code\n  File \"/tmp/ipykernel_20448/4188709020.py\", line 13, in <module>\n  File \"/home/andy/PycharmProjects/diffrax_STLA/mcmc/progressive_full_run.py\", line 170, in run_progressive_logreg\n  File \"/home/andy/PycharmProjects/diffrax_STLA/mcmc/main.py\", line 315, in run_simple_lmc_numpyro\n  File \"/home/andy/PycharmProjects/diffrax_STLA/mcmc/main.py\", line 267, in run_simple_lmc\n  File \"/home/andy/PycharmProjects/diffrax_STLA/venv/lib/python3.11/site-packages/equinox/_jit.py\", line 206, in __call__\n  File \"/home/andy/PycharmProjects/diffrax_STLA/venv/lib/python3.11/site-packages/equinox/_module.py\", line 1053, in __call__\n  File \"/home/andy/PycharmProjects/diffrax_STLA/venv/lib/python3.11/site-packages/equinox/_jit.py\", line 200, in _call\n  File \"/home/andy/PycharmProjects/diffrax_STLA/venv/lib/python3.11/site-packages/jax/_src/traceback_util.py\", line 180, in reraise_with_filtered_traceback\n  File \"/home/andy/PycharmProjects/diffrax_STLA/venv/lib/python3.11/site-packages/jax/_src/pjit.py\", line 332, in cache_miss\n  File \"/home/andy/PycharmProjects/diffrax_STLA/venv/lib/python3.11/site-packages/jax/_src/pjit.py\", line 190, in _python_pjit_helper\n  File \"/home/andy/PycharmProjects/diffrax_STLA/venv/lib/python3.11/site-packages/jax/_src/core.py\", line 2739, in bind\n  File \"/home/andy/PycharmProjects/diffrax_STLA/venv/lib/python3.11/site-packages/jax/_src/core.py\", line 433, in bind_with_trace\n  File \"/home/andy/PycharmProjects/diffrax_STLA/venv/lib/python3.11/site-packages/jax/_src/core.py\", line 939, in process_primitive\n  File \"/home/andy/PycharmProjects/diffrax_STLA/venv/lib/python3.11/site-packages/jax/_src/pjit.py\", line 1730, in _pjit_call_impl\n  File \"/home/andy/PycharmProjects/diffrax_STLA/venv/lib/python3.11/site-packages/jax/_src/pjit.py\", line 1712, in call_impl_cache_miss\n  File \"/home/andy/PycharmProjects/diffrax_STLA/venv/lib/python3.11/site-packages/jax/_src/pjit.py\", line 1666, in _pjit_call_impl_python\n  File \"/home/andy/PycharmProjects/diffrax_STLA/venv/lib/python3.11/site-packages/jax/_src/profiler.py\", line 336, in wrapper\n  File \"/home/andy/PycharmProjects/diffrax_STLA/venv/lib/python3.11/site-packages/jax/_src/interpreters/pxla.py\", line 1239, in __call__\n  File \"/home/andy/PycharmProjects/diffrax_STLA/venv/lib/python3.11/site-packages/jax/_src/interpreters/mlir.py\", line 2655, in _wrapped_callback\nKeyboardInterrupt: ",
     "output_type": "error",
     "traceback": [
      "\u001b[0;31m---------------------------------------------------------------------------\u001b[0m",
      "\u001b[0;31mXlaRuntimeError\u001b[0m                           Traceback (most recent call last)",
      "Cell \u001b[0;32mIn[2], line 13\u001b[0m\n\u001b[1;32m     11\u001b[0m dict_filename \u001b[38;5;241m=\u001b[39m glob\u001b[38;5;241m.\u001b[39mglob(\u001b[38;5;124mf\u001b[39m\u001b[38;5;124m\"\u001b[39m\u001b[38;5;124mprogressive_results/result_dict_\u001b[39m\u001b[38;5;132;01m{\u001b[39;00mname\u001b[38;5;132;01m}\u001b[39;00m\u001b[38;5;124m_*.pkl\u001b[39m\u001b[38;5;124m\"\u001b[39m)[\u001b[38;5;241m0\u001b[39m]\n\u001b[1;32m     12\u001b[0m \u001b[38;5;28mprint\u001b[39m(\u001b[38;5;124mf\u001b[39m\u001b[38;5;124m\"\u001b[39m\u001b[38;5;124m==================== \u001b[39m\u001b[38;5;132;01m{\u001b[39;00mname\u001b[38;5;132;01m}\u001b[39;00m\u001b[38;5;124m ====================\u001b[39m\u001b[38;5;124m\"\u001b[39m)\n\u001b[0;32m---> 13\u001b[0m \u001b[43mrun_progressive_logreg\u001b[49m\u001b[43m(\u001b[49m\u001b[43mname\u001b[49m\u001b[43m,\u001b[49m\u001b[43m \u001b[49m\u001b[43mlog_filename\u001b[49m\u001b[43m,\u001b[49m\u001b[43m \u001b[49m\u001b[43mtimestamp\u001b[49m\u001b[43m,\u001b[49m\u001b[43m \u001b[49m\u001b[43mnuts_dict_filename\u001b[49m\u001b[38;5;241;43m=\u001b[39;49m\u001b[43mdict_filename\u001b[49m\u001b[43m,\u001b[49m\u001b[43m \u001b[49m\u001b[43mquic_dict_filename\u001b[49m\u001b[38;5;241;43m=\u001b[39;49m\u001b[43mdict_filename\u001b[49m\u001b[43m)\u001b[49m\n\u001b[1;32m     14\u001b[0m \u001b[38;5;28mprint\u001b[39m()\n",
      "File \u001b[0;32m~/PycharmProjects/diffrax_STLA/mcmc/progressive_full_run.py:170\u001b[0m, in \u001b[0;36mrun_progressive_logreg\u001b[0;34m(data_name, log_filename, timestamp, quic_dict_filename, euler_dict_filename, nuts_dict_filename)\u001b[0m\n\u001b[1;32m    167\u001b[0m \u001b[38;5;28;01mif\u001b[39;00m euler_dict_filename \u001b[38;5;129;01mis\u001b[39;00m \u001b[38;5;28;01mNone\u001b[39;00m:\n\u001b[1;32m    168\u001b[0m     \u001b[38;5;66;03m# run LMC with EULER and record wall time\u001b[39;00m\n\u001b[1;32m    169\u001b[0m     start_euler \u001b[38;5;241m=\u001b[39m time\u001b[38;5;241m.\u001b[39mtime()\n\u001b[0;32m--> 170\u001b[0m     out_euler, steps_euler \u001b[38;5;241m=\u001b[39m \u001b[43mrun_simple_lmc_numpyro\u001b[49m\u001b[43m(\u001b[49m\n\u001b[1;32m    171\u001b[0m \u001b[43m        \u001b[49m\u001b[43mjr\u001b[49m\u001b[38;5;241;43m.\u001b[39;49m\u001b[43mkey\u001b[49m\u001b[43m(\u001b[49m\u001b[38;5;241;43m0\u001b[39;49m\u001b[43m)\u001b[49m\u001b[43m,\u001b[49m\n\u001b[1;32m    172\u001b[0m \u001b[43m        \u001b[49m\u001b[43mmodel\u001b[49m\u001b[43m,\u001b[49m\n\u001b[1;32m    173\u001b[0m \u001b[43m        \u001b[49m\u001b[43m(\u001b[49m\u001b[43mx_train\u001b[49m\u001b[43m,\u001b[49m\u001b[43m \u001b[49m\u001b[43mlabels_train\u001b[49m\u001b[43m)\u001b[49m\u001b[43m,\u001b[49m\n\u001b[1;32m    174\u001b[0m \u001b[43m        \u001b[49m\u001b[43mnum_particles\u001b[49m\u001b[43m,\u001b[49m\n\u001b[1;32m    175\u001b[0m \u001b[43m        \u001b[49m\u001b[43mchain_len\u001b[49m\u001b[38;5;241;43m=\u001b[39;49m\u001b[38;5;241;43m2\u001b[39;49m\u001b[38;5;241;43m*\u001b[39;49m\u001b[38;5;241;43m*\u001b[39;49m\u001b[38;5;241;43m5\u001b[39;49m\u001b[43m,\u001b[49m\n\u001b[1;32m    176\u001b[0m \u001b[43m        \u001b[49m\u001b[43mchain_sep\u001b[49m\u001b[38;5;241;43m=\u001b[39;49m\u001b[38;5;241;43m1.0\u001b[39;49m\u001b[43m,\u001b[49m\n\u001b[1;32m    177\u001b[0m \u001b[43m        \u001b[49m\u001b[43mtol\u001b[49m\u001b[38;5;241;43m=\u001b[39;49m\u001b[43mquic_tol\u001b[49m\u001b[43m \u001b[49m\u001b[38;5;241;43m/\u001b[39;49m\u001b[43m \u001b[49m\u001b[38;5;241;43m5\u001b[39;49m\u001b[43m,\u001b[49m\n\u001b[1;32m    178\u001b[0m \u001b[43m        \u001b[49m\u001b[43msolver\u001b[49m\u001b[38;5;241;43m=\u001b[39;49m\u001b[43mdiffrax\u001b[49m\u001b[38;5;241;43m.\u001b[39;49m\u001b[43mEuler\u001b[49m\u001b[43m(\u001b[49m\u001b[43m)\u001b[49m\u001b[43m,\u001b[49m\n\u001b[1;32m    179\u001b[0m \u001b[43m    \u001b[49m\u001b[43m)\u001b[49m\n\u001b[1;32m    180\u001b[0m     time_euler \u001b[38;5;241m=\u001b[39m time\u001b[38;5;241m.\u001b[39mtime() \u001b[38;5;241m-\u001b[39m start_euler\n\u001b[1;32m    181\u001b[0m     result_dict_euler \u001b[38;5;241m=\u001b[39m eval_progressive_logreg(\n\u001b[1;32m    182\u001b[0m         out_euler, gt_logreg, steps_euler, x_test, labels_test\n\u001b[1;32m    183\u001b[0m     )\n",
      "File \u001b[0;32m~/PycharmProjects/diffrax_STLA/mcmc/main.py:315\u001b[0m, in \u001b[0;36mrun_simple_lmc_numpyro\u001b[0;34m(key, model, model_args, num_particles, chain_len, chain_sep, tol, use_adaptive, solver, num_warmup)\u001b[0m\n\u001b[1;32m    313\u001b[0m x0 \u001b[38;5;241m=\u001b[39m Predictive(model, num_samples\u001b[38;5;241m=\u001b[39mnum_particles)(model_key, \u001b[38;5;241m*\u001b[39mmodel_args)\n\u001b[1;32m    314\u001b[0m \u001b[38;5;28;01mdel\u001b[39;00m x0[\u001b[38;5;124m\"\u001b[39m\u001b[38;5;124mobs\u001b[39m\u001b[38;5;124m\"\u001b[39m]\n\u001b[0;32m--> 315\u001b[0m \u001b[38;5;28;01mreturn\u001b[39;00m \u001b[43mrun_simple_lmc\u001b[49m\u001b[43m(\u001b[49m\n\u001b[1;32m    316\u001b[0m \u001b[43m    \u001b[49m\u001b[43mlmc_key\u001b[49m\u001b[43m,\u001b[49m\n\u001b[1;32m    317\u001b[0m \u001b[43m    \u001b[49m\u001b[43mlog_p\u001b[49m\u001b[43m,\u001b[49m\n\u001b[1;32m    318\u001b[0m \u001b[43m    \u001b[49m\u001b[43mx0\u001b[49m\u001b[43m,\u001b[49m\n\u001b[1;32m    319\u001b[0m \u001b[43m    \u001b[49m\u001b[43mnum_particles\u001b[49m\u001b[43m,\u001b[49m\n\u001b[1;32m    320\u001b[0m \u001b[43m    \u001b[49m\u001b[43mchain_len\u001b[49m\u001b[43m,\u001b[49m\n\u001b[1;32m    321\u001b[0m \u001b[43m    \u001b[49m\u001b[43mchain_sep\u001b[49m\u001b[43m,\u001b[49m\n\u001b[1;32m    322\u001b[0m \u001b[43m    \u001b[49m\u001b[43mtol\u001b[49m\u001b[43m,\u001b[49m\n\u001b[1;32m    323\u001b[0m \u001b[43m    \u001b[49m\u001b[43muse_adaptive\u001b[49m\u001b[43m,\u001b[49m\n\u001b[1;32m    324\u001b[0m \u001b[43m    \u001b[49m\u001b[43msolver\u001b[49m\u001b[43m,\u001b[49m\n\u001b[1;32m    325\u001b[0m \u001b[43m    \u001b[49m\u001b[43mnum_warmup\u001b[49m\u001b[43m,\u001b[49m\n\u001b[1;32m    326\u001b[0m \u001b[43m\u001b[49m\u001b[43m)\u001b[49m\n",
      "File \u001b[0;32m~/PycharmProjects/diffrax_STLA/mcmc/main.py:267\u001b[0m, in \u001b[0;36mrun_simple_lmc\u001b[0;34m(key, log_p, x0, num_particles, chain_len, chain_sep, tol, use_adaptive, solver, num_warmup)\u001b[0m\n\u001b[1;32m    264\u001b[0m     controller_mcmc \u001b[38;5;241m=\u001b[39m StepTo(ts\u001b[38;5;241m=\u001b[39mstep_ts)\n\u001b[1;32m    265\u001b[0m     bm_tol \u001b[38;5;241m=\u001b[39m tol \u001b[38;5;241m/\u001b[39m \u001b[38;5;241m4.0\u001b[39m\n\u001b[0;32m--> 267\u001b[0m out_mcmc, steps_mcmc \u001b[38;5;241m=\u001b[39m \u001b[43m_batch_sde_solve_multi_y0\u001b[49m\u001b[43m(\u001b[49m\n\u001b[1;32m    268\u001b[0m \u001b[43m    \u001b[49m\u001b[43mkeys_mcmc\u001b[49m\u001b[43m,\u001b[49m\n\u001b[1;32m    269\u001b[0m \u001b[43m    \u001b[49m\u001b[43mget_terms\u001b[49m\u001b[43m,\u001b[49m\n\u001b[1;32m    270\u001b[0m \u001b[43m    \u001b[49m\u001b[43mw_shape\u001b[49m\u001b[43m,\u001b[49m\n\u001b[1;32m    271\u001b[0m \u001b[43m    \u001b[49m\u001b[38;5;241;43m0.0\u001b[39;49m\u001b[43m,\u001b[49m\n\u001b[1;32m    272\u001b[0m \u001b[43m    \u001b[49m\u001b[43mt1_mcmc\u001b[49m\u001b[43m,\u001b[49m\n\u001b[1;32m    273\u001b[0m \u001b[43m    \u001b[49m\u001b[43my0\u001b[49m\u001b[43m,\u001b[49m\n\u001b[1;32m    274\u001b[0m \u001b[43m    \u001b[49m\u001b[38;5;28;43;01mNone\u001b[39;49;00m\u001b[43m,\u001b[49m\n\u001b[1;32m    275\u001b[0m \u001b[43m    \u001b[49m\u001b[43msolver\u001b[49m\u001b[43m,\u001b[49m\n\u001b[1;32m    276\u001b[0m \u001b[43m    \u001b[49m\u001b[43mSpaceTimeTimeLevyArea\u001b[49m\u001b[43m,\u001b[49m\n\u001b[1;32m    277\u001b[0m \u001b[43m    \u001b[49m\u001b[38;5;28;43;01mNone\u001b[39;49;00m\u001b[43m,\u001b[49m\n\u001b[1;32m    278\u001b[0m \u001b[43m    \u001b[49m\u001b[43mcontroller_mcmc\u001b[49m\u001b[43m,\u001b[49m\n\u001b[1;32m    279\u001b[0m \u001b[43m    \u001b[49m\u001b[43mbm_tol\u001b[49m\u001b[43m,\u001b[49m\n\u001b[1;32m    280\u001b[0m \u001b[43m    \u001b[49m\u001b[43msaveat\u001b[49m\u001b[43m,\u001b[49m\n\u001b[1;32m    281\u001b[0m \u001b[43m    \u001b[49m\u001b[43muse_progress_meter\u001b[49m\u001b[38;5;241;43m=\u001b[39;49m\u001b[38;5;28;43;01mTrue\u001b[39;49;00m\u001b[43m,\u001b[49m\n\u001b[1;32m    282\u001b[0m \u001b[43m    \u001b[49m\u001b[43muse_vbt\u001b[49m\u001b[38;5;241;43m=\u001b[39;49m\u001b[38;5;28;43;01mTrue\u001b[39;49;00m\u001b[43m,\u001b[49m\n\u001b[1;32m    283\u001b[0m \u001b[43m\u001b[49m\u001b[43m)\u001b[49m\n\u001b[1;32m    284\u001b[0m ys_mcmc \u001b[38;5;241m=\u001b[39m out_mcmc[\u001b[38;5;241m0\u001b[39m]\n\u001b[1;32m    285\u001b[0m ys_mcmc \u001b[38;5;241m=\u001b[39m jtu\u001b[38;5;241m.\u001b[39mtree_map(\n\u001b[1;32m    286\u001b[0m     \u001b[38;5;28;01mlambda\u001b[39;00m x: jnp\u001b[38;5;241m.\u001b[39mnan_to_num(x, nan\u001b[38;5;241m=\u001b[39m\u001b[38;5;241m0\u001b[39m, posinf\u001b[38;5;241m=\u001b[39m\u001b[38;5;241m0\u001b[39m, neginf\u001b[38;5;241m=\u001b[39m\u001b[38;5;241m0\u001b[39m), ys_mcmc\n\u001b[1;32m    287\u001b[0m )\n",
      "    \u001b[0;31m[... skipping hidden 13 frame]\u001b[0m\n",
      "File \u001b[0;32m~/PycharmProjects/diffrax_STLA/venv/lib/python3.11/site-packages/jax/_src/interpreters/pxla.py:1239\u001b[0m, in \u001b[0;36mExecuteReplicated.__call__\u001b[0;34m(self, *args)\u001b[0m\n\u001b[1;32m   1236\u001b[0m \u001b[38;5;28;01mif\u001b[39;00m (\u001b[38;5;28mself\u001b[39m\u001b[38;5;241m.\u001b[39mordered_effects \u001b[38;5;129;01mor\u001b[39;00m \u001b[38;5;28mself\u001b[39m\u001b[38;5;241m.\u001b[39mhas_unordered_effects\n\u001b[1;32m   1237\u001b[0m     \u001b[38;5;129;01mor\u001b[39;00m \u001b[38;5;28mself\u001b[39m\u001b[38;5;241m.\u001b[39mhas_host_callbacks):\n\u001b[1;32m   1238\u001b[0m   input_bufs \u001b[38;5;241m=\u001b[39m \u001b[38;5;28mself\u001b[39m\u001b[38;5;241m.\u001b[39m_add_tokens_to_inputs(input_bufs)\n\u001b[0;32m-> 1239\u001b[0m   results \u001b[38;5;241m=\u001b[39m \u001b[38;5;28;43mself\u001b[39;49m\u001b[38;5;241;43m.\u001b[39;49m\u001b[43mxla_executable\u001b[49m\u001b[38;5;241;43m.\u001b[39;49m\u001b[43mexecute_sharded\u001b[49m\u001b[43m(\u001b[49m\n\u001b[1;32m   1240\u001b[0m \u001b[43m      \u001b[49m\u001b[43minput_bufs\u001b[49m\u001b[43m,\u001b[49m\u001b[43m \u001b[49m\u001b[43mwith_tokens\u001b[49m\u001b[38;5;241;43m=\u001b[39;49m\u001b[38;5;28;43;01mTrue\u001b[39;49;00m\n\u001b[1;32m   1241\u001b[0m \u001b[43m  \u001b[49m\u001b[43m)\u001b[49m\n\u001b[1;32m   1243\u001b[0m   result_token_bufs \u001b[38;5;241m=\u001b[39m results\u001b[38;5;241m.\u001b[39mdisassemble_prefix_into_single_device_arrays(\n\u001b[1;32m   1244\u001b[0m       \u001b[38;5;28mlen\u001b[39m(\u001b[38;5;28mself\u001b[39m\u001b[38;5;241m.\u001b[39mordered_effects))\n\u001b[1;32m   1245\u001b[0m   sharded_runtime_token \u001b[38;5;241m=\u001b[39m results\u001b[38;5;241m.\u001b[39mconsume_token()\n",
      "\u001b[0;31mXlaRuntimeError\u001b[0m: INTERNAL: CustomCall failed: CpuCallback error: Traceback (most recent call last):\n  File \"<frozen runpy>\", line 198, in _run_module_as_main\n  File \"<frozen runpy>\", line 88, in _run_code\n  File \"/home/andy/PycharmProjects/diffrax_STLA/venv/lib/python3.11/site-packages/ipykernel_launcher.py\", line 18, in <module>\n  File \"/home/andy/PycharmProjects/diffrax_STLA/venv/lib/python3.11/site-packages/traitlets/config/application.py\", line 1075, in launch_instance\n  File \"/home/andy/PycharmProjects/diffrax_STLA/venv/lib/python3.11/site-packages/ipykernel/kernelapp.py\", line 739, in start\n  File \"/home/andy/PycharmProjects/diffrax_STLA/venv/lib/python3.11/site-packages/tornado/platform/asyncio.py\", line 205, in start\n  File \"/usr/lib/python3.11/asyncio/base_events.py\", line 608, in run_forever\n  File \"/usr/lib/python3.11/asyncio/base_events.py\", line 1936, in _run_once\n  File \"/usr/lib/python3.11/asyncio/events.py\", line 84, in _run\n  File \"/home/andy/PycharmProjects/diffrax_STLA/venv/lib/python3.11/site-packages/ipykernel/kernelbase.py\", line 545, in dispatch_queue\n  File \"/home/andy/PycharmProjects/diffrax_STLA/venv/lib/python3.11/site-packages/ipykernel/kernelbase.py\", line 534, in process_one\n  File \"/home/andy/PycharmProjects/diffrax_STLA/venv/lib/python3.11/site-packages/ipykernel/kernelbase.py\", line 437, in dispatch_shell\n  File \"/home/andy/PycharmProjects/diffrax_STLA/venv/lib/python3.11/site-packages/ipykernel/ipkernel.py\", line 362, in execute_request\n  File \"/home/andy/PycharmProjects/diffrax_STLA/venv/lib/python3.11/site-packages/ipykernel/kernelbase.py\", line 778, in execute_request\n  File \"/home/andy/PycharmProjects/diffrax_STLA/venv/lib/python3.11/site-packages/ipykernel/ipkernel.py\", line 449, in do_execute\n  File \"/home/andy/PycharmProjects/diffrax_STLA/venv/lib/python3.11/site-packages/ipykernel/zmqshell.py\", line 549, in run_cell\n  File \"/home/andy/PycharmProjects/diffrax_STLA/venv/lib/python3.11/site-packages/IPython/core/interactiveshell.py\", line 3075, in run_cell\n  File \"/home/andy/PycharmProjects/diffrax_STLA/venv/lib/python3.11/site-packages/IPython/core/interactiveshell.py\", line 3130, in _run_cell\n  File \"/home/andy/PycharmProjects/diffrax_STLA/venv/lib/python3.11/site-packages/IPython/core/async_helpers.py\", line 128, in _pseudo_sync_runner\n  File \"/home/andy/PycharmProjects/diffrax_STLA/venv/lib/python3.11/site-packages/IPython/core/interactiveshell.py\", line 3334, in run_cell_async\n  File \"/home/andy/PycharmProjects/diffrax_STLA/venv/lib/python3.11/site-packages/IPython/core/interactiveshell.py\", line 3517, in run_ast_nodes\n  File \"/home/andy/PycharmProjects/diffrax_STLA/venv/lib/python3.11/site-packages/IPython/core/interactiveshell.py\", line 3577, in run_code\n  File \"/tmp/ipykernel_20448/4188709020.py\", line 13, in <module>\n  File \"/home/andy/PycharmProjects/diffrax_STLA/mcmc/progressive_full_run.py\", line 170, in run_progressive_logreg\n  File \"/home/andy/PycharmProjects/diffrax_STLA/mcmc/main.py\", line 315, in run_simple_lmc_numpyro\n  File \"/home/andy/PycharmProjects/diffrax_STLA/mcmc/main.py\", line 267, in run_simple_lmc\n  File \"/home/andy/PycharmProjects/diffrax_STLA/venv/lib/python3.11/site-packages/equinox/_jit.py\", line 206, in __call__\n  File \"/home/andy/PycharmProjects/diffrax_STLA/venv/lib/python3.11/site-packages/equinox/_module.py\", line 1053, in __call__\n  File \"/home/andy/PycharmProjects/diffrax_STLA/venv/lib/python3.11/site-packages/equinox/_jit.py\", line 200, in _call\n  File \"/home/andy/PycharmProjects/diffrax_STLA/venv/lib/python3.11/site-packages/jax/_src/traceback_util.py\", line 180, in reraise_with_filtered_traceback\n  File \"/home/andy/PycharmProjects/diffrax_STLA/venv/lib/python3.11/site-packages/jax/_src/pjit.py\", line 332, in cache_miss\n  File \"/home/andy/PycharmProjects/diffrax_STLA/venv/lib/python3.11/site-packages/jax/_src/pjit.py\", line 190, in _python_pjit_helper\n  File \"/home/andy/PycharmProjects/diffrax_STLA/venv/lib/python3.11/site-packages/jax/_src/core.py\", line 2739, in bind\n  File \"/home/andy/PycharmProjects/diffrax_STLA/venv/lib/python3.11/site-packages/jax/_src/core.py\", line 433, in bind_with_trace\n  File \"/home/andy/PycharmProjects/diffrax_STLA/venv/lib/python3.11/site-packages/jax/_src/core.py\", line 939, in process_primitive\n  File \"/home/andy/PycharmProjects/diffrax_STLA/venv/lib/python3.11/site-packages/jax/_src/pjit.py\", line 1730, in _pjit_call_impl\n  File \"/home/andy/PycharmProjects/diffrax_STLA/venv/lib/python3.11/site-packages/jax/_src/pjit.py\", line 1712, in call_impl_cache_miss\n  File \"/home/andy/PycharmProjects/diffrax_STLA/venv/lib/python3.11/site-packages/jax/_src/pjit.py\", line 1666, in _pjit_call_impl_python\n  File \"/home/andy/PycharmProjects/diffrax_STLA/venv/lib/python3.11/site-packages/jax/_src/profiler.py\", line 336, in wrapper\n  File \"/home/andy/PycharmProjects/diffrax_STLA/venv/lib/python3.11/site-packages/jax/_src/interpreters/pxla.py\", line 1239, in __call__\n  File \"/home/andy/PycharmProjects/diffrax_STLA/venv/lib/python3.11/site-packages/jax/_src/interpreters/mlir.py\", line 2655, in _wrapped_callback\nKeyboardInterrupt: "
     ]
    }
   ],
   "source": [
    "import glob\n",
    "\n",
    "\n",
    "timestamp = datetime.datetime.now().strftime(\"%Y-%m-%d_%H-%M-%S\")\n",
    "log_filename = f\"progressive_results/log_{timestamp}.txt\"\n",
    "with open(log_filename, \"w\") as f:\n",
    "    f.write(f\"Results for time {timestamp}\\n\\n\")\n",
    "\n",
    "with warnings.catch_warnings():\n",
    "    warnings.simplefilter(\"ignore\")\n",
    "for name in names:\n",
    "    dict_filename = glob.glob(f\"progressive_results/result_dict_{name}_*.pkl\")[0]\n",
    "    print(f\"==================== {name} ====================\")\n",
    "    run_progressive_logreg(\n",
    "        name,\n",
    "        log_filename,\n",
    "        timestamp,\n",
    "        nuts_dict_filename=dict_filename,\n",
    "        quic_dict_filename=dict_filename,\n",
    "    )\n",
    "    print()"
   ]
  }
 ],
 "metadata": {
  "kernelspec": {
   "display_name": "Python 3",
   "language": "python",
   "name": "python3"
  },
  "language_info": {
   "codemirror_mode": {
    "name": "ipython",
    "version": 2
   },
   "file_extension": ".py",
   "mimetype": "text/x-python",
   "name": "python",
   "nbconvert_exporter": "python",
   "pygments_lexer": "ipython2",
   "version": "2.7.6"
  }
 },
 "nbformat": 4,
 "nbformat_minor": 5
}
