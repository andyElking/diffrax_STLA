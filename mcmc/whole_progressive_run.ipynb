{
 "cells": [
  {
   "cell_type": "code",
   "id": "initial_id",
   "metadata": {
    "collapsed": true,
    "ExecuteTime": {
     "end_time": "2024-09-28T13:11:41.171787Z",
     "start_time": "2024-09-28T13:11:40.320921Z"
    }
   },
   "source": [
    "import datetime\n",
    "import sys\n",
    "import warnings\n",
    "\n",
    "import jax\n",
    "import jax.numpy as jnp\n",
    "from get_model import get_model_and_data  # noqa: F401\n",
    "from main import run_simple_lmc_numpyro  # noqa: F401\n",
    "from numpyro.infer import MCMC, NUTS, Predictive  # noqa: F401\n",
    "from progressive_full_run import run_progressive_logreg\n",
    "\n",
    "\n",
    "%env JAX_PLATFORM_NAME=cuda\n",
    "warnings.simplefilter(\"ignore\", FutureWarning)\n",
    "\n",
    "jnp.set_printoptions(precision=3, suppress=True, threshold=sys.maxsize)\n",
    "jax.config.update(\"jax_enable_x64\", True)\n",
    "print(jax.devices(\"cuda\"))\n",
    "\n",
    "names = [\n",
    "    \"banana\",\n",
    "    \"breast_cancer\",\n",
    "    \"diabetis\",\n",
    "    \"flare_solar\",\n",
    "    \"german\",\n",
    "    \"heart\",\n",
    "    \"image\",\n",
    "    \"ringnorm\",\n",
    "    \"splice\",\n",
    "    \"thyroid\",\n",
    "    \"titanic\",\n",
    "    \"twonorm\",\n",
    "    \"waveform\",\n",
    "]"
   ],
   "outputs": [
    {
     "name": "stdout",
     "output_type": "stream",
     "text": [
      "env: JAX_PLATFORM_NAME=cuda\n",
      "[CudaDevice(id=0)]\n"
     ]
    }
   ],
   "execution_count": 1
  },
  {
   "cell_type": "code",
   "id": "ac576c0531af74c1",
   "metadata": {
    "ExecuteTime": {
     "end_time": "2024-09-28T13:12:00.355416Z",
     "start_time": "2024-09-28T13:11:42.129507Z"
    }
   },
   "source": [
    "timestamp = datetime.datetime.now().strftime(\"%Y-%m-%d_%H-%M-%S\")\n",
    "log_filename = f\"progressive_results/log_{timestamp}.txt\"\n",
    "with open(log_filename, \"w\") as f:\n",
    "    f.write(f\"Results for time {timestamp}\\n\\n\")\n",
    "\n",
    "with warnings.catch_warnings():\n",
    "    warnings.simplefilter(\"ignore\")\n",
    "for name in names:\n",
    "    print(f\"==================== {name} ====================\")\n",
    "    run_progressive_logreg(name, log_filename, timestamp)\n",
    "    print()"
   ],
   "outputs": [
    {
     "name": "stdout",
     "output_type": "stream",
     "text": [
      "==================== image ====================\n",
      "Data shape: (2086, 18)\n"
     ]
    },
    {
     "ename": "ValueError",
     "evalue": "MultivariateNormal distribution got invalid precision_matrix parameter.",
     "output_type": "error",
     "traceback": [
      "\u001B[0;31m---------------------------------------------------------------------------\u001B[0m",
      "\u001B[0;31mValueError\u001B[0m                                Traceback (most recent call last)",
      "Cell \u001B[0;32mIn[2], line 10\u001B[0m\n\u001B[1;32m      8\u001B[0m \u001B[38;5;28;01mfor\u001B[39;00m name \u001B[38;5;129;01min\u001B[39;00m names:\n\u001B[1;32m      9\u001B[0m     \u001B[38;5;28mprint\u001B[39m(\u001B[38;5;124mf\u001B[39m\u001B[38;5;124m\"\u001B[39m\u001B[38;5;124m==================== \u001B[39m\u001B[38;5;132;01m{\u001B[39;00mname\u001B[38;5;132;01m}\u001B[39;00m\u001B[38;5;124m ====================\u001B[39m\u001B[38;5;124m\"\u001B[39m)\n\u001B[0;32m---> 10\u001B[0m     \u001B[43mrun_progressive_logreg\u001B[49m\u001B[43m(\u001B[49m\u001B[43mname\u001B[49m\u001B[43m,\u001B[49m\u001B[43m \u001B[49m\u001B[43mlog_filename\u001B[49m\u001B[43m)\u001B[49m\n\u001B[1;32m     11\u001B[0m     \u001B[38;5;28mprint\u001B[39m()\n",
      "File \u001B[0;32m~/PycharmProjects/diffrax_STLA/mcmc/progressive_eval.py:60\u001B[0m, in \u001B[0;36mrun_progressive_logreg\u001B[0;34m(data_name, log_filename)\u001B[0m\n\u001B[1;32m     52\u001B[0m \u001B[38;5;28;01mif\u001B[39;00m \u001B[38;5;129;01mnot\u001B[39;00m os\u001B[38;5;241m.\u001B[39mpath\u001B[38;5;241m.\u001B[39mexists(gt_filename):\n\u001B[1;32m     53\u001B[0m     gt_nuts \u001B[38;5;241m=\u001B[39m MCMC(\n\u001B[1;32m     54\u001B[0m         NUTS(model, step_size\u001B[38;5;241m=\u001B[39m\u001B[38;5;241m1.0\u001B[39m),\n\u001B[1;32m     55\u001B[0m         num_warmup\u001B[38;5;241m=\u001B[39m\u001B[38;5;241m2\u001B[39m\u001B[38;5;241m*\u001B[39m\u001B[38;5;241m*\u001B[39m\u001B[38;5;241m10\u001B[39m,\n\u001B[0;32m   (...)\u001B[0m\n\u001B[1;32m     58\u001B[0m         chain_method\u001B[38;5;241m=\u001B[39m\u001B[38;5;124m\"\u001B[39m\u001B[38;5;124mvectorized\u001B[39m\u001B[38;5;124m\"\u001B[39m,\n\u001B[1;32m     59\u001B[0m     )\n\u001B[0;32m---> 60\u001B[0m     \u001B[43mgt_nuts\u001B[49m\u001B[38;5;241;43m.\u001B[39;49m\u001B[43mrun\u001B[49m\u001B[43m(\u001B[49m\u001B[43mjr\u001B[49m\u001B[38;5;241;43m.\u001B[39;49m\u001B[43mPRNGKey\u001B[49m\u001B[43m(\u001B[49m\u001B[38;5;241;43m0\u001B[39;49m\u001B[43m)\u001B[49m\u001B[43m,\u001B[49m\u001B[43m \u001B[49m\u001B[43mx_train\u001B[49m\u001B[43m,\u001B[49m\u001B[43m \u001B[49m\u001B[43mlabels_train\u001B[49m\u001B[43m)\u001B[49m\n\u001B[1;32m     61\u001B[0m     gt_logreg \u001B[38;5;241m=\u001B[39m vec_dict_to_array(gt_nuts\u001B[38;5;241m.\u001B[39mget_samples())\n\u001B[1;32m     62\u001B[0m     np\u001B[38;5;241m.\u001B[39msave(gt_filename, gt_logreg)\n",
      "File \u001B[0;32m~/PycharmProjects/diffrax_STLA/venv/lib/python3.11/site-packages/numpyro/infer/mcmc.py:693\u001B[0m, in \u001B[0;36mMCMC.run\u001B[0;34m(self, rng_key, extra_fields, init_params, *args, **kwargs)\u001B[0m\n\u001B[1;32m    691\u001B[0m \u001B[38;5;28;01melse\u001B[39;00m:\n\u001B[1;32m    692\u001B[0m     \u001B[38;5;28;01massert\u001B[39;00m \u001B[38;5;28mself\u001B[39m\u001B[38;5;241m.\u001B[39mchain_method \u001B[38;5;241m==\u001B[39m \u001B[38;5;124m\"\u001B[39m\u001B[38;5;124mvectorized\u001B[39m\u001B[38;5;124m\"\u001B[39m\n\u001B[0;32m--> 693\u001B[0m     states, last_state \u001B[38;5;241m=\u001B[39m \u001B[43mpartial_map_fn\u001B[49m\u001B[43m(\u001B[49m\u001B[43mmap_args\u001B[49m\u001B[43m)\u001B[49m\n\u001B[1;32m    694\u001B[0m     \u001B[38;5;66;03m# swap num_samples x num_chains to num_chains x num_samples\u001B[39;00m\n\u001B[1;32m    695\u001B[0m     states \u001B[38;5;241m=\u001B[39m jax\u001B[38;5;241m.\u001B[39mtree\u001B[38;5;241m.\u001B[39mmap(\u001B[38;5;28;01mlambda\u001B[39;00m x: jnp\u001B[38;5;241m.\u001B[39mswapaxes(x, \u001B[38;5;241m0\u001B[39m, \u001B[38;5;241m1\u001B[39m), states)\n",
      "File \u001B[0;32m~/PycharmProjects/diffrax_STLA/venv/lib/python3.11/site-packages/numpyro/infer/mcmc.py:443\u001B[0m, in \u001B[0;36mMCMC._single_chain_mcmc\u001B[0;34m(self, init, args, kwargs, collect_fields, remove_sites)\u001B[0m\n\u001B[1;32m    441\u001B[0m \u001B[38;5;66;03m# Check if _sample_fn is None, then we need to initialize the sampler.\u001B[39;00m\n\u001B[1;32m    442\u001B[0m \u001B[38;5;28;01mif\u001B[39;00m init_state \u001B[38;5;129;01mis\u001B[39;00m \u001B[38;5;28;01mNone\u001B[39;00m \u001B[38;5;129;01mor\u001B[39;00m (\u001B[38;5;28mgetattr\u001B[39m(\u001B[38;5;28mself\u001B[39m\u001B[38;5;241m.\u001B[39msampler, \u001B[38;5;124m\"\u001B[39m\u001B[38;5;124m_sample_fn\u001B[39m\u001B[38;5;124m\"\u001B[39m, \u001B[38;5;28;01mNone\u001B[39;00m) \u001B[38;5;129;01mis\u001B[39;00m \u001B[38;5;28;01mNone\u001B[39;00m):\n\u001B[0;32m--> 443\u001B[0m     new_init_state \u001B[38;5;241m=\u001B[39m \u001B[38;5;28;43mself\u001B[39;49m\u001B[38;5;241;43m.\u001B[39;49m\u001B[43msampler\u001B[49m\u001B[38;5;241;43m.\u001B[39;49m\u001B[43minit\u001B[49m\u001B[43m(\u001B[49m\n\u001B[1;32m    444\u001B[0m \u001B[43m        \u001B[49m\u001B[43mrng_key\u001B[49m\u001B[43m,\u001B[49m\n\u001B[1;32m    445\u001B[0m \u001B[43m        \u001B[49m\u001B[38;5;28;43mself\u001B[39;49m\u001B[38;5;241;43m.\u001B[39;49m\u001B[43mnum_warmup\u001B[49m\u001B[43m,\u001B[49m\n\u001B[1;32m    446\u001B[0m \u001B[43m        \u001B[49m\u001B[43minit_params\u001B[49m\u001B[43m,\u001B[49m\n\u001B[1;32m    447\u001B[0m \u001B[43m        \u001B[49m\u001B[43mmodel_args\u001B[49m\u001B[38;5;241;43m=\u001B[39;49m\u001B[43margs\u001B[49m\u001B[43m,\u001B[49m\n\u001B[1;32m    448\u001B[0m \u001B[43m        \u001B[49m\u001B[43mmodel_kwargs\u001B[49m\u001B[38;5;241;43m=\u001B[39;49m\u001B[43mkwargs\u001B[49m\u001B[43m,\u001B[49m\n\u001B[1;32m    449\u001B[0m \u001B[43m    \u001B[49m\u001B[43m)\u001B[49m\n\u001B[1;32m    450\u001B[0m     init_state \u001B[38;5;241m=\u001B[39m new_init_state \u001B[38;5;28;01mif\u001B[39;00m init_state \u001B[38;5;129;01mis\u001B[39;00m \u001B[38;5;28;01mNone\u001B[39;00m \u001B[38;5;28;01melse\u001B[39;00m init_state\n\u001B[1;32m    451\u001B[0m sample_fn, postprocess_fn \u001B[38;5;241m=\u001B[39m \u001B[38;5;28mself\u001B[39m\u001B[38;5;241m.\u001B[39m_get_cached_fns()\n",
      "File \u001B[0;32m~/PycharmProjects/diffrax_STLA/venv/lib/python3.11/site-packages/numpyro/infer/hmc.py:749\u001B[0m, in \u001B[0;36mHMC.init\u001B[0;34m(self, rng_key, num_warmup, init_params, model_args, model_kwargs)\u001B[0m\n\u001B[1;32m    744\u001B[0m \u001B[38;5;66;03m# vectorized\u001B[39;00m\n\u001B[1;32m    745\u001B[0m \u001B[38;5;28;01melse\u001B[39;00m:\n\u001B[1;32m    746\u001B[0m     rng_key, rng_key_init_model \u001B[38;5;241m=\u001B[39m jnp\u001B[38;5;241m.\u001B[39mswapaxes(\n\u001B[1;32m    747\u001B[0m         vmap(random\u001B[38;5;241m.\u001B[39msplit)(rng_key), \u001B[38;5;241m0\u001B[39m, \u001B[38;5;241m1\u001B[39m\n\u001B[1;32m    748\u001B[0m     )\n\u001B[0;32m--> 749\u001B[0m init_params \u001B[38;5;241m=\u001B[39m \u001B[38;5;28;43mself\u001B[39;49m\u001B[38;5;241;43m.\u001B[39;49m\u001B[43m_init_state\u001B[49m\u001B[43m(\u001B[49m\n\u001B[1;32m    750\u001B[0m \u001B[43m    \u001B[49m\u001B[43mrng_key_init_model\u001B[49m\u001B[43m,\u001B[49m\u001B[43m \u001B[49m\u001B[43mmodel_args\u001B[49m\u001B[43m,\u001B[49m\u001B[43m \u001B[49m\u001B[43mmodel_kwargs\u001B[49m\u001B[43m,\u001B[49m\u001B[43m \u001B[49m\u001B[43minit_params\u001B[49m\n\u001B[1;32m    751\u001B[0m \u001B[43m\u001B[49m\u001B[43m)\u001B[49m\n\u001B[1;32m    752\u001B[0m \u001B[38;5;28;01mif\u001B[39;00m \u001B[38;5;28mself\u001B[39m\u001B[38;5;241m.\u001B[39m_potential_fn \u001B[38;5;129;01mand\u001B[39;00m init_params \u001B[38;5;129;01mis\u001B[39;00m \u001B[38;5;28;01mNone\u001B[39;00m:\n\u001B[1;32m    753\u001B[0m     \u001B[38;5;28;01mraise\u001B[39;00m \u001B[38;5;167;01mValueError\u001B[39;00m(\n\u001B[1;32m    754\u001B[0m         \u001B[38;5;124m\"\u001B[39m\u001B[38;5;124mValid value of `init_params` must be provided with\u001B[39m\u001B[38;5;124m\"\u001B[39m \u001B[38;5;124m\"\u001B[39m\u001B[38;5;124m `potential_fn`.\u001B[39m\u001B[38;5;124m\"\u001B[39m\n\u001B[1;32m    755\u001B[0m     )\n",
      "File \u001B[0;32m~/PycharmProjects/diffrax_STLA/venv/lib/python3.11/site-packages/numpyro/infer/hmc.py:693\u001B[0m, in \u001B[0;36mHMC._init_state\u001B[0;34m(self, rng_key, model_args, model_kwargs, init_params)\u001B[0m\n\u001B[1;32m    686\u001B[0m \u001B[38;5;28;01mdef\u001B[39;00m \u001B[38;5;21m_init_state\u001B[39m(\u001B[38;5;28mself\u001B[39m, rng_key, model_args, model_kwargs, init_params):\n\u001B[1;32m    687\u001B[0m     \u001B[38;5;28;01mif\u001B[39;00m \u001B[38;5;28mself\u001B[39m\u001B[38;5;241m.\u001B[39m_model \u001B[38;5;129;01mis\u001B[39;00m \u001B[38;5;129;01mnot\u001B[39;00m \u001B[38;5;28;01mNone\u001B[39;00m:\n\u001B[1;32m    688\u001B[0m         (\n\u001B[1;32m    689\u001B[0m             new_init_params,\n\u001B[1;32m    690\u001B[0m             potential_fn,\n\u001B[1;32m    691\u001B[0m             postprocess_fn,\n\u001B[1;32m    692\u001B[0m             model_trace,\n\u001B[0;32m--> 693\u001B[0m         ) \u001B[38;5;241m=\u001B[39m \u001B[43minitialize_model\u001B[49m\u001B[43m(\u001B[49m\n\u001B[1;32m    694\u001B[0m \u001B[43m            \u001B[49m\u001B[43mrng_key\u001B[49m\u001B[43m,\u001B[49m\n\u001B[1;32m    695\u001B[0m \u001B[43m            \u001B[49m\u001B[38;5;28;43mself\u001B[39;49m\u001B[38;5;241;43m.\u001B[39;49m\u001B[43m_model\u001B[49m\u001B[43m,\u001B[49m\n\u001B[1;32m    696\u001B[0m \u001B[43m            \u001B[49m\u001B[43mdynamic_args\u001B[49m\u001B[38;5;241;43m=\u001B[39;49m\u001B[38;5;28;43;01mTrue\u001B[39;49;00m\u001B[43m,\u001B[49m\n\u001B[1;32m    697\u001B[0m \u001B[43m            \u001B[49m\u001B[43minit_strategy\u001B[49m\u001B[38;5;241;43m=\u001B[39;49m\u001B[38;5;28;43mself\u001B[39;49m\u001B[38;5;241;43m.\u001B[39;49m\u001B[43m_init_strategy\u001B[49m\u001B[43m,\u001B[49m\n\u001B[1;32m    698\u001B[0m \u001B[43m            \u001B[49m\u001B[43mmodel_args\u001B[49m\u001B[38;5;241;43m=\u001B[39;49m\u001B[43mmodel_args\u001B[49m\u001B[43m,\u001B[49m\n\u001B[1;32m    699\u001B[0m \u001B[43m            \u001B[49m\u001B[43mmodel_kwargs\u001B[49m\u001B[38;5;241;43m=\u001B[39;49m\u001B[43mmodel_kwargs\u001B[49m\u001B[43m,\u001B[49m\n\u001B[1;32m    700\u001B[0m \u001B[43m            \u001B[49m\u001B[43mforward_mode_differentiation\u001B[49m\u001B[38;5;241;43m=\u001B[39;49m\u001B[38;5;28;43mself\u001B[39;49m\u001B[38;5;241;43m.\u001B[39;49m\u001B[43m_forward_mode_differentiation\u001B[49m\u001B[43m,\u001B[49m\n\u001B[1;32m    701\u001B[0m \u001B[43m        \u001B[49m\u001B[43m)\u001B[49m\n\u001B[1;32m    702\u001B[0m         \u001B[38;5;28;01mif\u001B[39;00m init_params \u001B[38;5;129;01mis\u001B[39;00m \u001B[38;5;28;01mNone\u001B[39;00m:\n\u001B[1;32m    703\u001B[0m             init_params \u001B[38;5;241m=\u001B[39m new_init_params\n",
      "File \u001B[0;32m~/PycharmProjects/diffrax_STLA/venv/lib/python3.11/site-packages/numpyro/infer/util.py:735\u001B[0m, in \u001B[0;36minitialize_model\u001B[0;34m(rng_key, model, init_strategy, dynamic_args, model_args, model_kwargs, forward_mode_differentiation, validate_grad)\u001B[0m\n\u001B[1;32m    732\u001B[0m \u001B[38;5;28;01mif\u001B[39;00m device_get(\u001B[38;5;241m~\u001B[39mjnp\u001B[38;5;241m.\u001B[39mall(is_valid)):\n\u001B[1;32m    733\u001B[0m     \u001B[38;5;28;01mwith\u001B[39;00m numpyro\u001B[38;5;241m.\u001B[39mvalidation_enabled(), trace() \u001B[38;5;28;01mas\u001B[39;00m tr:\n\u001B[1;32m    734\u001B[0m         \u001B[38;5;66;03m# validate parameters\u001B[39;00m\n\u001B[0;32m--> 735\u001B[0m         \u001B[43msubstituted_model\u001B[49m\u001B[43m(\u001B[49m\u001B[38;5;241;43m*\u001B[39;49m\u001B[43mmodel_args\u001B[49m\u001B[43m,\u001B[49m\u001B[43m \u001B[49m\u001B[38;5;241;43m*\u001B[39;49m\u001B[38;5;241;43m*\u001B[39;49m\u001B[43mmodel_kwargs\u001B[49m\u001B[43m)\u001B[49m\n\u001B[1;32m    736\u001B[0m         \u001B[38;5;66;03m# validate values\u001B[39;00m\n\u001B[1;32m    737\u001B[0m         \u001B[38;5;28;01mfor\u001B[39;00m site \u001B[38;5;129;01min\u001B[39;00m tr\u001B[38;5;241m.\u001B[39mvalues():\n",
      "File \u001B[0;32m~/PycharmProjects/diffrax_STLA/venv/lib/python3.11/site-packages/numpyro/primitives.py:105\u001B[0m, in \u001B[0;36mMessenger.__call__\u001B[0;34m(self, *args, **kwargs)\u001B[0m\n\u001B[1;32m    103\u001B[0m     \u001B[38;5;28;01mreturn\u001B[39;00m \u001B[38;5;28mself\u001B[39m\n\u001B[1;32m    104\u001B[0m \u001B[38;5;28;01mwith\u001B[39;00m \u001B[38;5;28mself\u001B[39m:\n\u001B[0;32m--> 105\u001B[0m     \u001B[38;5;28;01mreturn\u001B[39;00m \u001B[38;5;28;43mself\u001B[39;49m\u001B[38;5;241;43m.\u001B[39;49m\u001B[43mfn\u001B[49m\u001B[43m(\u001B[49m\u001B[38;5;241;43m*\u001B[39;49m\u001B[43margs\u001B[49m\u001B[43m,\u001B[49m\u001B[43m \u001B[49m\u001B[38;5;241;43m*\u001B[39;49m\u001B[38;5;241;43m*\u001B[39;49m\u001B[43mkwargs\u001B[49m\u001B[43m)\u001B[49m\n",
      "File \u001B[0;32m~/PycharmProjects/diffrax_STLA/venv/lib/python3.11/site-packages/numpyro/primitives.py:105\u001B[0m, in \u001B[0;36mMessenger.__call__\u001B[0;34m(self, *args, **kwargs)\u001B[0m\n\u001B[1;32m    103\u001B[0m     \u001B[38;5;28;01mreturn\u001B[39;00m \u001B[38;5;28mself\u001B[39m\n\u001B[1;32m    104\u001B[0m \u001B[38;5;28;01mwith\u001B[39;00m \u001B[38;5;28mself\u001B[39m:\n\u001B[0;32m--> 105\u001B[0m     \u001B[38;5;28;01mreturn\u001B[39;00m \u001B[38;5;28;43mself\u001B[39;49m\u001B[38;5;241;43m.\u001B[39;49m\u001B[43mfn\u001B[49m\u001B[43m(\u001B[49m\u001B[38;5;241;43m*\u001B[39;49m\u001B[43margs\u001B[49m\u001B[43m,\u001B[49m\u001B[43m \u001B[49m\u001B[38;5;241;43m*\u001B[39;49m\u001B[38;5;241;43m*\u001B[39;49m\u001B[43mkwargs\u001B[49m\u001B[43m)\u001B[49m\n",
      "File \u001B[0;32m~/PycharmProjects/diffrax_STLA/mcmc/get_model.py:33\u001B[0m, in \u001B[0;36mget_model_and_data.<locals>.model\u001B[0;34m(x, labels)\u001B[0m\n\u001B[1;32m     28\u001B[0m \u001B[38;5;28;01mdef\u001B[39;00m \u001B[38;5;21mmodel\u001B[39m(x, labels):\n\u001B[1;32m     29\u001B[0m     \u001B[38;5;66;03m# alpha = numpyro.sample(\"alpha\", dist.Exponential(0.01))\u001B[39;00m\n\u001B[1;32m     30\u001B[0m     x_cov \u001B[38;5;241m=\u001B[39m jnp\u001B[38;5;241m.\u001B[39masarray(jnp\u001B[38;5;241m.\u001B[39mcov(x, rowvar\u001B[38;5;241m=\u001B[39m\u001B[38;5;28;01mFalse\u001B[39;00m), dtype\u001B[38;5;241m=\u001B[39mjnp\u001B[38;5;241m.\u001B[39mfloat64)\n\u001B[1;32m     31\u001B[0m     W \u001B[38;5;241m=\u001B[39m numpyro\u001B[38;5;241m.\u001B[39msample(\n\u001B[1;32m     32\u001B[0m         \u001B[38;5;124m\"\u001B[39m\u001B[38;5;124mW\u001B[39m\u001B[38;5;124m\"\u001B[39m,\n\u001B[0;32m---> 33\u001B[0m         \u001B[43mdist\u001B[49m\u001B[38;5;241;43m.\u001B[39;49m\u001B[43mMultivariateNormal\u001B[49m\u001B[43m(\u001B[49m\u001B[43mjnp\u001B[49m\u001B[38;5;241;43m.\u001B[39;49m\u001B[43mzeros\u001B[49m\u001B[43m(\u001B[49m\u001B[43mdata_dim\u001B[49m\u001B[43m,\u001B[49m\u001B[43m \u001B[49m\u001B[43mdtype\u001B[49m\u001B[38;5;241;43m=\u001B[39;49m\u001B[43mjnp\u001B[49m\u001B[38;5;241;43m.\u001B[39;49m\u001B[43mfloat64\u001B[49m\u001B[43m)\u001B[49m\u001B[43m,\u001B[49m\u001B[43m \u001B[49m\u001B[43mprecision_matrix\u001B[49m\u001B[38;5;241;43m=\u001B[39;49m\u001B[38;5;241;43m0.1\u001B[39;49m\u001B[43m \u001B[49m\u001B[38;5;241;43m*\u001B[39;49m\u001B[43m \u001B[49m\u001B[43mx_cov\u001B[49m\u001B[43m)\u001B[49m,\n\u001B[1;32m     34\u001B[0m     )\n\u001B[1;32m     35\u001B[0m     b \u001B[38;5;241m=\u001B[39m numpyro\u001B[38;5;241m.\u001B[39msample(\u001B[38;5;124m\"\u001B[39m\u001B[38;5;124mb\u001B[39m\u001B[38;5;124m\"\u001B[39m, dist\u001B[38;5;241m.\u001B[39mNormal(jnp\u001B[38;5;241m.\u001B[39mzeros((\u001B[38;5;241m1\u001B[39m,)), \u001B[38;5;241m100\u001B[39m))\n\u001B[1;32m     36\u001B[0m     logits \u001B[38;5;241m=\u001B[39m jnp\u001B[38;5;241m.\u001B[39msum(W \u001B[38;5;241m*\u001B[39m x, axis\u001B[38;5;241m=\u001B[39m\u001B[38;5;241m-\u001B[39m\u001B[38;5;241m1\u001B[39m) \u001B[38;5;241m+\u001B[39m b\n",
      "File \u001B[0;32m~/PycharmProjects/diffrax_STLA/venv/lib/python3.11/site-packages/numpyro/distributions/distribution.py:100\u001B[0m, in \u001B[0;36mDistributionMeta.__call__\u001B[0;34m(cls, *args, **kwargs)\u001B[0m\n\u001B[1;32m     98\u001B[0m     \u001B[38;5;28;01mif\u001B[39;00m result \u001B[38;5;129;01mis\u001B[39;00m \u001B[38;5;129;01mnot\u001B[39;00m \u001B[38;5;28;01mNone\u001B[39;00m:\n\u001B[1;32m     99\u001B[0m         \u001B[38;5;28;01mreturn\u001B[39;00m result\n\u001B[0;32m--> 100\u001B[0m \u001B[38;5;28;01mreturn\u001B[39;00m \u001B[38;5;28;43msuper\u001B[39;49m\u001B[43m(\u001B[49m\u001B[43m)\u001B[49m\u001B[38;5;241;43m.\u001B[39;49m\u001B[38;5;21;43m__call__\u001B[39;49m\u001B[43m(\u001B[49m\u001B[38;5;241;43m*\u001B[39;49m\u001B[43margs\u001B[49m\u001B[43m,\u001B[49m\u001B[43m \u001B[49m\u001B[38;5;241;43m*\u001B[39;49m\u001B[38;5;241;43m*\u001B[39;49m\u001B[43mkwargs\u001B[49m\u001B[43m)\u001B[49m\n",
      "File \u001B[0;32m~/PycharmProjects/diffrax_STLA/venv/lib/python3.11/site-packages/numpyro/distributions/continuous.py:1520\u001B[0m, in \u001B[0;36mMultivariateNormal.__init__\u001B[0;34m(self, loc, covariance_matrix, precision_matrix, scale_tril, validate_args)\u001B[0m\n\u001B[1;32m   1518\u001B[0m event_shape \u001B[38;5;241m=\u001B[39m jnp\u001B[38;5;241m.\u001B[39mshape(\u001B[38;5;28mself\u001B[39m\u001B[38;5;241m.\u001B[39mscale_tril)[\u001B[38;5;241m-\u001B[39m\u001B[38;5;241m1\u001B[39m:]\n\u001B[1;32m   1519\u001B[0m \u001B[38;5;28mself\u001B[39m\u001B[38;5;241m.\u001B[39mloc \u001B[38;5;241m=\u001B[39m loc[\u001B[38;5;241m.\u001B[39m\u001B[38;5;241m.\u001B[39m\u001B[38;5;241m.\u001B[39m, \u001B[38;5;241m0\u001B[39m]\n\u001B[0;32m-> 1520\u001B[0m \u001B[38;5;28;43msuper\u001B[39;49m\u001B[43m(\u001B[49m\u001B[43mMultivariateNormal\u001B[49m\u001B[43m,\u001B[49m\u001B[43m \u001B[49m\u001B[38;5;28;43mself\u001B[39;49m\u001B[43m)\u001B[49m\u001B[38;5;241;43m.\u001B[39;49m\u001B[38;5;21;43m__init__\u001B[39;49m\u001B[43m(\u001B[49m\n\u001B[1;32m   1521\u001B[0m \u001B[43m    \u001B[49m\u001B[43mbatch_shape\u001B[49m\u001B[38;5;241;43m=\u001B[39;49m\u001B[43mbatch_shape\u001B[49m\u001B[43m,\u001B[49m\n\u001B[1;32m   1522\u001B[0m \u001B[43m    \u001B[49m\u001B[43mevent_shape\u001B[49m\u001B[38;5;241;43m=\u001B[39;49m\u001B[43mevent_shape\u001B[49m\u001B[43m,\u001B[49m\n\u001B[1;32m   1523\u001B[0m \u001B[43m    \u001B[49m\u001B[43mvalidate_args\u001B[49m\u001B[38;5;241;43m=\u001B[39;49m\u001B[43mvalidate_args\u001B[49m\u001B[43m,\u001B[49m\n\u001B[1;32m   1524\u001B[0m \u001B[43m\u001B[49m\u001B[43m)\u001B[49m\n",
      "File \u001B[0;32m~/PycharmProjects/diffrax_STLA/venv/lib/python3.11/site-packages/numpyro/distributions/distribution.py:242\u001B[0m, in \u001B[0;36mDistribution.__init__\u001B[0;34m(self, batch_shape, event_shape, validate_args)\u001B[0m\n\u001B[1;32m    240\u001B[0m         \u001B[38;5;28;01mif\u001B[39;00m not_jax_tracer(is_valid):\n\u001B[1;32m    241\u001B[0m             \u001B[38;5;28;01mif\u001B[39;00m \u001B[38;5;129;01mnot\u001B[39;00m np\u001B[38;5;241m.\u001B[39mall(is_valid):\n\u001B[0;32m--> 242\u001B[0m                 \u001B[38;5;28;01mraise\u001B[39;00m \u001B[38;5;167;01mValueError\u001B[39;00m(\n\u001B[1;32m    243\u001B[0m                     \u001B[38;5;124m\"\u001B[39m\u001B[38;5;132;01m{}\u001B[39;00m\u001B[38;5;124m distribution got invalid \u001B[39m\u001B[38;5;132;01m{}\u001B[39;00m\u001B[38;5;124m parameter.\u001B[39m\u001B[38;5;124m\"\u001B[39m\u001B[38;5;241m.\u001B[39mformat(\n\u001B[1;32m    244\u001B[0m                         \u001B[38;5;28mself\u001B[39m\u001B[38;5;241m.\u001B[39m\u001B[38;5;18m__class__\u001B[39m\u001B[38;5;241m.\u001B[39m\u001B[38;5;18m__name__\u001B[39m, param\n\u001B[1;32m    245\u001B[0m                     )\n\u001B[1;32m    246\u001B[0m                 )\n\u001B[1;32m    247\u001B[0m \u001B[38;5;28msuper\u001B[39m(Distribution, \u001B[38;5;28mself\u001B[39m)\u001B[38;5;241m.\u001B[39m\u001B[38;5;21m__init__\u001B[39m()\n",
      "\u001B[0;31mValueError\u001B[0m: MultivariateNormal distribution got invalid precision_matrix parameter."
     ]
    }
   ],
   "execution_count": 2
  }
 ],
 "metadata": {
  "kernelspec": {
   "display_name": "Python 3",
   "language": "python",
   "name": "python3"
  },
  "language_info": {
   "codemirror_mode": {
    "name": "ipython",
    "version": 2
   },
   "file_extension": ".py",
   "mimetype": "text/x-python",
   "name": "python",
   "nbconvert_exporter": "python",
   "pygments_lexer": "ipython2",
   "version": "2.7.6"
  }
 },
 "nbformat": 4,
 "nbformat_minor": 5
}
