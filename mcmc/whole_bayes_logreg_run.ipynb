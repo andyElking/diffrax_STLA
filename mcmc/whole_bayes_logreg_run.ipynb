{
 "cells": [
  {
   "cell_type": "code",
   "id": "initial_id",
   "metadata": {
    "collapsed": true,
    "ExecuteTime": {
     "end_time": "2024-09-30T15:44:40.123761Z",
     "start_time": "2024-09-30T15:44:39.309469Z"
    }
   },
   "source": [
    "import datetime\n",
    "import warnings\n",
    "\n",
    "import jax\n",
    "import jax.numpy as jnp\n",
    "from logreg_full_run import run_logreg_dataset\n",
    "\n",
    "\n",
    "%env JAX_PLATFORM_NAME=cuda\n",
    "warnings.simplefilter(\"ignore\", FutureWarning)\n",
    "\n",
    "jnp.set_printoptions(precision=4, suppress=True)\n",
    "jax.config.update(\"jax_enable_x64\", True)\n",
    "print(jax.devices(\"cuda\"))\n",
    "\n",
    "names = [\n",
    "    \"banana\",\n",
    "    \"breast_cancer\",\n",
    "    \"diabetis\",\n",
    "    \"flare_solar\",\n",
    "    \"german\",\n",
    "    \"heart\",\n",
    "    \"image\",\n",
    "    \"ringnorm\",\n",
    "    \"splice\",\n",
    "    \"thyroid\",\n",
    "    \"titanic\",\n",
    "    \"twonorm\",\n",
    "    \"waveform\",\n",
    "]"
   ],
   "outputs": [
    {
     "name": "stdout",
     "output_type": "stream",
     "text": [
      "env: JAX_PLATFORM_NAME=cuda\n",
      "[CudaDevice(id=0)]\n"
     ]
    }
   ],
   "execution_count": 1
  },
  {
   "cell_type": "code",
   "id": "f010ace08ef304fa",
   "metadata": {
    "ExecuteTime": {
     "end_time": "2024-09-30T16:16:34.676434Z",
     "start_time": "2024-09-30T15:44:49.077488Z"
    }
   },
   "source": [
    "timestamp = datetime.datetime.now().strftime(\"%Y-%m-%d_%H-%M-%S\")\n",
    "results_filename = f\"mcmc_data/results_{timestamp}.txt\"\n",
    "\n",
    "# create the results file\n",
    "with open(results_filename, \"w\") as f:\n",
    "    f.write(\"Results\\n\\n\")\n",
    "\n",
    "for name in names:\n",
    "    print(f\"==================== {name} ====================\")\n",
    "    run_logreg_dataset(name, results_filename, timestamp)\n",
    "    print()"
   ],
   "outputs": [
    {
     "name": "stdout",
     "output_type": "stream",
     "text": [
      "==================== banana ====================\n",
      "Data shape: (5300, 2)\n",
      "GT energy bias: 2.455e-05, test acc: 0.5498, test acc top 90%: 0.556\n",
      "NUTS:\n"
     ]
    },
    {
     "name": "stderr",
     "output_type": "stream",
     "text": [
      "warmup: 100%|██████████| 128/128 [00:02<00:00, 44.45it/s] \n",
      "sample: 100%|██████████| 256/256 [00:02<00:00, 87.35it/s] \n"
     ]
    },
    {
     "name": "stdout",
     "output_type": "stream",
     "text": [
      "\n",
      "ESS per sample: 0.9635, grad evals per sample: 7.626, GEPS/ESS: 7.915\n",
      "Energy dist vs ground truth: 7.912e-06, Wasserstein-2 error: 0.0004198\n",
      "Test_accuracy: 0.5492, top 90% accuracy: 0.5558\n",
      "LMC:\n",
      "Target time-interval between samples for LMC: 0.09641\n",
      "QUICSORT:\n"
     ]
    },
    {
     "name": "stderr",
     "output_type": "stream",
     "text": [
      "100.00%|██████████| [00:00<00:00, 170.92%/s]\n",
      "100.00%|██████████| [00:03<00:00, 32.38%/s]\n"
     ]
    },
    {
     "name": "stdout",
     "output_type": "stream",
     "text": [
      "\n",
      "ESS per sample: 0.9302, grad evals per sample: 7.32, GEPS/ESS: 7.87\n",
      "Energy dist vs ground truth: 3.462e-05, Wasserstein-2 error: 0.0004376\n",
      "Test_accuracy: 0.5506, top 90% accuracy: 0.5563\n",
      "Euler:\n"
     ]
    },
    {
     "name": "stderr",
     "output_type": "stream",
     "text": [
      "100.00%|██████████| [00:02<00:00, 34.15%/s]\n",
      "100.00%|██████████| [00:13<00:00,  7.52%/s]\n"
     ]
    },
    {
     "name": "stdout",
     "output_type": "stream",
     "text": [
      "\n",
      "ESS per sample: 0.5159, grad evals per sample: 16.28, GEPS/ESS: 31.55\n",
      "Energy dist vs ground truth: 2.396, Wasserstein-2 error: 12.85\n",
      "Test_accuracy: 0.5072, top 90% accuracy: 0.5183\n",
      "\n",
      "==================== breast_cancer ====================\n",
      "Data shape: (263, 9)\n",
      "GT energy bias: 9.460e-05, test acc: 0.6627, test acc top 90%: 0.6677\n",
      "NUTS:\n"
     ]
    },
    {
     "name": "stderr",
     "output_type": "stream",
     "text": [
      "warmup: 100%|██████████| 128/128 [00:02<00:00, 47.68it/s] \n",
      "sample: 100%|██████████| 256/256 [00:03<00:00, 84.90it/s] \n"
     ]
    },
    {
     "name": "stdout",
     "output_type": "stream",
     "text": [
      "\n",
      "ESS per sample: 1.192, grad evals per sample: 12.11, GEPS/ESS: 10.17\n",
      "Energy dist vs ground truth: 9.42e-05, Wasserstein-2 error: 0.1419\n",
      "Test_accuracy: 0.6586, top 90% accuracy: 0.6643\n",
      "LMC:\n",
      "Target time-interval between samples for LMC: 0.1531\n",
      "QUICSORT:\n"
     ]
    },
    {
     "name": "stderr",
     "output_type": "stream",
     "text": [
      "100.00%|██████████| [00:00<00:00, 106.15%/s]\n",
      "100.00%|██████████| [00:03<00:00, 25.22%/s]\n"
     ]
    },
    {
     "name": "stdout",
     "output_type": "stream",
     "text": [
      "\n",
      "ESS per sample: 0.4016, grad evals per sample: 10.02, GEPS/ESS: 24.94\n",
      "Energy dist vs ground truth: 6.859e-05, Wasserstein-2 error: 0.1393\n",
      "Test_accuracy: 0.6603, top 90% accuracy: 0.6656\n",
      "Euler:\n"
     ]
    },
    {
     "name": "stderr",
     "output_type": "stream",
     "text": [
      "100.00%|██████████| [00:04<00:00, 21.32%/s]\n",
      "100.00%|██████████| [00:20<00:00,  4.78%/s]\n"
     ]
    },
    {
     "name": "stdout",
     "output_type": "stream",
     "text": [
      "\n",
      "ESS per sample: 0.4237, grad evals per sample: 25.02, GEPS/ESS: 59.06\n",
      "Energy dist vs ground truth: 0.007589, Wasserstein-2 error: 0.1935\n",
      "Test_accuracy: 0.66, top 90% accuracy: 0.6658\n",
      "\n",
      "==================== diabetis ====================\n",
      "Data shape: (768, 8)\n",
      "GT energy bias: 4.407e-05, test acc: 0.7772, test acc top 90%: 0.7798\n",
      "NUTS:\n"
     ]
    },
    {
     "name": "stderr",
     "output_type": "stream",
     "text": [
      "warmup: 100%|██████████| 128/128 [00:02<00:00, 44.90it/s] \n",
      "sample: 100%|██████████| 256/256 [00:03<00:00, 76.83it/s] \n"
     ]
    },
    {
     "name": "stdout",
     "output_type": "stream",
     "text": [
      "\n",
      "ESS per sample: 1.155, grad evals per sample: 11.93, GEPS/ESS: 10.32\n",
      "Energy dist vs ground truth: 3.515e-05, Wasserstein-2 error: 0.04258\n",
      "Test_accuracy: 0.7778, top 90% accuracy: 0.7803\n",
      "LMC:\n",
      "Target time-interval between samples for LMC: 0.1508\n",
      "QUICSORT:\n"
     ]
    },
    {
     "name": "stderr",
     "output_type": "stream",
     "text": [
      "100.00%|██████████| [00:00<00:00, 107.12%/s]\n",
      "100.00%|██████████| [00:04<00:00, 24.87%/s]\n"
     ]
    },
    {
     "name": "stdout",
     "output_type": "stream",
     "text": [
      "\n",
      "ESS per sample: 0.618, grad evals per sample: 9.984, GEPS/ESS: 16.15\n",
      "Energy dist vs ground truth: 4.192e-05, Wasserstein-2 error: 0.04122\n",
      "Test_accuracy: 0.7775, top 90% accuracy: 0.7801\n",
      "Euler:\n"
     ]
    },
    {
     "name": "stderr",
     "output_type": "stream",
     "text": [
      "100.00%|██████████| [00:04<00:00, 21.36%/s]\n",
      "100.00%|██████████| [00:20<00:00,  4.93%/s]\n"
     ]
    },
    {
     "name": "stdout",
     "output_type": "stream",
     "text": [
      "\n",
      "ESS per sample: 0.7565, grad evals per sample: 23.94, GEPS/ESS: 31.64\n",
      "Energy dist vs ground truth: 1.119, Wasserstein-2 error: 3.511\n",
      "Test_accuracy: 0.718, top 90% accuracy: 0.7252\n",
      "\n",
      "==================== flare_solar ====================\n",
      "Data shape: (144, 9)\n",
      "GT energy bias: 8.068e-04, test acc: 0.6169, test acc top 90%: 0.6247\n",
      "NUTS:\n"
     ]
    },
    {
     "name": "stderr",
     "output_type": "stream",
     "text": [
      "warmup: 100%|██████████| 128/128 [00:09<00:00, 13.79it/s]\n",
      "sample: 100%|██████████| 256/256 [00:04<00:00, 51.27it/s] \n"
     ]
    },
    {
     "name": "stdout",
     "output_type": "stream",
     "text": [
      "\n",
      "ESS per sample: 0.8171, grad evals per sample: 97.47, GEPS/ESS: 119.3\n",
      "Energy dist vs ground truth: 0.0008303, Wasserstein-2 error: 2.106\n",
      "Test_accuracy: 0.6151, top 90% accuracy: 0.6226\n",
      "LMC:\n",
      "Target time-interval between samples for LMC: 1.232\n",
      "QUICSORT:\n"
     ]
    },
    {
     "name": "stderr",
     "output_type": "stream",
     "text": [
      "100.00%|██████████| [00:07<00:00, 12.94%/s]\n",
      "100.00%|██████████| [00:33<00:00,  3.01%/s]\n"
     ]
    },
    {
     "name": "stdout",
     "output_type": "stream",
     "text": [
      "\n",
      "ESS per sample: 0.1538, grad evals per sample: 78.13, GEPS/ESS: 508.1\n",
      "Energy dist vs ground truth: 0.0009825, Wasserstein-2 error: 5.009\n",
      "Test_accuracy: 0.6169, top 90% accuracy: 0.6246\n",
      "Euler:\n"
     ]
    },
    {
     "name": "stderr",
     "output_type": "stream",
     "text": [
      "100.00%|██████████| [00:40<00:00,  2.46%/s]\n",
      "100.00%|██████████| [02:56<00:00,  1.76s/%]\n"
     ]
    },
    {
     "name": "stdout",
     "output_type": "stream",
     "text": [
      "\n",
      "ESS per sample: 0.139, grad evals per sample: 195.3, GEPS/ESS: 1.405e+03\n",
      "Energy dist vs ground truth: 8.793, Wasserstein-2 error: 82.27\n",
      "Test_accuracy: 0.6052, top 90% accuracy: 0.6119\n",
      "\n",
      "==================== german ====================\n",
      "Data shape: (1000, 20)\n",
      "GT energy bias: 1.110e-04, test acc: 0.7837, test acc top 90%: 0.7872\n",
      "NUTS:\n"
     ]
    },
    {
     "name": "stderr",
     "output_type": "stream",
     "text": [
      "warmup: 100%|██████████| 128/128 [00:03<00:00, 36.22it/s] \n",
      "sample: 100%|██████████| 256/256 [00:03<00:00, 75.02it/s] \n"
     ]
    },
    {
     "name": "stdout",
     "output_type": "stream",
     "text": [
      "\n",
      "ESS per sample: 1.255, grad evals per sample: 15.79, GEPS/ESS: 12.58\n",
      "Energy dist vs ground truth: 9.884e-05, Wasserstein-2 error: 0.1668\n",
      "Test_accuracy: 0.7834, top 90% accuracy: 0.787\n",
      "LMC:\n",
      "Target time-interval between samples for LMC: 0.1996\n",
      "QUICSORT:\n"
     ]
    },
    {
     "name": "stderr",
     "output_type": "stream",
     "text": [
      "100.00%|██████████| [00:01<00:00, 75.27%/s]\n",
      "100.00%|██████████| [00:05<00:00, 18.14%/s]\n"
     ]
    },
    {
     "name": "stdout",
     "output_type": "stream",
     "text": [
      "\n",
      "ESS per sample: 1.732, grad evals per sample: 12.62, GEPS/ESS: 7.283\n",
      "Energy dist vs ground truth: 0.0001003, Wasserstein-2 error: 0.1626\n",
      "Test_accuracy: 0.7841, top 90% accuracy: 0.7875\n",
      "Euler:\n"
     ]
    },
    {
     "name": "stderr",
     "output_type": "stream",
     "text": [
      "100.00%|██████████| [00:06<00:00, 16.29%/s]\n",
      "100.00%|██████████| [00:26<00:00,  3.76%/s]\n"
     ]
    },
    {
     "name": "stdout",
     "output_type": "stream",
     "text": [
      "\n",
      "ESS per sample: 1.019, grad evals per sample: 31.53, GEPS/ESS: 30.94\n",
      "Energy dist vs ground truth: 3.048, Wasserstein-2 error: 15.65\n",
      "Test_accuracy: 0.7045, top 90% accuracy: 0.7134\n",
      "\n",
      "==================== heart ====================\n",
      "Data shape: (270, 13)\n",
      "GT energy bias: 1.212e-04, test acc: 0.8014, test acc top 90%: 0.8094\n",
      "NUTS:\n"
     ]
    },
    {
     "name": "stderr",
     "output_type": "stream",
     "text": [
      "warmup: 100%|██████████| 128/128 [00:02<00:00, 50.70it/s] \n",
      "sample: 100%|██████████| 256/256 [00:02<00:00, 92.91it/s] \n"
     ]
    },
    {
     "name": "stdout",
     "output_type": "stream",
     "text": [
      "\n",
      "ESS per sample: 1.241, grad evals per sample: 12.61, GEPS/ESS: 10.16\n",
      "Energy dist vs ground truth: 7.32e-05, Wasserstein-2 error: 0.354\n",
      "Test_accuracy: 0.8015, top 90% accuracy: 0.8096\n",
      "LMC:\n",
      "Target time-interval between samples for LMC: 0.1595\n",
      "QUICSORT:\n"
     ]
    },
    {
     "name": "stderr",
     "output_type": "stream",
     "text": [
      "100.00%|██████████| [00:00<00:00, 101.95%/s]\n",
      "100.00%|██████████| [00:04<00:00, 23.26%/s]\n"
     ]
    },
    {
     "name": "stdout",
     "output_type": "stream",
     "text": [
      "\n",
      "ESS per sample: 0.3837, grad evals per sample: 10.09, GEPS/ESS: 26.3\n",
      "Energy dist vs ground truth: 9.588e-05, Wasserstein-2 error: 0.3542\n",
      "Test_accuracy: 0.7993, top 90% accuracy: 0.8073\n",
      "Euler:\n"
     ]
    },
    {
     "name": "stderr",
     "output_type": "stream",
     "text": [
      "100.00%|██████████| [00:04<00:00, 20.59%/s]\n",
      "100.00%|██████████| [00:21<00:00,  4.74%/s]\n"
     ]
    },
    {
     "name": "stdout",
     "output_type": "stream",
     "text": [
      "\n",
      "ESS per sample: 0.3962, grad evals per sample: 25.22, GEPS/ESS: 63.65\n",
      "Energy dist vs ground truth: 0.005055, Wasserstein-2 error: 0.4197\n",
      "Test_accuracy: 0.7973, top 90% accuracy: 0.8055\n",
      "\n",
      "==================== image ====================\n",
      "Data shape: (2086, 18)\n",
      "GT energy bias: 3.996e-04, test acc: 0.821, test acc top 90%: 0.8223\n",
      "NUTS:\n"
     ]
    },
    {
     "name": "stderr",
     "output_type": "stream",
     "text": [
      "warmup: 100%|██████████| 128/128 [00:07<00:00, 17.18it/s]\n",
      "sample: 100%|██████████| 256/256 [00:08<00:00, 29.87it/s]\n"
     ]
    },
    {
     "name": "stdout",
     "output_type": "stream",
     "text": [
      "\n",
      "ESS per sample: 1.063, grad evals per sample: 84.1, GEPS/ESS: 79.11\n",
      "Energy dist vs ground truth: 0.0004884, Wasserstein-2 error: 0.7849\n",
      "Test_accuracy: 0.8207, top 90% accuracy: 0.822\n",
      "LMC:\n",
      "Target time-interval between samples for LMC: 1.063\n",
      "QUICSORT:\n"
     ]
    },
    {
     "name": "stderr",
     "output_type": "stream",
     "text": [
      "100.00%|██████████| [00:06<00:00, 14.41%/s]\n",
      "100.00%|██████████| [00:30<00:00,  3.31%/s]\n"
     ]
    },
    {
     "name": "stdout",
     "output_type": "stream",
     "text": [
      "\n",
      "ESS per sample: 0.8605, grad evals per sample: 67.93, GEPS/ESS: 78.94\n",
      "Energy dist vs ground truth: 0.0003285, Wasserstein-2 error: 0.753\n",
      "Test_accuracy: 0.8212, top 90% accuracy: 0.8225\n",
      "Euler:\n"
     ]
    },
    {
     "name": "stderr",
     "output_type": "stream",
     "text": [
      "100.00%|██████████| [00:35<00:00,  2.79%/s]\n",
      "100.00%|██████████| [02:34<00:00,  1.54s/%]\n"
     ]
    },
    {
     "name": "stdout",
     "output_type": "stream",
     "text": [
      "\n",
      "ESS per sample: 0.2963, grad evals per sample: 167.8, GEPS/ESS: 566.3\n",
      "Energy dist vs ground truth: 13.09, Wasserstein-2 error: 143.8\n",
      "Test_accuracy: 0.6906, top 90% accuracy: 0.7003\n",
      "\n",
      "==================== ringnorm ====================\n",
      "Data shape: (7400, 20)\n",
      "GT energy bias: 1.145e-04, test acc: 0.7575, test acc top 90%: 0.7586\n",
      "NUTS:\n"
     ]
    },
    {
     "name": "stderr",
     "output_type": "stream",
     "text": [
      "warmup: 100%|██████████| 128/128 [00:03<00:00, 40.75it/s] \n",
      "sample: 100%|██████████| 256/256 [00:03<00:00, 68.90it/s] \n"
     ]
    },
    {
     "name": "stdout",
     "output_type": "stream",
     "text": [
      "\n",
      "ESS per sample: 1.744, grad evals per sample: 11.77, GEPS/ESS: 6.748\n",
      "Energy dist vs ground truth: 7.695e-05, Wasserstein-2 error: 0.1219\n",
      "Test_accuracy: 0.7572, top 90% accuracy: 0.7584\n",
      "LMC:\n",
      "Target time-interval between samples for LMC: 0.1488\n",
      "QUICSORT:\n"
     ]
    },
    {
     "name": "stderr",
     "output_type": "stream",
     "text": [
      "100.00%|██████████| [00:00<00:00, 102.98%/s]\n",
      "100.00%|██████████| [00:04<00:00, 23.13%/s]\n"
     ]
    },
    {
     "name": "stdout",
     "output_type": "stream",
     "text": [
      "\n",
      "ESS per sample: 1.53, grad evals per sample: 9.961, GEPS/ESS: 6.512\n",
      "Energy dist vs ground truth: 0.0001049, Wasserstein-2 error: 0.121\n",
      "Test_accuracy: 0.7574, top 90% accuracy: 0.7585\n",
      "Euler:\n"
     ]
    },
    {
     "name": "stderr",
     "output_type": "stream",
     "text": [
      "100.00%|██████████| [00:04<00:00, 21.55%/s]\n",
      "100.00%|██████████| [00:20<00:00,  4.92%/s]\n"
     ]
    },
    {
     "name": "stdout",
     "output_type": "stream",
     "text": [
      "\n",
      "ESS per sample: 0.8361, grad evals per sample: 23.88, GEPS/ESS: 28.55\n",
      "Energy dist vs ground truth: 1.436, Wasserstein-2 error: 6.195\n",
      "Test_accuracy: 0.683, top 90% accuracy: 0.7006\n",
      "\n",
      "==================== splice ====================\n",
      "Data shape: (2991, 60)\n",
      "GT energy bias: 3.211e-04, test acc: 0.8264, test acc top 90%: 0.8275\n",
      "NUTS:\n"
     ]
    },
    {
     "name": "stderr",
     "output_type": "stream",
     "text": [
      "warmup: 100%|██████████| 128/128 [00:26<00:00,  4.86it/s]\n",
      "sample: 100%|██████████| 256/256 [00:16<00:00, 15.10it/s]\n"
     ]
    },
    {
     "name": "stdout",
     "output_type": "stream",
     "text": [
      "\n",
      "ESS per sample: 1.406, grad evals per sample: 153.8, GEPS/ESS: 109.4\n",
      "Energy dist vs ground truth: 0.0002113, Wasserstein-2 error: 0.8448\n",
      "Test_accuracy: 0.8264, top 90% accuracy: 0.8276\n",
      "LMC:\n",
      "Target time-interval between samples for LMC: 0.4862\n",
      "QUICSORT:\n"
     ]
    },
    {
     "name": "stderr",
     "output_type": "stream",
     "text": [
      "100.00%|██████████| [00:16<00:00,  6.21%/s]\n",
      "100.00%|██████████| [01:09<00:00,  1.44%/s]\n"
     ]
    },
    {
     "name": "stdout",
     "output_type": "stream",
     "text": [
      "\n",
      "ESS per sample: 0.9728, grad evals per sample: 123.5, GEPS/ESS: 126.9\n",
      "Energy dist vs ground truth: 0.0004557, Wasserstein-2 error: 0.8592\n",
      "Test_accuracy: 0.8265, top 90% accuracy: 0.8278\n",
      "Euler:\n"
     ]
    },
    {
     "name": "stderr",
     "output_type": "stream",
     "text": [
      "100.00%|██████████| [01:18<00:00,  1.28%/s]\n",
      "100.00%|██████████| [05:38<00:00,  3.38s/%]\n"
     ]
    },
    {
     "name": "stdout",
     "output_type": "stream",
     "text": [
      "\n",
      "ESS per sample: 0.9689, grad evals per sample: 307.6, GEPS/ESS: 317.5\n",
      "Energy dist vs ground truth: 132.7, Wasserstein-2 error: 6.147e+03\n",
      "Test_accuracy: 0.5446, top 90% accuracy: 0.5554\n",
      "\n",
      "==================== thyroid ====================\n",
      "Data shape: (215, 5)\n",
      "GT energy bias: 6.158e-05, test acc: 0.7996, test acc top 90%: 0.8062\n",
      "NUTS:\n"
     ]
    },
    {
     "name": "stderr",
     "output_type": "stream",
     "text": [
      "warmup: 100%|██████████| 128/128 [00:03<00:00, 32.62it/s] \n",
      "sample: 100%|██████████| 256/256 [00:02<00:00, 95.90it/s] \n"
     ]
    },
    {
     "name": "stdout",
     "output_type": "stream",
     "text": [
      "\n",
      "ESS per sample: 0.9857, grad evals per sample: 12.54, GEPS/ESS: 12.72\n",
      "Energy dist vs ground truth: 0.0001008, Wasserstein-2 error: 0.08194\n",
      "Test_accuracy: 0.8001, top 90% accuracy: 0.8067\n",
      "LMC:\n",
      "Target time-interval between samples for LMC: 0.1585\n",
      "QUICSORT:\n"
     ]
    },
    {
     "name": "stderr",
     "output_type": "stream",
     "text": [
      "100.00%|██████████| [00:00<00:00, 102.60%/s]\n",
      "100.00%|██████████| [00:04<00:00, 23.41%/s]\n"
     ]
    },
    {
     "name": "stdout",
     "output_type": "stream",
     "text": [
      "\n",
      "ESS per sample: 0.2659, grad evals per sample: 10.08, GEPS/ESS: 37.9\n",
      "Energy dist vs ground truth: 0.0001657, Wasserstein-2 error: 0.09241\n",
      "Test_accuracy: 0.7989, top 90% accuracy: 0.8057\n",
      "Euler:\n"
     ]
    },
    {
     "name": "stderr",
     "output_type": "stream",
     "text": [
      "100.00%|██████████| [00:04<00:00, 20.83%/s]\n",
      "100.00%|██████████| [00:20<00:00,  4.77%/s]\n"
     ]
    },
    {
     "name": "stdout",
     "output_type": "stream",
     "text": [
      "\n",
      "ESS per sample: 0.2721, grad evals per sample: 25.19, GEPS/ESS: 92.58\n",
      "Energy dist vs ground truth: 0.002401, Wasserstein-2 error: 0.1175\n",
      "Test_accuracy: 0.7981, top 90% accuracy: 0.8048\n",
      "\n",
      "==================== titanic ====================\n",
      "Data shape: (24, 3)\n",
      "GT energy bias: 8.428e-05, test acc: 0.5117, test acc top 90%: 0.5328\n",
      "NUTS:\n"
     ]
    },
    {
     "name": "stderr",
     "output_type": "stream",
     "text": [
      "warmup: 100%|██████████| 128/128 [00:02<00:00, 47.70it/s] \n",
      "sample: 100%|██████████| 256/256 [00:02<00:00, 96.33it/s] \n"
     ]
    },
    {
     "name": "stdout",
     "output_type": "stream",
     "text": [
      "\n",
      "ESS per sample: 0.9901, grad evals per sample: 11.41, GEPS/ESS: 11.53\n",
      "Energy dist vs ground truth: 0.0001159, Wasserstein-2 error: 0.02753\n",
      "Test_accuracy: 0.5162, top 90% accuracy: 0.5349\n",
      "LMC:\n",
      "Target time-interval between samples for LMC: 0.1443\n",
      "QUICSORT:\n"
     ]
    },
    {
     "name": "stderr",
     "output_type": "stream",
     "text": [
      "100.00%|██████████| [00:00<00:00, 111.91%/s]\n",
      "100.00%|██████████| [00:03<00:00, 25.61%/s]\n"
     ]
    },
    {
     "name": "stdout",
     "output_type": "stream",
     "text": [
      "\n",
      "ESS per sample: 0.2331, grad evals per sample: 9.898, GEPS/ESS: 42.46\n",
      "Energy dist vs ground truth: 8.259e-05, Wasserstein-2 error: 0.02848\n",
      "Test_accuracy: 0.5203, top 90% accuracy: 0.5386\n",
      "Euler:\n"
     ]
    },
    {
     "name": "stderr",
     "output_type": "stream",
     "text": [
      "100.00%|██████████| [00:04<00:00, 21.73%/s]\n",
      "100.00%|██████████| [00:20<00:00,  4.79%/s]\n"
     ]
    },
    {
     "name": "stdout",
     "output_type": "stream",
     "text": [
      "\n",
      "ESS per sample: 0.2146, grad evals per sample: 23.73, GEPS/ESS: 110.6\n",
      "Energy dist vs ground truth: 0.2855, Wasserstein-2 error: 10.04\n",
      "Test_accuracy: 0.5246, top 90% accuracy: 0.5445\n",
      "\n",
      "==================== twonorm ====================\n",
      "Data shape: (7400, 20)\n",
      "GT energy bias: 2.240e-04, test acc: 0.9719, test acc top 90%: 0.9724\n",
      "NUTS:\n"
     ]
    },
    {
     "name": "stderr",
     "output_type": "stream",
     "text": [
      "warmup: 100%|██████████| 128/128 [00:03<00:00, 41.91it/s] \n",
      "sample: 100%|██████████| 256/256 [00:03<00:00, 74.10it/s] \n"
     ]
    },
    {
     "name": "stdout",
     "output_type": "stream",
     "text": [
      "\n",
      "ESS per sample: 1.441, grad evals per sample: 12.23, GEPS/ESS: 8.491\n",
      "Energy dist vs ground truth: 0.0002312, Wasserstein-2 error: 0.717\n",
      "Test_accuracy: 0.9719, top 90% accuracy: 0.9724\n",
      "LMC:\n",
      "Target time-interval between samples for LMC: 0.1546\n",
      "QUICSORT:\n"
     ]
    },
    {
     "name": "stderr",
     "output_type": "stream",
     "text": [
      "100.00%|██████████| [00:01<00:00, 97.86%/s]\n",
      "100.00%|██████████| [00:04<00:00, 23.06%/s]\n"
     ]
    },
    {
     "name": "stdout",
     "output_type": "stream",
     "text": [
      "\n",
      "ESS per sample: 0.4066, grad evals per sample: 10.03, GEPS/ESS: 24.67\n",
      "Energy dist vs ground truth: 0.0002498, Wasserstein-2 error: 0.7042\n",
      "Test_accuracy: 0.9719, top 90% accuracy: 0.9724\n",
      "Euler:\n"
     ]
    },
    {
     "name": "stderr",
     "output_type": "stream",
     "text": [
      "100.00%|██████████| [00:04<00:00, 20.86%/s]\n",
      "100.00%|██████████| [00:21<00:00,  4.69%/s]\n"
     ]
    },
    {
     "name": "stdout",
     "output_type": "stream",
     "text": [
      "\n",
      "ESS per sample: 0.409, grad evals per sample: 25.07, GEPS/ESS: 61.28\n",
      "Energy dist vs ground truth: 0.00729, Wasserstein-2 error: 0.816\n",
      "Test_accuracy: 0.9711, top 90% accuracy: 0.9716\n",
      "\n",
      "==================== waveform ====================\n",
      "Data shape: (5000, 21)\n",
      "GT energy bias: 2.431e-04, test acc: 0.8749, test acc top 90%: 0.8758\n",
      "NUTS:\n"
     ]
    },
    {
     "name": "stderr",
     "output_type": "stream",
     "text": [
      "warmup: 100%|██████████| 128/128 [00:04<00:00, 31.33it/s]\n",
      "sample: 100%|██████████| 256/256 [00:06<00:00, 42.60it/s] \n"
     ]
    },
    {
     "name": "stdout",
     "output_type": "stream",
     "text": [
      "\n",
      "ESS per sample: 1.361, grad evals per sample: 32.79, GEPS/ESS: 24.09\n",
      "Energy dist vs ground truth: 0.0001958, Wasserstein-2 error: 0.4343\n",
      "Test_accuracy: 0.8748, top 90% accuracy: 0.8757\n",
      "LMC:\n",
      "Target time-interval between samples for LMC: 0.4146\n",
      "QUICSORT:\n"
     ]
    },
    {
     "name": "stderr",
     "output_type": "stream",
     "text": [
      "100.00%|██████████| [00:02<00:00, 36.22%/s]\n",
      "100.00%|██████████| [00:12<00:00,  7.93%/s]\n"
     ]
    },
    {
     "name": "stdout",
     "output_type": "stream",
     "text": [
      "\n",
      "ESS per sample: 2.113, grad evals per sample: 27.45, GEPS/ESS: 12.99\n",
      "Energy dist vs ground truth: 0.0001771, Wasserstein-2 error: 0.4152\n",
      "Test_accuracy: 0.8751, top 90% accuracy: 0.876\n",
      "Euler:\n"
     ]
    },
    {
     "name": "stderr",
     "output_type": "stream",
     "text": [
      "100.00%|██████████| [00:13<00:00,  7.60%/s]\n",
      "100.00%|██████████| [00:56<00:00,  1.76%/s]\n"
     ]
    },
    {
     "name": "stdout",
     "output_type": "stream",
     "text": [
      "\n",
      "ESS per sample: 1.72, grad evals per sample: 65.57, GEPS/ESS: 38.11\n",
      "Energy dist vs ground truth: 15.87, Wasserstein-2 error: 132.6\n",
      "Test_accuracy: 0.8044, top 90% accuracy: 0.8175\n",
      "\n"
     ]
    }
   ],
   "execution_count": 2
  },
  {
   "metadata": {},
   "cell_type": "code",
   "outputs": [],
   "execution_count": null,
   "source": "",
   "id": "366adaae70739d48"
  }
 ],
 "metadata": {
  "kernelspec": {
   "display_name": "Python 3",
   "language": "python",
   "name": "python3"
  },
  "language_info": {
   "codemirror_mode": {
    "name": "ipython",
    "version": 2
   },
   "file_extension": ".py",
   "mimetype": "text/x-python",
   "name": "python",
   "nbconvert_exporter": "python",
   "pygments_lexer": "ipython2",
   "version": "2.7.6"
  }
 },
 "nbformat": 4,
 "nbformat_minor": 5
}
