{
 "cells": [
  {
   "cell_type": "code",
   "execution_count": 5,
   "id": "2513497f37987c6c",
   "metadata": {
    "ExecuteTime": {
     "end_time": "2024-07-26T18:59:10.904198Z",
     "start_time": "2024-07-26T18:59:10.899942Z"
    },
    "collapsed": true
   },
   "outputs": [
    {
     "name": "stdout",
     "output_type": "stream",
     "text": [
      "env: JAX_PLATFORM_NAME=cuda\n",
      "[cuda(id=0)]\n"
     ]
    }
   ],
   "source": [
    "%env JAX_PLATFORM_NAME=cuda\n",
    "\n",
    "import warnings\n",
    "\n",
    "import jax\n",
    "import jax.numpy as jnp\n",
    "import jax.random as jr\n",
    "import numpyro\n",
    "from numpyro import distributions as dist\n",
    "from numpyro.infer import MCMC, NUTS\n",
    "\n",
    "from mcmc import run_lmc_numpyro\n",
    "\n",
    "\n",
    "warnings.simplefilter(\"ignore\", FutureWarning)\n",
    "\n",
    "jnp.set_printoptions(precision=3, suppress=True)\n",
    "jax.config.update(\"jax_enable_x64\", True)\n",
    "print(jax.devices(\"cuda\"))\n",
    "\n",
    "\n",
    "def model():\n",
    "    numpyro.sample(\"a\", dist.Exponential(0.01))\n",
    "\n",
    "\n",
    "num_chains = 2**4\n",
    "num_samples_per_chain = 2**10\n",
    "warmup_len = 2**10"
   ]
  },
  {
   "cell_type": "code",
   "execution_count": 6,
   "id": "3668f368fc72024",
   "metadata": {
    "ExecuteTime": {
     "end_time": "2024-07-26T18:59:43.982842Z",
     "start_time": "2024-07-26T18:59:11.662174Z"
    }
   },
   "outputs": [
    {
     "name": "stderr",
     "output_type": "stream",
     "text": [
      "100.00%|██████████| [00:01<00:00, 67.96%/s]\n",
      "100.00%|██████████| [00:24<00:00,  4.02%/s]"
     ]
    },
    {
     "name": "stdout",
     "output_type": "stream",
     "text": [
      "LMC: gradient evaluations per output: 6.512\n"
     ]
    },
    {
     "name": "stderr",
     "output_type": "stream",
     "text": [
      "\n"
     ]
    }
   ],
   "source": [
    "out_logreg_lmc, steps_logreg_lmc = run_lmc_numpyro(\n",
    "    jr.PRNGKey(3),\n",
    "    model,\n",
    "    (),\n",
    "    num_chains,\n",
    "    num_samples_per_chain,\n",
    "    chain_sep=0.1,\n",
    "    tol=0.01,\n",
    "    warmup_mult=warmup_len,\n",
    "    warmup_tol_mult=8,\n",
    "    use_adaptive=False,\n",
    ")"
   ]
  },
  {
   "cell_type": "code",
   "execution_count": 7,
   "id": "initial_id",
   "metadata": {
    "ExecuteTime": {
     "end_time": "2024-07-26T18:59:43.986025Z",
     "start_time": "2024-07-26T18:59:43.983493Z"
    }
   },
   "outputs": [
    {
     "name": "stdout",
     "output_type": "stream",
     "text": [
      "mean: 93.61, var:  9.654e+03\n"
     ]
    }
   ],
   "source": [
    "arr_lmc = jnp.exp(out_logreg_lmc[\"a\"])\n",
    "print(f\"mean: {jnp.mean(arr_lmc):.4}, var:  {jnp.var(arr_lmc):.4}\")"
   ]
  },
  {
   "cell_type": "code",
   "execution_count": 8,
   "id": "d51706b00758db2e",
   "metadata": {
    "ExecuteTime": {
     "end_time": "2024-07-26T18:50:42.554844Z",
     "start_time": "2024-07-26T18:50:36.217893Z"
    }
   },
   "outputs": [
    {
     "name": "stderr",
     "output_type": "stream",
     "text": [
      "warmup: 100%|██████████| 1024/1024 [00:03<00:00, 328.18it/s]\n",
      "sample: 100%|██████████| 1024/1024 [00:01<00:00, 920.16it/s]\n"
     ]
    },
    {
     "name": "stdout",
     "output_type": "stream",
     "text": [
      "6.16973876953125\n"
     ]
    }
   ],
   "source": [
    "nuts = MCMC(\n",
    "    NUTS(model),\n",
    "    num_warmup=warmup_len,\n",
    "    num_samples=num_samples_per_chain,\n",
    "    num_chains=num_chains,\n",
    "    chain_method=\"vectorized\",\n",
    ")\n",
    "nuts.warmup(\n",
    "    jr.PRNGKey(2),\n",
    "    extra_fields=(\"num_steps\",),\n",
    "    collect_warmup=True,\n",
    ")\n",
    "warmup_steps = sum(nuts.get_extra_fields()[\"num_steps\"])\n",
    "nuts.run(jr.PRNGKey(2), extra_fields=(\"num_steps\",))\n",
    "out_nuts = nuts.get_samples(group_by_chain=True)\n",
    "num_steps_nuts = sum(nuts.get_extra_fields()[\"num_steps\"]) + warmup_steps\n",
    "geps_nuts = num_steps_nuts / (num_chains * num_samples_per_chain)\n",
    "print(geps_nuts)"
   ]
  },
  {
   "cell_type": "code",
   "execution_count": 9,
   "id": "f59bd5c5eaf7cdde",
   "metadata": {
    "ExecuteTime": {
     "end_time": "2024-07-26T18:50:42.557984Z",
     "start_time": "2024-07-26T18:50:42.555441Z"
    }
   },
   "outputs": [
    {
     "name": "stdout",
     "output_type": "stream",
     "text": [
      "mean: 100.3, var:  9.845e+03\n"
     ]
    }
   ],
   "source": [
    "arr_nuts = out_nuts[\"a\"]\n",
    "print(f\"mean: {jnp.mean(arr_nuts):.4}, var:  {jnp.var(arr_nuts):.4}\")"
   ]
  },
  {
   "cell_type": "code",
   "execution_count": null,
   "id": "c26d0520bf3e86e3",
   "metadata": {},
   "outputs": [],
   "source": []
  }
 ],
 "metadata": {
  "kernelspec": {
   "display_name": "Python 3",
   "language": "python",
   "name": "python3"
  },
  "language_info": {
   "codemirror_mode": {
    "name": "ipython",
    "version": 2
   },
   "file_extension": ".py",
   "mimetype": "text/x-python",
   "name": "python",
   "nbconvert_exporter": "python",
   "pygments_lexer": "ipython2",
   "version": "2.7.6"
  }
 },
 "nbformat": 4,
 "nbformat_minor": 5
}
