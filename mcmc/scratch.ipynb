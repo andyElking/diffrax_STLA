{
 "cells": [
  {
   "cell_type": "code",
   "id": "initial_id",
   "metadata": {
    "collapsed": true,
    "ExecuteTime": {
     "end_time": "2024-10-03T19:36:16.200684Z",
     "start_time": "2024-10-03T19:36:15.948960Z"
    }
   },
   "source": [
    "import jax.numpy as jnp\n",
    "import numpy as np\n",
    "\n",
    "x = np.load(\"tbp_data/tbp_x.npy\")\n",
    "# check if there are any nans or infs\n",
    "print(np.any(np.isnan(x)))\n",
    "print(np.all(np.isfinite(x)))"
   ],
   "outputs": [
    {
     "name": "stdout",
     "output_type": "stream",
     "text": [
      "False\n",
      "True\n"
     ]
    }
   ],
   "execution_count": 1
  },
  {
   "metadata": {},
   "cell_type": "code",
   "outputs": [],
   "execution_count": null,
   "source": "",
   "id": "54c085e62c97f903"
  }
 ],
 "metadata": {
  "kernelspec": {
   "display_name": "Python 3",
   "language": "python",
   "name": "python3"
  },
  "language_info": {
   "codemirror_mode": {
    "name": "ipython",
    "version": 2
   },
   "file_extension": ".py",
   "mimetype": "text/x-python",
   "name": "python",
   "nbconvert_exporter": "python",
   "pygments_lexer": "ipython2",
   "version": "2.7.6"
  }
 },
 "nbformat": 4,
 "nbformat_minor": 5
}
