{
 "cells": [
  {
   "cell_type": "code",
   "execution_count": 1,
   "id": "initial_id",
   "metadata": {
    "ExecuteTime": {
     "end_time": "2024-10-06T13:29:46.497844Z",
     "start_time": "2024-10-06T13:29:37.926917Z"
    },
    "collapsed": true
   },
   "outputs": [],
   "source": [
    "import numpy as np\n",
    "from ucimlrepo import fetch_ucirepo\n",
    "\n",
    "\n",
    "# fetch dataset\n",
    "tbp = fetch_ucirepo(id=572)\n",
    "\n",
    "# data (as pandas dataframes)\n",
    "x = np.array(tbp.data.features)\n",
    "y = np.array(tbp.data.targets)\n",
    "\n",
    "len = x.shape[0]\n",
    "perm_indices = np.random.permutation(len)\n",
    "x = x[perm_indices]\n",
    "y = y[perm_indices]"
   ]
  },
  {
   "cell_type": "code",
   "execution_count": 4,
   "id": "13fadb86b65fd6e1",
   "metadata": {
    "ExecuteTime": {
     "end_time": "2024-10-06T13:32:03.880830Z",
     "start_time": "2024-10-06T13:32:03.878215Z"
    }
   },
   "outputs": [
    {
     "name": "stdout",
     "output_type": "stream",
     "text": [
      "(2000, 75)\n"
     ]
    }
   ],
   "source": [
    "x = x[:2000]\n",
    "y = y[:2000]\n",
    "x_var = np.var(x, axis=0)\n",
    "x = x[:, x_var > 1e-4]\n",
    "print(x.shape)"
   ]
  },
  {
   "cell_type": "code",
   "execution_count": 5,
   "id": "1866e3aa6cc82339",
   "metadata": {
    "ExecuteTime": {
     "end_time": "2024-10-06T13:32:27.727574Z",
     "start_time": "2024-10-06T13:32:27.720638Z"
    }
   },
   "outputs": [],
   "source": [
    "np.save(\"mcmc_data/tbp_x.npy\", x[:2000])\n",
    "np.save(\"mcmc_data/tbp_y.npy\", y[:2000])"
   ]
  },
  {
   "cell_type": "code",
   "execution_count": null,
   "id": "180fe14ec1c491ca",
   "metadata": {},
   "outputs": [],
   "source": []
  }
 ],
 "metadata": {
  "kernelspec": {
   "display_name": "Python 3",
   "language": "python",
   "name": "python3"
  },
  "language_info": {
   "codemirror_mode": {
    "name": "ipython",
    "version": 2
   },
   "file_extension": ".py",
   "mimetype": "text/x-python",
   "name": "python",
   "nbconvert_exporter": "python",
   "pygments_lexer": "ipython2",
   "version": "2.7.6"
  }
 },
 "nbformat": 4,
 "nbformat_minor": 5
}
