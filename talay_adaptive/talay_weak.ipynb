{
 "cells": [
  {
   "cell_type": "code",
   "execution_count": 20,
   "id": "initial_id",
   "metadata": {
    "ExecuteTime": {
     "end_time": "2024-08-27T17:32:03.808530Z",
     "start_time": "2024-08-27T17:32:03.781014Z"
    },
    "collapsed": true
   },
   "outputs": [],
   "source": [
    "import math\n",
    "from functools import partial, reduce\n",
    "from operator import mul\n",
    "from warnings import simplefilter\n",
    "\n",
    "import numpy as np\n",
    "from jax import Array\n",
    "\n",
    "\n",
    "simplefilter(action=\"ignore\", category=FutureWarning)\n",
    "\n",
    "from test.helpers import (\n",
    "    get_mlp_sde,\n",
    "    SDE,\n",
    "    simple_batch_sde_solve,\n",
    ")\n",
    "\n",
    "import diffrax\n",
    "import jax\n",
    "import jax.numpy as jnp\n",
    "import jax.random as jr\n",
    "import matplotlib.pyplot as plt\n",
    "from diffrax import (\n",
    "    SaveAt,\n",
    "    SpaceTimeTimeLevyArea,\n",
    ")\n",
    "\n",
    "\n",
    "jax.config.update(\"jax_enable_x64\", True)\n",
    "\n",
    "\n",
    "@partial(jax.jit, static_argnames=(\"max_len\",))\n",
    "def energy_distance(x: Array, y: Array, max_len: int = 2**16):\n",
    "    assert y.ndim == x.ndim\n",
    "    assert x.shape[1:] == y.shape[1:]\n",
    "    prod = reduce(mul, x.shape[1:], 1)\n",
    "    if prod >= 4:\n",
    "        max_len = int(max_len / math.sqrt(prod))\n",
    "\n",
    "    if x.shape[0] > max_len:\n",
    "        x = x[:max_len]\n",
    "    if y.shape[0] > max_len:\n",
    "        y = y[:max_len]\n",
    "\n",
    "    @partial(jax.vmap, in_axes=(None, 0))\n",
    "    def _dist_single(_x, _y_single):\n",
    "        assert _x.ndim == _y_single.ndim + 1, f\"{_x.ndim} != {_y_single.ndim + 1}\"\n",
    "        diff = _x - _y_single\n",
    "        if x.ndim > 1:\n",
    "            # take the norm over all axes except the first one\n",
    "            diff = jnp.sqrt(jnp.sum(diff**2, axis=tuple(range(1, diff.ndim))))\n",
    "        return jnp.mean(jnp.abs(diff))\n",
    "\n",
    "    def dist(_x, _y):\n",
    "        assert _x.ndim == _y.ndim\n",
    "        return jnp.mean(_dist_single(_x, _y))\n",
    "\n",
    "    return 2 * dist(x, y) - dist(x, x) - dist(y, y)\n",
    "\n",
    "\n",
    "def draw_order(results_dict):\n",
    "    fig, ax = plt.subplots()\n",
    "    fig.set_dpi(100)\n",
    "\n",
    "    orders = \"Orders:\\n\"\n",
    "    scats = []\n",
    "    for i, (name, result) in enumerate(results_dict.items()):\n",
    "        steps, errs, slice = result\n",
    "        steps = steps[slice]\n",
    "        errs = errs[slice]\n",
    "        trend = np.polyfit(-np.log(steps), np.log(errs), 1)\n",
    "        order, _ = trend\n",
    "        # plot the trend line\n",
    "        # trend_f = np.poly1d(trend)\n",
    "        # ax.plot(steps, np.exp(trend_f(-np.log(steps))), linewidth=1.0)\n",
    "\n",
    "        # plot the points\n",
    "        scat = ax.scatter(\n",
    "            steps,\n",
    "            errs,\n",
    "            label=f\"{name}: {order:.2f}\",\n",
    "        )\n",
    "        scats.append(scat)\n",
    "\n",
    "        orders += f\"{name}: {order:.2f}\\n\"\n",
    "    ax.set_yscale(\"log\")\n",
    "    ax.set_xscale(\"log\")\n",
    "    ax.set_ylabel(\"RMS error\")\n",
    "    ax.set_xlabel(\"Average number of vector field evaluations\")\n",
    "    ax.legend(fancybox=True, fontsize=\"large\")\n",
    "    plt.show()\n",
    "\n",
    "\n",
    "t0 = 0.0\n",
    "t1 = 4.0\n",
    "saveat = SaveAt(t1=True)\n",
    "constant_controller = diffrax.ConstantStepSize()\n",
    "mlp_sde: SDE = get_mlp_sde(t0, t1, jnp.float64, jr.key(0), 5, y_dim=4)\n",
    "\n",
    "num_samples = 100000\n",
    "keys = jr.split(jr.key(0), num_samples)"
   ]
  },
  {
   "cell_type": "code",
   "execution_count": 2,
   "id": "4ffe7c3d05474c",
   "metadata": {
    "ExecuteTime": {
     "end_time": "2024-08-27T17:20:19.325916Z",
     "start_time": "2024-08-27T17:17:57.857755Z"
    }
   },
   "outputs": [
    {
     "name": "stderr",
     "output_type": "stream",
     "text": [
      "100.00%|██████████| [02:20<00:00,  1.40s/%]\n"
     ]
    }
   ],
   "source": [
    "# ref_sols, ref_steps = simple_batch_sde_solve(\n",
    "#     keys,\n",
    "#     mlp_sde,\n",
    "#     Euler(),\n",
    "#     SpaceTimeTimeLevyArea,\n",
    "#     2**-14,\n",
    "#     constant_controller,\n",
    "#     0,\n",
    "#     saveat,\n",
    "#     use_progress_meter=True,\n",
    "#     use_vbt=False,\n",
    "# )\n",
    "# jnp.save(\"data/ref_sol_mlp_100k.npy\", ref_sols)\n",
    "ref_sols = jnp.load(\"data/ref_sol_mlp_100k.npy\")"
   ]
  },
  {
   "cell_type": "code",
   "execution_count": 3,
   "id": "cab055ba30de24eb",
   "metadata": {
    "ExecuteTime": {
     "end_time": "2024-08-27T17:20:19.380383Z",
     "start_time": "2024-08-27T17:20:19.378273Z"
    }
   },
   "outputs": [],
   "source": [
    "def evaluate_solve(solver, dt, controller):\n",
    "    sols, steps = simple_batch_sde_solve(\n",
    "        keys,\n",
    "        mlp_sde,\n",
    "        solver,\n",
    "        SpaceTimeTimeLevyArea,\n",
    "        dt,\n",
    "        controller,\n",
    "        0,\n",
    "        saveat,\n",
    "        use_progress_meter=True,\n",
    "        use_vbt=False,\n",
    "    )\n",
    "\n",
    "    errors = energy_distance(ref_sols, sols)\n",
    "    return errors, jnp.mean(steps)"
   ]
  },
  {
   "cell_type": "code",
   "execution_count": 28,
   "id": "368822ae91222463",
   "metadata": {
    "ExecuteTime": {
     "end_time": "2024-08-27T17:34:04.753089Z",
     "start_time": "2024-08-27T17:33:52.957115Z"
    }
   },
   "outputs": [
    {
     "name": "stdout",
     "output_type": "stream",
     "text": [
      "dt = 1.0\n"
     ]
    },
    {
     "name": "stderr",
     "output_type": "stream",
     "text": [
      "100.00%|██████████| [00:00<00:00, 7354.04%/s]\n"
     ]
    },
    {
     "name": "stdout",
     "output_type": "stream",
     "text": [
      "dt = 0.5\n"
     ]
    },
    {
     "name": "stderr",
     "output_type": "stream",
     "text": [
      "100.00%|██████████| [00:00<00:00, 5549.71%/s]\n"
     ]
    },
    {
     "name": "stdout",
     "output_type": "stream",
     "text": [
      "dt = 0.25\n"
     ]
    },
    {
     "name": "stderr",
     "output_type": "stream",
     "text": [
      "100.00%|██████████| [00:00<00:00, 2906.84%/s]\n"
     ]
    },
    {
     "name": "stdout",
     "output_type": "stream",
     "text": [
      "dt = 0.125\n"
     ]
    },
    {
     "name": "stderr",
     "output_type": "stream",
     "text": [
      "100.00%|██████████| [00:00<00:00, 1418.45%/s]\n"
     ]
    },
    {
     "name": "stdout",
     "output_type": "stream",
     "text": [
      "dt = 0.0625\n"
     ]
    },
    {
     "name": "stderr",
     "output_type": "stream",
     "text": [
      "100.00%|██████████| [00:00<00:00, 717.50%/s]\n"
     ]
    },
    {
     "name": "stdout",
     "output_type": "stream",
     "text": [
      "dt = 0.03125\n"
     ]
    },
    {
     "name": "stderr",
     "output_type": "stream",
     "text": [
      "100.00%|██████████| [00:00<00:00, 365.18%/s]\n"
     ]
    },
    {
     "name": "stdout",
     "output_type": "stream",
     "text": [
      "dt = 0.015625\n"
     ]
    },
    {
     "name": "stderr",
     "output_type": "stream",
     "text": [
      "100.00%|██████████| [00:00<00:00, 182.83%/s]\n"
     ]
    },
    {
     "name": "stdout",
     "output_type": "stream",
     "text": [
      "dt = 0.0078125\n"
     ]
    },
    {
     "name": "stderr",
     "output_type": "stream",
     "text": [
      "100.00%|██████████| [00:01<00:00, 91.47%/s]\n"
     ]
    },
    {
     "name": "stdout",
     "output_type": "stream",
     "text": [
      "dt = 0.00390625\n"
     ]
    },
    {
     "name": "stderr",
     "output_type": "stream",
     "text": [
      "100.00%|██████████| [00:02<00:00, 45.60%/s]\n"
     ]
    }
   ],
   "source": [
    "dts = [0.5**i for i in range(0, 9)]\n",
    "# errors_euler = []\n",
    "# steps_euler = []\n",
    "#\n",
    "# for dt in dts:\n",
    "#     print(f\"dt = {dt}\")\n",
    "#     errors_, steps_ = evaluate_solve(Euler(), dt, constant_controller)\n",
    "#     errors_euler.append(errors_)\n",
    "#     steps_euler.append(steps_)\n",
    "#\n",
    "# errors_euler = jnp.array(errors_euler)\n",
    "# steps_euler = jnp.array(steps_euler)\n",
    "# with open(\"data/errors_euler.npy\", \"wb\") as f:\n",
    "#     jnp.save(f, errors_euler)\n",
    "#     jnp.save(f, steps_euler)\n",
    "\n",
    "with open(\"data/errors_euler.npy\", \"rb\") as f:\n",
    "    errors_euler = jnp.load(f)\n",
    "    steps_euler = jnp.load(f)"
   ]
  },
  {
   "cell_type": "code",
   "execution_count": 9,
   "id": "9051bf5b6bc700c7",
   "metadata": {
    "ExecuteTime": {
     "end_time": "2024-08-27T17:28:16.127853Z",
     "start_time": "2024-08-27T17:27:36.240580Z"
    }
   },
   "outputs": [
    {
     "name": "stdout",
     "output_type": "stream",
     "text": [
      "ctol = 128.0\n"
     ]
    },
    {
     "name": "stderr",
     "output_type": "stream",
     "text": [
      "100.00%|██████████| [00:00<00:00, 193.80%/s]\n"
     ]
    },
    {
     "name": "stdout",
     "output_type": "stream",
     "text": [
      "ctol = 64.0\n"
     ]
    },
    {
     "name": "stderr",
     "output_type": "stream",
     "text": [
      "100.00%|██████████| [00:00<00:00, 136.73%/s]\n"
     ]
    },
    {
     "name": "stdout",
     "output_type": "stream",
     "text": [
      "ctol = 32.0\n"
     ]
    },
    {
     "name": "stderr",
     "output_type": "stream",
     "text": [
      "100.00%|██████████| [00:00<00:00, 116.93%/s]\n"
     ]
    },
    {
     "name": "stdout",
     "output_type": "stream",
     "text": [
      "ctol = 16.0\n"
     ]
    },
    {
     "name": "stderr",
     "output_type": "stream",
     "text": [
      "100.00%|██████████| [00:01<00:00, 89.89%/s]\n"
     ]
    },
    {
     "name": "stdout",
     "output_type": "stream",
     "text": [
      "ctol = 8.0\n"
     ]
    },
    {
     "name": "stderr",
     "output_type": "stream",
     "text": [
      "100.00%|██████████| [00:01<00:00, 62.43%/s]\n"
     ]
    },
    {
     "name": "stdout",
     "output_type": "stream",
     "text": [
      "ctol = 4.0\n"
     ]
    },
    {
     "name": "stderr",
     "output_type": "stream",
     "text": [
      "100.00%|██████████| [00:02<00:00, 45.38%/s]\n"
     ]
    },
    {
     "name": "stdout",
     "output_type": "stream",
     "text": [
      "ctol = 2.0\n"
     ]
    },
    {
     "name": "stderr",
     "output_type": "stream",
     "text": [
      "100.00%|██████████| [00:03<00:00, 32.63%/s]\n"
     ]
    },
    {
     "name": "stdout",
     "output_type": "stream",
     "text": [
      "ctol = 1.0\n"
     ]
    },
    {
     "name": "stderr",
     "output_type": "stream",
     "text": [
      "100.00%|██████████| [00:04<00:00, 22.21%/s]\n"
     ]
    },
    {
     "name": "stdout",
     "output_type": "stream",
     "text": [
      "ctol = 0.5\n"
     ]
    },
    {
     "name": "stderr",
     "output_type": "stream",
     "text": [
      "100.00%|██████████| [00:06<00:00, 15.25%/s]\n"
     ]
    },
    {
     "name": "stdout",
     "output_type": "stream",
     "text": [
      "ctol = 0.25\n"
     ]
    },
    {
     "name": "stderr",
     "output_type": "stream",
     "text": [
      "100.00%|██████████| [00:09<00:00, 10.91%/s]\n"
     ]
    }
   ],
   "source": [
    "ctols = [0.5**i for i in range(-7, 3)]\n",
    "# errors_talay_adaptive = []\n",
    "# steps_talay_adaptive = []\n",
    "#\n",
    "# for ctol in ctols:\n",
    "#     solver = Talay(jr.key(7), error_mult=ctol, use_levy_area=True)\n",
    "#     controller = TalayController(ctol, dtmin=2**-10, dtmax=4.0)\n",
    "#     print(f\"ctol = {ctol}\")\n",
    "#     errors_, steps_ = evaluate_solve(solver, 1.0, controller)\n",
    "#     errors_talay_adaptive.append(errors_)\n",
    "#     steps_talay_adaptive.append(steps_)\n",
    "#\n",
    "# errors_talay_adaptive = jnp.array(errors_talay_adaptive)\n",
    "# steps_talay_adaptive = jnp.array(steps_talay_adaptive)\n",
    "# with open(\"data/errors_talay_adaptive.npy\", \"wb\") as f:\n",
    "#     jnp.save(f, errors_talay_adaptive)\n",
    "#     jnp.save(f, steps_talay_adaptive)\n",
    "\n",
    "with open(\"data/errors_talay_adaptive.npy\", \"rb\") as f:\n",
    "    errors_talay_adaptive = jnp.load(f)\n",
    "    steps_talay_adaptive = jnp.load(f)"
   ]
  },
  {
   "cell_type": "code",
   "execution_count": 32,
   "id": "b155e9c735a3dc49",
   "metadata": {
    "ExecuteTime": {
     "end_time": "2024-08-27T17:34:49.706839Z",
     "start_time": "2024-08-27T17:34:49.600204Z"
    }
   },
   "outputs": [
    {
     "data": {
      "image/png": "[encoded data removed]",
      "text/plain": [
       "<Figure size 640x480 with 1 Axes>"
      ]
     },
     "metadata": {},
     "output_type": "display_data"
    }
   ],
   "source": [
    "draw_order(\n",
    "    {\n",
    "        \"Euler\": (steps_euler, errors_euler, slice(4, None)),\n",
    "        \"Talay adaptive\": (steps_talay_adaptive, errors_talay_adaptive, slice(4, None)),\n",
    "    }\n",
    ")"
   ]
  },
  {
   "cell_type": "code",
   "execution_count": null,
   "id": "6998fce4f276083e",
   "metadata": {},
   "outputs": [],
   "source": []
  }
 ],
 "metadata": {
  "kernelspec": {
   "display_name": "Python 3",
   "language": "python",
   "name": "python3"
  },
  "language_info": {
   "codemirror_mode": {
    "name": "ipython",
    "version": 2
   },
   "file_extension": ".py",
   "mimetype": "text/x-python",
   "name": "python",
   "nbconvert_exporter": "python",
   "pygments_lexer": "ipython2",
   "version": "2.7.6"
  }
 },
 "nbformat": 4,
 "nbformat_minor": 5
}
