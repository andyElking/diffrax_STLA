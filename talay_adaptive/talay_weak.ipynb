{
 "cells": [
  {
   "cell_type": "code",
   "id": "initial_id",
   "metadata": {
    "collapsed": true,
    "ExecuteTime": {
     "end_time": "2024-08-28T11:25:07.119094Z",
     "start_time": "2024-08-28T11:25:02.592715Z"
    }
   },
   "source": [
    "import math\n",
    "from functools import partial, reduce\n",
    "from operator import mul\n",
    "from warnings import simplefilter\n",
    "\n",
    "import numpy as np\n",
    "from jax import Array\n",
    "\n",
    "\n",
    "simplefilter(action=\"ignore\", category=FutureWarning)\n",
    "\n",
    "from test.helpers import (\n",
    "    get_mlp_sde,\n",
    "    SDE,\n",
    "    simple_batch_sde_solve,\n",
    ")\n",
    "\n",
    "import diffrax\n",
    "import jax\n",
    "import jax.numpy as jnp\n",
    "import jax.random as jr\n",
    "import matplotlib.pyplot as plt\n",
    "from diffrax import (\n",
    "    SaveAt,\n",
    "    SpaceTimeTimeLevyArea,\n",
    ")\n",
    "\n",
    "\n",
    "jax.config.update(\"jax_enable_x64\", True)\n",
    "\n",
    "\n",
    "@partial(jax.jit, static_argnames=(\"max_len\",))\n",
    "def energy_distance(x: Array, y: Array, max_len: int = 2**16):\n",
    "    assert y.ndim == x.ndim\n",
    "    assert x.shape[1:] == y.shape[1:]\n",
    "    prod = reduce(mul, x.shape[1:], 1)\n",
    "    if prod >= 4:\n",
    "        max_len = int(max_len / math.sqrt(prod))\n",
    "\n",
    "    if x.shape[0] > max_len:\n",
    "        x = x[:max_len]\n",
    "    if y.shape[0] > max_len:\n",
    "        y = y[:max_len]\n",
    "\n",
    "    @partial(jax.vmap, in_axes=(None, 0))\n",
    "    def _dist_single(_x, _y_single):\n",
    "        assert _x.ndim == _y_single.ndim + 1, f\"{_x.ndim} != {_y_single.ndim + 1}\"\n",
    "        diff = _x - _y_single\n",
    "        if x.ndim > 1:\n",
    "            # take the norm over all axes except the first one\n",
    "            diff = jnp.sqrt(jnp.sum(diff**2, axis=tuple(range(1, diff.ndim))))\n",
    "        return jnp.mean(jnp.abs(diff))\n",
    "\n",
    "    def dist(_x, _y):\n",
    "        assert _x.ndim == _y.ndim\n",
    "        return jnp.mean(_dist_single(_x, _y))\n",
    "\n",
    "    return 2 * dist(x, y) - dist(x, x) - dist(y, y)\n",
    "\n",
    "\n",
    "def draw_order(results_dict):\n",
    "    fig, ax = plt.subplots()\n",
    "    fig.set_dpi(100)\n",
    "\n",
    "    orders = \"Orders:\\n\"\n",
    "    scats = []\n",
    "    for i, (name, result) in enumerate(results_dict.items()):\n",
    "        steps, errs, slice = result\n",
    "        steps = steps[slice]\n",
    "        errs = errs[slice]\n",
    "        trend = np.polyfit(-np.log(steps), np.log(errs), 1)\n",
    "        order, _ = trend\n",
    "        # plot the trend line\n",
    "        # trend_f = np.poly1d(trend)\n",
    "        # ax.plot(steps, np.exp(trend_f(-np.log(steps))), linewidth=1.0)\n",
    "\n",
    "        # plot the points\n",
    "        scat = ax.scatter(\n",
    "            steps,\n",
    "            errs,\n",
    "            label=f\"{name}: {order:.2f}\",\n",
    "        )\n",
    "        scats.append(scat)\n",
    "\n",
    "        orders += f\"{name}: {order:.2f}\\n\"\n",
    "    ax.set_yscale(\"log\")\n",
    "    ax.set_xscale(\"log\")\n",
    "    ax.set_ylabel(\"RMS error\")\n",
    "    ax.set_xlabel(\"Average number of vector field evaluations\")\n",
    "    ax.legend(fancybox=True, fontsize=\"large\")\n",
    "    plt.show()\n",
    "\n",
    "\n",
    "t0 = 0.0\n",
    "t1 = 4.0\n",
    "saveat = SaveAt(t1=True)\n",
    "constant_controller = diffrax.ConstantStepSize()\n",
    "mlp_sde: SDE = get_mlp_sde(t0, t1, jnp.float64, jr.key(0), 5, y_dim=4)\n",
    "\n",
    "num_samples = 100000\n",
    "keys = jr.split(jr.key(0), num_samples)"
   ],
   "outputs": [],
   "execution_count": 1
  },
  {
   "cell_type": "code",
   "id": "4ffe7c3d05474c",
   "metadata": {
    "ExecuteTime": {
     "end_time": "2024-08-28T11:25:07.140811Z",
     "start_time": "2024-08-28T11:25:07.132392Z"
    }
   },
   "source": [
    "# ref_sols, ref_steps = simple_batch_sde_solve(\n",
    "#     keys,\n",
    "#     mlp_sde,\n",
    "#     Euler(),\n",
    "#     SpaceTimeTimeLevyArea,\n",
    "#     2**-14,\n",
    "#     constant_controller,\n",
    "#     0,\n",
    "#     saveat,\n",
    "#     use_progress_meter=True,\n",
    "#     use_vbt=False,\n",
    "# )\n",
    "# jnp.save(\"data/ref_sol_mlp_100k.npy\", ref_sols)\n",
    "ref_sols = jnp.load(\"data/ref_sol_mlp_100k.npy\")"
   ],
   "outputs": [],
   "execution_count": 2
  },
  {
   "cell_type": "code",
   "id": "cab055ba30de24eb",
   "metadata": {
    "ExecuteTime": {
     "end_time": "2024-08-28T11:25:07.235168Z",
     "start_time": "2024-08-28T11:25:07.232980Z"
    }
   },
   "source": [
    "def evaluate_solve(solver, dt, controller):\n",
    "    sols, steps = simple_batch_sde_solve(\n",
    "        keys,\n",
    "        mlp_sde,\n",
    "        solver,\n",
    "        SpaceTimeTimeLevyArea,\n",
    "        dt,\n",
    "        controller,\n",
    "        0,\n",
    "        saveat,\n",
    "        use_progress_meter=True,\n",
    "        use_vbt=False,\n",
    "    )\n",
    "\n",
    "    errors = energy_distance(ref_sols, sols)\n",
    "    return errors, jnp.mean(steps)"
   ],
   "outputs": [],
   "execution_count": 3
  },
  {
   "cell_type": "code",
   "id": "368822ae91222463",
   "metadata": {
    "ExecuteTime": {
     "end_time": "2024-08-28T11:25:07.293008Z",
     "start_time": "2024-08-28T11:25:07.290039Z"
    }
   },
   "source": [
    "dts = [0.5**i for i in range(0, 9)]\n",
    "# errors_euler = []\n",
    "# steps_euler = []\n",
    "#\n",
    "# for dt in dts:\n",
    "#     print(f\"dt = {dt}\")\n",
    "#     errors_, steps_ = evaluate_solve(Euler(), dt, constant_controller)\n",
    "#     errors_euler.append(errors_)\n",
    "#     steps_euler.append(steps_)\n",
    "#\n",
    "# errors_euler = jnp.array(errors_euler)\n",
    "# steps_euler = jnp.array(steps_euler)\n",
    "# with open(\"data/errors_euler.npy\", \"wb\") as f:\n",
    "#     jnp.save(f, errors_euler)\n",
    "#     jnp.save(f, steps_euler)\n",
    "\n",
    "with open(\"data/errors_euler.npy\", \"rb\") as f:\n",
    "    errors_euler = jnp.load(f)\n",
    "    steps_euler = jnp.load(f)"
   ],
   "outputs": [],
   "execution_count": 4
  },
  {
   "cell_type": "code",
   "id": "9051bf5b6bc700c7",
   "metadata": {
    "ExecuteTime": {
     "end_time": "2024-08-28T11:25:07.351451Z",
     "start_time": "2024-08-28T11:25:07.347979Z"
    }
   },
   "source": [
    "ctols = [0.5**i for i in range(-7, 3)]\n",
    "# errors_talay_adaptive = []\n",
    "# steps_talay_adaptive = []\n",
    "#\n",
    "# for ctol in ctols:\n",
    "#     solver = Talay(jr.key(7), error_mult=ctol, use_levy_area=True)\n",
    "#     controller = TalayController(ctol, dtmin=2**-10, dtmax=4.0)\n",
    "#     print(f\"ctol = {ctol}\")\n",
    "#     errors_, steps_ = evaluate_solve(solver, 1.0, controller)\n",
    "#     errors_talay_adaptive.append(errors_)\n",
    "#     steps_talay_adaptive.append(steps_)\n",
    "#\n",
    "# errors_talay_adaptive = jnp.array(errors_talay_adaptive)\n",
    "# steps_talay_adaptive = jnp.array(steps_talay_adaptive)\n",
    "# with open(\"data/errors_talay_adaptive.npy\", \"wb\") as f:\n",
    "#     jnp.save(f, errors_talay_adaptive)\n",
    "#     jnp.save(f, steps_talay_adaptive)\n",
    "\n",
    "with open(\"data/errors_talay_adaptive.npy\", \"rb\") as f:\n",
    "    errors_talay_adaptive = jnp.load(f)\n",
    "    steps_talay_adaptive = jnp.load(f)"
   ],
   "outputs": [],
   "execution_count": 5
  },
  {
   "cell_type": "code",
   "id": "b155e9c735a3dc49",
   "metadata": {
    "ExecuteTime": {
     "end_time": "2024-08-28T11:25:45.156701Z",
     "start_time": "2024-08-28T11:25:44.933580Z"
    }
   },
   "source": [
    "draw_order(\n",
    "    {\n",
    "        \"Euler\": (steps_euler, errors_euler, slice(3, None)),\n",
    "        \"Talay adaptive\": (steps_talay_adaptive, errors_talay_adaptive, slice(1, None)),\n",
    "    }\n",
    ")"
   ],
   "outputs": [
    {
     "data": {
      "text/plain": [
       "<Figure size 640x480 with 1 Axes>"
      ],
      "image/png": "[encoded data removed]"
     },
     "metadata": {},
     "output_type": "display_data"
    }
   ],
   "execution_count": 7
  }
 ],
 "metadata": {
  "kernelspec": {
   "display_name": "Python 3",
   "language": "python",
   "name": "python3"
  },
  "language_info": {
   "codemirror_mode": {
    "name": "ipython",
    "version": 2
   },
   "file_extension": ".py",
   "mimetype": "text/x-python",
   "name": "python",
   "nbconvert_exporter": "python",
   "pygments_lexer": "ipython2",
   "version": "2.7.6"
  }
 },
 "nbformat": 4,
 "nbformat_minor": 5
}
