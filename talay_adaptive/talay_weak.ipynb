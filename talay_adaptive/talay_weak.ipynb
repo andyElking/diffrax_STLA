{
 "cells": [
  {
   "cell_type": "code",
   "execution_count": 3,
   "id": "initial_id",
   "metadata": {
    "ExecuteTime": {
     "end_time": "2024-09-10T15:37:56.754560Z",
     "start_time": "2024-09-10T15:37:56.730408Z"
    },
    "collapsed": true
   },
   "outputs": [],
   "source": [
    "from warnings import simplefilter\n",
    "\n",
    "import numpy as np\n",
    "\n",
    "\n",
    "simplefilter(action=\"ignore\", category=FutureWarning)\n",
    "\n",
    "from test.helpers import (\n",
    "    SDE,\n",
    "    simple_batch_sde_solve,\n",
    ")\n",
    "\n",
    "import diffrax\n",
    "import jax\n",
    "import jax.numpy as jnp\n",
    "import jax.random as jr\n",
    "import matplotlib.pyplot as plt\n",
    "from diffrax import (\n",
    "    Euler,\n",
    "    SaveAt,\n",
    "    SpaceTimeTimeLevyArea,\n",
    ")\n",
    "from talay import Talay\n",
    "from talay_controller import TalayController\n",
    "from weak_sde import get_weak_sde, weak_error\n",
    "\n",
    "\n",
    "jax.config.update(\"jax_enable_x64\", True)\n",
    "\n",
    "\n",
    "def draw_order(results_dict):\n",
    "    fig, ax = plt.subplots()\n",
    "    fig.set_dpi(100)\n",
    "\n",
    "    orders = \"Orders:\\n\"\n",
    "    scats = []\n",
    "    for i, (name, result) in enumerate(results_dict.items()):\n",
    "        steps, errs, slice = result\n",
    "        steps = steps[slice]\n",
    "        errs = errs[slice]\n",
    "        trend = np.polyfit(-np.log(steps), np.log(errs), 1)\n",
    "        order, _ = trend\n",
    "        # plot the trend line\n",
    "        # trend_f = np.poly1d(trend)\n",
    "        # ax.plot(steps, np.exp(trend_f(-np.log(steps))), linewidth=1.0)\n",
    "\n",
    "        # plot the points\n",
    "        scat = ax.scatter(\n",
    "            steps,\n",
    "            errs,\n",
    "            label=f\"{name}: {order:.2f}\",\n",
    "        )\n",
    "        scats.append(scat)\n",
    "\n",
    "        orders += f\"{name}: {order:.2f}\\n\"\n",
    "    ax.set_yscale(\"log\")\n",
    "    ax.set_xscale(\"log\")\n",
    "    ax.set_ylabel(\"RMS error\")\n",
    "    ax.set_xlabel(\"Average number of vector field evaluations\")\n",
    "    ax.legend(fancybox=True, fontsize=\"large\")\n",
    "    plt.show()\n",
    "\n",
    "\n",
    "t0 = 0.0\n",
    "t1 = 3.0\n",
    "saveat = SaveAt(t1=True)\n",
    "constant_controller = diffrax.ConstantStepSize()\n",
    "# sde: SDE = get_mlp_sde(t0, t1, jnp.float64, jr.key(0), 5, y_dim=4)\n",
    "sde: SDE = get_weak_sde(t0, t1, jnp.float64)\n",
    "\n",
    "num_samples = 1000000\n",
    "keys = jr.split(jr.key(0), num_samples)\n",
    "sde_name = \"weak\""
   ]
  },
  {
   "cell_type": "code",
   "execution_count": 4,
   "id": "4ffe7c3d05474c",
   "metadata": {
    "ExecuteTime": {
     "end_time": "2024-09-10T15:37:56.794733Z",
     "start_time": "2024-09-10T15:37:56.783164Z"
    }
   },
   "outputs": [
    {
     "name": "stdout",
     "output_type": "stream",
     "text": [
      "3.697603897859225e-06\n"
     ]
    }
   ],
   "source": [
    "ref_filename = f\"data/ref_sol_{sde_name}_{num_samples//1000}k.npy\"\n",
    "\n",
    "# ref_sols, ref_steps = simple_batch_sde_solve(\n",
    "#     keys,\n",
    "#     sde,\n",
    "#     Euler(),\n",
    "#     BrownianIncrement,\n",
    "#     2**-12,\n",
    "#     constant_controller,\n",
    "#     0,\n",
    "#     saveat,\n",
    "#     use_progress_meter=True,\n",
    "#     use_vbt=False,\n",
    "# )\n",
    "# jnp.save(ref_filename, ref_sols)\n",
    "\n",
    "ref_sols = jnp.load(ref_filename)\n",
    "# ref_funs = compute_test_functions(ref_sols)\n",
    "ref_errs = weak_error(ref_sols, t0, t1)\n",
    "print(ref_errs)"
   ]
  },
  {
   "cell_type": "code",
   "execution_count": 5,
   "id": "cab055ba30de24eb",
   "metadata": {
    "ExecuteTime": {
     "end_time": "2024-09-10T15:37:56.842899Z",
     "start_time": "2024-09-10T15:37:56.838259Z"
    }
   },
   "outputs": [],
   "source": [
    "def evaluate_solve(solver, dt, controller):\n",
    "    sols, steps = simple_batch_sde_solve(\n",
    "        keys,\n",
    "        sde,\n",
    "        solver,\n",
    "        SpaceTimeTimeLevyArea,\n",
    "        dt,\n",
    "        controller,\n",
    "        0,\n",
    "        saveat,\n",
    "        use_progress_meter=True,\n",
    "        use_vbt=False,\n",
    "    )\n",
    "\n",
    "    # errors = comp_fun_dist(sols, ref_funs)\n",
    "    errors = weak_error(sols, t0, t1)\n",
    "    return errors, jnp.mean(steps)"
   ]
  },
  {
   "cell_type": "code",
   "execution_count": 22,
   "id": "368822ae91222463",
   "metadata": {
    "ExecuteTime": {
     "end_time": "2024-09-10T15:49:43.512241Z",
     "start_time": "2024-09-10T15:49:40.575933Z"
    }
   },
   "outputs": [
    {
     "name": "stdout",
     "output_type": "stream",
     "text": [
      "dt = 1.0\n"
     ]
    },
    {
     "name": "stderr",
     "output_type": "stream",
     "text": [
      "100.00%|██████████| [00:00<00:00, 5776.48%/s]\n"
     ]
    },
    {
     "name": "stdout",
     "output_type": "stream",
     "text": [
      "dt = 0.5\n"
     ]
    },
    {
     "name": "stderr",
     "output_type": "stream",
     "text": [
      "100.00%|██████████| [00:00<00:00, 3046.57%/s]\n"
     ]
    },
    {
     "name": "stdout",
     "output_type": "stream",
     "text": [
      "dt = 0.25\n"
     ]
    },
    {
     "name": "stderr",
     "output_type": "stream",
     "text": [
      "100.00%|██████████| [00:00<00:00, 1583.83%/s]\n"
     ]
    },
    {
     "name": "stdout",
     "output_type": "stream",
     "text": [
      "dt = 0.125\n"
     ]
    },
    {
     "name": "stderr",
     "output_type": "stream",
     "text": [
      "100.00%|██████████| [00:00<00:00, 796.31%/s]\n"
     ]
    },
    {
     "name": "stdout",
     "output_type": "stream",
     "text": [
      "dt = 0.0625\n"
     ]
    },
    {
     "name": "stderr",
     "output_type": "stream",
     "text": [
      "100.00%|██████████| [00:00<00:00, 557.73%/s]\n"
     ]
    },
    {
     "name": "stdout",
     "output_type": "stream",
     "text": [
      "dt = 0.03125\n"
     ]
    },
    {
     "name": "stderr",
     "output_type": "stream",
     "text": [
      "100.00%|██████████| [00:00<00:00, 281.28%/s]\n"
     ]
    },
    {
     "name": "stdout",
     "output_type": "stream",
     "text": [
      "dt = 0.015625\n"
     ]
    },
    {
     "name": "stderr",
     "output_type": "stream",
     "text": [
      "100.00%|██████████| [00:00<00:00, 140.46%/s]\n"
     ]
    },
    {
     "name": "stdout",
     "output_type": "stream",
     "text": [
      "dt = 0.0078125\n"
     ]
    },
    {
     "name": "stderr",
     "output_type": "stream",
     "text": [
      "100.00%|██████████| [00:01<00:00, 70.67%/s]\n"
     ]
    }
   ],
   "source": [
    "dts = [0.5**i for i in range(0, 8)]\n",
    "errors_euler = []\n",
    "steps_euler = []\n",
    "\n",
    "for dt in dts:\n",
    "    print(f\"dt = {dt}\")\n",
    "    errors_, steps_ = evaluate_solve(Euler(), dt, constant_controller)\n",
    "    errors_euler.append(errors_)\n",
    "    steps_euler.append(steps_)\n",
    "\n",
    "errors_euler = jnp.array(errors_euler)\n",
    "steps_euler = jnp.array(steps_euler)\n",
    "with open(f\"data/errors_{sde_name}_sde_euler.npy\", \"wb\") as f:\n",
    "    jnp.save(f, errors_euler)\n",
    "    jnp.save(f, steps_euler)\n",
    "\n",
    "with open(f\"data/errors_{sde_name}_sde_euler.npy\", \"rb\") as f:\n",
    "    errors_euler = jnp.load(f)\n",
    "    steps_euler = jnp.load(f)"
   ]
  },
  {
   "cell_type": "code",
   "execution_count": 23,
   "id": "7291b670dbc5328c",
   "metadata": {
    "ExecuteTime": {
     "end_time": "2024-09-10T15:49:52.073598Z",
     "start_time": "2024-09-10T15:49:43.523924Z"
    }
   },
   "outputs": [
    {
     "name": "stdout",
     "output_type": "stream",
     "text": [
      "dt = 1.0\n"
     ]
    },
    {
     "name": "stderr",
     "output_type": "stream",
     "text": [
      "100.00%|██████████| [00:00<00:00, 2872.54%/s]\n"
     ]
    },
    {
     "name": "stdout",
     "output_type": "stream",
     "text": [
      "dt = 0.5\n"
     ]
    },
    {
     "name": "stderr",
     "output_type": "stream",
     "text": [
      "100.00%|██████████| [00:00<00:00, 1488.39%/s]\n"
     ]
    },
    {
     "name": "stdout",
     "output_type": "stream",
     "text": [
      "dt = 0.25\n"
     ]
    },
    {
     "name": "stderr",
     "output_type": "stream",
     "text": [
      "100.00%|██████████| [00:00<00:00, 745.11%/s]\n"
     ]
    },
    {
     "name": "stdout",
     "output_type": "stream",
     "text": [
      "dt = 0.125\n"
     ]
    },
    {
     "name": "stderr",
     "output_type": "stream",
     "text": [
      "100.00%|██████████| [00:00<00:00, 371.34%/s]\n"
     ]
    },
    {
     "name": "stdout",
     "output_type": "stream",
     "text": [
      "dt = 0.0625\n"
     ]
    },
    {
     "name": "stderr",
     "output_type": "stream",
     "text": [
      "100.00%|██████████| [00:00<00:00, 187.20%/s]\n"
     ]
    },
    {
     "name": "stdout",
     "output_type": "stream",
     "text": [
      "dt = 0.03125\n"
     ]
    },
    {
     "name": "stderr",
     "output_type": "stream",
     "text": [
      "100.00%|██████████| [00:01<00:00, 93.42%/s]\n"
     ]
    },
    {
     "name": "stdout",
     "output_type": "stream",
     "text": [
      "dt = 0.015625\n"
     ]
    },
    {
     "name": "stderr",
     "output_type": "stream",
     "text": [
      "100.00%|██████████| [00:02<00:00, 46.74%/s]\n"
     ]
    },
    {
     "name": "stdout",
     "output_type": "stream",
     "text": [
      "dt = 0.0078125\n"
     ]
    },
    {
     "name": "stderr",
     "output_type": "stream",
     "text": [
      "100.00%|██████████| [00:04<00:00, 23.41%/s]\n"
     ]
    }
   ],
   "source": [
    "dts = [0.5**i for i in range(0, 8)]\n",
    "errors_talay_const = []\n",
    "steps_talay_const = []\n",
    "\n",
    "for dt in dts:\n",
    "    print(f\"dt = {dt}\")\n",
    "    errors_, steps_ = evaluate_solve(Talay(jr.key(7)), dt, constant_controller)\n",
    "    errors_talay_const.append(errors_)\n",
    "    steps_talay_const.append(steps_)\n",
    "\n",
    "errors_talay_const = jnp.array(errors_talay_const)\n",
    "steps_talay_const = jnp.array(steps_talay_const)\n",
    "with open(f\"data/errors_{sde_name}_sde_talay_const.npy\", \"wb\") as f:\n",
    "    jnp.save(f, errors_talay_const)\n",
    "    jnp.save(f, steps_talay_const)\n",
    "\n",
    "with open(f\"data/errors_{sde_name}_sde_talay_const.npy\", \"rb\") as f:\n",
    "    errors_talay_const = jnp.load(f)\n",
    "    steps_talay_const = jnp.load(f)"
   ]
  },
  {
   "cell_type": "code",
   "execution_count": 25,
   "id": "9051bf5b6bc700c7",
   "metadata": {
    "ExecuteTime": {
     "end_time": "2024-09-10T15:51:50.947269Z",
     "start_time": "2024-09-10T15:50:27.848358Z"
    }
   },
   "outputs": [
    {
     "name": "stdout",
     "output_type": "stream",
     "text": [
      "ctol = 0.0625\n"
     ]
    },
    {
     "name": "stderr",
     "output_type": "stream",
     "text": [
      "100.00%|██████████| [00:00<00:00, 1649.39%/s]\n"
     ]
    },
    {
     "name": "stdout",
     "output_type": "stream",
     "text": [
      "ctol = 0.03125\n"
     ]
    },
    {
     "name": "stderr",
     "output_type": "stream",
     "text": [
      "100.00%|██████████| [00:00<00:00, 1289.58%/s]\n"
     ]
    },
    {
     "name": "stdout",
     "output_type": "stream",
     "text": [
      "ctol = 0.015625\n"
     ]
    },
    {
     "name": "stderr",
     "output_type": "stream",
     "text": [
      "100.00%|██████████| [00:00<00:00, 855.44%/s] "
     ]
    },
    {
     "name": "stdout",
     "output_type": "stream",
     "text": [
      "ctol = 0.0078125"
     ]
    },
    {
     "name": "stderr",
     "output_type": "stream",
     "text": [
      "\n"
     ]
    },
    {
     "name": "stdout",
     "output_type": "stream",
     "text": [
      "\n"
     ]
    },
    {
     "name": "stderr",
     "output_type": "stream",
     "text": [
      "100.00%|██████████| [00:00<00:00, 575.79%/s]\n"
     ]
    },
    {
     "name": "stdout",
     "output_type": "stream",
     "text": [
      "ctol = 0.00390625\n"
     ]
    },
    {
     "name": "stderr",
     "output_type": "stream",
     "text": [
      "100.00%|██████████| [00:00<00:00, 271.11%/s]\n"
     ]
    },
    {
     "name": "stdout",
     "output_type": "stream",
     "text": [
      "ctol = 0.001953125\n"
     ]
    },
    {
     "name": "stderr",
     "output_type": "stream",
     "text": [
      "100.00%|██████████| [00:00<00:00, 205.78%/s]\n"
     ]
    },
    {
     "name": "stdout",
     "output_type": "stream",
     "text": [
      "ctol = 0.0009765625\n"
     ]
    },
    {
     "name": "stderr",
     "output_type": "stream",
     "text": [
      "100.00%|██████████| [00:00<00:00, 104.30%/s]\n"
     ]
    },
    {
     "name": "stdout",
     "output_type": "stream",
     "text": [
      "ctol = 0.00048828125\n"
     ]
    },
    {
     "name": "stderr",
     "output_type": "stream",
     "text": [
      "100.00%|██████████| [00:02<00:00, 41.49%/s]\n"
     ]
    },
    {
     "name": "stdout",
     "output_type": "stream",
     "text": [
      "ctol = 0.000244140625\n"
     ]
    },
    {
     "name": "stderr",
     "output_type": "stream",
     "text": [
      "100.00%|██████████| [00:04<00:00, 21.01%/s]\n"
     ]
    },
    {
     "name": "stdout",
     "output_type": "stream",
     "text": [
      "ctol = 0.0001220703125\n"
     ]
    },
    {
     "name": "stderr",
     "output_type": "stream",
     "text": [
      "100.00%|██████████| [00:08<00:00, 11.35%/s]\n"
     ]
    },
    {
     "name": "stdout",
     "output_type": "stream",
     "text": [
      "ctol = 6.103515625e-05\n"
     ]
    },
    {
     "name": "stderr",
     "output_type": "stream",
     "text": [
      "100.00%|██████████| [00:16<00:00,  5.92%/s]\n"
     ]
    },
    {
     "name": "stdout",
     "output_type": "stream",
     "text": [
      "ctol = 3.0517578125e-05\n"
     ]
    },
    {
     "name": "stderr",
     "output_type": "stream",
     "text": [
      "100.00%|██████████| [00:33<00:00,  3.02%/s]\n"
     ]
    }
   ],
   "source": [
    "ctols = [0.5**i for i in range(4, 16)]\n",
    "errors_talay_adaptive = []\n",
    "steps_talay_adaptive = []\n",
    "\n",
    "for ctol in ctols:\n",
    "    solver = Talay(jr.key(7), error_mult=ctol, use_levy_area=True)\n",
    "    controller = TalayController(ctol, dtmin=2**-10, dtmax=4.0)\n",
    "    print(f\"ctol = {ctol}\")\n",
    "    errors_, steps_ = evaluate_solve(solver, 1.0, controller)\n",
    "    errors_talay_adaptive.append(errors_)\n",
    "    steps_talay_adaptive.append(steps_)\n",
    "\n",
    "errors_talay_adaptive = jnp.array(errors_talay_adaptive)\n",
    "steps_talay_adaptive = jnp.array(steps_talay_adaptive)\n",
    "with open(f\"data/errors_{sde_name}_sde_talay_adaptive.npy\", \"wb\") as f:\n",
    "    jnp.save(f, errors_talay_adaptive)\n",
    "    jnp.save(f, steps_talay_adaptive)\n",
    "\n",
    "with open(f\"data/errors_{sde_name}_sde_talay_adaptive.npy\", \"rb\") as f:\n",
    "    errors_talay_adaptive = jnp.load(f)\n",
    "    steps_talay_adaptive = jnp.load(f)"
   ]
  },
  {
   "cell_type": "code",
   "id": "b155e9c735a3dc49",
   "metadata": {
    "ExecuteTime": {
     "end_time": "2024-09-10T15:54:41.488456Z",
     "start_time": "2024-09-10T15:54:41.277986Z"
    }
   },
   "source": [
    "draw_order(\n",
    "    {\n",
    "        \"Euler\": (steps_euler, errors_euler, slice(None, None)),\n",
    "        \"Talay constant\": (steps_talay_const, errors_talay_const, slice(None, None)),\n",
    "        \"Talay adaptive\": (\n",
    "            steps_talay_adaptive,\n",
    "            errors_talay_adaptive,\n",
    "            slice(None, None),\n",
    "        ),\n",
    "    }\n",
    ")"
   ],
   "outputs": [
    {
     "data": {
      "text/plain": [
       "<Figure size 640x480 with 1 Axes>"
      ],
      "image/png": "[encoded data removed]"
     },
     "metadata": {},
     "output_type": "display_data"
    }
   ],
   "execution_count": 26
  },
  {
   "cell_type": "code",
   "execution_count": null,
   "id": "7b2ecc6af85d05e8",
   "metadata": {
    "ExecuteTime": {
     "end_time": "2024-09-10T15:39:23.204226Z",
     "start_time": "2024-09-10T15:39:23.202943Z"
    }
   },
   "outputs": [],
   "source": []
  }
 ],
 "metadata": {
  "kernelspec": {
   "display_name": "Python 3",
   "language": "python",
   "name": "python3"
  },
  "language_info": {
   "codemirror_mode": {
    "name": "ipython",
    "version": 2
   },
   "file_extension": ".py",
   "mimetype": "text/x-python",
   "name": "python",
   "nbconvert_exporter": "python",
   "pygments_lexer": "ipython2",
   "version": "2.7.6"
  }
 },
 "nbformat": 4,
 "nbformat_minor": 5
}
