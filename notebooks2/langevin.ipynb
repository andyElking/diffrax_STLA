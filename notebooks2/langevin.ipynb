{
 "cells": [
  {
   "cell_type": "markdown",
   "id": "2d62210c1d8c58d3",
   "metadata": {
    "collapsed": false
   },
   "source": [
    "# Solvers for Additive-Noise SDEs\n",
    "SDEs of the form\n",
    "$$dX_t = f(t, X_t) \\, dt + σ \\, dW_t$$\n",
    "are said to have additive noise, since the matrix $\\sigma$ in the noise term is independent of $t$ and $X$. Such SDEs permit special solvers with a higher order of strong convergence than those for general SDEs. A few such solvers are presented below.\n",
    "\n",
    "The high convergence rate of these solvers comes at the cost of requiring information about the Brownian motion's space-time Lévy area, defined as\n",
    "$$\n",
    "    H_{s,t} = \\frac{1}{t-s}  \\int_{s}^{t}  W_u - \\frac{u - s}{t - s} W_{s,t} \\; du.\n",
    "$$\n",
    "We modified the `VirtualBrownianTree` and the `UnsafeBrownianPath` to compute the increments of $H$ in addition to those of $W$. To enable this functionality, these objects must be initialised with `levy_area=\"space-time\"`.\n",
    "\n",
    "\n",
    "## Langevin diffusion\n",
    "An example of an additive-noise SDE is the Langevin diffusion:\n",
    "\\begin{align*}\n",
    "    d \\mathbf{x}_t &= \\mathbf{v}_t \\, dt \\\\\n",
    "    d \\mathbf{v}_t &= - \\gamma \\, \\mathbf{v}_t \\, dt - u \\,\n",
    "    \\nabla \\! f( \\mathbf{x}_t ) \\, dt + \\sqrt{2 \\gamma u} \\, d W_t.\n",
    "\\end{align*}\n",
    "\n",
    "Below we use four examples of Langevin-type SDEs to demonstrate the operation of our solvers.\n"
   ]
  },
  {
   "cell_type": "markdown",
   "id": "e6b28fd5b4566990",
   "metadata": {
    "collapsed": false
   },
   "source": [
    "# Solvers\n",
    "\n",
    "## ALIGN\n",
    "`ALIGN` has strong order 2 and is FSAL, meaning it only performs 1 evaulation of $\\nabla f$ per step.\n",
    "It can only be used for a Langevin SDE of the form\n",
    "\\begin{align*}\n",
    "    d \\mathbf{x}_t &= \\mathbf{v}_t \\, dt \\\\\n",
    "    d \\mathbf{v}_t &= - \\gamma \\, \\mathbf{v}_t \\, dt - u \\, \\nabla \\! f( \\mathbf{x}_t ) \\, dt + \\sqrt{2 \\gamma u} \\, d W_t.\n",
    "\\end{align*}\n",
    "ALIGN natively supports adaptive-stepping via an embedded method for error estimation.\n",
    "\n",
    "\n",
    "## SORT\n",
    "Similar to ALIGN, but also uses space-time-time Levy area in order to achieve strong order 3. Also only suitable for Langevin SDEs.\n",
    "Uses three evaluations of the vector-field per step, but it is FSAL, so in practice it only uses two.\n",
    "At this point it can only be used adaptively if a `HalfSolver` is used.\n",
    "\n",
    "\n",
    "## ShOULD\n",
    "`ShOULD` takes the 3rd order convergence from `SORT` and complements it with the improved trajectory computation from `ALIGN`. It can only be used for Langevin SDEs.\n",
    "\n",
    "\n",
    "## ShARK\n",
    "`ShARK` normally has strong order 1.5, but when applied to a Langevin SDE it has order 2. Unlike ALIGN or SORT it can be used for any additive-noise SDE.\n",
    " It has a better local error than SRA1. Uses two evaluations of the vector-field per step.\n",
    "\n",
    "Based on equation (6.1) in\n",
    "    Foster, J., dos Reis, G., & Strange, C. (2023).\n",
    "    High order splitting methods for SDEs satisfying a commutativity condition.\n",
    "    arXiv [Math.NA] http://arxiv.org/abs/2210.17543\n",
    "    \n",
    "\n",
    "## SRA1\n",
    "`SRA1` normally has strong order 1.5, but when applied to a Langevin SDE it has order 2. It natively supports adaptive-stepping via an embedded method for error estimation. Uses two evaluations of the vector-field per step.\n",
    "\n",
    "Based on the SRA1 method from\n",
    "    A. Rößler, Runge–Kutta methods for the strong approximation of solutions of stochastic differential equations,\n",
    "    SIAM Journal on Numerical Analysis, 8 (2010), pp. 922–952.\n",
    "    \n",
    "\n",
    "## Shifted Additive-noise Euler (SEA)\n",
    "This variant of the Euler-Maruyama makes use of the space-time Levy area, which improves its local error to $O(h^2)$ compared to $O(h^{1.5})$ of the standard Euler-Maruyama."
   ]
  },
  {
   "cell_type": "code",
   "execution_count": 1,
   "id": "fc0f513d34bcf857",
   "metadata": {
    "ExecuteTime": {
     "end_time": "2024-05-08T11:05:12.474070Z",
     "start_time": "2024-05-08T11:05:11.606443Z"
    },
    "collapsed": false
   },
   "outputs": [
    {
     "name": "stdout",
     "output_type": "stream",
     "text": [
      "env: JAX_PLATFORM_NAME=cuda\n"
     ]
    }
   ],
   "source": [
    "%env JAX_PLATFORM_NAME=cuda\n",
    "\n",
    "from test.helpers import (\n",
    "    get_bqp,\n",
    "    get_harmonic_oscillator,\n",
    "    get_neals_funnel,\n",
    "    get_uld3_langevin,\n",
    "    simple_batch_sde_solve,\n",
    ")\n",
    "\n",
    "import diffrax\n",
    "import jax.numpy as jnp\n",
    "import jax.random as jr\n",
    "import jax.tree_util as jtu\n",
    "from diffrax import (\n",
    "    ALIGN,\n",
    "    diffeqsolve,\n",
    "    PIDController,\n",
    "    ShARK,\n",
    "    ShOULD,\n",
    "    SORT,\n",
    "    UBU3,\n",
    ")\n",
    "from drawing_and_evaluating import (\n",
    "    animated_funnel_plot,\n",
    "    constant_step_strong_order,  # noqa: F401\n",
    "    draw_order_multiple,\n",
    "    load_order_results,\n",
    "    load_ref_sol_langevin,\n",
    "    pid_strong_order,\n",
    "    plot_sol3D,\n",
    "    plot_sol_langevin,\n",
    "    remove_steps,\n",
    "    save_order_results,\n",
    ")\n",
    "from jax import config\n",
    "\n",
    "\n",
    "config.update(\"jax_enable_x64\", True)\n",
    "config.update(\"jax_debug_nans\", False)\n",
    "config.update(\"jax_disable_jit\", False)\n",
    "jnp.set_printoptions(precision=4, suppress=True)\n",
    "\n",
    "dtype = jnp.float64\n",
    "key = jr.PRNGKey(2)\n",
    "num_samples = 5000\n",
    "keys = jr.split(jr.PRNGKey(5678), num=num_samples)\n",
    "keys_funnel = jr.split(jr.PRNGKey(77), 100)\n",
    "\n",
    "t0, t1 = 0.0, 16.0\n",
    "t_short = 4.0\n",
    "t_long = 32.0\n",
    "dt0 = 0.1\n",
    "bm_tol = 2**-16\n",
    "levy_area = diffrax.SpaceTimeTimeLevyArea\n",
    "\n",
    "\n",
    "hosc = get_harmonic_oscillator(t0, t1, dtype=dtype)\n",
    "terms_hosc = hosc.get_terms(hosc.get_bm(key, levy_area=levy_area, tol=2**-10))\n",
    "hosc_short = get_harmonic_oscillator(t0, t_short, dtype=dtype)\n",
    "\n",
    "bqp = get_bqp(t0, t1, dtype=dtype)\n",
    "terms_bqp = bqp.get_terms(bqp.get_bm(key, levy_area=levy_area, tol=2**-10))\n",
    "bqp_short = get_bqp(t0, t_short, dtype=dtype)\n",
    "\n",
    "uld3_long = get_uld3_langevin(t0, t_long, dtype=dtype)\n",
    "terms_uld3_long = uld3_long.get_terms(\n",
    "    uld3_long.get_bm(key, levy_area=levy_area, tol=2**-10)\n",
    ")\n",
    "uld3 = get_uld3_langevin(t0, t1, dtype=dtype)\n",
    "uld3_short = get_uld3_langevin(t0, t_short, dtype=dtype)\n",
    "\n",
    "funnel = get_neals_funnel(t0, t_long, dtype=dtype)\n",
    "terms_funnel = funnel.get_terms(funnel.get_bm(key, levy_area=levy_area, tol=2**-12))\n",
    "\n",
    "half_should = diffrax.HalfSolver(ShOULD(0.01))\n",
    "half_sort = diffrax.HalfSolver(SORT(0.01))\n",
    "half_heun = diffrax.HalfSolver(diffrax.Heun())\n",
    "half_align = diffrax.HalfSolver(ALIGN(0.1))\n",
    "half_shark = diffrax.HalfSolver(ShARK())\n",
    "half_sra1 = diffrax.HalfSolver(diffrax.SRA1())"
   ]
  },
  {
   "cell_type": "markdown",
   "id": "47d711a6e61c04e1",
   "metadata": {},
   "source": [
    "# Experiments on different versions of the langevin SDE\n",
    "\n",
    "## Neal's funnel\n",
    "\n",
    "Neal's funnel is a 10-dimensional funnel-shaped distribution commonly used as test case for MCMC algorithms. The target distribution is given by\n",
    "$$\n",
    "    Z \\sim \\mathcal{N}(0, 3) \\quad \\text{and} \\quad Y \\sim \\mathcal{N}(0, \\exp(Z) \\mathbf{I}_{9}).\n",
    "$$\n",
    "This is easy to sample from normally, but presents a challenge for MCMC methods to converge to, due to the narrow funnel shape.\n",
    "\n",
    "We use the following Langevin SDE to sample from the funnel:\n",
    "\\begin{align*}\n",
    "    d \\mathbf{x}_t &= \\mathbf{v}_t \\, dt \\\\\n",
    "    d \\mathbf{v}_t &= - \\mathbf{v}_t \\, dt - \\,\n",
    "    \\nabla \\log p \\, ( \\mathbf{x}_t ) \\, dt + \\sqrt{2} \\, d W_t\n",
    "\\end{align*}\n",
    "\n",
    "where $p$ is the target distribution."
   ]
  },
  {
   "cell_type": "code",
   "execution_count": 2,
   "id": "c029dac2650adbbe",
   "metadata": {
    "ExecuteTime": {
     "end_time": "2024-05-08T11:05:16.904135Z",
     "start_time": "2024-05-08T11:05:16.884294Z"
    }
   },
   "outputs": [],
   "source": [
    "# ref_sol_funnel = get_fine_solutions(keys_funnel, funnel, SORT(0.01), levy_area, bm_tol, 6, 15)\n",
    "# jnp.save(\"data/ref_sol_funnel.npy\", ref_sol_funnel)\n",
    "ref_sol_funnel = load_ref_sol_langevin(\"funnel\")"
   ]
  },
  {
   "cell_type": "code",
   "execution_count": 3,
   "id": "eda84c4e494b9199",
   "metadata": {
    "ExecuteTime": {
     "end_time": "2024-05-08T11:09:00.539121Z",
     "start_time": "2024-05-08T11:05:29.684122Z"
    }
   },
   "outputs": [
    {
     "name": "stderr",
     "output_type": "stream",
     "text": [
      "100.00%|██████████| [00:12<00:00,  7.84%/s]\n",
      "100.00%|██████████| [00:01<00:00, 81.12%/s]\n",
      "100.00%|██████████| [00:01<00:00, 91.60%/s]\n",
      "100.00%|██████████| [00:01<00:00, 81.79%/s]\n",
      "100.00%|██████████| [00:01<00:00, 77.34%/s]\n",
      "100.00%|██████████| [00:01<00:00, 74.69%/s]\n",
      "100.00%|██████████| [00:01<00:00, 51.05%/s]\n",
      "100.00%|██████████| [00:02<00:00, 46.75%/s]\n",
      "100.00%|██████████| [00:02<00:00, 42.81%/s]\n",
      "100.00%|██████████| [00:02<00:00, 35.66%/s]\n",
      "100.00%|██████████| [00:03<00:00, 32.69%/s]\n",
      "100.00%|██████████| [00:03<00:00, 28.43%/s]\n",
      "100.00%|██████████| [00:04<00:00, 24.49%/s]\n",
      "100.00%|██████████| [00:04<00:00, 20.96%/s]\n",
      "100.00%|██████████| [00:05<00:00, 17.82%/s]\n",
      "100.00%|██████████| [00:06<00:00, 15.05%/s]\n",
      "100.00%|██████████| [00:07<00:00, 13.18%/s]\n",
      "100.00%|██████████| [00:09<00:00, 11.05%/s]\n"
     ]
    },
    {
     "name": "stdout",
     "output_type": "stream",
     "text": [
      "Saved data/order_results_funnel_SORT_pid.npy\n",
      "Loaded data/order_results_funnel_SORT_pid.npy\n",
      "Loaded data/order_results_funnel_SORT_const.npy\n",
      "Loaded data/order_results_funnel_SRA1_pid.npy\n",
      "Loaded data/order_results_funnel_Euler_const.npy\n",
      "Loaded data/order_results_funnel_UBU3_const.npy\n"
     ]
    }
   ],
   "source": [
    "out_SORT_funnel_pid = pid_strong_order(\n",
    "    keys_funnel,\n",
    "    funnel,\n",
    "    half_sort,\n",
    "    (4, 20),\n",
    "    bm_tol,\n",
    "    levy_area,\n",
    "    ref_sol_funnel,\n",
    ")\n",
    "save_order_results(out_SORT_funnel_pid, \"funnel_SORT_pid\")\n",
    "out_SORT_funnel_pid = load_order_results(\"funnel_SORT_pid\")\n",
    "\n",
    "# out_SORT_funnel_const = constant_step_strong_order(\n",
    "#     keys_funnel, funnel, SORT(0.01), (6, 12), bm_tol, levy_area, ref_sol_funnel\n",
    "# )\n",
    "# save_order_results(out_SORT_funnel_const, \"funnel_SORT_const\")\n",
    "out_SORT_funnel_const = load_order_results(\"funnel_SORT_const\")\n",
    "\n",
    "# out_SRA1_funnel_pid = pid_strong_order(keys_funnel, funnel, half_sra1, (1, 11), bm_tol, levy_area, ref_sol_funnel)\n",
    "# save_order_results(out_SRA1_funnel_pid, \"funnel_SRA1_pid\")\n",
    "out_SRA1_funnel_pid = load_order_results(\"funnel_SRA1_pid\")\n",
    "\n",
    "# out_Euler_funnel_const = constant_step_strong_order(\n",
    "#     keys_funnel, funnel, diffrax.Euler(), (6, 13), bm_tol, levy_area, ref_sol_funnel\n",
    "# )\n",
    "# save_order_results(out_Euler_funnel_const, \"funnel_Euler_const\")\n",
    "out_Euler_funnel_const = load_order_results(\"funnel_Euler_const\")\n",
    "\n",
    "# out_UBU3_funnel_const = constant_step_strong_order(\n",
    "#     keys_funnel, funnel, UBU3(0.01), (6, 12), bm_tol, levy_area, ref_sol_funnel\n",
    "# )\n",
    "# save_order_results(out_UBU3_funnel_const, \"funnel_UBU3_const\")\n",
    "out_UBU3_funnel_const = load_order_results(\"funnel_UBU3_const\")"
   ]
  },
  {
   "cell_type": "code",
   "execution_count": 8,
   "id": "db82071140149584",
   "metadata": {
    "ExecuteTime": {
     "end_time": "2024-04-18T19:01:50.469937Z",
     "start_time": "2024-04-18T19:01:50.467407Z"
    }
   },
   "outputs": [],
   "source": [
    "out_SORT_funnel_pid = remove_steps(out_SORT_funnel_pid, 6, 0)\n",
    "out_SORT_funnel_const = remove_steps(out_SORT_funnel_const, 0, 1)\n",
    "out_UBU3_funnel_const = remove_steps(out_UBU3_funnel_const, 0, 1)"
   ]
  },
  {
   "cell_type": "code",
   "execution_count": 9,
   "id": "d8ca5c038ac87796",
   "metadata": {
    "ExecuteTime": {
     "end_time": "2024-04-18T19:01:51.465785Z",
     "start_time": "2024-04-18T19:01:51.138820Z"
    }
   },
   "outputs": [],
   "source": [
    "fig = draw_order_multiple(\n",
    "    [\n",
    "        out_Euler_funnel_const,\n",
    "        out_SRA1_funnel_pid,\n",
    "        out_SORT_funnel_const,\n",
    "        out_SORT_funnel_pid,\n",
    "        out_UBU3_funnel_const,\n",
    "    ],\n",
    "    [\n",
    "        \"Euler constant\",\n",
    "        \"SRA1 adaptive\",\n",
    "        \"SORT constant\",\n",
    "        \"SORT adaptive\",\n",
    "        \"UBU3 constant\",\n",
    "    ],\n",
    "    title=\"Neal's funnel\",\n",
    ")\n",
    "# fig.savefig(\"graphs/funnel_convergence.png\")\n",
    "# fig.savefig(\"graphs/funnel_convergence.pdf\")"
   ]
  },
  {
   "cell_type": "markdown",
   "id": "741ab3f91907a29d",
   "metadata": {},
   "source": "Make an animation of the funnel sampling process"
  },
  {
   "cell_type": "code",
   "execution_count": 21,
   "id": "ee8a7ec27ba5e828",
   "metadata": {},
   "outputs": [],
   "source": [
    "funnel_save_steps = jnp.linspace(t0, t_long, 2**9 + 1, endpoint=True)\n",
    "pid_contr = PIDController(\n",
    "    pcoeff=0.1,\n",
    "    icoeff=0.3,\n",
    "    rtol=0,\n",
    "    atol=2**-10,\n",
    "    step_ts=funnel_save_steps,\n",
    "    dtmin=2**-14,\n",
    ")\n",
    "batch_solSORTfunnel = simple_batch_sde_solve(\n",
    "    keys_funnel,\n",
    "    funnel,\n",
    "    half_sort,\n",
    "    levy_area,\n",
    "    None,\n",
    "    controller=pid_contr,\n",
    "    bm_tol=2**-16,\n",
    "    saveat=diffrax.SaveAt(ts=funnel_save_steps),\n",
    ")\n",
    "ani, fig, ax = animated_funnel_plot(batch_solSORTfunnel)\n",
    "ani.save(\"funnel.gif\", writer=\"pillow\")"
   ]
  },
  {
   "cell_type": "code",
   "execution_count": null,
   "id": "c1b8da4db9de0fd4",
   "metadata": {},
   "outputs": [],
   "source": [
    "out_Heun_funnel_pid = pid_strong_order(keys_funnel, funnel, half_heun, (1, 5))\n",
    "out_ShARK_funnel_pid = pid_strong_order(keys_funnel, funnel, half_shark, (2, 7))\n",
    "out_ALIGN_funnel_pid = pid_strong_order(keys_funnel, funnel, half_align, (3, 8))\n",
    "out_ShOULD_funnel_pid = pid_strong_order(\n",
    "    keys_funnel,\n",
    "    funnel,\n",
    "    half_should,\n",
    "    (0, 5),\n",
    ")\n",
    "save_order_results(out_ShOULD_funnel_pid, \"funnel_ShOULD_pid\")\n",
    "# out_ShOULD_funnel_pid = load_order_results(\"funnel_ShOULD_pid\")"
   ]
  },
  {
   "cell_type": "markdown",
   "id": "6b04a83566b1826b",
   "metadata": {},
   "source": [
    "## A 2D Harmonic Oscillator\n",
    "\\begin{align*}\n",
    "    d \\mathbf{x}_t &= \\mathbf{v}_t \\, dt \\\\\n",
    "    d \\mathbf{v}_t &= - \\gamma \\, \\mathbf{v}_t \\, dt - u \\, \\mathbf{x}_t \\, dt + \\sqrt{2 \\gamma u} \\, d W_t\n",
    "\\end{align*}\n",
    "where $\\mathbf{x}_t, \\mathbf{v}_t, W_t \\in \\mathbb{R}^2$."
   ]
  },
  {
   "cell_type": "code",
   "execution_count": 2,
   "id": "cf22da7ffa9a2b95",
   "metadata": {
    "ExecuteTime": {
     "end_time": "2024-05-08T11:04:07.116641Z",
     "start_time": "2024-05-08T11:04:04.719392Z"
    }
   },
   "outputs": [
    {
     "name": "stderr",
     "output_type": "stream",
     "text": [
      "100.00%|██████████| [00:00<00:00, 245.21%/s]\n"
     ]
    },
    {
     "data": {
      "image/png": "[encoded data removed]",
      "text/plain": [
       "<Figure size 640x480 with 1 Axes>"
      ]
     },
     "metadata": {},
     "output_type": "display_data"
    }
   ],
   "source": [
    "solUBU = diffeqsolve(\n",
    "    terms_hosc,\n",
    "    UBU3(0.0),\n",
    "    t0,\n",
    "    t1,\n",
    "    dt0=dt0,\n",
    "    y0=hosc.y0,\n",
    "    args=hosc.args,\n",
    "    saveat=diffrax.SaveAt(steps=True),\n",
    "    progress_meter=diffrax.TqdmProgressMeter(),\n",
    ")\n",
    "plot_sol_langevin(solUBU)"
   ]
  },
  {
   "cell_type": "code",
   "execution_count": 10,
   "id": "84241d97894438a8",
   "metadata": {
    "ExecuteTime": {
     "end_time": "2024-04-18T19:02:22.777540Z",
     "start_time": "2024-04-18T19:02:22.750917Z"
    }
   },
   "outputs": [],
   "source": [
    "# Save the finely discretised solutions for the harmonic oscillator\n",
    "# ref_sol_hosc = get_fine_solutions(keys, hosc_short, ShARK(), levy_area, bm_tol, 6, 16)\n",
    "# jnp.save(\"data/ref_sol_hosc.npy\", ref_sol_hosc)\n",
    "ref_sol_hosc = load_ref_sol_langevin(\"hosc\")\n",
    "print(jtu.tree_map(lambda x: x.shape, ref_sol_hosc))"
   ]
  },
  {
   "cell_type": "code",
   "execution_count": 11,
   "id": "84d3509ae3f3f61e",
   "metadata": {
    "ExecuteTime": {
     "end_time": "2024-04-18T19:02:23.204550Z",
     "start_time": "2024-04-18T19:02:23.199717Z"
    }
   },
   "outputs": [],
   "source": [
    "# out_ALIGN_hosc = constant_step_strong_order(keys, hosc_short, ALIGN(0.1), (2, 8), bm_tol, levy_area, ref_sol_hosc)\n",
    "# save_order_results(out_ALIGN_hosc, \"hosc_ALIGN_const\")\n",
    "out_ALIGN_hosc = load_order_results(\"hosc_ALIGN_const\")\n",
    "\n",
    "# out_ShOULD_hosc = constant_step_strong_order(\n",
    "#     keys, hosc_short, ShOULD(0.01), (2, 8), bm_tol, levy_area, ref_sol_hosc\n",
    "# )\n",
    "# save_order_results(out_ShOULD_hosc, \"hosc_ShOULD_const\")\n",
    "out_ShOULD_hosc = load_order_results(\"hosc_ShOULD_const\")\n",
    "\n",
    "# out_SORT_hosc = constant_step_strong_order(keys, hosc_short, SORT(0.01), (2, 8), bm_tol, levy_area, ref_sol_hosc)\n",
    "# save_order_results(out_SORT_hosc, \"hosc_SORT_const\")\n",
    "out_SORT_hosc = load_order_results(\"hosc_SORT_const\")\n",
    "\n",
    "# out_ShARK_hosc = constant_step_strong_order(keys, hosc_short, ShARK(), (2, 8), bm_tol, levy_area, ref_sol_hosc)\n",
    "# save_order_results(out_ShARK_hosc, \"hosc_ShARK_const\")\n",
    "out_ShARK_hosc = load_order_results(\"hosc_ShARK_const\")\n",
    "\n",
    "# out_UBU3_hosc = constant_step_strong_order(keys, hosc_short, UBU3(0.01), (2, 8), bm_tol, levy_area, ref_sol_hosc)\n",
    "# save_order_results(out_UBU3_hosc, \"hosc_UBU3_const\")\n",
    "out_UBU3_hosc = load_order_results(\"hosc_UBU3_const\")"
   ]
  },
  {
   "cell_type": "code",
   "execution_count": 12,
   "id": "2a79285b27cc48e9",
   "metadata": {
    "ExecuteTime": {
     "end_time": "2024-04-18T19:02:25.358898Z",
     "start_time": "2024-04-18T19:02:25.097480Z"
    },
    "collapsed": false
   },
   "outputs": [],
   "source": [
    "_ = draw_order_multiple(\n",
    "    [out_ALIGN_hosc, out_ShOULD_hosc, out_SORT_hosc, out_ShARK_hosc, out_UBU3_hosc],\n",
    "    [\"ALIGN\", \"ShOULD\", \"SORT\", \"ShARK\", \"UBU3\"],\n",
    "    title=\"Harmonic oscillator\",\n",
    ")"
   ]
  },
  {
   "cell_type": "markdown",
   "id": "f3aab424a06335d1",
   "metadata": {
    "collapsed": false
   },
   "source": [
    "## Particle in a Bistable Quartic Potential\n",
    "\\begin{align*}\n",
    "    d x_t &= v_t \\, dt \\\\\n",
    "    d v_t &= - \\gamma \\, v_t \\, dt - u \\, \\nabla \\! f( x_t ) \\, dt + \\sqrt{2 \\gamma u} \\, d W_t\n",
    "\\end{align*}\n",
    "where $x_t, v_t, W_t \\in \\mathbb{R}$ and $f(x) = (x-1)^2 (x+1)^2$."
   ]
  },
  {
   "cell_type": "code",
   "execution_count": 6,
   "id": "b0fc93fb31b1d087",
   "metadata": {
    "ExecuteTime": {
     "end_time": "2024-04-18T17:50:49.652987Z",
     "start_time": "2024-04-18T17:50:47.808567Z"
    },
    "collapsed": false
   },
   "outputs": [],
   "source": [
    "solALIGN_bqp = diffeqsolve(\n",
    "    terms_bqp,\n",
    "    ALIGN(0.1),\n",
    "    t0,\n",
    "    t1,\n",
    "    dt0=dt0,\n",
    "    y0=bqp.y0,\n",
    "    args=bqp.args,\n",
    "    saveat=diffrax.SaveAt(steps=True),\n",
    ")\n",
    "plot_sol_langevin(solALIGN_bqp)"
   ]
  },
  {
   "cell_type": "code",
   "execution_count": 14,
   "id": "3106a310c78b0e6c",
   "metadata": {
    "ExecuteTime": {
     "end_time": "2024-04-18T19:02:46.448050Z",
     "start_time": "2024-04-18T19:02:46.443506Z"
    }
   },
   "outputs": [],
   "source": [
    "# ref_sol_bqp = get_fine_solutions(keys, bqp_short, ShARK(), levy_area, bm_tol, 6, 16)\n",
    "# save_ref_sol(ref_sol_bqp, \"bqp\")\n",
    "ref_sol_bqp = load_ref_sol_langevin(\"bqp\")\n",
    "print(jtu.tree_map(lambda x: x.shape, ref_sol_bqp))"
   ]
  },
  {
   "cell_type": "code",
   "execution_count": 15,
   "id": "e6d70f3b12c3e771",
   "metadata": {
    "ExecuteTime": {
     "end_time": "2024-04-18T19:02:46.889961Z",
     "start_time": "2024-04-18T19:02:46.886634Z"
    },
    "collapsed": false
   },
   "outputs": [],
   "source": [
    "# out_ALIGN_bqp = constant_step_strong_order(keys, bqp_short, ALIGN(0.1), (2,8), bm_tol, levy_area, ref_sol_bqp)\n",
    "# save_order_results(out_ALIGN_bqp, \"bqp_ALIGN_const\")\n",
    "out_ALIGN_bqp = load_order_results(\"bqp_ALIGN_const\")\n",
    "\n",
    "# out_ShOULD_bqp = constant_step_strong_order(\n",
    "#     keys, bqp_short, ShOULD(0.01), (2,8), bm_tol, levy_area, ref_sol_bqp\n",
    "# )\n",
    "# save_order_results(out_ShOULD_bqp, \"bqp_ShOULD_const\")\n",
    "out_ShOULD_bqp = load_order_results(\"bqp_ShOULD_const\")\n",
    "\n",
    "# out_SORT_bqp = constant_step_strong_order(keys, bqp_short, SORT(0.01), (2,8), bm_tol, levy_area, ref_sol_bqp)\n",
    "# save_order_results(out_SORT_bqp, \"bqp_SORT_const\")\n",
    "out_SORT_bqp = load_order_results(\"bqp_SORT_const\")\n",
    "\n",
    "# out_ShARK_bqp = constant_step_strong_order(keys, bqp_short, ShARK(), (2,8), bm_tol, levy_area, ref_sol_bqp)\n",
    "# save_order_results(out_ShARK_bqp, \"bqp_ShARK_const\")\n",
    "out_ShARK_bqp = load_order_results(\"bqp_ShARK_const\")\n",
    "\n",
    "# out_UBU3_bqp = constant_step_strong_order(keys, bqp_short, UBU3(0.01), (2,8), bm_tol, levy_area, ref_sol_bqp)\n",
    "# save_order_results(out_UBU3_bqp, \"bqp_UBU3_const\")\n",
    "out_UBU3_bqp = load_order_results(\"bqp_UBU3_const\")"
   ]
  },
  {
   "cell_type": "code",
   "execution_count": 16,
   "id": "17e70002e01577c1",
   "metadata": {
    "ExecuteTime": {
     "end_time": "2024-04-18T19:02:48.946352Z",
     "start_time": "2024-04-18T19:02:48.672294Z"
    },
    "collapsed": false
   },
   "outputs": [],
   "source": [
    "_ = draw_order_multiple(\n",
    "    [out_ALIGN_bqp, out_ShOULD_bqp, out_SORT_bqp, out_ShARK_bqp, out_UBU3_bqp],\n",
    "    [\"ALIGN\", \"ShOULD\", \"SORT\", \"ShARK\", \"UBU3\"],\n",
    "    title=\"Bistable Quartic Potential\",\n",
    ")"
   ]
  },
  {
   "cell_type": "markdown",
   "id": "3e171b0178168e74",
   "metadata": {
    "collapsed": false
   },
   "source": [
    "## The \"ULD3\" Oscillator\n",
    "Three particles in a 3D potential with three minima at (2, 2, 2), (-2, -2, -2) and (3, -1, 0)."
   ]
  },
  {
   "cell_type": "code",
   "execution_count": 17,
   "id": "8c9ff126eeab4183",
   "metadata": {
    "ExecuteTime": {
     "end_time": "2024-02-08T14:09:53.227754229Z",
     "start_time": "2024-02-08T14:09:47.965391015Z"
    },
    "collapsed": false
   },
   "outputs": [],
   "source": [
    "solALIGN_uld3 = diffeqsolve(\n",
    "    terms_uld3_long,\n",
    "    ALIGN(0.1),\n",
    "    t0,\n",
    "    t_long,\n",
    "    dt0=dt0,\n",
    "    y0=uld3_long.y0,\n",
    "    args=uld3_long.args,\n",
    "    saveat=diffrax.SaveAt(steps=True),\n",
    ")\n",
    "plot_sol_langevin(solALIGN_uld3)\n",
    "plot_sol3D(solALIGN_uld3)"
   ]
  },
  {
   "cell_type": "code",
   "execution_count": 17,
   "id": "6221a6f94e098982",
   "metadata": {
    "ExecuteTime": {
     "end_time": "2024-04-18T19:02:58.524516Z",
     "start_time": "2024-04-18T19:02:58.478967Z"
    }
   },
   "outputs": [],
   "source": [
    "# ref_sol_uld3 = get_fine_solutions(keys, uld3_short, ShARK(), levy_area, bm_tol, 6, 16)\n",
    "# jnp.save(\"data/ref_sol_uld3.npy\", ref_sol_uld3)\n",
    "ref_sol_uld3 = load_ref_sol_langevin(\"uld3\")\n",
    "print(jtu.tree_map(lambda x: x.shape, ref_sol_uld3))"
   ]
  },
  {
   "cell_type": "code",
   "execution_count": 18,
   "id": "9777fd08025e487b",
   "metadata": {
    "ExecuteTime": {
     "end_time": "2024-04-18T19:03:00.288986Z",
     "start_time": "2024-04-18T19:03:00.285672Z"
    },
    "collapsed": false
   },
   "outputs": [],
   "source": [
    "# out_ALIGN_uld3 = constant_step_strong_order(keys, uld3_short, ALIGN(0.1), (2,8), bm_tol, levy_area, ref_sol_uld3)\n",
    "# save_order_results(out_ALIGN_uld3, \"uld3_ALIGN_const\")\n",
    "out_ALIGN_uld3 = load_order_results(\"uld3_ALIGN_const\")\n",
    "\n",
    "# out_ShOULD_uld3 = constant_step_strong_order(\n",
    "#     keys, uld3_short, ShOULD(0.01), (2,8), bm_tol, levy_area, ref_sol_uld3\n",
    "# )\n",
    "# save_order_results(out_ShOULD_uld3, \"uld3_ShOULD_const\")\n",
    "out_ShOULD_uld3 = load_order_results(\"uld3_ShOULD_const\")\n",
    "\n",
    "# out_SORT_uld3 = constant_step_strong_order(keys, uld3_short, SORT(0.01), (2,8), bm_tol, levy_area, ref_sol_uld3)\n",
    "# save_order_results(out_SORT_uld3, \"uld3_SORT_const\")\n",
    "out_SORT_uld3 = load_order_results(\"uld3_SORT_const\")\n",
    "\n",
    "# out_ShARK_uld3 = constant_step_strong_order(keys, uld3_short, ShARK(), (2,8), bm_tol, levy_area, ref_sol_uld3)\n",
    "# save_order_results(out_ShARK_uld3, \"uld3_ShARK_const\")\n",
    "out_ShARK_uld3 = load_order_results(\"uld3_ShARK_const\")\n",
    "\n",
    "# out_UBU3_uld3 = constant_step_strong_order(keys, uld3_short, UBU3(0.01), (2,8), bm_tol, levy_area, ref_sol_uld3)\n",
    "# save_order_results(out_UBU3_uld3, \"uld3_UBU3_const\")\n",
    "out_UBU3_uld3 = load_order_results(\"uld3_UBU3_const\")"
   ]
  },
  {
   "cell_type": "code",
   "execution_count": 19,
   "id": "495b95cd4bb34d",
   "metadata": {
    "ExecuteTime": {
     "end_time": "2024-04-18T19:03:01.486668Z",
     "start_time": "2024-04-18T19:03:01.193846Z"
    },
    "collapsed": false
   },
   "outputs": [],
   "source": [
    "_ = draw_order_multiple(\n",
    "    [out_ALIGN_uld3, out_ShOULD_uld3, out_SORT_uld3, out_ShARK_uld3, out_UBU3_uld3],\n",
    "    [\"ALIGN\", \"ShOULD\", \"SORT\", \"ShARK\", \"UBU3\"],\n",
    "    title=\"ULD3\",\n",
    ")"
   ]
  }
 ],
 "metadata": {
  "kernelspec": {
   "display_name": "Python 3",
   "language": "python",
   "name": "python3"
  },
  "language_info": {
   "codemirror_mode": {
    "name": "ipython",
    "version": 2
   },
   "file_extension": ".py",
   "mimetype": "text/x-python",
   "name": "python",
   "nbconvert_exporter": "python",
   "pygments_lexer": "ipython2",
   "version": "2.7.6"
  }
 },
 "nbformat": 4,
 "nbformat_minor": 5
}
