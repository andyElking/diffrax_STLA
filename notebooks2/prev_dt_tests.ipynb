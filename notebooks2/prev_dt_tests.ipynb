{
 "cells": [
  {
   "cell_type": "code",
   "id": "initial_id",
   "metadata": {
    "collapsed": true,
    "ExecuteTime": {
     "end_time": "2024-08-17T12:03:01.120384Z",
     "start_time": "2024-08-17T12:03:00.653632Z"
    }
   },
   "source": [
    "from warnings import simplefilter\n",
    "simplefilter(\"ignore\", category=FutureWarning)\n",
    "\n",
    "import diffrax\n",
    "import equinox as eqx\n",
    "import jax\n",
    "import jax.numpy as jnp\n",
    "import jax.random as jr\n",
    "import jax.tree_util as jtu\n",
    "from jaxtyping import Array\n",
    "\n",
    "from test.helpers import path_l2_dist\n",
    "\n",
    "jax.config.update(\"jax_enable_x64\", True)"
   ],
   "outputs": [],
   "execution_count": 1
  },
  {
   "metadata": {},
   "cell_type": "markdown",
   "source": "## Set `jump_ts` so that some steps must be clipped very short",
   "id": "56360607ed8c94dc"
  },
  {
   "metadata": {
    "ExecuteTime": {
     "end_time": "2024-08-17T12:03:02.220570Z",
     "start_time": "2024-08-17T12:03:01.221205Z"
    }
   },
   "cell_type": "code",
   "source": [
    "# harmonic oscillator ODE\n",
    "y0 = jnp.array([1.0, 0.0])\n",
    "def vf(t, y, args):\n",
    "    return jnp.array([y[1], -y[0]])\n",
    "\n",
    "term = diffrax.ODETerm(vf)\n",
    "\n",
    "solver = diffrax.Dopri5()\n",
    "t0 = 0\n",
    "t1 = 17\n",
    "dt0 = None\n",
    "\n",
    "jump_ts = []\n",
    "for i in range(1, int(t1)):\n",
    "    jump_ts.append(i)\n",
    "    jump_ts.append(i + 0.0001)\n",
    "jump_ts = jnp.array(jump_ts, dtype=jnp.float64)\n",
    "\n",
    "save_ts = jnp.linspace(t0, t1, 101, endpoint=True, dtype=jnp.float64)\n",
    "saveat = diffrax.SaveAt(ts=save_ts)\n",
    "\n",
    "ref_pid = diffrax.PIDController(atol=1e-8, rtol=0)\n",
    "ref_contr = diffrax.JumpStepWrapper(ref_pid, step_ts=save_ts)\n",
    "ref_sol = diffrax.diffeqsolve(term, solver, t0, t1, dt0, y0,\n",
    "    stepsize_controller=ref_contr,\n",
    "    saveat=saveat\n",
    ")"
   ],
   "id": "d3adbbc2a0839d2",
   "outputs": [],
   "execution_count": 2
  },
  {
   "metadata": {
    "ExecuteTime": {
     "end_time": "2024-08-17T12:03:03.720368Z",
     "start_time": "2024-08-17T12:03:02.272490Z"
    }
   },
   "cell_type": "code",
   "source": [
    "pid_controller = diffrax.PIDController(atol=1e-5, rtol=0)\n",
    "my_controller = diffrax.JumpStepWrapper(pid_controller, jump_ts=jump_ts)\n",
    "patricks_controller = diffrax.JumpStepWrapper(pid_controller, jump_ts=jump_ts, use_patricks_version=True)\n",
    "my_sol = diffrax.diffeqsolve(term, solver, t0, t1, dt0, y0,\n",
    "    stepsize_controller=my_controller,\n",
    "    saveat=saveat\n",
    ")\n",
    "patricks_sol = diffrax.diffeqsolve(term, solver, t0, t1, dt0, y0,\n",
    "    stepsize_controller=patricks_controller,\n",
    "    saveat=saveat\n",
    ")\n",
    "\n",
    "# Compare both solutions to ref_sol\n",
    "my_error = path_l2_dist(ref_sol.ys, my_sol.ys)\n",
    "patricks_error = path_l2_dist(ref_sol.ys, patricks_sol.ys)\n",
    "my_steps = my_sol.stats[\"num_steps\"]\n",
    "my_rejected = my_steps - my_sol.stats[\"num_accepted_steps\"]\n",
    "patricks_steps = patricks_sol.stats[\"num_steps\"]\n",
    "patricks_rejected = patricks_steps - patricks_sol.stats[\"num_accepted_steps\"]\n",
    "\n",
    "print(f\"My error: {my_error:.5}, Patrick's error: {patricks_error:.5}\")\n",
    "print(f\"My num_steps: {my_sol.stats['num_steps']}, Patrick's num_steps: {patricks_sol.stats['num_steps']}\")\n",
    "print(f\"My num_rejected: {my_rejected}, Patrick's num_rejected: {patricks_rejected}\")"
   ],
   "id": "a64cecedabb06447",
   "outputs": [
    {
     "name": "stdout",
     "output_type": "stream",
     "text": [
      "My error: 3.5409e-05, Patrick's error: 3.4735e-05\n",
      "My num_steps: 69, Patrick's num_steps: 85\n",
      "My num_rejected: 0, Patrick's num_rejected: 16\n"
     ]
    }
   ],
   "execution_count": 3
  },
  {
   "metadata": {},
   "cell_type": "markdown",
   "source": "Clearly your version rejects exactly one step after each pair of `i, i+0.0001` in `jump_ts` (there are 16 such pairs). This is because `prev_dt * factor` is way too big. `prev_dt` was indeed chosen \"optimally\", but `factor` was computed using the error from the step `t1-t0` in a way that would make `(t1-t0) * factor` close to optimal, but since `prev_dt >> t1-t0`, then also `prev_dt * factor` is way too big and gets rejected.",
   "id": "53c7fc80f46871a5"
  }
 ],
 "metadata": {
  "kernelspec": {
   "display_name": "Python 3",
   "language": "python",
   "name": "python3"
  },
  "language_info": {
   "codemirror_mode": {
    "name": "ipython",
    "version": 2
   },
   "file_extension": ".py",
   "mimetype": "text/x-python",
   "name": "python",
   "nbconvert_exporter": "python",
   "pygments_lexer": "ipython2",
   "version": "2.7.6"
  }
 },
 "nbformat": 4,
 "nbformat_minor": 5
}
