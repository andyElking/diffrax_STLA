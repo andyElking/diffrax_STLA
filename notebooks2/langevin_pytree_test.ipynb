{
 "cells": [
  {
   "cell_type": "code",
   "execution_count": 1,
   "id": "1fa0fe790516f4c2",
   "metadata": {
    "ExecuteTime": {
     "end_time": "2024-05-07T19:17:20.306701Z",
     "start_time": "2024-05-07T19:17:19.476119Z"
    },
    "collapsed": true
   },
   "source": [
    "import jax\n",
    "import jax.numpy as jnp\n",
    "import jax.random as jr\n",
    "import jax.tree_util as jtu\n",
    "from diffrax import (\n",
    "    ALIGN,\n",
    "    diffeqsolve,\n",
    "    Euler,\n",
    "    LangevinTerm,\n",
    "    SaveAt,\n",
    "    ShOULD,\n",
    "    SORT,\n",
    "    SpaceTimeTimeLevyArea,\n",
    "    UBU3,\n",
    "    VirtualBrownianTree,\n",
    ")\n",
    "from drawing_and_evaluating import plot_sol_langevin\n",
    "\n",
    "\n",
    "x0 = {\n",
    "    \"a\": (jnp.ones((2,)), jnp.ones((2,)), jnp.ones((2,))),\n",
    "    \"b\": (\n",
    "        jnp.ones((5,)),\n",
    "        jnp.ones((3,)),\n",
    "    ),\n",
    "}\n",
    "v0 = {\n",
    "    \"a\": (jnp.zeros((2,)), jnp.zeros((2,)), jnp.zeros((2,))),\n",
    "    \"b\": (\n",
    "        jnp.zeros((5,)),\n",
    "        jnp.zeros((3,)),\n",
    "    ),\n",
    "}\n",
    "y0 = (x0, v0)\n",
    "\n",
    "g1 = {\n",
    "    \"a\": 0.5 * jnp.ones((2,)),\n",
    "    \"b\": (\n",
    "        jnp.ones(()),\n",
    "        jnp.ones((3,)),\n",
    "    ),\n",
    "}\n",
    "\n",
    "u1 = {\"a\": (jnp.ones(()), 1000.0, jnp.ones((2,))), \"b\": jnp.ones(())}\n",
    "\n",
    "\n",
    "def grad_f(x):\n",
    "    xa = x[\"a\"]\n",
    "    xb = x[\"b\"]\n",
    "    return {\"a\": jtu.tree_map(lambda _x: 0.2 * _x, xa), \"b\": xb}\n",
    "\n",
    "\n",
    "args = g1, u1, grad_f\n",
    "\n",
    "vbt_shape = jtu.tree_map(lambda _x: jax.ShapeDtypeStruct(_x.shape, _x.dtype), x0)\n",
    "\n",
    "vbt = VirtualBrownianTree(0.0, 1.0, 0.001, vbt_shape, jr.key(0), SpaceTimeTimeLevyArea)\n",
    "\n",
    "lt = LangevinTerm(args, vbt, x0)"
   ],
   "outputs": []
  },
  {
   "cell_type": "code",
   "execution_count": null,
   "id": "35b1d6a636f5463d",
   "metadata": {},
   "source": [],
   "outputs": []
  },
  {
   "cell_type": "code",
   "execution_count": 3,
   "id": "d5ea9a0366a6154c",
   "metadata": {
    "ExecuteTime": {
     "end_time": "2024-05-07T19:18:06.155129Z",
     "start_time": "2024-05-07T19:18:03.341215Z"
    }
   },
   "source": [
    "from test.helpers import get_pytree_langevin\n",
    "\n",
    "\n",
    "sde = get_pytree_langevin(0.0, 1.0)\n",
    "vbt = sde.get_bm(jr.key(0), SpaceTimeTimeLevyArea, 0.01)\n",
    "print(vbt.shape)\n",
    "print(vbt.evaluate(0.0, 0.33, use_levy=True))"
   ],
   "outputs": []
  },
  {
   "cell_type": "code",
   "execution_count": 2,
   "id": "23bcdb23df95fb2e",
   "metadata": {
    "ExecuteTime": {
     "end_time": "2024-05-07T18:29:18.041986Z",
     "start_time": "2024-05-07T18:29:08.114132Z"
    }
   },
   "source": [
    "sol_ShOULD_tay = diffeqsolve(\n",
    "    lt, ShOULD(100.0), 0.0, 1.0, 0.02, y0, None, saveat=SaveAt(steps=True)\n",
    ")\n",
    "sol_ShOULD_direct = diffeqsolve(\n",
    "    lt, ShOULD(0.0), 0.0, 1.0, 0.02, y0, None, saveat=SaveAt(steps=True)\n",
    ")\n",
    "plot_sol_langevin(sol_ShOULD_tay)\n",
    "plot_sol_langevin(sol_ShOULD_direct)"
   ],
   "outputs": []
  },
  {
   "cell_type": "code",
   "execution_count": 3,
   "id": "de1a1435cb05247c",
   "metadata": {
    "ExecuteTime": {
     "end_time": "2024-05-07T18:29:26.723934Z",
     "start_time": "2024-05-07T18:29:18.042796Z"
    }
   },
   "source": [
    "sol_SORT_tay = diffeqsolve(\n",
    "    lt, SORT(100.0), 0.0, 1.0, 0.02, y0, None, saveat=SaveAt(steps=True)\n",
    ")\n",
    "sol_SORT_direct = diffeqsolve(\n",
    "    lt, SORT(0.0), 0.0, 1.0, 0.02, y0, None, saveat=SaveAt(steps=True)\n",
    ")\n",
    "plot_sol_langevin(sol_SORT_tay)\n",
    "plot_sol_langevin(sol_SORT_direct)"
   ],
   "outputs": []
  },
  {
   "cell_type": "code",
   "execution_count": 2,
   "id": "2fe527111e75d49e",
   "metadata": {
    "ExecuteTime": {
     "end_time": "2024-05-07T17:45:17.324472Z",
     "start_time": "2024-05-07T17:45:09.144927Z"
    }
   },
   "source": [
    "sol_ALIGN_tay = diffeqsolve(\n",
    "    lt, ALIGN(100.0), 0.0, 1.0, 0.02, y0, None, saveat=SaveAt(steps=True)\n",
    ")\n",
    "sol_ALIGN_direct = diffeqsolve(\n",
    "    lt, ALIGN(0.0), 0.0, 1.0, 0.02, y0, None, saveat=SaveAt(steps=True)\n",
    ")\n",
    "plot_sol_langevin(sol_ALIGN_tay)\n",
    "plot_sol_langevin(sol_ALIGN_direct)"
   ],
   "outputs": []
  },
  {
   "cell_type": "code",
   "execution_count": 4,
   "id": "cfe32f3514ebe56a",
   "metadata": {
    "ExecuteTime": {
     "end_time": "2024-05-07T17:46:25.794505Z",
     "start_time": "2024-05-07T17:46:20.745994Z"
    }
   },
   "source": [
    "sol_UBU3_tay = diffeqsolve(\n",
    "    lt, UBU3(100.0), 0.0, 1.0, 0.02, y0, None, saveat=SaveAt(steps=True)\n",
    ")\n",
    "sol_UBU3_direct = diffeqsolve(\n",
    "    lt, UBU3(0.0), 0.0, 1.0, 0.02, y0, None, saveat=SaveAt(steps=True)\n",
    ")\n",
    "plot_sol_langevin(sol_UBU3_tay)\n",
    "plot_sol_langevin(sol_UBU3_direct)"
   ],
   "outputs": []
  },
  {
   "cell_type": "code",
   "execution_count": 12,
   "id": "initial_id",
   "metadata": {
    "ExecuteTime": {
     "end_time": "2024-05-07T17:00:03.557639Z",
     "start_time": "2024-05-07T16:59:58.525143Z"
    }
   },
   "source": [
    "sol = diffeqsolve(lt, Euler(), 0.0, 1.0, 0.002, y0, None, saveat=SaveAt(steps=True))\n",
    "plot_sol_langevin(sol)"
   ],
   "outputs": []
  },
  {
   "cell_type": "code",
   "execution_count": null,
   "id": "e79d95dfa835d7e6",
   "metadata": {},
   "source": [],
   "outputs": []
  }
 ],
 "metadata": {
  "kernelspec": {
   "display_name": "Python 3",
   "language": "python",
   "name": "python3"
  },
  "language_info": {
   "codemirror_mode": {
    "name": "ipython",
    "version": 2
   },
   "file_extension": ".py",
   "mimetype": "text/x-python",
   "name": "python",
   "nbconvert_exporter": "python",
   "pygments_lexer": "ipython2",
   "version": "2.7.6"
  }
 },
 "nbformat": 4,
 "nbformat_minor": 5
}
